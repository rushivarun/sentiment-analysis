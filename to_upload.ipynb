{
  "nbformat": 4,
  "nbformat_minor": 0,
  "metadata": {
    "anaconda-cloud": {},
    "kernelspec": {
      "display_name": "Python 3",
      "language": "python",
      "name": "python3"
    },
    "language_info": {
      "codemirror_mode": {
        "name": "ipython",
        "version": 3
      },
      "file_extension": ".py",
      "mimetype": "text/x-python",
      "name": "python",
      "nbconvert_exporter": "python",
      "pygments_lexer": "ipython3",
      "version": "3.6.7"
    },
    "colab": {
      "name": "Part+1+Bag+Of+Words+Features+Representation_Complete+Final+sheet.ipynb",
      "provenance": [],
      "collapsed_sections": []
    }
  },
  "cells": [
    {
      "cell_type": "markdown",
      "metadata": {
        "id": "Dac4xppltzUH",
        "colab_type": "text"
      },
      "source": [
        "# Sentiment Analysis using bag of words\n",
        "This model focuses completely on the words, or sometimes a string of words, but usually pays no attention to the \"context\" so-to-speak. The bag of words model usually has a large list, probably better thought of as a sort of \"dictionary,\" which are considered to be words that carry sentiment. These words each have their own \"value\" when found in text. The values are typically all added up and the result is a sentiment valuation. The equation to add and derive a number can vary, but this model mainly focuses on the words, and makes no attempt to actually understand language fundamentals.\n",
        "\n"
      ]
    },
    {
      "cell_type": "markdown",
      "metadata": {
        "id": "r2P6jGeovmsc",
        "colab_type": "text"
      },
      "source": [
        "## Importing necessary modules"
      ]
    },
    {
      "cell_type": "code",
      "metadata": {
        "id": "VMTDZFvwJm72",
        "colab_type": "code",
        "colab": {
          "base_uri": "https://localhost:8080/",
          "height": 51
        },
        "outputId": "184c64cd-8472-45e2-efa4-ff63f7bc5c84"
      },
      "source": [
        "import pandas as pd\n",
        "import numpy as np\n",
        "import nltk\n",
        "nltk.download('stopwords')\n",
        "import re\n",
        "from nltk.corpus import stopwords\n",
        "from sklearn.feature_extraction.text import TfidfVectorizer\n",
        "from sklearn.feature_extraction.text import CountVectorizer\n",
        "from sklearn.model_selection  import train_test_split\n",
        "from sklearn.naive_bayes import GaussianNB\n",
        "import matplotlib.pyplot as plt\n",
        "from sklearn.model_selection import learning_curve, GridSearchCV\n",
        "from sklearn import preprocessing, decomposition, model_selection, metrics, pipeline\n",
        "from sklearn.decomposition import TruncatedSVD\n",
        "from sklearn.naive_bayes import MultinomialNB\n",
        "from tqdm import tqdm\n",
        "from sklearn.svm import SVC\n",
        "from nltk import word_tokenize\n",
        "stop_words = stopwords.words('english')\n",
        "from sklearn.metrics import accuracy_score\n",
        "from sklearn.naive_bayes import MultinomialNB\n",
        "from sklearn.linear_model import LogisticRegression\n",
        "from sklearn.ensemble import RandomForestClassifier\n",
        "from sklearn.model_selection import cross_val_score\n",
        "from nltk.stem import PorterStemmer\n",
        "pd.options.display.max_columns = 30\n",
        "%matplotlib inline\n",
        "import xgboost as xgb\n",
        "from textblob import TextBlob, Word, Blobber\n"
      ],
      "execution_count": 8,
      "outputs": [
        {
          "output_type": "stream",
          "text": [
            "[nltk_data] Downloading package stopwords to /root/nltk_data...\n",
            "[nltk_data]   Unzipping corpora/stopwords.zip.\n"
          ],
          "name": "stdout"
        }
      ]
    },
    {
      "cell_type": "code",
      "metadata": {
        "id": "I5yyY-IVJm8n",
        "colab_type": "code",
        "colab": {}
      },
      "source": [
        "import os\n",
        "os.getcwd()\n",
        "os.chdir('C:/Personal/python work/Sentiment Analysis/project ML/project ML/data_reviews')  "
      ],
      "execution_count": 0,
      "outputs": []
    },
    {
      "cell_type": "code",
      "metadata": {
        "id": "iw7JgQWuxsoN",
        "colab_type": "code",
        "colab": {
          "resources": {
            "http://localhost:8080/nbextensions/google.colab/files.js": {
              "data": "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",
              "ok": true,
              "headers": [
                [
                  "content-type",
                  "application/javascript"
                ]
              ],
              "status": 200,
              "status_text": ""
            }
          },
          "base_uri": "https://localhost:8080/",
          "height": 213
        },
        "outputId": "6e94ef45-cb3d-4d05-ca6a-6fd3da7d508b"
      },
      "source": [
        "from google.colab import files\n",
        "files.upload()"
      ],
      "execution_count": 2,
      "outputs": [
        {
          "output_type": "display_data",
          "data": {
            "text/html": [
              "\n",
              "     <input type=\"file\" id=\"files-35397256-4dc3-44e5-b213-918e1b1d715b\" name=\"files[]\" multiple disabled />\n",
              "     <output id=\"result-35397256-4dc3-44e5-b213-918e1b1d715b\">\n",
              "      Upload widget is only available when the cell has been executed in the\n",
              "      current browser session. Please rerun this cell to enable.\n",
              "      </output>\n",
              "      <script src=\"/nbextensions/google.colab/files.js\"></script> "
            ],
            "text/plain": [
              "<IPython.core.display.HTML object>"
            ]
          },
          "metadata": {
            "tags": []
          }
        },
        {
          "output_type": "stream",
          "text": [
            "Saving y_train.csv to y_train (1).csv\n",
            "Saving x_train.csv to x_train.csv\n",
            "Saving x_test.csv to x_test.csv\n"
          ],
          "name": "stdout"
        },
        {
          "output_type": "execute_result",
          "data": {
            "text/plain": [
              "{'x_test.csv': b'website_name,text\\nimdb,\"Technically, the film is well made with impressive camera-work, solid acting and effective music from Riz Ortolani -- particularly good is a recurring unaccompanied female vocal that sounds like it\\'s coming from a distant hill.  \"\\nyelp,!....THE OWNERS REALLY REALLY need to quit being soooooo cheap let them wrap my freaking sandwich in two papers not one!\\namazon,what a disappointment\\nimdb,The movie is terribly boring in places.  \\nimdb,\"One of the best mexican movies ever!, and one of the less understood, even by mexican themselves, no matter how identified the should have felt with it.  \"\\nyelp,My boyfriend and I came here for the first time on a recent trip to Vegas and could not have been more pleased with the quality of food and service.\\nimdb,\"I was very uneasy with how bad this movie was, but not scared at all.  \"\\namazon,Great Product.\\namazon,I highly recommend this device to everyone!\\nyelp,Coming here is like experiencing an underwhelming relationship where both parties can\\'t wait for the other person to ask to break up.\\nimdb,I have to say that this film was excellently produced and tops the ratings as a typical sci fi film!  \\namazon,\"Couldn\\'t use the unit with sunglasses, not good in Texas!\"\\namazon,A good quality bargain.. I bought this after I bought a cheapy from Big Lots that sounded awful and people on the other end couldn\\'t hear me.\\namazon,Nice design and quality.\\namazon,\"Good show, Samsung.\"\\namazon,Don\\'t buy this product.\\namazon,Poor sound quality.\\namazon,I bought two of them and neither will charge.\\nimdb,\"For those that haven\\'t seen it, don\\'t waste your time!  \"\\nimdb,\"Just whatever you do, avoid \"\"Groove\"\" as its the antithesis of all that is good about Human Traffic.  \"\\nyelp,definitely will come back here again.\\nimdb,This movie totally grates on my nerves.  \\nyelp,Will go back next trip out.\\nyelp,What a mistake.\\nimdb,The problem was the script.  \\namazon,The volume for the ringer is REAL good (you have choices how loud).\\nimdb,\"I agree with Jessica, this movie is pretty bad.  \"\\nyelp,It shouldn\\'t take 30 min for pancakes and eggs.\\namazon,Perfect for the PS3.\\nyelp,But the service was beyond bad.\\nimdb,\"Personally, I think it shows that people should learn to find a compromise them self without involving other people into issue.  \"\\nyelp,I seriously cannot believe that the owner has so many unexperienced employees that all are running around like chickens with their heads cut off.\\nyelp,Crust is not good.\\nyelp,\"Lobster Bisque, Bussell Sprouts, Risotto, Filet ALL needed salt and pepper..and of course there is none at the tables.\"\\namazon,Don\\'t buy this product - It fails!.\\namazon,New Battery works great in phone.\\namazon,But it does get better reception and clarity than any phone I\\'ve had before.\\nyelp,I had to wait over 30 minutes to get my drink and longer to get 2 arepas.\\nimdb,\"), and sometimes it was so embarrassing that I had to look away.  \"\\nyelp,\"The staff are great, the ambiance is great.\"\\nyelp,\"No, I\\'m going to eat the potato that I found some strangers hair in it.\"\\nimdb,\"It handles some tough issues with dignity and grace, and, of course, has (shocking spoiler here!  \"\\nyelp,I\\'ve never been more insulted or felt disrespected.\\nimdb,But it wasn\\'t until I watched this film that I realised how great he actually was.  \\nimdb,A standout scene.  \\nimdb,\"When a song could explain the emotions of the subjects better, such as when Jay Adams\\' unfortunate life was a subject of talk, the song Old Man by Neil Young was played, which evokes many emotions.  \"\\namazon,\"I know that sounds funny, but to me it seemed like sketchy technology that wouldn\\'t work well.Well, this one works great.\"\\nyelp,\"I\\'d say that would be the hardest decision... Honestly, all of M\\'s dishes taste how they are supposed to taste (amazing).\"\\nimdb,That was funny.  \\nyelp,\"The chicken I got was definitely reheated and was only ok, the wedges were cold and soggy.\"\\nimdb,\"I guess it was supposed to be clever twist, then shed some light on the situation, but it was just stupid.  \"\\namazon,Fantastic earphones.\\namazon,\"I love the camera, it\\'s really pretty good quality.\"\\nyelp,I won\\'t be back.\\namazon,It was quite comfortable in the ear.\\nyelp,My wife had the Lobster Bisque soup which was lukewarm.\\nimdb,It\\'s this pandering to the audience that sabotages most of his films.  \\nyelp,Their frozen margaritas are WAY too sugary for my taste.\\namazon,The camera on the phone may be used as a dustpan when indoors... I\\'d rather be using a disposable then this.\\namazon,VERY comfortable.\\namazon,It defeats the purpose of a bluetooth headset.\\namazon,The iGo chargers and tips are really great.\\nimdb,I keep watching it over and over.  \\nimdb,\"It\\'s a fresh, subtle, and rather sublime effect.  \"\\namazon,Beautiful styling though.\\namazon,Would not reccommend.\\namazon,\"I get absolutely horrible reception in my apartment, where with other phones I have not had this problem.\"\\nimdb,Go watch it!  \\namazon,I had Verizon 2 years ago and really liked their service.\\nimdb,It\\'s a long time since I was so entertained by a movie.  \\nimdb,\"The acting from all involved and that includes those like Shatner and Nimoy is bad and washed out and making them seem as old as they look in real life, the special effects are tacky like when Spock has to rescue Kirk on a jet pack when he falls down from a mountain.  \"\\namazon,\"I\\'ll be drivng along, and my headset starts ringing for no reason.\"\\nimdb,My 8/10 score is mostly for the plot.  \\namazon,\"They do not last forever, but is not overly expensive to replace.Easy to operate and the sound is much better than others I have tried.\"\\nimdb,the cast was great.  \\nimdb,\"It\\'s the one movie that never ceases to interest me, simply because it keeps me alert, as I try to attempt to decipher it\\'s meanings.  \"\\nyelp,Everything was gross.\\nimdb,\"The movie showed a lot of Florida at it\\'s best, made it look very appealing.  \"\\namazon,It also had a new problem.\\nyelp,\"If you want to wait for mediocre food and downright terrible service, then this is the place for you.\"\\namazon,Essentially you can forget Microsoft\\'s tech support.\\namazon,AFTER ARGUING WITH VERIZON REGARDING THE DROPPED CALLS WE RETURNED THE PHONES AFTER TWO DAYS.\\nimdb,I came out of it feeling angry.  \\namazon,I was looking for this headset for a long time and now that I\\'ve got it I couldn\\'t be happier.\\nyelp,Always a pleasure dealing with him.\\nyelp,Very bad Experience!\\nimdb,\"God, and I can never get that 90 minutes back!  \"\\nyelp,Just spicy enough.. Perfect actually.\\nyelp,\"Overall, I like this place a lot.\"\\nimdb,\"The characters are interesting, even if a bit predictable.  \"\\namazon,He was very impressed when going from the original battery to the extended battery.\\namazon,\"Good value, works fine - power via USB, car, or wall outlet.\"\\nimdb,\"He can\\'t act (one of the least scary villains I have ever seen), he can\\'t write (did he write this damn movie in his sleep?  \"\\nyelp,He was terrible!\\namazon,Great charger.\\namazon,The sound quality is excellent as well.\\namazon,\"This was utterly confusing at first, which caused me to lose a couple of very, very important contacts.\"\\nimdb,This movie is well-balanced with comedy and drama and I thoroughly enjoyed myself.  \\nyelp,But I don\\'t like it.\\namazon,\"No shifting, no bubbling, no peeling, not even a scratch, NOTHING!I couldn\\'t be more happier with my new one for the Droid.\"\\nyelp,\"This really is how Vegas fine dining used to be, right down to the menus handed to the ladies that have no prices listed.\"\\namazon,Terrible.. My car will not accept this cassette.\\namazon,Freezes frequently4.\\namazon,\"Looks great and is strong.\"\"\"\\namazon,I bought this battery with a coupon from Amazon and I\\'m very happy with my purchase.\\nyelp,AN HOUR... seriously?\\nyelp,\"The whole experience was underwhelming, and I think we\\'ll just go to Ninja Sushi next time.\"\\namazon,Don\\'t buy this product.\\nimdb,The original Body and Soul (1947) is a masterpiece.  \\nimdb,VERY funny!  \\nimdb,\"The opening sequence of this gem is a classic, and the cat n mouse games that follow are a delight to watch.  \"\\nimdb,\"John Garfield, Ann revere, Lilli Plmer, William Conrad, Canada Lee...and filmed by one of the greatest cinematographers to ever grace the screen..James Wong Howe.  \"\\nyelp,\"Needless to say, we will never be back here again.\"\\nyelp,\"- Really, really good rice, all the time.\"\\nyelp,Owner\\'s are really great people.!\\namazon,Just reading on the specs alone makes you say WOW.\\nyelp,I LOVED it!\\nyelp,Awesome selection of beer.\\nyelp,I really enjoyed Crema Caf\\xc3\\xa9 before they expanded; I even told friends they had the BEST breakfast.\\nyelp,I got food poisoning here at the buffet.\\nimdb,It\\'s a campy sort of film that\\'s a joy to watch.  \\namazon,Not as good as I had hoped.\\nyelp,Food quality has been horrible.\\nimdb,\"It isn\\'t even an achievement as a \"\"so-bad-it\\'s-good\"\" or \"\"so-bad-it\\'s-memorable\"\" movie.  \"\\nimdb,\"It\\'s too bad that everyone else involved didn\\'t share Crowe\\'s level of dedication to quality, for if they did, we\\'d have a far better film on our hands than this sub-par mess.  \"\\nimdb,Maybe there would be a reasonable explanation for this atrocity.  \\namazon,This company charge me a restocking fee and still not given me my refund back.\\nimdb,And don\\'t even get me started on the jerky camerawork.  \\namazon,\"None of it works, just don\\'t buy it.\"\\nimdb,The film is way too long.  \\nyelp,Once your food arrives it\\'s meh.\\namazon,Headset works great & was packaged nicely to avoid any damage.\\nyelp,\"That just SCREAMS \"\"LEGIT\"\" in my book...somethat\\'s also pretty rare here in Vegas.\"\\nyelp,And then tragedy struck.\\nimdb,It\\'s just painful!  \\nimdb,\"So for our enjoyment we get to see them run around, play games, and be dangerous.  \"\\nimdb,\"You learn a lot about the real inside emotions of people in this movie, and a lot about the movie business itself.  \"\\nimdb,Ray Charles is legendary.  \\nimdb,I believe that Pitch Black was done well.  \\namazon,This phone works great.\\namazon,Their network coverage in Los Angeles is horrible.\\nimdb,Jamie Foxx absolutely IS Ray Charles.  \\nimdb,Not even good for camp value!  \\nimdb,\"Beware: this is not a trashy cult movie, this is trash -period!  \"\\nyelp,\"Total letdown, I would much rather just go to the Camelback Flower Shop and Cartel Coffee.\"\\nyelp,So in a nutshell: 1) The restaraunt smells like a combination of a dirty fish market and a sewer.\\nyelp,\"I LOVED their mussels cooked in this wine reduction, the duck was tender, and their potato dishes were delicious.\"\\namazon,the worst phone from samsung...crap..... this crappy Samsung E715.. is the worst i have ever seeen.\\nyelp,We literally sat there for 20 minutes with no one asking to take our order.\\nimdb,\"Either way, it sucks.  \"\\namazon,\"What possesed me to get this junk, I have no idea...\"\\namazon,All it took was one drop from about 6 inches above the kitchen counter and it was cracked.I am not impressed and I am not laughing.\\nimdb,The best example of how dumb the writing is when it\\'s established that you can turn the zombie-students back into humans by removing a necklace containing a piece of the meteorite.  \\nimdb,\"This gets a 1 out of 10, simply because there\\'s nothing lower.  \"\\namazon,Poor Talk Time Performance.\\nimdb,One of the worst shows of all time.  \\namazon,\"All in all, I\\'m quite satisfied with this purchase.\"\\nimdb,\"Director Neil LaBute uses brutal violence to seperate dreams from reality, and along with the touching drama, and hilarious comedy, you can never tell what is going to happen next.  \"\\nyelp,The inside is really quite nice and very clean.\\namazon,If the two were seperated by a mere 5+ ft I started to notice excessive static and garbled sound from the headset.\\nimdb,\"The hockey scenes are terrible, defensemen playing like they\\'re 5 years old, goalies diving at shots that are 10 feet wide of the net, etc.  \"\\nyelp,I\\'m not really sure how Joey\\'s was voted best hot dog in the Valley by readers of Phoenix Magazine.\\namazon,\"But despite these few flaws, this case is of exceptional quality and well worth the additional costs of owning an official OEM product.\"\\nimdb,A piece of cinematic garbage captured on celluloid.  \\nimdb,But it picked up speed and got right to the point.  \\nimdb,Later I found myself lost in the power of the film.  \\nyelp,Waitress was a little slow in service.\\namazon,I am glad I purchased it.\\nimdb,\"However, after finally watching this film, I realized that not only had I had a closed mind to the brilliance it depicts, I also found myself watching it over and over again.  \"\\nyelp,Good Service-check!\\nyelp,If you haven\\'t gone here GO NOW!\\nyelp,And it was way to expensive.\\nyelp,\"It lacked flavor, seemed undercooked, and dry.\"\\nyelp,Food was really boring.\\nyelp,Everything on the menu is terrific and we were also thrilled that they made amazing accommodations for our vegetarian daughter.\\nimdb,add betty white and jean smart and you have a great cast - everyone played their parts really well.  \\nyelp,\"Come hungry, leave happy and stuffed!\"\\nyelp,How awesome is that.\\nyelp,Never again will I be dining at this place!\\nimdb,\"Frankly, after Cotton club and Unfaithful, it was kind of embarrassing to watch Lane and Gere in this film, because it is BAD.  \"\\nimdb,The acting was bad.  \\nyelp,\"The food is delicious and just spicy enough, so be sure to ask for spicier if you prefer it that way.\"\\nimdb,Awful.  \\nyelp,\"the food is not tasty at all, not to say its \"\"real traditional Hunan style\"\".\"\\nimdb,Highly recommended A+  \\namazon,I\\'ve tried several different earpieces for my cell phone and this Jabra one is the first one I\\'ve found that fits my ear comfortably.\\nyelp,Everything was fresh and delicious!\\nimdb,\"Ray Charles\\' life provided excellent biographical material for the film, which goes well beyond being just another movie about a musician.  \"\\namazon,The design is very good.4.\\namazon,I am very impressed with the job that Motorola did on the sturdiness of this phone.\\nimdb,The kids are annoying.  \\namazon,I have always used corded headsets and the freedom from the wireless is very helpful.\\namazon,The worst piece of crap ever along with the Verizon customer service.\\namazon,Great bluetooth!.\\nyelp,- the food is rich so order accordingly.\\nimdb,No plot whatsoever!  \\nyelp,There was hardly any meat.\\nyelp,Google mediocre and I imagine Smashburger will pop up.\\namazon,\"Finally, after three or four times the spring of the latch broke and I could not use it any longer on the visor.\"\\nimdb,Really awful.  \\nyelp,\"It\\'s like a really sexy party in your mouth, where you\\'re outrageously flirting with the hottest person at the party.\"\\nyelp,The patio seating was very comfortable.\\nyelp,Awful service.\\nimdb,\"Then, there\\'s the plot holes.  \"\\nyelp,The service was extremely slow.\\nyelp,\"The decor is nice, and the piano music soundtrack is pleasant.\"\\nimdb,The directing and the cinematography aren\\'t quite as good.  \\nimdb,Sam Shepard\\'s portrayal of a gung ho Marine was sobering.  \\namazon,I have bought this Nokia cell phone a few weeks ago and it was a nightmare.\\nimdb,\"The story is lame, not interesting and NEVER really explains the sinister origins of the puppets.  \"\\nyelp,\"Try them in the airport to experience some tasty food and speedy, friendly service.\"\\nyelp,\"One nice thing was that they added gratuity on the bill since our party was larger than 6 or 8, and they didn\\'t expect more tip than that.\"\\nimdb,The worst one of the series.  \\nyelp,\"Good value, great food, great service.\"\\nyelp,My salad had a bland vinegrette on the baby greens and hearts of Palm.\\nyelp,\"After 20 minutes wait, I got a table.\"\\namazon,\"My experience was terrible..... This was my fourth bluetooth headset, and while it was much more comfortable than my last Jabra (which I HATED!!!\"\\nimdb,The Wind and the Lion is well written and superbly acted.  \\nimdb,\"However, this didn\\'t make up for the fact that overall, this was a tremendously boring movie.  \"\\nyelp,\"Best service and food ever, Maria our server was so good and friendly she made our day.\"\\namazon,\"The mic there is a joke, and the volume is quite low.\"\\namazon,im surprised this is a good quality car charger and there\\'s not much reviews about it.\\namazon,Does not fit.\\namazon,This phone is pretty sturdy and I\\'ve never had any large problems with it.\\nyelp,will definitely be back!\\nyelp,This place is great!!!!!!!!!!!!!!\\nimdb,The result is a film that just don\\'t look right.  \\nimdb,\"The best scene in the movie is at the end, but I won\\'t spoil it.  \"\\namazon,This is by far the worst purchase I\\'ve made on Amazon.\\nyelp,I went to Bachi Burger on a friend\\'s recommendation and was not disappointed.\\nimdb,\"Instead, we got a bore fest about a whiny, spoiled brat babysitting.  \"\\namazon,So anyone near you will hear part of your conversation.\\namazon,The one big drawback of the MP3 player is that the buttons on the phone\\'s front cover that let you pause and skip songs lock out after a few seconds.\\namazon,I love the ringtones because they are so upbeat!\\nyelp,Reasonably priced also!\\nimdb,All of the main players are mesmerising.  \\nyelp,This place is hands-down one of the best places to eat in the Phoenix metro area.\\nimdb,The story line is just awful!  \\nyelp,This was like the final blow!\\nimdb,\"I just cant explain this movie more than romantic,charming,hilarious,and adorable.The junkyard scenes are funny,all the junkyard dogs have something special.Too funny i laughed,kids will LOVE it.Buy it when it comes out,it has new features!  \"\\nimdb,\"It\\'s quite simply the highest, most superlative form of cinema imaginable.  \"\\nimdb,The scripting of the subtle comedy is unmatched by any movie in recent years.  \\namazon,Excellent product.\\nimdb,The success of the film depends on the casting of Sydney Greenstreet as the Alexander Yardley character.  \\nyelp,\"I\\'ve had better, not only from dedicated boba tea spots, but even from Jenni Pho.\"\\nyelp,\"To my disbelief, each dish qualified as the worst version of these foods I have ever tasted.\"\\nyelp,\"It was either too cold, not enough flavor or just bad.\"\\namazon,The eargels channel the sound directly into your ear and seem to increase the sound volume and clarity.\\nimdb,Nothing short of magnificent photography/cinematography in this film.  \\namazon,This product is great... it makes working a lot easier I can go to the copier while waiting on hold for something.\\nimdb,\"Very true to Shakespear, and a \\'must\\' for all Shakespear fans.  \"\\namazon,This does not fit the Palm Tungsten E2 and it broke the first time I tried to plug it in.\\namazon,\"I\\'ve only had my bluetooth for a few weeks, but I really like it.\"\\nimdb,It deserves strong love.  \\namazon,I\\'ve had this for nearly 2 years and it has worked great for me.\\namazon,Seller shipped quickly and much cheaper than the competitors.\\nyelp,Things that went wrong: - They burned the saganaki.\\nyelp,Both great!\\namazon,Great choice!\\nyelp,At least think to refill my water before I struggle to wave you over for 10 minutes.\\nimdb,\"Avoid, avoid, avoid!  \"\\nyelp,The pizza selections are good.\\nyelp,This is a good joint.\\namazon,Great for using with your home stereo.\\nimdb,\"I\\'m a big fan of this series mostly due to Anne Rice\\'s style, sensitivities and treatments.  \"\\namazon,It was a great phone.\\namazon,\"I only used it two days, and it wasn\\'t always easy to hear with.\"\\namazon,That company is a joke.\\nimdb,Here\\'s where the movie really pi**ed me off.  \\namazon,\"Provides good protection and looks classy, too.\"\\nimdb,\"However, I recently watched the whole thing again on DVD, and I was completely struck by how extremely stupid the storyline was - how it contained holes, inconsistencies and - frankly - a whole lot of crap - and how horrid the dancing was.  \"\\nimdb,The acting is beyond abysmal.  \\nyelp,\"What SHOULD have been a hilarious, yummy Christmas Eve dinner to remember was the biggest fail of the entire trip for us.\"\\namazon,\"This is a good battery, and it got here really fast.\"\\namazon,The delivery was on time.\\namazon,Also the area where my unit broke).- I\\'m not too fond of the magnetic strap.\\nimdb,\"Aailiyah was pretty good as Akasha, in places compelling (her first entrance and mini dance scene).  \"\\namazon,none of the new ones have ever quite worked properly.\\namazon,The speaker is of low quality so as making the ring tones sound very cheap.\\nimdb,The scenes are often funny and occasionally touching as the characters evaluate their lives and where they are going.  \\nimdb,Don\\'t waste your time watching this rubbish non-researched film.  \\namazon,Does Not Work.\\namazon,Disappointed with battery.\\namazon,Nice docking station for home or work.\\namazon,\"During several different 2 minute calls, I experienced 5 drops and it was in an area that had 5 bars.\"\\nyelp,I never come again.\\nimdb,I could not stand to even watch it for very long for fear of losing I.Q.  \\namazon,This fixes all the problems.\\namazon,DO NOT PURCHASE THIS PHONE.\\nimdb,\"Every element of this story was so over the top, excessively phony and contrived that it was painful to sit through.  \"\\nimdb,This film tries to be a serious and sophisticated thriller/horror flick and it fails miserably.  \\nimdb,\"This is a bad film, with bad writing, and good actors....an ugly cartoon crafted by Paul Haggis for people who can\\'t handle anything but the bold strokes in storytelling....a picture painted with crayons.  \"\\nyelp,The Han Nan Chicken was also very tasty.\\nyelp,The block was amazing.\\nimdb,It came free with a DVD player I bought but I still turned the thing off halfway through because I was embarrassed for Howell.  \\nimdb,\"I saw \"\"Mirrormask\"\" last night and it was an unsatisfactory experience.  \"\\nimdb,I was deeply impressed with the character he played.  \\nyelp,\"Lastly, the mozzarella sticks, they were the best thing we ordered.\"\\nyelp,The Jamaican mojitos are delicious.\\namazon,This is the phone to get for 2005.... I just bought my S710a and all I can say is WOW!\\nyelp,We are so glad we found this place.\\namazon,Motorola finally got the voice quality of a bluetooth headset right.\\namazon,Battery is holding up well.\\nyelp,\"Phenomenal food, service and ambiance.\"\\nimdb,Generally; it just lacked imagination.  \\nimdb,\"Tom Wilkinson\\'s character is a man who is not prepared for the ordeal that is about to begin, but he takes the matter in hand as the story progresses, and this great actor gives a performance that makes you feel the character\\'s anguish and suffering.  \"\\nimdb,There is simply no excuse for something this poorly done.  \\namazon,They do not care about the consumer one bit.\\namazon,Nice headphones for the price and they work great!\\namazon,Please dont waste your money.\\namazon,This results in the phone being either stuck at max volume or mute.\\nyelp,\"I know this is not like the other restaurants at all, something is very off here!\"\\nyelp,\"When I\\'m on this side of town, this will definitely be a spot I\\'ll hit up again!\"\\namazon,\"It felt too light and \"\"tinny.\"\".\"\\nyelp,\"No allergy warnings on the menu, and the waitress had absolutely no clue as to which meals did or did not contain peanuts.\"\\namazon,\"The microphone also works well, but (according to people I have called) it applifies everything.\"\\namazon,Very much disappointed with this company.\\nimdb,I liked it.  \\nimdb,I knew when I saw the film that more great things were to come from this gifted actor.  \\nimdb,She carries the movie well.  \\namazon,\"A week later after I activated it, it suddenly died.\"\\namazon,Easy to use.\\nyelp,What a great double cheeseburger!\\nyelp,We won\\'t be returning.\\nimdb,\"I understand that it\\'s supposed to be a cheap popcorn comedy, but that doesn\\'t mean that it has to completely insult our intelligence, and have writing so incredibly hackneyed that it borders on offensive.  \"\\namazon,Not a good bargain.\\namazon,SWEETEST PHONE!!!\\namazon,I am also very happy with the price.\\nimdb,\"This is a masterful piece of film-making, with many themes simmering and occasionally boiling over in this warts and all study of the poet\\'s bohemian, self-indulgent wartime years that span the aerial bombardments of London and the outward tranquillity of a Welsh coastal retreat - the borderlines between friendship, lust and love, dedication to art and experience versus practical concerns, jealousy, rivalry, cowardice and egotism versus heroism and self-sacrifice and more.  \"\\nimdb,The incredible soundtrack truly captures the essence of the film.  \\nimdb,\"To be honest with you, this is unbelievable nonsense and very foolish.  \"\\nyelp,The cr\\xc3\\xaape was delicate and thin and moist.\\nyelp,Kids pizza is always a hit too with lots of great side dish options for the kiddos!\\nimdb,\"The best part about \"\"Nurse Betty\"\" is it\\'s unpredictability.  \"\\namazon,\"I have had TMobile service for 2 or 3 years now, and I am pretty happy with it.\"\\nyelp,My boyfriend and i sat at the bar and had a completely delightful experience.\\nimdb,\"his performance, as awarded, was stunning.  \"\\namazon,I received my headset in good time and was happy with it.\\namazon,It is the best charger I have seen on the market yet.\\namazon,I am sorry I made this purchase.\\nimdb,No actress has been worse used that June Allison in this movie.  \\namazon,Disappointing accessory from a good manufacturer.\\nimdb,\"But I recommend waiting for their future efforts, let this one go.  \"\\nimdb,Well... Just if you keep thinking how bad it is.  \\namazon,Thank you for such great service.\\nyelp,The chefs were friendly and did a good job.\\namazon,I Was Hoping for More.\\nimdb,I do think Tom Hanks is a good actor.  \\nimdb,Even worse than Ticker!  \\namazon,Its reception is very very poor.\\namazon,\"If you like a loud buzzing to override all your conversations, then this phone is for you!\"\\nimdb,BLACK WATER is a thriller that manages to completely transcend it\\'s limitations (it\\'s an indie flick) by continually subverting expectations to emerge as an intense experience.  \\nimdb,\"And the rest of it just sits there being awful... with soldiers singing songs about the masculinity they pledge themselves to, hairsplitting about purity, the admiration of swords, etc.  \"\\nimdb,See it.  \\nyelp,I work in the hospitality industry in Paradise Valley and have refrained from recommending Cibo any longer.\\nyelp,\"When I opened the sandwich, I was impressed, but not in a good way.\"\\namazon,1. long lasting battery (you don\\'t have to recharge it as frequentyly as some of the flip phones)2.\\nyelp,When my mom and I got home she immediately got sick and she only had a few bites of salad.\\nimdb,\"I\\'ll put this gem up against any movie in terms of screenplay, cinematography, acting, post-production, editing, directing, or any other aspect of film-making.  \"\\nimdb,This movie is a good and humorous comment on life in 2006.  \\nimdb,\"The acting was decidely wooden, though no worse than a period Universal B movie.  \"\\nyelp,It also took her forever to bring us the check when we asked for it.\\nimdb,\"I loved it, it was really scary.  \"\\nimdb,there are so many problems i dont know where to start.  \\namazon,Trying to make a call on these is an exercise in frustration.\\nimdb,\"I wouldn\\'t say they\\'re worth 2 hours of your time, though.  \"\\nimdb,It rocked my world and is certainly a must see for anyone with no social or physical outlets.  \\namazon,I purchased this and within 2 days it was no longer working!!!!!!!!!\\nimdb,Perabo has a nice energy level and is obviously very comfortable in front of a camera.  \\nimdb,\"This movie suffered because of the writing, it needed more suspense.  \"\\nyelp,I don\\'t have to be an accountant to know I\\'m getting screwed!\\nimdb,\"Of course the footage from the 70s was grainy, but that only enhanced the film.  \"\\namazon,\"Nice case, feels good in your hands.\"\\namazon,This phone tries very hard to do everything but fails at it\\'s very ability to be a phone.\\nyelp,I paid the bill but did not tip because I felt the server did a terrible job.\\nimdb,\"The performances are real and gripping, the crocdodile is extremely well done, indeed if the Black Water website is to be believed that\\'s because they used real crocs and the swamp location is fabulous.  \"\\nimdb,If you want a real scare rent this one!  \\nyelp,\"Anyway, I do not think i will go back there.\"\\nimdb,\"His use of the colours of the French flag in the three films was nothing short of incredible, every shot, every scene was like a work of art.  \"\\nimdb,\"Easily, none other cartoon made me laugh in a tender way (before getting into dark sitcoms oriented for teenagers).  \"\\nimdb,Judith Light is one of my favorite actresses and I think she does a superb job in this film!  \\namazon,The picture resolution is far below what other comparably-priced phones are offering today.\\namazon,Not loud enough and doesn\\'t turn on like it should.\\namazon,This particular model would not work with my Motorola Q smartphone.\\nimdb,Everything is appalling.  \\nyelp,\"Same evening, him and I are both drastically sick.\"\\namazon,Works like a charm; it work the same as the one I got with the phone.\\nimdb,I liked the way Dustin Hoffman\\'s character was ready to do just about everything to stay with his son.  \\nimdb,This film has no redeeming features.  \\nimdb,The only suspense I was feeling was the frustration at just how retarded the girls were.  \\nyelp,There is so much good food in Vegas that I feel cheated for wasting an eating opportunity by going to Rice and Company.\\nyelp,The manager was the worst.\\nyelp,Nice blanket of moz over top but i feel like this was done to cover up the subpar food.\\namazon,You never know if you pushed it hard enough or the right number of times for the function you want or not.\\namazon,\"Needless to say, I wasted my money.\"\\nimdb,Do not waste your time.  \\nimdb,\"This movie is excellent!Angel is beautiful and Scamp is adorable!His little yelps when hes scared,and the funniest parts are when:Scamp is caught under the curtain and when Angel and Scamp are singing \\'Ive Never Had This Feeling Before\\'.I totally recommend this movie,its coming out on special edition on June 20.The cover has scamp on a garbage can and Angel underneath the lid.  \"\\nyelp,Fantastic food!\\nimdb,And if that isn\\'t enough of a mess of a movie for you - the picture is also marred with a constant use of studio sets and indoor exteriors.  \\nyelp,Always a great time at Dos Gringos!\\nimdb,\"In short, don\\'t bother with this movie.  \"\\namazon,Stay Away From the Q!.\\nimdb,\"The new characters weren\\'t all that memorable, and I found myself forgetting who was who.  \"\\namazon,Worst Customer Service Ever.\\nimdb,\"I don\\'t know what happened in Season Five, what a mess.  \"\\nyelp,The classic Maine Lobster Roll was fantastic.\\nimdb,This is just a great movie.  \\namazon,\"The handsfree part works fine, but then the car tries to download the address book, and the Treo reboots.Overall, I still rate this device high.\"\\nimdb,\"She is as lovely as usual, this cutie!  \"\\namazon,Never got it!!!!!\\nyelp,The food wasn\\'t good.\\nyelp,Couldn\\'t ask for a more satisfying meal.\\nimdb,\"\"\"You\\'ll love it!  \"\\nyelp,Went for lunch - service was slow.\\nyelp,\"This place is not worth your time, let alone Vegas.\"\\nyelp,\"Their menu is diverse, and reasonably priced.\"\\nyelp,Worst Thai ever.\\nyelp,Go To Place for Gyros.\\namazon,its extremely slow and takes forever to do anything with it.\\namazon,Cheap but hey it works.. Was pleasantly suprised given the low cost of this item.\\nimdb,\"The lines, the cuts, the audio, everything is wrong.  \"\\namazon,I wasted my little money with this earpiece.\\nimdb,but the movie makes a lot of serious mistakes.  \\nyelp,\"OMG, the food was delicioso!\"\\nyelp,This place has a lot of promise but fails to deliver.\\nimdb,\"Both actors truly understand and become their particular character, delivering a convincing, sincere performance.  \"\\nimdb,This is definitely a cult classic well worth viewing and sharing with others.  \\nyelp,It\\'s NOT hard to make a decent hamburger.\\namazon,I purcashed this for the car charger and it does not work.\\nimdb,\"Then I watched it again two Sundays ago (March 20th, 2005) and I began to really enjoy it and this time I taped the entire thing.  \"\\nyelp,I found a six inch long piece of wire in my salsa.\\nimdb,\"It has everything you could want... suspense, drama, comedy, confusing subplots, native americans, brain eating... If you\\'re looking for the be-all, end-all of brainsucking movies, look no further.  \"\\namazon,I wish I could return the unit and get back my money.\\namazon,Doesn\\'t do the job.\\namazon,It fits so securely that the ear hook does not even need to be used and the sound is better directed through your ear canal.\\namazon,\"It has a great camera thats 2MP, and the pics are nice and clear with great picture quality.\"\\nimdb,I think i was one of the people who found this another one of roth\\'s pearls.  \\nimdb,\"I won\\'t say any more - I don\\'t like spoilers, so I don\\'t want to be one, but I believe this film is worth your time.  \"\\namazon,\"It plays louder than any other speaker of this size; the price is so low that most would think the quality is lacking, however, it\\'s not.\"\\nyelp,Their daily specials are always a hit with my group.\\namazon,I could not recommend these more.\\nyelp,Those burgers were amazing.\\nyelp,Honeslty it didn\\'t taste THAT fresh.)\\nimdb,\"Initially the local sites in the film, which was filmed here in Buffalo, intrigued me.  \"\\namazon,Thank you for wasting my money.\\nyelp,\"In fact I\\'m going to round up to 4 stars, just because she was so awesome.\"\\nyelp,\"If the food isn\\'t bad enough for you, then enjoy dealing with the world\\'s worst/annoying drunk people.\"\\nimdb,What this film lacks is a convincing script.  \\namazon,Too bad you have to pay up to $$$ a month for the service!\\nyelp,Great pork sandwich.\\nimdb,\"If you want a movie that\\'s not gross but gives you some chills, this is a great choice.  \"\\nyelp,The feel of the dining room was more college cooking course than high class dining and the service was slow at best.\\nyelp,Sauce was tasteless.\\nimdb,Avoid at all costs.  \\nimdb,\"Hayao Miyazaki\\'s latest and eighth film for Studio Ghibili, \"\"Gake No Ue No Ponyo\"\" (Ponyo on the Cliff by the Sea) is a wonderfully fun and imaginative look at childhood.  \"\\nimdb,\"The scenes with the \"\"oh-so-mature\"\" neighbour-girl are a misplace.  \"\\nyelp,\"Every time I eat here, I see caring teamwork to a professional degree.\"\\nyelp,Food arrived quickly!\\namazon,\"It is light, has plenty of battery capacity, and is very confortable to wear for somewhat extended periods of time.\"\\namazon,\"This item worked great, but it broke after 6 months of use.\"\\nyelp,After I pulled up my car I waited for another 15 minutes before being acknowledged.\\nimdb,You could drive a semi truck into these holes!  \\namazon,I didn\\'t think that the instructions provided were helpful to me.\\nimdb,10 out of 10 for both the movie and trilogy.  \\namazon,If you are Razr owner...you must have this!\\nimdb,\"The film succeeds despite, or perhaps because of, an obviously meagre budget.  \"\\nyelp,Seriously killer hot chai latte.\\nyelp,\"I always order from the vegetarian menu during dinner, which has a wide array of options to choose from.\"\\nimdb,Both Rickman and Stowe play their roles to the hilt in this tale of a childrens\\' book writer who-- maybe?-- has written a subversive tract.  \\nimdb,\"It\\'s pretty surprising that this wonderful film was made in 1949, as Hollywood generally had its collective heads in the sand concerning black and white issues at that time.  \"\\namazon,W810i is just SUPERB.\\nyelp,Food was average at best.\\namazon,I am more than happy with this product.\\namazon,This PDA rocks.\\nimdb,\"However, here there was no decent acting, action or location work to balance things up.  \"\\nyelp,Pretty awesome place.\\nyelp,I promise they won\\'t disappoint.\\nyelp,Their rotating beers on tap is also a highlight of this place.\\namazon,Items stated as included from the description ARE NOT INCLUDED.\\nimdb,\"Unfortunately, any virtue in this film\\'s production work was lost on a regrettable script.  \"\\namazon,Fantastic buy and will get again for whatever my next phone is\\nimdb,\"Overall, a delight!  \"\\namazon,Does everything it should and more.\\nimdb,\"This was reflected not only in the cast, but also in the below-par script, which borrowed much from the earlier classic.  \"\\namazon,I love this device.\\nyelp,\"It took over 30 min to get their milkshake, which was nothing more than chocolate milk.\"\\nyelp,Nicest Chinese restaurant I\\'ve been in a while.\\namazon,\"Light weight, I hardly notice it is there.\"\\namazon,Display is excellent and camera is as good as any from that year.\\namazon,\"The look of it is very sharp and the screen is nice and clear, with great graphics.\"\\nimdb,MANNA FROM HEAVEN is a terrific film that is both predictable and unpredictable at the same time.  \\nyelp,\"The owner used to work at Nobu, so this place is really similar for half the price.\"\\nimdb,Highly entertaining at all angles.  \\namazon,This is a great deal.\\nimdb,\"I let my girlfriend talk me into seeing this - bad idea, we both hated it.  \"\\nyelp,I dont think I will be back for a very long time.\\nimdb,If you haven\\'t choked in your own vomit by the end (by all the cheap drama and worthless dialogue) you\\'ve must have bored yourself to death with this waste of time.  \\nyelp,The only thing I wasn\\'t too crazy about was their guacamole as I don\\'t like it pur\\xc3\\xa9ed.\\nyelp,Maybe if they weren\\'t cold they would have been somewhat edible.\\nyelp,The one down note is the ventilation could use some upgrading.\\nyelp,The desserts were a bit strange.\\namazon,A Disappointment.\\nimdb,It Was So Cool.  \\namazon,I have been very satisfied with this cell phone from day one.\\nyelp,Extremely Tasty!\\namazon,\"however, my girl was complain that some time the phone doesn\\'t wake up like normal phone does.\"\\namazon,It only recognizes the Phone as its storage device.\\namazon,This is a VERY average phone with bad battery life that operates on a weak network.\\nimdb,Mishima is extremely uninteresting.  \\nyelp,My first visit to Hiro was a delight!\\namazon,What a waste.\\nyelp,We definately enjoyed ourselves.\\nimdb,\"One of the most boring,pointless movies I have ever seen.  \"\\namazon,The noise shield is incrediable.\\nimdb,\"Just consider the excellent story, solid acting and look of the film as added bonuses.  \"\\nimdb,This movie now joins Revenge of the Boogeyman and Zombiez as part of the hellish trinity of horror films.  \\namazon,My sister has one also and she loves it.\\nyelp,My boyfriend tried the Mediterranean Chicken Salad and fell in love.\\nimdb,And it was boring.  \\namazon,It is very comfortable on the ear.\\namazon,(It works!)\\namazon,I plugged it in only to find out not a darn thing worked.\\nyelp,This greedy corporation will NEVER see another dime from me!\\namazon,\"It\\'s a great tool for entertainment, communication, and data management.Oh, be sure to use ActiveSync 4.2 for optimal data synchronization results!\"\\nyelp,\"I kept looking at the time and it had soon become 35 minutes, yet still no food.\"\\nyelp,\"Maybe it\\'s just their Vegetarian fare, but I\\'ve been twice and I thought it was average at best.\"\\nimdb,This is a stunning movie.  \\nyelp,\"If that bug never showed up I would have given a 4 for sure, but on the other side of the wall where this bug was climbing was the kitchen.\"\\nyelp,The vegetables are so fresh and the sauce feels like authentic Thai.\\namazon,\"I\\'ve had no trouble accessing the Internet, downloading ringtones or performing any of the functions.\"\\namazon,Not good when wearing a hat or sunglasses.\\namazon,All the other cases I\\'ve tried normally fall apart after a few months but this one seems to be in for the long haul.\\nyelp,I would definitely recommend the wings as well as the pizza.\\nyelp,\"I really do recommend this place, you can go wrong with this donut place!\"\\namazon,\"As many people complained, I found this headset\\'s microphone was very weak.\"\\nyelp,These are the nicest restaurant owners I\\'ve ever come across.\\nyelp,The food was terrible.\\namazon,I\\'d like to return it.\\nyelp,The menu had so much good stuff on it i could not decide!\\namazon,I have read other\\'s reviews here but I haven\\'t had any problem with it.\\nimdb,\"Unfortunately, \\'Cover Girl\\' is an example of how Hollywood used to exploit women for financial gain.  \"\\nyelp,\"Also were served hot bread and butter, and home made potato chips with bacon bits on top....very original and very good.\"\\nyelp,The Macarons here are insanely good.\\namazon,Was not happy.\\namazon,Battery is terrible.\\namazon,The phone crashed completely and now I have to get it replaced.\\nimdb,\"An Italian reviewer called this \"\"a small, great film,\"\" and that\\'s right.  \"\\nyelp,Today was my first taste of a Buldogis Gourmet Hot Dog and I have to tell you it was more than I ever thought possible.\\namazon,Its not user friendly.\\nyelp,Kind of hard to mess up a steak but they did.\\namazon,\"When it opens, the battery connection is broken and the device is turned off.\"\\namazon,It\\'s pretty easy.\\nyelp,Nice ambiance.\\nimdb,The acting sucked.  \\nimdb,\"One more thing: I can tolerate political incorrectness very well, I\\'m all for artistic freedom and suspension of disbelief, but the Slavic female character was just too much.  \"\\namazon,This device is great in several situations:1.)\\nyelp,The only downside is the service.\\namazon,AMAZON SUCKS.\\nimdb,\"The acting sucks, the music sucks, the script sucks, the pacing sucks, the special FX suck, the directing sucks... basically, this movie sucks.  \"\\nyelp,\"Also there are combos like a burger, fries, and beer for 23 which is a decent deal.\"\\namazon,Poor Reliability.\\nyelp,\"Overall, I like there food and the service.\"\\nimdb,\"Yes, it\\'s that bad.  \"\\nyelp,\"Unfortunately, it was not good.\"\\nyelp,The buffet is small and all the food they offered was BLAND.\\nyelp,What a mistake that was!\\nyelp,They brought a fresh batch of fries and I was thinking yay something warm but no!\\nimdb,\"Bad characters, bad story and bad acting.  \"\\nyelp,\"All in all, Ha Long Bay was a bit of a flop.\"\\nimdb,Editing: The editing of this film was phenomenal in my opinion.  \\nyelp,\"As for the service, I thought it was good.\"\\nimdb,This short film certainly pulls no punches.  \\namazon,\"Great product, fast shipping!.\"\\namazon,I have had mine for about a year and this Christmas I bought some for the rest of the family.\\nyelp,\"Delicious NYC bagels, good selections of cream cheese, real Lox with capers even.\"\\nyelp,You can\\'t beat that.\\nimdb,It\\'s just lame.  \\nyelp,Pretty good beer selection too.\\nimdb,\"The plot simply rumbles on like a machine, desperately depending on the addition of new scenes.  \"\\nyelp,\"Also, I feel like the chips are bought, not made in house.\"\\nyelp,Left very frustrated.\\namazon,Yes it\\'s shiny on front side - and I love it!\\nyelp,The waitresses are very friendly.\\nyelp,\"A greasy, unhealthy meal.\"\\nyelp,\"The staff is always super friendly and helpful, which is especially cool when you bring two small boys and a baby!\"\\nimdb,Don\\'t be afraid of subtitles........ its worth a little aversion therapy 10/10  \\nyelp,A great touch.\\namazon,It\\'s AGGRAVATING!\\namazon,\"Best of all is the rotating feature, very helpful.\"\\nyelp,I\\'ve had better atmosphere.\\nimdb,\"I love Lane, but I\\'ve never seen her in a movie this lousy.  \"\\namazon,Yet Plantronincs continues to use the same flawed charger design.\\nyelp,First time going but I think I will quickly become a regular.\\nyelp,2 Thumbs Up!!\\namazon,Returned 8 hours later.\\nyelp,This is a great restaurant at the Mandalay Bay.\\nyelp,I could care less... The interior is just beautiful.\\nimdb,The only consistent thread holding the series together were the amazing performances of Leni Parker and Anita LaSelva as the two Taelons in quiet idealogical conflict.  \\nyelp,\"My side Greek salad with the Greek dressing was so tasty, and the pita and hummus was very refreshing.\"\\nyelp,\"However, my recent experience at this particular location was not so good.\"',\n",
              " 'x_train.csv': b'website_name,text\\namazon,Oh and I forgot to also mention the weird color effect it has on your phone.\\namazon,THAT one didn\\'t work either.\\namazon,Waste of 13 bucks.\\namazon,\"Product is useless, since it does not have enough charging current to charge the 2 cellphones I was planning to use it with.\"\\namazon,None of the three sizes they sent with the headset would stay in my ears.\\namazon,Worst customer service.\\namazon,The Ngage is still lacking in earbuds.\\namazon,It always cuts out and makes a beep beep beep sound then says signal failed.\\namazon,the only VERY DISAPPOINTING thing was there was NO SPEAKERPHONE!!!!\\namazon,Very disappointed in AccessoryOne.\\namazon,Basically the service was very bad.\\namazon,Bad Choice.\\namazon,The only thing that disappoint me is the infra red port (irda).\\namazon,\"horrible, had to switch 3 times.\"\\namazon,\"It feels poorly constructed, the menus are difficult to navigate, and the buttons are so recessed that it is difficult to push them.\"\\namazon,Don\\'t make the same mistake I did.\\namazon,\"Muddy, low quality sound, and the casing around the wire\\'s insert was poorly super glued and slid off.\"\\namazon,I advise EVERYONE DO NOT BE FOOLED!\\namazon,Doesn\\'t hold charge.\\namazon,What a waste of time!\\namazon,I\\'m very disappointed with my decision.\\namazon,\"I also didn\\'t like the \"\"on\"\" button, it felt like it would crack with use.\"\\namazon,I bought these hoping I could make my Bluetooth headset fit better but these things made it impossible to wear.\\namazon,We have tried 2 units and they both failed within 2 months.. Pros\\namazon,Also difficult to put on.I\\'d recommend avoiding this product.\\namazon,$50 Down the drain.\\namazon,Absolutel junk.\\namazon,Can\\'t store anything but phone numbers to SIM.\\namazon,Very disappointing.\\namazon,I would not recommend this item to anyone.\\namazon,Big Disappointment with calendar sync.\\namazon,Not impressed.\\namazon,Just does not work.\\namazon,I even fully charged it before I went to bed and turned off blue tooth and wi-fi and noticed that it only had 20 % left in the morning.\\namazon,\"Plus, I seriously do not believe it is worth its steep price point.\"\\namazon,In my house I was getting dropped coverage upstairs and no coverage in my basement.\\namazon,The phone takes FOREVER to charge like 2 to 5 hours literally.\\namazon,Very unreliable service from T-mobile !\\namazon,[...] down the drain because of a weak snap!\\namazon,\"This is a simple little phone to use, but the breakage is unacceptible.\"\\namazon,Pretty piece of junk.\\namazon,This is so embarassing and also my ears hurt if I try to push the ear plug into my ear.\\namazon,Unfortunately the ability to actually know you are receiving a call is a rather important feature and this phone is pitiful in that respect.\\namazon,This is the first phone I\\'ve had that has been so cheaply made.\\namazon,Awkward to use and unreliable.\\namazon,Horrible phone.\\namazon,\"If you are looking for a good quality Motorola Headset keep looking, this isn\\'t it.\"\\namazon,\"My father has the V265, and the battery is dying.\"\\namazon,After a year the battery went completely dead on my headset.\\namazon,Defective crap.\\namazon,Poor Construction.\\namazon,They work about 2 weeks then break.\\namazon,Could not get strong enough signal.\\namazon,\"I really wanted the Plantronics 510 to be the right one, but it has too many issues for me.The good\"\\namazon,Excellent starter wireless headset.\\namazon,\"Performed awful -- muffled, tinny incoming sound and severe echo for those on the other end of the call.\"\\namazon,BT50 battery junk!.\\namazon,The design might be ergonomic in theory but I could not stand having these in my ear.\\namazon,camera color balance is AWFUL.\\namazon,It dit not work most of the time with my Nokia 5320.\\namazon,\"Looks good in the picture, but this case was a huge disappointment!!\"\\namazon,I\\'ve had this bluetoooth headset for some time now and still not comfortable with the way it fits on the ear.\\namazon,Plug was the wrong size.\\namazon,the phone was unusable and was not new.\\namazon,\"If I take a picture, the battery drops a bar, and starts beeping, letting me know its dieing.\"\\namazon,\"It\\'s so stupid to have to keep buying new chargers, car chargers, cradles, headphones and car kits every time a new phone comes out.\"\\namazon,poor quality and service.\\namazon,Poor product.\\namazon,I\\'m a bit disappointed.\\namazon,I tried talking real loud but shouting on the telephone gets old and I was still told it wasn\\'t great.\\namazon,There\\'s a horrible tick sound in the background on all my calls that I have never experienced before.\\namazon,\"The design is very odd, as the ear \"\"clip\"\" is not very comfortable at all.\"\\namazon,\"At first I thought I was grtting a good deal at $7.44, until I plugged it into my phone (V3c Razr).\"\\namazon,dont buy it.\\namazon,So there is no way for me to plug it in here in the US unless I go by a converter.\\namazon,Soyo technology sucks.\\namazon,doesn\\'t last long.\\namazon,Still Waiting...... I\\'m sure this item would work well.. if I ever recieve it!\\namazon,Poorly contstruct hinge.\\namazon,Think it over when you plan to own this one!This sure is the last MOTO phone for me!\\namazon,Problem is that the ear loops are made of weak material and break easily.\\namazon,\"The bottowm line...another worthless, cheap gimmick from Sprint.\"\\namazon,This pair of headphones is the worst that I have ever had sound-wise.\\namazon,\"Att is not clear, sound is very distorted and you have to yell when you talk.\"\\namazon,i would advise to not purchase this item it never worked very well.\\namazon,It doesn\\'t make you look cool.\\namazon,\"Bought mainly for the charger, which broke soon after purchasing.\"\\namazon,\"I put the latest OS on it (v1.15g), and it now likes to slow to a crawl and lock up every once in a while.\"\\namazon,There\\'s really nothing bad I can say about this headset.\\namazon,We are sending it back.\\namazon,I came over from Verizon because cingulair has nicer cell phones.... the first thing I noticed was the really bad service.\\namazon,Unreliable - I\\'m giving up.\\namazon,\"After my phone got to be about a year old, it\\'s been slowly breaking despite much care on my part.\"\\namazon,It was a waste of my money.\\namazon,don\\'t waste your money and time.\\namazon,Due to this happening on every call I was forced to stop using this headset.\\namazon,I checked everywhere and there is no feature for it which is really disappointing.\\namazon,Does not fit.\\namazon,I\\'ll be looking for a new earpiece.\\namazon,\"However, the keypads are so tinny that I sometimes reach the wrong buttons.\"\\namazon,Unfortunately it did not work.\\namazon,Couldn\\'t figure it out\\namazon,Worst software ever used.... If I could give this zero stars I would.\\namazon,Lousy product.\\namazon,Lasted one day and then blew up.\\namazon,I bought it for my mother and she had a problem with the battery.\\namazon,I was not impressed by this product.\\namazon,Not enough volume.\\namazon,Buyer--Be Very Careful!!!!!.\\namazon,Were JERKS on the phone.\\namazon,\"But when I check voice mail at night, the keypad backlight turns off a few seconds into the first message, and then I\\'m lost.\"\\namazon,Disapointing Results.\\namazon,I got the car charger and not even after a week the charger was broken...I went to plug it in and it started smoking.\\namazon,I find this inexcusable and so will probably be returning this phone and perhaps changing carriers.\\namazon,You get what you pay for I guess.\\namazon,Bad Quality.\\namazon,It\\'s not what it says it is.\\namazon,It\\'s kind of embarrassing to use because of how it looks and mostly it\\'s embarrassing how child-like the company is.\\namazon,\"All in all, I\\'d expected a better consumer experience from Motorola.\"\\namazon,Sending it back.\\namazon,Everything about this product is wrong.First\\namazon,\"It is cheap, and it feel and look just as cheap.\"\\namazon,After receiving and using the product for just 2 days it broke.\\namazon,Phone falls out easily.\\namazon,The first thing that happened was that the tracking was off.\\namazon,Linksys should have some way to exchange a bad phone for a refurb unit or something!\\namazon,\"A must study for anyone interested in the \"\"worst sins\"\" of industrial design.\"\\namazon,The BT headset was such a disapoinment.\\namazon,\"I have had this phone for over a year now, and I will tell you, its not that great.\"\\namazon,What a piece of junk.. I lose more calls on this phone.\\namazon,Doesn\\'t work at all.. I bougth it for my L7c and its not working.\\namazon,very disappointed.\\namazon,Earbud piece breaks easily.\\namazon,\"I can barely ever hear on it and am constantly saying \"\"what?\"\"\"\\namazon,It doesn\\'t work in Europe or Asia.\\namazon,I ordered this product first and was unhappy with it immediately.\\namazon,I\\'m really disappointed all I have now is a charger that doesn\\'t work.\\namazon,\"Horrible, horrible protector.\"\\namazon,Rip off---- Over charge shipping.\\namazon,Case was more or less an extra that I originally put on but later discarded because it scratched my ear.\\namazon,I\\'ve also had problems with the phone reading the memory card in which I always turn it on and then off again.\\namazon,Piece of Junk.\\namazon,The case is a flimsy piece of plastic and has no front or side protection whatsoever.\\namazon,The battery is completely useless to me.\\namazon,\"The biggest complaint I have is, the battery drains superfast.\"\\namazon,So I had to take the battery out of the phone put it all back together and then restart it.\\namazon,Bad Purchase.\\namazon,It was horrible!.\\namazon,\"Perhaps my phone is defective, but people cannot hear me when I use this.\"\\namazon,\"Not only will it drain your player, but may also potentially fry it.\"\\namazon,Improper description.... I had to return it.\\namazon,Cant get the software to work with my computer.\\namazon,I did not bother contacting the company for few dollar product but I learned the lesson that I should not have bought this form online anyway.\\namazon,\"Reaching for the bottom row is uncomfortable, and the send and end keys are not where I expect them to be.3.\"\\namazon,\"The calls drop, the phone comes on and off at will, the screen goes black and the worst of all it stops ringing intermittently.\"\\namazon,The commercials are the most misleading.\\namazon,\"Steer clear of this product and go with the genuine Palm replacementr pens, which come in a three-pack.\"\\namazon,I don\\'t think it would hold it too securly on your belt.\\namazon,It makes very strange ticking noises before it ends the call.\\namazon,I kept catching the cable on the seat and I had to pull the phone out to turn it on an off.\\namazon,Piece of trash.\\namazon,Not a good item.. It worked for a while then started having problems in my auto reverse tape player.\\namazon,Then a few days later the a puff of smoke came out of the phone while in use.\\namazon,\"Then I exchanged for the same phone, even that had the same problem.\"\\namazon,Cumbersome design.\\namazon,All three broke within two months of use.\\namazon,One thing I hate is the mode set button at the side.\\namazon,\"While I managed to bend the leaf spring back in place, the metal now has enough stress that it will break on the next drop.\"\\namazon,\"The camera, although rated at an impressive 1.3 megapixels, renders images that fall well below expectations of such a relatively high resolution.\"\\namazon,The screen does get smudged easily because it touches your ear and face.\\namazon,Item Does Not Match Picture.\\namazon,DO NOT BUY DO NOT BUYIT SUCKS\\namazon,Doesn\\'t Work.\\namazon,Sprint charges for this service.\\namazon,I am not impressed with this and i would not recommend this item to anyone.\\namazon,This is essentially a communications tool that does not communicate.\\namazon,\"stay away from this store, be careful.\"\\namazon,It\\'s A PIECE OF CRAP!\\namazon,\"sucked, most of the stuff does not work with my phone.\"\\namazon,Adapter does not provide enough charging current.\\namazon,Talk about USELESS customer service.\\namazon,What a big waste of time.\\namazon,Tied to charger for conversations lasting more than 45 minutes.MAJOR PROBLEMS!!\\namazon,You also cannot take pictures with it in the case because the lense is covered.\\namazon,Don\\'t make the same mistake that I did and please don\\'t buy this phone.\\namazon,The construction of the headsets is poor.\\namazon,It\\'s uncomfortable and the sound quality is quite poor compared with the phone (Razr) or with my previous wired headset (that plugged into an LG).\\namazon,\"No additional ear gels provided, and no instructions whatsoever.\"\\namazon,Echo Problem....Very unsatisfactory\\namazon,These products cover up the important light sensor above the ear outlet.\\namazon,And none of the tones is acceptable.\\namazon,don\\'t waste your money.\\namazon,This is infuriating.\\namazon,\"The loudspeaker option is great, the bumpers with the lights is very ... appealing.\"\\namazon,It clicks into place in a way that makes you wonder how long that mechanism would last.\\namazon,I found this product to be waaay too big.\\namazon,The instructions didn\\'t explain that a microphone jack could be used.\\namazon,\"Uncomfortable In the Ear, Don\\'t use with LG VX9900 (EnV).\"\\namazon,You have to hold the phone at a particular angle for the other party to hear you clearly.\\namazon,Can\\'t upload ringtones from a third party.\\namazon,Do not make the same mistake as me.\\namazon,\"I might have gotten a defect, but I would not risk buying it again because of the built quality alone.\"\\namazon,Not worth it.\\namazon,you could only take 2 videos at a time and the quality was very poor.\\namazon,If you plan to use this in a car forget about it.\\namazon,\"I have 2-3 bars on my cell phone when I am home, but you cant not hear anything.\"\\namazon,Battery has no life.\\namazon,\"The internet access was fine, it the rare instance that it worked.\"\\namazon,\"Saggy, floppy piece of junk.\"\\namazon,wont work right or atleast for me.\\namazon,Don\\'t waste your $$$ on this one.\\namazon,\"Audio Quality is poor, very poor.\"\\namazon,I\\'ve missed numerous calls because of this reason.\\namazon,The item received was Counterfeit.\\namazon,This product had a strong rubber/petroleum smell that was unbearable after a while and caused me to return it\\namazon,\"First off the reception sucks, I have never had more than 2 bars, ever.\"\\namazon,Don\\'t bother - go to the store.\\namazon,VERY DISAPPOINTED.\\namazon,Kind of flops around.\\namazon,The pleather case doesn\\'t fit.\\namazon,No real improvement.\\namazon,Truly awful.\\namazon,I\\'ve bought $5 wired headphones that sound better than these.\\namazon,\"As an earlier review noted, plug in this charger and nothing happens.\"\\namazon,AFter the first charge kept going dead after 12 minutes.\\namazon,I does not maintain a connection with the computer while it is on my lap.\\namazon,Disappointment.. I hate anything that goes in my ear.\\namazon,Warning - Stay away.\\namazon,Very Dissapointing Performance.\\namazon,Do NOT buy if you want to use the holster.\\namazon,\"Verizon\\'s bills, however, are difficult to understand even though their pricing plans are simple.\"\\namazon,Chinese Forgeries Abound!.\\namazon,\"It lasts less than 3o minutes, if I actually try to use the phone.My wife has the same phone with the same problem.\"\\namazon,NOT WHAT I WANTED.\\namazon,Who in their right mind is gonna buy this battery?.\\namazon,Battery lasts only a few hours.\\namazon,I can\\'t use this case because the smell is disgusting.\\namazon,You need at least 3 mins to get to your phone book from the time you first turn on the phone.Battery life is short.\\namazon,They made this case too small and is very difficult to install.\\namazon,This phone might well be the worst I\\'ve ever had in any brand.\\namazon,\"All I can do is whine on the Internet, so here it goes.The more I use the thing the less I like it.\"\\namazon,Avoid this one if you can.\\namazon,The text messaging feature is really tricky to use.\\namazon,\"The cable looks so thin and flimsy, it is scary.\"\\namazon,I received my supposedly new motorola 375 and apparently there was not a match between the phone and the charger.\\namazon,Obviously there is a problem with the adhesive.\\namazon,The volume switch rocketed out of the unit to a destination unknown.\\namazon,\"Even in my BMW 3 series which is fairly quiet, I have trouble hearing what the other person is saying.\"\\namazon,This product is very High quality Chinese CRAP!!!!!!\\namazon,\"Verizon tech support walked my through a few procedures, none of which worked and I ended up having to do a hard re-set, wiping out all my data.\"\\namazon,We received a WHITE colored battery that goes DEAD after a couple hoursTHe original used to last a week - but still lasts longer than thereplacement\\namazon,\"My phone sounded OK ( not great - OK), but my wife\\'s phone was almost totally unintelligible, she couldn\\'t understand a word being said on it.\"\\namazon,They refuse to refund or replace.\\namazon,\"That\\'s a huge design flaw (unless I\\'m not using it correctly, which I don\\'t think is the case).\"\\namazon,The worst phone I\\'ve ever had.... Only had it for a few months.\\namazon,\"The sound quality for the device is unacceptable.Unless you are in a really quiet area, you almost hear nothing.\"\\namazon,I\\'m trying to return it for a refund.\\namazon,\"I went on Motorola\\'s website and followed all directions, but could not get it to pair again.\"\\namazon,The only thing that I think could improve is the sound leaks out from the headset.\\namazon,Don\\'t waste your money!.\\namazon,Last time buying from you.\\namazon,I would have given no star if I was able.\\namazon,\"However, the ear pads come off easily and after only one week I lost one.\"\\namazon,However I needed some better instructions.\\namazon,I have two more years left in this contract and I hate this phone.\\namazon,\"After 3 months, screen just went black all of a sudden.\"\\namazon,It is unusable in a moving car at freeway speed.\\namazon,\"I contacted the company and they told me that, although the unit was still under warranty, if I couldn\\'t produce my receipt I was out of luck.\"\\namazon,\"VERY cheap plastic, creaks like an old wooden floor.\"\\namazon,\"The real killer is the volume, and of course it breaking.\"\\namazon,Dont waste your money...\\namazon,in addition it feels &amp; looks as if the phone is all lightweight cheap plastic.\\namazon,\"I was sitting in my vehicle, with the cradle on my belt, and the headset lost signal.\"\\namazon,I recently had problems where I could not stay connected for more than 10 minutes before being disconnected.\\namazon,What a waste of money and time!.\\namazon,I only hear garbage for audio.\\namazon,The replacement died in a few weeks.\\namazon,The holster that arrived did not match the photo in the ad.\\namazon,Reception is terrible and full of static.\\namazon,The plastic breaks really easy on this clip.\\namazon,\"However-the riingtones are not the best, and neither are the games.\"\\namazon,\"First of all, it doesn\\'t wear well.\"\\namazon,\"This product is clearly not ready for prime time, I don\\'t care how cool it looks, if you can\\'t tell a call is coming in it\\'s worthless.\"\\namazon,\"If there is a wind, it is completely useless.\"\\namazon,Internet is excrutiatingly slow.\\namazon,\"bad fit, way too big.\"\\namazon,\"Bluetooth does not work, phone locks up, screens just flash up and now it just makes calls randomly while in my pocket locked.\"\\namazon,Waste of money.\\namazon,It didn\\'t charge for me.\\namazon,Sprint - terrible customer service.\\namazon,People couldnt hear me talk and I had to pull out the earphone and talk on the phone.\\namazon,Design Flaw?.\\namazon,The nokia CA-42 USB cable did not work with my phone.\\namazon,The battery runs down quickly.\\namazon,My 5-year old Nokia 2160 from Tracfone holds the charge a lot better than this.\\namazon,\"useless phone, simply deaf.\"\\namazon,Battery life still not long enough in Motorola Razor V3i.\\namazon,The battery life is highly unacceptable.\\namazon,I wouldn\\'t recommend buying this product.\\namazon,\"If you have several dozen or several hundred contacts, then imagine the fun of sending each of them one by one.\"\\namazon,worthless product.\\namazon,\"Using all earpieces, left or right, this thing will not stay on my ear.\"\\namazon,I ordered this for sony Ericsson W810i but I think it only worked once (thats when I first used it).\\namazon,if you simply want a small flip phone -- look elsewhere as the extra bells & whistles are mediocre.\\namazon,\"If you like a loud buzzing to override all your conversations, then this phone is for you!\"\\namazon,\"It didn\\'t work, people can not hear me when I talk.\"\\namazon,\"If you don\\'t find it, too bad, as again the unit comes with one earpad only.I would not recommend this to anyone.\"\\namazon,Low Quality.\\namazon,A PIECE OF JUNK THAT BROKE AFTER BEING ON MY PHONE FOR 2 DAYS!!!\\namazon,How stupid is that?\\namazon,\"It was an inexpensive piece, but I would still have expected better quality.\"\\namazon,Does not charge the Cingular (ATT) 8525 phone.\\namazon,I have to jiggle the plug to get it to line up right to get decent volume.\\namazon,So just beware.\\namazon,I cannot make calls at certain places.\\namazon,Not good enough for the price.\\namazon,I am going to have to be the first to negatively review this product.\\namazon,\"Terrible product, and waste of money!\"\\namazon,disappointing.\\namazon,The battery is unreliable as well as the service use antena.\\namazon,I was not happy with this item.\\namazon,Bad Reception.\\namazon,I give Wirefly 1 star.I will contact Cingular/AT&T; and inform them of this practice.\\namazon,\"When I placed my treo into the case, not only was it NOT snug, but there was A LOT of extra room on the sides.\"\\namazon,\"I have this phone and it is a thorn in my side, I really abhor it.\"\\namazon,Unfortunately it\\'s easy to accidentally activate them with the gentle-touch buttons if you accidentally touch the phone to your face while listening.\\namazon,\"But now that it is \"\"out of warranty\"\" the same problems reoccure.Bottom line... put your money somewhere else... Cingular will not support it.\"\\namazon,Does not work for listening to music with the cingular 8125.\\namazon,The update procedure is difficult and cumbersome.\\namazon,You need two hands to operate the screen.This software interface is decade old and cannot compete with new software designs.\\namazon,So I basically threw my money out the window for nothing.\\namazon,WARNING - DO NOT BUY!!.\\namazon,Worst ever.\\namazon,disappointed.\\namazon,It would take too long to describe how bad my customer service experience has been with Amazon.\\namazon,Painful on the ear.\\namazon,I\\'m returning them.\\namazon,Very Displeased.\\namazon,The instruction manual is lacking.\\namazon,\"Voice Quality, Signal Strength, Dropped Calls.\"\\namazon,The phone gets EXTREMELY HOT!\\namazon,Used and dirty.\\namazon,The majority of the Logitech earbud headsets failed.\\namazon,it did not work in my cell phone plug i am very up set with the charger!.\\namazon,Don\\'t trust their website and don\\'t expect any helpful support.\\namazon,I had to purchase a different case.\\namazon,\"I still maintain that monkeys shouldn\\'t make headphones, we just obviously don\\'t share enough DNA to copy the design over to humans.\"\\namazon,I want my money back.\\namazon,No buyers remorse on this one!.\\namazon,\"However, BT headsets are currently not good for real time games like first-person shooters since the audio delay messes me up.\"\\namazon,The ear buds only play music in one ear.\\namazon,WORST PHONE EVER.\\namazon,poor voice clarity.\\namazon,It looses connection to the phone even when it is within a couple feet between the two.\\namazon,Terrible phone holder.\\namazon,The earpiece on this is too large or too heavy...it keeps falling out of my ear.\\namazon,Don\\'t buy it.\\namazon,REALLY UGLY.\\namazon,I used to talk on it for 1 - 1 1/2 hours and the battery would be literally drained and dying.\\namazon,Having trouble with volume.\\namazon,\"Also, the phone doesn\\'t seem to accept anything except CBR mp3s, preferably ripped by Windows Media Player.\"\\namazon,\"Buyer Beware, you could flush money right down the toilet.\"\\namazon,How can that be?The audio quality is poor.\\namazon,Buttons are too small.\\namazon,Save your money.... I\\'ve had this item for 11 months now.\\namazon,\"For a product that costs as much as this one does, I expect it to work far better and with greater ease than this thing does.\"\\namazon,\"The charger arrived within the promised timeframe, but it did not work.\"\\namazon,Same problem as others have mentioned.\\namazon,This allows the possibility of double booking for the same date and time after the first.\\namazon,Disappointed!.\\namazon,\"If you hate earbugs, avoid this phone by all means.\"\\namazon,\"Another note about this phone\\'s appearance is that it really looks rather bland, especially in the all black model.\"\\namazon,\"I didn\\'t want the clip going over the top of my ear, causing discomfort.\"\\namazon,Then I had to continue pairing it periodically since it somehow kept dropping.\\namazon,My only complaint is the standard sound volume is a little low even when turned up to 5(of 5)\\namazon,\"Unfortunately it will not recharge my iPhone 4s, despite connecting it from multiple power sources (iMac, external battery, wall outlet, etc).\"\\namazon,Buy a different phone - but not this.\\namazon,Makes it easier to keep up with my bluetooth when I\\'m not wearing it.\\namazon,I don\\'t like this Nokia either.\\namazon,Customer service was terrible.\\namazon,I have had problems wit hit dropping signal and more.\\namazon,\"You can not answer calls with the unit, never worked once!\"\\namazon,Utter crap.. Sound quality is TERRIBLE.\\namazon,Poor quality.\\namazon,\"Also, if your phone is dropped, this case is not going to save it, specially when dropped face down.\"\\namazon,Mic Doesn\\'t work.\\namazon,The nano stated it.My son was dissapointed.\\namazon,i got this phone around the end of may and i\\'m completely unhappy with it.\\namazon,It is practically useless and did not add any kind of boost to my reception after I bought it.\\namazon,I bought this phone as a replacement for my StarTac and have regretted it since.\\namazon,Do Not Buy for D807...wrongly advertised for D807.\\namazon,\"Obviously they have a terrible customer service, so you get what you pay for.\"\\namazon,\"There was so much hype over this phone that I assumed it was the best, my mistake.\"\\namazon,Not nearly as good looking as the AMAZON picture makes it look.\\namazon,The buttons for on and off are bad.\\namazon,Treo and T-Mobile refused to replace it again and forced me to buy another phone without any kind of upgrade discount.\\namazon,As I said above....PRETTY USELESS!\\namazon,the charger worked for about a week and then completely stopped charging my phone.\\namazon,The plug did not work very well.\\namazon,\"However, after about a year, the fliptop started to get loose and wobbly and eventually my screen went black and I couldn\\'t receive and place calls.\"\\namazon,The price was very good and with the free shipping and all it was a good purchase.\\namazon,I was very excited to get this headset because I thought it was really cute.\\namazon,The phone loads super!\\namazon,Works as described.\\namazon,Works fine.\\namazon,Superb Phone on a Great Network.\\namazon,Razr Battery - Good buy.\\namazon,Car charger as well as AC charger are included to make sure you never run out of juice.Highy recommended\\namazon,Worth every penny.\\namazon,The sound is clear and the people I talk to on it are amazed at the quality too.\\namazon,After trying many many handsfree gadgets this is the one that finally works well.\\namazon,Definitely a bargain.\\namazon,Plan on ordering from them again and again.\\namazon,For the price this was a great deal.\\namazon,I recommend iGo to anyone with different brand cell phones/mp3 players in the family.\\namazon,\"Overall, I am psyched to have a phone which has all my appointments and contacts in and gets great reception.\"\\namazon,Jawbone Era is awesome too!\\namazon,Good product - incredible value.\\namazon,Highly recommend for any one who has a blue tooth phone.\\namazon,The file browser offers all the options that one needs.Handsfree is great.\\namazon,Worked great!.\\namazon,Battery life is real good.\\namazon,Plantronics Bluetooth Excelent Buy.\\namazon,\"i\\'m glad i found this product on amazon it is hard to find, it wasn\\'t high priced.\"\\namazon,\"It works great with a car charger, especially if you cannot plug in two adapters at the same time.\"\\namazon,So Far So Good!.\\namazon,Great Value.\\namazon,It fits my ear well and is comfortable on.\\namazon,Gets a signal when other Verizon phones won\\'t.\\namazon,Excellent!.\\namazon,\"I have to use the smallest earpieces provided, but it stays on pretty well.\"\\namazon,Great product for the price!.\\namazon,This item is fantastic and works perfectly!\\namazon,Great Earpiece.\\namazon,I received it quickly and it works great!!\\namazon,This is cool because most cases are just open there allowing the screen to get all scratched up.\\namazon,The shipping time was also very quick!\\namazon,\"Simple, lightweight and great fit.\"\\namazon,Works like a charm.. Works as advertised.\\namazon,Blue Ant is easy to use.\\namazon,The battery is working well as a replacement for the original that came with the phone over 2 years ago.\\namazon,I love this thing!\\namazon,The phone is sturdy and waterproof.\\namazon,\"Other than that, the leather is nice and soft; the fit is very tight; the cut out for the face is a good shape.\"\\namazon,I was amazed at the quick arrival of the two original lg cell phone batteries and and at a fraction of the price.\\namazon,\"The bose noise cancelling is amazing, which is very important for a NYC commuter.\"\\namazon,Excellent wallet type phone case.\\namazon,\"It is well made, easy to access the phone and has a handy, detachable belt clip.\"\\namazon,The reception through this headset is excellent.\\namazon,Reversible plug works great.\\namazon,Love This Phone.\\namazon,Setup went very smoothly.\\namazon,Phone now holds charge like it did when it was new.\\namazon,\"Overall, I would recommend this phone over the new Walkman.\"\\namazon,Very good stuff for the price.\\namazon,I ended up sliding it on the edge of my pants or back pockets instead.\\namazon,\"After charging overnight, these batteries work great.\"\\namazon,Very well made and fits my Surefire GX2 perfectly.\\namazon,I had to go to a store and bought a new NOKIA phone which is working great.\\namazon,#1 It Works - #2 It is Comfortable.\\namazon,\"For the price on Amazon, it is an excellent product, which I would highly recommend.\"\\namazon,\"It seems completely secure, both holding on to my belt, and keeping the iPhone inside.\"\\namazon,IT\\'S REALLY EASY.\\namazon,It\\'s very convenient and simple to use - gets job done & makes the car ride so much smoother.\\namazon,It has all the features I want\\namazon,Great Pocket PC / phone combination.\\namazon,It does everything the description said it would.\\namazon,Those phones are working just fine now.\\namazon,\"My colleague & I now get great reception.A little expensive, but performance is great.\"\\namazon,Clear crisp sound.\\namazon,The cutouts and buttons are placed perfectly.\\namazon,Logitech Bluetooth Headset is a 10!.\\namazon,\"It fits comfortably in either ear, the sound is clear and loud, and the charge lasts a couple of days.\"\\namazon,Authentic leather with nice shine and comfort .I recommend you this case !!\\namazon,The phone can also take great pictures and even video clips.\\namazon,Works well.\\namazon,Better than you\\'d expect.\\namazon,Virgin Wireless rocks and so does this cheap little phone!\\namazon,Good audio quality.\\namazon,Works great.\\namazon,Battery charge-life is quite long.\\namazon,I especially love the long battery life.\\namazon,This is hands down the best phone I\\'ve ever had.\\namazon,This BlueAnt Supertooth hands-free phone speaker is AWESOME.\\namazon,The best phone in market :).\\namazon,\"Five star Plus, plus.\"\\namazon,It has been a winner for us.\\namazon,It definitely was not as good as my S11.\\namazon,These headphones were a great find - and I think they are perhaps the best purchase I\\'ve made in the last several years - seriously.\\namazon,I am very impressed with this headset from Plantronics.\\namazon,The headsets are easy to use and everyone loves them.\\namazon,Arrived quickly and much less expensive than others being sold.\\namazon,Their Research and Development division obviously knows what they\\'re doing.\\namazon,My headset works just peachy-keen.\\namazon,\"It\\'s fits like a glove and is strong, secure, and durable.\"\\namazon,\"every thing on phone work perfectly, she like it.\"\\namazon,awesome device.\\namazon,Comfortable in my hand.\\namazon,\"I would recommend purchasing the Jabra JX-10 series 2 which works flawlessly with my Moto Q, go figure.\"\\namazon,Best I\\'ve found so far .... I\\'ve tried 2 other bluetooths and this one has the best quality (for both me and the listener) as well as ease of using.\\namazon,I was very pleased to see that I could replace my well travled swivel holster for my Blackberry flip.\\namazon,It has everything I need and I couldn\\'t ask for more.\\namazon,\"I love this phone , It is very handy and has a lot of features .\"\\namazon,The headset fulfills my requirements so I am happy with my purchase.\\namazon,The only good thing was that it fits comfortably on small ears.\\namazon,\"I have purchased these for both family and friends, and all enjoy their clarity and ease of use\"\\namazon,\"Nice quality build, unlike some cheap s*** out there.\"\\namazon,T-Mobile has the best customer service anywhere.\\namazon,And the sound quality is great.\\namazon,Better than expected.\\namazon,its a little geeky but i think thats its sex on toast and it rocks and oozes sex right down to its battery embedded sleek stylish leather case.\\namazon,\"I have used several phone in two years, but this one is the best.\"\\namazon,!I definitly recommend!!\\namazon,Great for iPODs too.\\namazon,Works good.\\namazon,I used bitpim (a free program you can find on the internet)to transfer data to the phone.The price of the cable was excellent.\\namazon,\"I really recommend this faceplates since it looks very nice, elegant and cool.\"\\namazon,I got it because it was so small and adorable.\\namazon,Someone shouldve invented this sooner.\\namazon,It finds my cell phone right away when I enter the car.\\namazon,I would highly recommend this.\\namazon,\"It quit working after I\\'d used it for about 18 months, so I just purchased another one because this is the best headset I\\'ve ever owned.\"\\namazon,Comfort for our whole family.\\namazon,Great phone!.\\namazon,Excellent product for the price.\\namazon,great...no problems at all!.\\namazon,I have yet to run this new battery below two bars and that\\'s three days without charging.\\namazon,\"Excellent product, I am very satisfied with the purchase.\"\\namazon,I exchanged the sony ericson z500a for this and I\\'m pretty happy with that decision.\\namazon,It\\'s very attractive and appears to be of good quality.\\namazon,\"This item is great, installed it, let it charged up overnite and it has been working good every since with no problems\"\\namazon,This is a great deal.\\namazon,I\\'m pleased.\\namazon,I really like this product over the Motorola because it is allot clearer on the ear piece and the mic.\\namazon,The keyboard is a nice compromise between a full QWERTY and the basic cell phone number keypad.\\namazon,Krussel Always good.\\namazon,Exactly what I wanted.\\namazon,I got the aluminum case for my new Palm VX and it worked really well--it has protected my handheld perfectly so far.\\namazon,.... Item arrived quickly and works great with my Metro PCS Samsung SCH-r450 slider phone and Sony Premium Sound in ear plugs.\\namazon,\"Works great, when my cat attacked the phone he scratched the protective strip instead of destroying the screen.\"\\namazon,I would highly recommend this product.\\namazon,WELL IM SATISFIED.\\namazon,This one works and was priced right.\\namazon,Easy to pair with my Samsung Cell.\\namazon,Phone is sturdy as all nokia bar phones are.\\namazon,Its well-designed and very sharp -- the blue is a very nice color.\\namazon,good protection and does not make phone too bulky.\\namazon,Very good quality though\\namazon,\"This is an excellent tool, especially when paired with your phone\\'s auto-answer.\"\\namazon,\"The screen size is big, key pad lit well enough, and the camera quality is excellent for a camera phone.\"\\namazon,I love the look and feel of Samsung flipphones.\\namazon,This battery is an excellent bargain!\\namazon,I would recommend this.\\namazon,\"It is light, easy to use, and has very clear reception and transmission.\"\\namazon,Nice solid keyboard.\\namazon,Love it.. Great armband.\\namazon,Good Quality.\\namazon,Price is good too.\\namazon,Great phone.\\namazon,Very good phone.\\namazon,\"Great it was new packaged nice works good, no problems and it came in less time then I expected!!!!\"\\namazon,I had absolutely no problem with this headset linking to my 8530 Blackberry Curve!\\namazon,Much less than the jawbone I was going to replace it with.\\namazon,The Jabra EarGels fit my ears very well.\\namazon,\"You get extra minutes so that you can carry out the call and not get cut off.\"\"\"\\namazon,It has kept up very well.\\namazon,\"jabra ear gels \"\"R\"\" the best!.\"\\namazon,Only had this a month but it\\'s worked flawlessly so far.\\namazon,Also its slim enough to fit into my alarm clock docking station without removing the case.\\namazon,Great for the jawbone.\\namazon,Excellent Phone.\\namazon,WORTHWHILE.\\namazon,Iam very pleased with my purchase.\\namazon,nice leather.\\namazon,\"It is super charged up for use as a small hybrid palmtop/camera/cellphone, and excels in those roles.\"\\namazon,Good price.\\namazon,Leopard Print is wonderfully wild!.\\namazon,This is a great little item.\\namazon,The reception is excellent!\\namazon,\"Small, sleek, impressive looking, practical setup with ample storage in place.\"\\namazon,Great sound and service.\\namazon,\"Comfortable, Nice Range, Good Battery Life.\"\\namazon,The reception has been generally good.\\namazon,Great phone!.\\namazon,It feels more comfortable than most headsets because I wear glasses and that gets in the way sometimes.\\namazon,\"I have a Verizon LG phone and they work well together, good reception and range that exceeds 20 feet line of sight.\"\\namazon,You won\\'t regret it!\\namazon,Its a total package.\\namazon,A pretty good product.\\namazon,Everything worked on the first try.The device was certainly engineered in a clever way and the construction feels good.\\namazon,The sound quality is good and functionality is awesome.\\namazon,This is simply the BEST bluetooth headset for sound quality!\\namazon,Incredible!.\\namazon,Timely shipment and quality product.\\namazon,\"I have only had it for a few weeks, but so far, so good.\"\\namazon,So I bought about 10 of these and saved alot of money.\\namazon,You\\'ll love how thin it is.\\namazon,Magical Help.\\namazon,My Sanyo has survived dozens of drops on blacktop without ill effect.\\namazon,\"Clear Skype Calls, Long Battery Life, Long Range.\"\\namazon,We would recommend these to others.\\namazon,Lately they have been extremely nice and helpful on the phone.\\namazon,much better than the hard plastic cases.\\namazon,\"I would definitely recommend the Jabra BT250v for those who are looking for comfort, clarity and a great price!\"\\namazon,I love all the features and form factor.\\namazon,Works great!.\\namazon,Restored my phone to like new performance.\\namazon,Better Than New.\\namazon,Great product and price.\\namazon,Really good product.\\namazon,I great reception all the time.\\namazon,I love being able to use one headset for both by land-line and cell.\\namazon,I highly recommend these and encourage people to give them a try.\\namazon,\"I had ordered a motorola data cable, got a very well finished and working product.\"\\namazon,This phone is very fast with sending any kind of messages and web browsing is significantly faster than previous phones i have used.\\namazon,Portable and it works.\\namazon,It worked very well.\\namazon,I found the product to be easy to set up and use.\\namazon,The company shipped my product very promptly and it works well.\\namazon,\"Bluetooth range is good - a few days ago I left my phone in the trunk, got a call, and carried the conversation without a hitch.\"\\namazon,I highly recommend this modest priced cellular phone.\\namazon,Very prompt service.\\namazon,And I just love the colors!\\namazon,\"Fits comfortably, came with three sizes of earbud tips.\"\\namazon,\"I received my orders well within the shipping timeframe, everything was in good working order and overall, I am very excited to have this source.\"\\namazon,I gave it 5 stars because of the sound quality.\\namazon,Good case!.\\namazon,Great case and price!\\namazon,\"I own a Jabra Earset and was very happy with it, but the sound quality, especially outgoing, on this is better.\"\\namazon,This phone is slim and light and the display is beautiful.\\namazon,\"I connected my wife\\'s bluetooth,(Motorola HS850) to my phone and it worked like a charm whether the phone was in my pocket or the case.\"\\namazon,\"The seller is very understanding and patient, I would definitely buy from them again.\"\\namazon,Battery life is also great!\\namazon,Great Phone.\\namazon,The case is great and works fine with the 680.\\namazon,clipping this to your belt will deffinitely make you feel like 50 cent\\'s up-and-coming.\\namazon,\"good item, low price.\"\\namazon,Very easy to use.\\namazon,\"I love my 350 headset.. My Jabra350 bluetooth headset is great, the reception is very good and the ear piece is a comfortable fit.\"\\namazon,Nice Sound.\\namazon,I got this phone on reccomendation from a relative and I\\'m glad I did.\\namazon,I wear glasses and it fits fine with them.\\namazon,This frog phone charm is adorable and very eye catching.\\namazon,\"very good product, well made.\"\\namazon,This case seems well made.\\namazon,I\\'m using it with an iriver SPINN (with case) and it fits fine.\\namazon,The best electronics of the available FM Transmitters.\\namazon,I highly recommend this case.\\namazon,Thanks again to Amazon for having the things I need for a good price!\\namazon,Great audio!.\\namazon,\"This case has passed the one year mark and while it shows signs of wear, it is 100% functional.\"\\namazon,It is simple to use and I like it.\\namazon,You can\\'t beat the price on these.\\namazon,\"Because both ears are occupied, background is not distracting at all.\"\\namazon,I bought this to use with my Kindle Fire and absolutely loved it!\\namazon,Will order from them again!\\namazon,Good transmit audio.\\namazon,\"In the span of an hour, I had two people exclaim \"\"Whoa - is that the new phone on TV?!?\"\\namazon,Really pleased with this product so far.\\namazon,\"Sounds good reasonably priced and effective, Its that simple !\"\\namazon,Now I know that I made a wise decision.\\namazon,Love this headset!\\namazon,Excellent sound quality.\\namazon,Very satisifed with that.\\namazon,\"I\\'ve dropped my phone more times than I can say, even on concrete and my phone is still great (knock on wood!).\"\\namazon,\"It is very comfortable to wear as well, which is probably the most important aspect about using a case.\"\\namazon,I did not have any problem with this item and would order it again if needed.\\namazon,I even dropped this phone into a stream and it was submerged for 15 seconds and it still works great!\\namazon,Excellent product for the price.\\namazon,\":-)Oh, the charger seems to work fine.\"\\namazon,I love this cable - it allows me to connect any mini-USB device to my PC.\\namazon,best bluetooth on the market.\\namazon,)Setup couldn\\'t have been simpler.\\namazon,THey are so cool!\\namazon,I was able to do voice dialing in the car with no problem.\\namazon,\"Comfortable fit - you need your headset to be comfortable for at least an hour at a time, if not for an entire day.\"\\namazon,I like design and look of Jabra behing the ear headsets and 5020 is pretty comfortible to wear 24 hours a day without pain in the ear.\\namazon,Great software for Motorolas.\\namazon,Integrated seamlessly with the Motorola RAZR phone.\\namazon,Works great.\\namazon,Great phone.\\namazon,Great Hands Free Device.\\namazon,Appears to actually outperform the original battery from China that came with my V325i.\\namazon,\"No ear loop needed, it\\'s tiny and the sound is great.\"\\namazon,\"I posted more detailed comments under the grey or black phone, but i have the Fire Red and it\\'s a great color!\"\\namazon,I\\'m happy about this purchase- good quality and low price.\\namazon,2 thumbs up to this seller\\namazon,\"It works fine on my Motorola 325 cellphone, and a lot better than the worn-out battery did.\"\\namazon,\"Good case, Excellent value.\"\\namazon,Made very sturdy.\\namazon,The voice recognition thru the handset is excellent.\\namazon,Just what I wanted.\\namazon,I love this phone!.\\namazon,Worked very well paired with a Treo 700w and as a Skype headset on my PC (using a USB Bluetooth transceiver).\\namazon,The accompanied software is almost brilliant.\\namazon,\"I searched the Internet, and found this one to be the best value.\"\\namazon,Product is exactly as described.\\namazon,I have tried these cables with my computer and my iPod and it works just fine.\\namazon,It\\'s been my choice headset for years.Great sound; good volume; good noise cancellation.\\namazon,Voice recognition is tremendous!\\namazon,\"great headset, very impressed - H500.\"\\namazon,\"The color is even prettier than I thought it would be, and the graphics are incredibly sharp.\"\\namazon,Love this product.\\namazon,My phone doesn\\'t slide around my car now and the grip prevents my phone from slipping out of my hand.\\namazon,It is so small and you don\\'t even realize that it is there after a while of getting used to it.\\namazon,EXCELLENT SERVICE!!!!!!!!.\\namazon,\"It holds a charge for a long time, is reasonably comfortable under long-wearing conditions and the quality of sound is tremendous.\"\\namazon,I am very happy\\namazon,This is definitely a must have if your state does not allow cell phone usage while driving.\\namazon,It is easy to turn on and off when you are in the car and the volume controls are quite accessable.\\namazon,\"Just really good.. So far, probably the best BT headset I have ever had.\"\\namazon,\"The range is very decent, I\\'ve been able to roam around my house with the phone in the living room with no reception/sound quality issues.\"\\namazon,Excellent bluetooth headset.\\namazon,All in all I think it was a good investment.\\namazon,The pairing of the two devices was so easy it barely took a couple minutes before I started making calls with the voice dialing feature.\\namazon,I own 2 of these cases and would order another.\\namazon,Awsome Device Works Great!!.\\namazon,This little device has transformed my organizational capability and made my life a whole lot easier.\\namazon,Great Phone.\\namazon,One of my favorite purchases ever.\\namazon,This product is ideal for people like me whose ears are very sensitive.\\namazon,This is a great product..... sure beats using your fingers!.\\namazon,lightweight and works well.\\namazon,It looks very nice.\\namazon,I wear it everyday and it holds up very well.\\namazon,The keyboard is really worthwhile in usefulness and is sturdy enough I don\\'t expect any problems.\\namazon,\"you can even take self portraits with the outside (exterior) display, very cool.\"\\namazon,\"I use this product in a motor control center where there is a lot of high voltage humming from the equipment, and it works great!\"\\namazon,\"But, in any case, the best part is, you can download these pictures to your laptop using IR, or even send pictures from your laptop to the phone.\"\\namazon,An Awesome New Look For Fall 2000!.\\namazon,We have gotten a lot of compliments on it.\\namazon,It was that loud.Glad to say that the Plantronics 510 maintains a flawless connection to my cell and with no static during normal use.\\namazon,Great product.\\namazon,Works for me.\\namazon,It is a joy to use.\\namazon,\"Excellent sound, battery life and inconspicuous to boot!.\"\\namazon,Any ring tone..Overall good phone to buy..\\namazon,\"Great price, too!\"\\namazon,The mic is great.\\namazon,Product was excellent and works better than the verizon one and Boy was it cheaper!\\namazon,\"Good , works fine.\"\\namazon,Everything about it is fine and reasonable for the price i.e.\\namazon,I was very impressed with the price of the cases.\\namazon,O my gosh the best phone I have ever had.\\namazon,fast service.\\namazon,Absolutely great.\\namazon,This is a beautiful phone.\\namazon,\"Pros:-Good camera - very nice pictures , also has cool styles like black and white, and more.\"\\namazon,Works great!.\\namazon,\"Not only did the software do a great job of this, I could also make my own ringtones form my existing CDs without an internet connection.\"\\namazon,\"I can hear while I\\'m driving in the car, and usually don\\'t even have to put it on it\\'s loudest setting.\"\\namazon,A lot of websites have been rating this a very good phone and so do I.\\namazon,cool phone.\\namazon,I usually don\\'t like headbands but this one is very lightweight & doesn\\'t mess up my hair.\\namazon,I\\'ve owned this phone for 7 months now and can say that it\\'s the best mobile phone I\\'ve had.\\namazon,Its the best headset I have used.\\namazon,Excellent hands free tool.\\namazon,\"Otherwise, easy to install and use, clear sound.\"\\namazon,\"* Comes with a strong light that you can use to light up your camera shots, and even flash SOS signals (seriously!\"\\namazon,I\\'m still infatuated with this phone.\\namazon,\"I am pairing this with my iphone, and I could not be happier with it so far.\"\\namazon,Would recommend this item.\\namazon,Keep up the good work Amazon!!\\namazon,\"Well packaged, arrived on time, and works as intended.\"\\namazon,\"but it is great, i would really recommend it\"\\namazon,\"very clear, quality sound and you don\\'t have to mess with the sound on your iPod since you have the sound buttons on the headset.\"\\namazon,\"Sound quality on both end is excellent, I use headset to call my wife and ask my wife to use headset to call me !2.\"\\namazon,Gets the job done.\\namazon,Happy so far!.\\namazon,This is a great phone!.\\namazon,Protects the phone on all sides.\\namazon,Very wind-resistant.\\namazon,Has been working great.\\namazon,I love this bluetooth!\\namazon,Also makes it easier to hold on to.\\namazon,I would recommend it.\\namazon,It\\'s a great item.\\namazon,Mobile Phone Tools are a must have.\\namazon,Great price also!\\namazon,\"The \"\"1.2\"\" mega pixel camera, being a part of a phone, is reasonably good7.\"\\namazon,\"That being said, for a phone, the camera is very nice; many cool effects to play with, and video is decent as well.\"\\namazon,I have been very happy with the 510 and have had NO complaints from any one regarding my sound quality on their end.\\namazon,Best headset ever!!!.\\namazon,Crisp and Clear.\\namazon,They have been around for years and carries the highest quality of anti-glare screen protector that I have found to date.\\namazon,The battery works great!\\namazon,They keep getting better and better (this is my third one and I\\'ve had numerous Palms too).\\namazon,\"The tracfonewebsite is user friendly and makes it easy toactivate, etc.\"\\namazon,Worked perfectly!\\namazon,Linked to my phone without effort.\\namazon,A usable keyboard actually turns a PDA into a real-world useful machine instead of just a neat gadget.\\namazon,Excellent dual-purpose headset.\\namazon,\"I like the fact that it rests lightly against your ear, rather than inside.\"\\namazon,Very pleased with this headset.\\namazon,Very happy with this product.\\namazon,These are certainly very comfortable and functionality is decent.\\namazon,\"Good product, good seller.\"\\namazon,These are fabulous!\\namazon,So far it has worked like a charm.\\namazon,Nice headset priced right.\\nimdb,\"I wish I could enter negative values, admins?  \"\\nimdb,\"The casting is also horrible, cause all you see is a really really BAD Actors, period.  \"\\nimdb,\"The only real effects work is the presence of all the animals, and the integration of those into the scenes is some of the worst and most obvious blue/green-screen work I\\'ve ever seen.  \"\\nimdb,Now we were chosen to be tortured with this disgusting piece of blatant American propaganda.  \\nimdb,Graphics is far from the best part of the game.  \\nimdb,It\\'s one of the most boring Horror movies from the 90\\'s mainly because it starts slow and centers in a boring atmosphere.  \\nimdb,\"Again, lame.  \"\\nimdb,Glad I didn\\'t pay to see it.  \\nimdb,But the premise of the film was so ridiculous: that the President of the U.S.  \\nimdb,\"At around 4 pm I bought it, at around 8pm I started to watch, at around 8.15pm I fast forwarded the remaining film to see if there was anything left watchable for a human being with a brain... but there wasn\\'t.  \"\\nimdb,Exceptionally bad!  \\nimdb,\"But the convoluted plot just didn\\'t convince me, and much of the film was watched with a weird, questioning glance.  \"\\nimdb,\"But she is still a bad actress, repeating her robotic face moves in each of her pictures.  \"\\nimdb,At no point in the proceedings does it look remotely like America.  \\nimdb,\"But whatever it was that cost them so much, it didn\\'t translate to quality, that\\'s for sure.  \"\\nimdb,When I saw it in the theater I thought I was going to be sick.  \\nimdb,\"It\\'s a mediocre, miserable, hollow, laughable and predictable piece of garbage.  \"\\nimdb,\"The very idea of it was lame - take a minor character from a mediocre PG-13 film, and make a complete non-sequel while changing its tone to a PG-rated family movie.  \"\\nimdb,\"I cannot believe that the actors agreed to do this \"\"film\"\".  \"\\nimdb,NOBODY identifies with these characters because they\\'re all cardboard cutouts and stereotypes (or predictably reverse-stereotypes).  \\nimdb,To call this movie a drama is ridiculous!  \\nimdb,My only problem is I thought the actor playing the villain was a low rent Michael Ironside.  \\nimdb,\"Regrettably, the film fails.  \"\\nimdb,\"This movie is a pure disaster, the story is stupid and the editing is the worst I have seen, it confuses you incredibly.  \"\\nimdb,\"To sum the film up, \"\"Breeders\"\" is a terrible, cheaply made horror movie that should be avoided like the Ebola virus.  \"\\nimdb,\"Wow, what a bad film.  \"\\nimdb,\"Bela Lugosi was totally extraneous, intoning odd lines.  \"\\nimdb,& That movie was bad.  \\nimdb,\"IMDB ratings only go as low 1 for awful, it\\'s time to get some negative numbers in there for cases such as these.  \"\\nimdb,That was done in the second movie.  \\nimdb,Not a pleasant voyage of self-discovery.  \\nimdb,Everything Captain Howdy says is either laughable or just plain stupid.  \\nimdb,In particular the relationship between the bakery assistant and the waitress just didn\\'t work for me at all.  \\nimdb,Wasted two hours.  \\nimdb,\"There are many continuity errors: one other user commented on different cars in the garage, Joe\\'s glasses...the one that got to me the most was the fact Joe\\'s facial hair configuration seemed to change from scene to scene.  \"\\nimdb,\"Every time he opened his mouth you expect to hear, \"\"you see kids...\"\" Pulling the plug was a mercy killing for this horrible show.  \"\\nimdb,The script is horrendously stupid.  \\nimdb,One of the most disappointing aspects is the lack of notable gore.  \\nimdb,I felt as though her going to Ireland did absolutely nothing whatsoever.  \\nimdb,All the pretty pictures in the world cannot make up for a piece of work that is flawed at the core.  \\nimdb,There is no plot here to keep you going in the first place.  \\nimdb,Final Word: This Show is a real torture!!  \\nimdb,Lucy Bell is so much higher than this crap and for her to sink this low is quite depressing.  \\nimdb,\"The plot, such as it is, is so derivative and predictable that the ending is like a mercy killing.  \"\\nimdb,\"A truly, truly bad film.  \"\\nimdb,The directing seems too pretentious.  \\nimdb,\"But this movie is not funny, considering the ridiculousness of it.  \"\\nimdb,Summary: The witticisms weren\\'t witty.  \\nimdb,Avoid at any and all costs.  \\nimdb,\"The movie lacks visual interest, drama, expression of feeling, and celebration of the very patriotism that underlines the narrative.  \"\\nimdb,\"Top line: Don\\'t waste your time and money on this one, its as bad as it comes.  \"\\nimdb,I highly doubt that anyone could ever like this trash.  \\nimdb,The football scenes at the end were perplexing.  \\nimdb,\"It is an hour and half waste of time, following a bunch of very pretty high schoolers whine and cry about life.  \"\\nimdb,DELETE this film from your mind!  \\nimdb,Avoid this film at all costs.  \\nimdb,The only thing worse than Taylor\\'s acting was Stanwyck\\'s singing.  \\nimdb,Now this is a movie I really dislike.  \\nimdb,There are the usual Hitchcock logic flaws.  \\nimdb,\") very bad performance plays Angela Bennett, a computer expert who is at home all the time.  \"\\nimdb,\"Yes, I am simplifying things here for the sake of brevity, for this really is at the core of the problems with this film - it has too much going on without any real, fulfilling explanation.  \"\\nimdb,Even the squibs look awful.  \\nimdb,The script is\\xc2\\x85was there a script?  \\nimdb,The character developments also lacked in depth.  \\nimdb,\"Utterly without merit on any level, this is akin to torture.  \"\\nimdb,This movie is BAD.  \\nimdb,Ironically I mostly find his films a total waste of time to watch.  \\nimdb,How awful she is!  \\nimdb,\"It didn\\'t make me scared, horrified, or make me sympathetic towards the characters; it was simply annoying.  \"\\nimdb,The story is beyond stupid.  \\nimdb,The characters were very \\'stagey\\' and the storyline was a lot like a stage farce.  \\nimdb,It is just the sort of pap that is screened in the afternoon to punish the unemployed for not having jobs.  \\nimdb,I was very disappointed in the movie.  \\nimdb,The visual effects were AWFUL.  \\nimdb,All in all its an insult to one\\'s intelligence and a huge waste of money.  \\nimdb,End of Days is one of the worst big-budget action movies I\\'ve ever seen.  \\nimdb,This is probably one of the least effective and utterly unoriginal films I have ever seen in my entire life.  \\nimdb,1/10 - and only because there is no setting for 0/10.  \\nimdb,The Foreigner is not worth one second of your time.  \\nimdb,I\\'m translating movies for a living and this is the first movie in my 5-year working experience that I found offensive to my intelligence.  \\nimdb,\"Not frightening in the least, and barely comprehensible.  \"\\nimdb,It\\'s so bad it\\'s actually worth seeing just for that reason.  \\nimdb,\"The bipolarity of the ruthless thug (one minute a ruthless killer, the next minute a Luv\\'s diaper commercial) is completely unconvincing.  \"\\nimdb,there is no real plot.  \\nimdb,The story itself is just predictable and lazy.  \\nimdb,\"The sets are so bad, they wouldn\\'t look out of place on a Thunderbirds episode.  \"\\nimdb,There was absolutely no warmth or charm to these scenes or characters.  \\nimdb,\"I don\\'t understand how this garbage got on the shelves of the movie store, it\\'s not even a real movie!  \"\\nimdb,The dialogue is composed of things that make little sense.  \\nimdb,\"A very, very, very slow-moving, aimless movie about a distressed, drifting young man.  \"\\nimdb,It is not good.  \\nimdb,The stories were as unbelievable as the actors.  \\nimdb,You\\'d have to have the IQ of particularly stupid mollusk not to see that one coming.  \\nimdb,If it was to turn my good day feeling into a night of disturbing memories than I guess he succeeded.  \\nimdb,\"I could not understand, what kind of idiot would produce this mess in the first place not to mention several season.  \"\\nimdb,The concert sequences just sucked.  \\nimdb,Also the story and acting were weak.  \\nimdb,Everything about this movie is stupid.  \\nimdb,I literally vomited while watching this film.  \\nimdb,\"Full of unconvincing cardboard characters it is blandly written by Edward Chodorov, who also produced, and is surprisingly directed by Jean Negulesco from whom one would expect a great deal more.  \"\\nimdb,\"If this premise sound stupid, that\\'s because it is.  \"\\nimdb,\"The fat computer geek was unbelievable, the bible thumper, the bad-ass girl, who are these actors???  \"\\nimdb,The awful dialogue and hopeless overacting by everyone who gets shot top off a real waste of space and time.  \\nimdb,But what really made it unwatchable was the direction.  \\nimdb,The film looks cheap and bland.  \\nimdb,I mean this in a terrible way.  \\nimdb,\"Oh yeah, and the storyline was pathetic too.  \"\\nimdb,I was bored throughout the whole damn thing.  \\nimdb,\"This movie is a solid example of a bad plot and a very, very bad idea all the way.  \"\\nimdb,\"In a word, it is embarrassing.  \"\\nimdb,\"In conclusion, I will not bother with this movie because a volcano in Los Angeles is nothing but nonsense.  \"\\nimdb,The plot is nonsense that doesn\\'t interest in the slightest way or have any uniqueness to it.  \\nimdb,I certainly do not mean this distinction in a good way.  \\nimdb,And generally the lines and plot is weaker than the average episode.  \\nimdb,\"I particularly remember my senses being assaulted by strident cords of music that would blare out with very little warning, and even less meaning.  \"\\nimdb,\"Victor McLaglen was even bad, and Brian DonLevy was almost unrecognizable.  \"\\nimdb,\"These are the central themes of the film and they are handled ineptly, stereotypically and with no depth of imagination.  \"\\nimdb,It was a good thing that the tickets only cost five dollars because I would be mad if I\\'d have paid $7.50 to see this crap.  \\nimdb,Avoid at ALL costs!  \\nimdb,What on earth is Irons doing in this film?  \\nimdb,Whatever prompted such a documentary is beyond me!  \\nimdb,I couldn\\'t take them seriously.  \\nimdb,\"About 30 minutes of footage is wasted to show mediocre elderly actors awkwardly babbling overwrought pseudo-Satanic gibberish corny enough to make a teen Goth blush, almost always in Olde English, and sometimes in Latin that may or may not be made up words.  \"\\nimdb,Horrible!  \\nimdb,The directing is sloppy at best.  \\nimdb,\"There was NO chemistry between Ben Affleck and Sandra Bullock in this film, and I couldn\\'t understand why he would consider even leaving his wife-to-be for this chick that he supposedly was knocked out by.  \"\\nimdb,\"If you see it, you should probably just leave it on the shelf.  \"\\nimdb,\"And, FINALLY, after all that, we get to an ending that would\\'ve been great had it been handled by competent people and not Jerry Falwell.  \"\\nimdb,Too politically correct.  \\nimdb,\"I wasn\\'t expecting Oscar material, but this?  \"\\nimdb,Rating: 0/10 (Grade: Z) Note: The Show Is So Bad That Even Mother Of The Cast Pull Her Daughter Out Of The Show.  \\nimdb,The jerky camera movements were also annoying.  \\nimdb,A bit predictable.  \\nimdb,(very serious spoilers) this movie was a huge disappointment.  \\nimdb,\"Crash is a depressing little nothing, that provokes emotion, but teaches you nothing if you already know racism and prejudice are bad things.  \"\\nimdb,I wasn\\'t the least bit interested.  \\nimdb,The fish is badly made and some of its underwater shots are repeated a thousand times in the film.  \\nimdb,I just got bored watching Jessice Lange take her clothes off!  \\nimdb,From here on the Widmark character turns unintentionally comical!  \\nimdb,\"This is one I did not have, but I watched it recently on Fox Movie Channel, and was very disappointed.  \"\\nimdb,The film lacks any real scares or tension & some of the medical terminology used throughout is a bit iffy to say the least & I say that as an insulin dependant diabetic myself.  \\nimdb,Highly unrecommended.  \\nimdb,\"Let\\'s start with all the problems\\xc2\\x97the acting, especially from the lead professor, was very, very bad.  \"\\nimdb,\"It\\'s an empty, hollow shell of a movie.  \"\\nimdb,Filmiing was less expansive.  \\nimdb,I\\'m so sorry but I really can\\'t recommend it to anyone.  \\nimdb,Watching washing machine twirling around wouldn\\'t hurt your eyes as much as this show.  \\nimdb,The story starts too fast with absolutely no suspense or build-up in the slightest.  \\nimdb,\"I\\'m glad this pretentious piece of s*** didn\\'t do as planned by the Dodge stratus Big Shots... It\\'s gonna help movie makers who aren\\'t in the very restrained \"\"movie business\"\" of Qu\\xc3\\xa9bec.  \"\\nimdb,There was NOTHING believable about it at all.  \\nimdb,I never walked out of a movie faster.  \\nimdb,He surely doesn\\'t know how to make a coherent action movie from the screenwriter of Air Force One who was only obliged to write the script just for a big sum of money.  \\nimdb,\"By the time the film ended, I not only disliked it, I despised it.  \"\\nimdb,\"I know that Jim O\\'Connor was very energetic and that nobody could be as much as him, but George was well dull.  \"\\nimdb,You can find better movies at youtube.  \\nimdb,THERE IS NO PLOT OR STORYLINE!!  \\nimdb,\"How this piece of trash was ever released is beyond me: the acting, the story, the characters, the supposedly special effects, etc...it\\'s ALL wrong.  \"\\nimdb,This is definitely one of the bad ones.  \\nimdb,\"Yeah, the movie pretty much sucked.  \"\\nimdb,\"The plot doesn\\'t hang together at all, and the acting is absolutely appalling.  \"\\nimdb,\"Lewis Black\\'s considerable talent is wasted here too, as he is at his most incendiary when he is unrestrained, which the PG-13 rating certainly won\\'t allow.  \"\\nimdb,Never heard of any of them except Cole who was totally unbelievable in the part.  \\nimdb,\"His co-stars don\\'t fare much better, with people like Morgan Freeman, Jonah Hill, and Ed Helms just wasted.  \"\\nimdb,This one just fails to create any real suspense.  \\nimdb,\"Unfortunately, inexperience of direction meant that scene after scene passed with little in the way of dramatic tension or conflict.  \"\\nimdb,This totally UNfunny movie is so over the top and pathetic and unrealistic that throughout the whole 90 minutes of utter torture I probably looked at my watch about 70000 times!  \\nimdb,An hour and a half I wish I could bring back.  \\nimdb,\"Considering the relations off screen between Taylor and Stanwyck, it was surprising how little chemistry there was on screen between the two of them.  \"\\nimdb,\"The acting is like watching wooden puppets moving around and reading from a book, that\\'s how bad it is.  \"\\nimdb,One character is totally annoying with a voice that gives me the feeling of fingernails on a chalkboard.  \\nimdb,There\\'s also enough hypocrisy in this film to make me vomit.  \\nimdb,\"The \"\"explosion\"\" of the Gas tanks at the end was just as awful.  \"\\nimdb,\"Another thing I didn\\'t really like is when a character got punched in the face, a gallon of blood would spew forth soon after.  \"\\nimdb,It\\'s a case of \\'so bad it is laughable\\'.  \\nimdb,\"This movie is so mind-bendingly awful, it couldn\\'t have even been created.  \"\\nimdb,\"Aside from it\\'s terrible lead, this film has loads of other debits.  \"\\nimdb,I can\\'t believe there\\'s even a sequel to this!  \\nimdb,So bad...well...it\\'s just bad.  \\nimdb,\"This one wants to surf on the small wave of space movies in 1998 (Deep Impact and Armageddon), and this one fails everywhere.  \"\\nimdb,\"Only like 3 or 4 buildings used, a couple of locations MAYBE, & poor hummh!  \"\\nimdb,The poor actors.  \\nimdb,Then the film just dropped the ball.  \\nimdb,But even the talented Carrell can\\'t save this.  \\nimdb,I am not a filmmaker nor am I a director but I would hide my head in the sand if I\\'d spent whatever amount of money and time on this movie.  \\nimdb,The least said about the acting the better.  \\nimdb,\"At any rate this film stinks, its not funny, and Fulci should have stayed with giallo and supernatural zombie movies.  \"\\nimdb,\"Worse, there\\'s an incredibly weak sub-plot thrown in that follows a little band of latter-day Mansonites as they go after a reporter who\\'s working on a story on the anniversary of the killings.  \"\\nimdb,I hate writing bad reviews about films - especially those in which I really like the star - but this film is so bad I don\\'t believe for one second that anyone could have been proud of it.  \\nimdb,\"Even when the women finally show up, there is no sign of improvement; the most expected things happen and by the time the film is over, you might be far asleep.  \"\\nimdb,\"Hackneyed writing, certainly, but made even worse by the bad directing.  \"\\nimdb,It failed to convey the broad sweep of landscapes that were a great part of the original.  \\nimdb,The only place good for this film is in the garbage.  \\nimdb,That\\'s how I\\'d describe this painfully dreary time-waster of a film.  \\nimdb,The CG opening sequence in space looked like it could have been created on Microsoft Slideshow for God\\'s sake!  \\nimdb,The lead man is charisma-free.  \\nimdb,\"Things happen, characters personalities change, plot twists occur for no real reason other than that script calls for it.  \"\\nimdb,It will drive you barking mad!  \\nimdb,It is shameful.  \\nimdb,It\\'s a shame to see good actors like Thomerson and James make a living in a mess like this.  \\nimdb,I thought it was bad.  \\nimdb,Nothing new there.  \\nimdb,I am a fan of his ... This movie sucked really bad.  \\nimdb,\"In fact, this stinker smells like a direct-to-video release.  \"\\nimdb,But other than that the movie seemed to drag and the heroes didn\\'t really work for their freedom.  \\nimdb,\"first of all, there are enough racial stereotypes and racial jokes to offend everyone.  \"\\nimdb,I had to walk out of the theatre for a few minutes just to get some relief!  \\nimdb,\"He can bore you to pieces, and kill the momentum of a movie, quicker than anyone else.  \"\\nimdb,Almost all of the songs in Cover Girl are old-fashioned and not very tuneful.  \\nimdb,There were too many close ups.  \\nimdb,\"Regardless, the film fails on most levels.  \"\\nimdb,\"On the negative, it\\'s insipid enough to cause regret for another 2 hours of life wasted in front of the screen.  \"\\nimdb,\"You can\\'t relate with them, hell you barely can understand them.  \"\\nimdb,\"Im big fan of RPG games too, but this movie, its a disgrace to any self-respecting RPGer there is.  \"\\nimdb,The acting by the whole cast could be put on a scale and balanced perfectly between overacting and underacting.  \\nimdb,\"This convention never worked well in the past, and certainly doesn\\'t work here.  \"\\nimdb,The plot was the same as pretty much every other cheap horror.  \\nimdb,I was left shattered from the experience of watching this \\'film\\' and I took a good two hours to fully recover.  \\nimdb,\"The puppets look really cheesy , not in a good way like in the Puppet Master 80\\'s flicks.  \"\\nimdb,\"Often the dialogue doesn\\'t really follow from one line to another, or fit the surroundings.  \"\\nimdb,The basic premise is wasted since it is sidelined by the inexplicable focus on the documentary crew.  \\nimdb,\"The acting was bad, the dialogs were extremely shallow and insincere.  \"\\nimdb,\"It had some average acting from the main person, and it was a low budget as you clearly can see.  \"\\nimdb,If only someone involved with it knew how to string together narrative!  \\nimdb,This film (and I use that word loosely) is an insult to the movie-going public.  \\nimdb,I hate movies like that.  \\nimdb,\"He is almost unbearable to watch on screen, he has little to no charisma, and terrible comedic timing.  \"\\nimdb,\"Even allowing for poor production values for the time (1971) and the format (some kind of mini-series), this is baaaaaad.  \"\\nimdb,What the hell kind of crap is that?!  \\nimdb,I guess that nobody at the network that aired this dribble watched it before putting it on.  \\nimdb,Started watching this but didn\\'t believe in any of the characters.  \\nimdb,\"The use of slow-motion needlessly repeats itself throughout the movie but is well backed up by bad acting (and bad is a kind word here), no continuity, scenes that are thrown in for no reason whatsoever, vehicles that looked like they were made from a Corn Flakes box and a directorial style that bordered on stupidity.  \"\\nimdb,It\\'s very slow.  \\nimdb,\"1 hour 54 minutes of sheer tedium, melodrama and horrible acting, a mess of a script, and a sinking feeling of GOOD LORD, WHAT WERE THEY THINKING?  \"\\nimdb,\"All in all, a great disappointment.  \"\\nimdb,The most annoying thing about \\'Cover Girl\\' is the way in which Rita Hayworth is put up on a pedestal.  \\nimdb,\"So mediocre in every aspect that it just becomes a dull, uninteresting mess, this is one of the most forgettable movies I\\'ve seen.  \"\\nimdb,This was one of the worst films i have ever seen.  \\nimdb,Very little music or anything to speak of.  \\nimdb,The show would begin with smart ass ed comments to each other that would be totally off the wall and uncalled for.  \\nimdb,Which is precisely why I am giving it such a bad review!  \\nimdb,\"It was too predictable, even for a chick flick.  \"\\nimdb,\"I know he was a contract player with little control over his scripts, but the acting was as bad as the script.  \"\\nimdb,It\\'s like a bad two hour TV movie.  \\nimdb,But it wasn\\'t anything at all just one big yawn...  \\nimdb,\"Both films are terrible, but to the credit of the 1986 version, it was watchable.  \"\\nimdb,Star Trek V The final Frontier is the worst in the series.  \\nimdb,\"Again, no plot at all.  \"\\nimdb,I saw this movie and I thought this is a stupid movie.  \\nimdb,Not recommended.  \\nimdb,\"Artless camera-work endlessly presents us with the ugliest setting imaginable, i.e.  \"\\nimdb,\"Trouble is, the writing and directing make it impossible to establish those things that make a movie watchable, like character, story, theme and so on.  \"\\nimdb,\"A cheap and cheerless heist movie with poor characterisation, lots of underbite style stoic emoting (think Chow Yun Fat in A Better Tomorrow) and some cheesy clich\\xc3\\xa9s thrown into an abandoned factory ready for a few poorly executed flying judo rolls a la John Woo.  \"\\nimdb,The film has an ultra-cheap look to it.  \\nimdb,It just blew.  \\nimdb,There aren\\'t death scenes like in previous movies and the f/x are terrible.  \\nimdb,i wouldnt see this movie again for free.  \\nimdb,\"Almost everyone involved must be return to school, acting is utterly predictable and bad, script is pile of garbage all round.  \"\\nimdb,None of them are engaging or exciting.  \\nimdb,\"The movie was so boring, that I sometimes found myself occupied peaking in the paper instead of watching (never happened during a Columbo movie before!  \"\\nimdb,\"Of course, the acting is blah.  \"\\nimdb,Lots of holes in the script.  \\nimdb,I\\'ll even say it again \\xc2\\x96 this is torture.  \\nimdb,You can\\'t even tell if they have any talent because they not only have pathetic lines to speak but the director gave them no action.  \\nimdb,The dialogue sucked.  \\nimdb,Very disappointing.  \\nimdb,The guy who said he\\'s had better dialogue with his potted plants has it right.  \\nimdb,Why was this film made?  \\nimdb,\"Not only did it only confirm that the film would be unfunny and generic, but it also managed to give away the ENTIRE movie; and I\\'m not exaggerating - every moment, every plot point, every joke is told in the trailer.  \"\\nimdb,This movie is terrible.  \\nimdb,Not recommended.  \\nimdb,The flat reenactments don\\'t hold your attention because they are emotionally adrift and stagy.  \\nimdb,20th Century Fox\\'s ROAD HOUSE 1948) is not only quite a silly noir but is an implausible unmitigated bore of a movie.  \\nimdb,Which has more depth and character than the man underneath it.  \\nimdb,I really don\\'t see how anyone could enjoy this movie.  \\nimdb,If you check the director\\'s filmography on this site you will see why this film didn\\'t have a chance.  \\nimdb,the movie is littered with overt racial slurs towards the black cast members and in return the whites are depicted as morons and boobs.  \\nimdb,) Don\\'t waste your time.  \\nimdb,The script looks as if only a rough draft was written and shooting began before a finished script was completed.  \\nimdb,What is even more stupid is that who had thought an idea that there should be a volcano in Los Angeles?  \\nimdb,The secondary plot line is incomprehensible and its relation to the primary plot line is mystifying.  \\nimdb,I don\\'t think I\\'ve ever gone to a movie and disliked it as much.  \\nimdb,My rating: just 3 out of 10.  \\nimdb,Dee Snider just plain sucks.  \\nimdb,The attempts at humor were pitiful and story is so awful it dosen\\'t bear thinking about which basically involves a Vulcan stealing the Enterprise to find god (seriously) I just didn\\'t care about any of this film and oh not to mention Uhura does a belly dance to distract male guards.  \\nimdb,\"There was a few pathetic attempts to give the characters some depth, but it didn\\'t really work into the rest of the plot.  \"\\nimdb,Hated it.  \\nimdb,The death row scenes were entirely unmoving.  \\nimdb,But this movie is definitely a below average rent.  \\nimdb,\"So I am here to warn you--DO NOT RENT THIS MOVIE, it is the dumbest thing you have never seen!  \"\\nimdb,\"Even Billy Bob couldn\\'t rise above the script, which was worse.  \"\\nimdb,Rating: 1 out of 10.  \\nimdb,It is indescribably the most annoying and idiotic show I have ever seen.  \\nimdb,\"He really didn\\'t seem to want to be hosting; his voice-overs were monotonous, didn\\'t get involved with the guests.  \"\\nimdb,By the time the pyromaniac waylaid the assistant I was bored and didn\\'t care what happened next and so I switched off.  \\nimdb,This may be the only bad film he ever made.  \\nimdb,\"With the originality and freshness of the first movie now spent, this remake had little else to offer.  \"\\nimdb,\"It was forced, like everything in this movie.  \"\\nimdb,I don\\'t think there are any redeeming qualities in this remake.  \\nimdb,In short - this was a monumental waste of time and energy and I would not recommend anyone to EVER see this film.  \\nimdb,Worst hour and a half of my life!Oh my gosh!  \\nimdb,\"The plot - well, I said I\\'d let that one go.  \"\\nimdb,Everything about it is just bad.  \\nimdb,Nothing at all to recommend.  \\nimdb,Didn\\'t laugh or even smile once.  \\nimdb,Really bad.  \\nimdb,Not easy to watch.  \\nimdb,This is probably the most irritating show I have ever seen in my entire life.  \\nimdb,\"A Lassie movie which should have been \"\"put to sleep\"\".... FOREVER.  \"\\nimdb,So bad.  \\nimdb,Lot of holes in the plot: there\\'s nothing about how he became the emperor; nothing about where he spend 20 years between his childhood and mature age.  \\nimdb,\"Otherwise, don\\'t even waste your time on this.  \"\\nimdb,\"But the acting--even that of such professionals as Drago and Debbie Rochon--was terrible, the directing worse (perhaps contributory to the former), the dialog chimp-like, and the camera work, barely tolerable.  \"\\nimdb,\"Unfortunately, this is a bad movie that is just plain bad.  \"\\nimdb,\"If you do go see this movie, bring a pillow or a girlfriend/boyfriend to keep you occupied through out.  \"\\nimdb,His losing his marbles so early in the proceedings is totally implausible and unconvincing.  \\nimdb,This was a flick doomed from its conception.  \\nimdb,I paid too much.  \\nimdb,This is one of the worst Sandra Bullock movie since Speed 2 But not quite that bad.  \\nimdb,\"If you act in such a film, you should be glad that you\\'re gonna drift away from earth as far as possible!  \"\\nimdb,It was a very superficial movie and it gave me the feeling that I was watching play rather than a film.  \\nimdb,Is it possible for a movie to get any worse than this?  \\nimdb,\"I\\'m terribly disappointed that this film would receive so many awards and accolades, especially when there are far more deserving works of film out there.  \"\\nimdb,\"The acting is terrible, and the writing is worse.  \"\\nimdb,\"I am so tired of clich\\xc3\\xa9s that is just lazy writing, and here they come in thick and fast.  \"\\nimdb,\"This is a chilly, unremarkable movie about an author living/working in a chilly abstruse culture.  \"\\nimdb,Lame would be the best way to describe it.  \\nimdb,\"It crackles with an unpredictable, youthful energy - but honestly, i found it hard to follow and concentrate on it meanders so badly.  \"\\nimdb,I don\\'t think I\\'ve ever seen a movie half as boring as this self-indulgent piece of junk.  \\nimdb,Today the graphics are crap.  \\nimdb,\"The worst, sappiest dialogue... I could go on and on.  \"\\nimdb,The movie has almost no action scenes in it and very little comedy.  \\nimdb,About half way through this film I started to dislike it.  \\nimdb,\"Director Paul Matthews, who also wrote/directed the weak 1995 monster movie \"\"Grim\"\", clearly doesn\\'t know how to pace his films.  \"\\nimdb,\"Seriously, it\\'s not worth wasting your, or your kid\\'s time on.  \"\\nimdb,And the accents are absolutely abysmal!  \\nimdb,Now imagine that every single one of those decisions was made wrong.  \\nimdb,\"Schrader has made a resume full of lousy, amateurish films.  \"\\nimdb,\"The performances are not improved by improvisation, because the actors now have twice as much to worry about: not only whether they\\'re delivering the line well, but whether the line itself is any good.  \"\\nimdb,\"It is a film about nothing, just a pretext to show ridiculous action scenes.  \"\\nimdb,\"Long, whiny and pointless.  \"\\nimdb,I\\'m not sure what he was trying to do with this film.  \\nimdb,Omit watching this.  \\nimdb,This is not movie-making.  \\nimdb,The dialogue is atrocious.  \\nimdb,\"It probably would have been better if the director hadn\\'t spent most of the movie showcasing his own art work, which really isn\\'t that noteworthy.  \"\\nimdb,\"To those who find this movie intelligent or even masterful, I can only say - it\\'s your intelligence and your imagination you obviously used to try and make some sense of this pitiful attempt (it\\'s in our human nature to try and make sense of things) .  \"\\nimdb,\"putting the race card aside, lets look at the major flaw in the film: they destroy latifa\\'s character.  \"\\nimdb,The only possible way this movie could be redeemed would be as MST3K fodder.  \\nimdb,The budget was evidently very limited.  \\nimdb,\"As for the killer, don\\'t expect anything original or even remotely frightening.  \"\\nimdb,\"Whatever the producer was going for, he missed entirely.  \"\\nimdb,\"Then scene where they debated whether or not to sack the trumpeter (who falsely was accused for the murder) is pure horror, really stupid.  \"\\nimdb,\"Overall, this movie was cheap trash.  \"\\nimdb,I\\'ve seen soap operas more intelligent than this movie.  \\nimdb,But it\\'s just not funny.  \\nimdb,\"I mean, in a realistic world, she would NEVER have gotten into that ballet repertory... The whole thing was quite pathetic.  \"\\nimdb,The Malta settings are as dry and as barren as the dialogue.  \\nimdb,\"I felt asleep the first time I watched it, so I can recommend it for insomniacs.  \"\\nimdb,\"Woa, talk about awful.  \"\\nimdb,All this movie does is make you sick watching all these slackers make excuses for their stupid actions for 90 minutes.  \\nimdb,The story line is totally predictable.  \\nimdb,Your brain will attempt to shut-down as part of a primal impulse of self-preservation.  \\nimdb,It was so BORING!  \\nimdb,Very disappointed and wondered how it could be in the Oscar shortlist.  \\nimdb,There were several moments in the movie that just didn\\'t need to be there and were excruciatingly slow moving.  \\nimdb,The plot has more holes than a pair of fishnet stockings and the direction and editing is astonishingly ham fisted.  \\nimdb,\"\"\" But \"\"Storm Trooper\"\" is not even bad enough to make it to the list of wonderfully terrible movies.  \"\\nimdb,\"The script is bad, very bad \\xc2\\x96 it contains both cheesiness and unethical joke that you normally see in rated R or NC-17 movie.  \"\\nimdb,This would not even be good as a made for TV flick.  \\nimdb,The cinematography-if it can be called that-sucked.  \\nimdb,This scene is very strong and unpleasant.  \\nimdb,\"Speaking of the music, it is unbearably predictably and kitchy.  \"\\nimdb,Hence the whole story lacks a certain energy.  \\nimdb,The script is a big flawed mess.  \\nimdb,\"Unless you\\'re just out to visually \"\"collect\"\" all extant films of Austen\\'s work, you can skip this one.  \"\\nimdb,\"Characters are one-dimensional, even the good guys and especially the bad guys.  \"\\nimdb,It was just too horrible.  \\nimdb,The lighting is awful.  \\nimdb,\"Not sure who was more lost - the flat characters or the audience, nearly half of whom walked out.  \"\\nimdb,\"Even if you love bad movies, do not watch this movie.  \"\\nimdb,\"Her lines seem to have been WRITTEN by a fifteen year old, though they are trying oh so, so hard to sound like how a fifteen year old would really, um, you know, well... talk.  \"\\nimdb,I\\'m still trying to get over how bad it was.  \\nimdb,\"Camerawork - again, bad.  \"\\nimdb,About ten minutes into this film I started having second thoughts.  \\nimdb,\"Bad script, bad direction and horrible acting make this one plain bad!  \"\\nimdb,\"And, quite honestly, often its not very good.  \"\\nimdb,\"It\\'s dumb and pointless, and a complete waste of time.  \"\\nimdb,There is a totally unnecessary train/roller coaster scene.  \\nimdb,\"The rest of the movie lacks art, charm, meaning... If it\\'s about emptiness, it works I guess because it\\'s empty.  \"\\nimdb,\"Attempting artiness with black & white and clever camera angles, the movie disappointed - became even more ridiculous - as the acting was poor and the plot and lines almost non-existent.  \"\\nimdb,It is zillion times away from reality.  \\nimdb,This show is made for Americans - it is too stupid and full with hatred and clich\\xc3\\xa9s to be admitted elsewhere.  \\nimdb,I can\\'t see how this movie can be an inspiration to anyone to come out or overcome fear and rejection.  \\nimdb,\"But when someone strives for greatness and poetry, but delivers a muddled (and often ridiculous) story, a bunch of disparate scenes, pretentious dialogue... Then you get the worst kind of a movie that some other reviewer very accurately defined as \"\"pretentious crap\"\".  \"\\nimdb,The movie seemed a little slow at first.  \\nimdb,It was horrendous.  \\nimdb,The soundtrack sucked.  \\nimdb,\"This was a poor remake of \"\"My Best Friends Wedding\"\".  \"\\nimdb,\"The results, well, are a shame.  \"\\nimdb,Everything stinks.  \\nimdb,It is an insane game.  \\nimdb,Now you know why I gave it a 10+!  \\nimdb,\"In other words, the content level of this film is enough to easily fill a dozen other films.  \"\\nimdb,Punishment Park is a brilliant piece of cinema.  \\nimdb,This is high adventure at its best.  \\nimdb,\"Okay, I like to consider myself a fair critic, so I\\'ll give credit where credit\\'s due--the creature effects were actually pretty cool.  \"\\nimdb,\"If you do watch it, however, there are small consolations: The actresses playing Anne\\'s sisters each do a wonderful job with their roles.  \"\\nimdb,Kris Kristoffersen is good in this movie and really makes a difference.  \\nimdb,The movie was very interesting from beginning to the end.  \\nimdb,Everything from acting to cinematography was solid.  \\nimdb,The film\\'s sole bright spot was Jonah Hill (who will look almost unrecognizable to fans of the recent Superbad due to the amount of weight he lost in the interim).  \\nimdb,GO AND SEE IT!  \\nimdb,I believe every one should see this movie as I think few people outside of South Africa understand its past and what is being attempted in the Truth and Reconciliation process.  \\nimdb,\"It features an outlandish array of memorable, psychotic but lovable nuts.  \"\\nimdb,\"I saw it as a child on TV back in 1973, when it was \"\"The Stranger\"\" and I loved it.  \"\\nimdb,I rate this movie 9/10.  \\nimdb,The best scene in the movie was when Gerardo is trying to find a song that keeps running through his head.  \\nimdb,I guess I liked the details of his dysfunction--he was believable.  \\nimdb,\"Plus, it was well-paced and suited its relatively short run time.  \"\\nimdb,\"Yet, I enjoy watching it.  \"\\nimdb,It\\'s one of the movies I need to see whenever it comes on TV...never mind the fact that I already have it memorized!  \\nimdb,\"Gotta love those close-ups of slimy, drooling teeth!  \"\\nimdb,\"(My mother and brother had to do this)When I saw Robert Ryan portraying this type of man, it was a very good imitation of this type of individual, and I was impressed.  \"\\nimdb,\"An instant classic, with a great soundtrack and a catchy song during the ending credits.  \"\\nimdb,\"Mark my words, this is one of those cult films like Evil Dead 2 or Phantasm that people will still be discovering and falling in love with 20, 30, 40 years down the line.  \"\\nimdb,\"I saw this film over Christmas, and what a great film it was!  \"\\nimdb,\"If you are looking for a movie with a terrific cast, some good music(including a Shirley Jones rendition of \"\"The Way You Look Tonight\"\"), and an uplifting ending, give this one a try.  \"\\nimdb,\"Still, it was the SETS that got a big \"\"10\"\" on my \"\"oy-vey\"\" scale.  \"\\nimdb,\"Funny, clever, hip - just like Pray\\'s previous film, Hype!  \"\\nimdb,This is the kind of money that is wasted properly.  \\nimdb,The camera really likes her in this movie.  \\nimdb,It\\'s hard not to fall head-over-heels in love with that girl.  \\nimdb,\"The suspense builders were good, & just cross the line from G to PG.  \"\\nimdb,\"Predictable, but not a bad watch.  \"\\nimdb,\"The result is a powerhouse achievement, made more timely now perhaps because of our culture\\'s disturbing fascination with celebrity, and it\\'s distorted interpretations of fame.  \"\\nimdb,The movie is not completely perfect but \\'Titta Di Girolamo\\' will stay with you for a long time after the vision of the movie.  \\nimdb,I struggle to find anything bad to say about it.  \\nimdb,\"The writer, Gorman Bechard, undoubtedly did his homework because all references are industry and character-age appropriate.  \"\\nimdb,\"Hopefully, the director James Cox can turn the short into a feature length film with the same cast, or win us over with a whole new film.  \"\\nimdb,The movie had you on the edge of your seat and made you somewhat afraid to go to your car at the end of the night.  \\nimdb,\"This movie was kind of long in length, but I enjoyed every minute of it.  \"\\nimdb,\"Despite the pans of reviewers, I liked this movie.  \"\\nimdb,\"However Paul Schrader has indeed made a film \"\"about\"\" Mishima that is both superb & complex.  \"\\nimdb,But in terms of the writing it\\'s very fresh and bold.  \\nimdb,\"But it is entertaining, nonetheless.  \"\\nimdb,\"steve martin delivers a really funny performance of a middle-aged, upper class, uptight white guy.  \"\\nimdb,The cast of veteran actors are more than just a nostalgia trip.  \\nimdb,How can anyone in their right mind ask for anything more from a movie than this?  \\nimdb,\"Totally different, with loads of understatement and black comedy, this is a film few get to see, but those who do will remember it.  \"\\nimdb,\"If there was ever a movie that needed word-of-mouth to promote, this is it.  \"\\nimdb,You will leave the theater wanting to go out and dance under the stars.  \\nimdb,\"The film is well paced, understated and one of the best courtroom documentaries I\\'ve seen.  \"\\nimdb,\"Lovely little thriller from Hitchcock, with lots of nice shenanigans surrounding a murdered spy, a kidnapped child, a nasty church, a foreign plot and some random taxidermists.  \"\\nimdb,The things that the four kids get themselves into is absolutely hilarious to watch.  \\nimdb,\") some great music, and terrific scenery.  \"\\nimdb,\"The characters are interesting and you want to find out more about them the longer the movie goes on, and I think people will be surprised by who does and doesn\\'t make it.  \"\\nimdb,I totally and absolutely recommend this movie to anyone who likes good wholesome family movies because that is exactly what this is.  \\nimdb,But this movie really got to me.  \\nimdb,\") What makes this story different are the terrific production values - faultless photography, composition and editing - the terrific casting - the underappreciated Brian Keith playing a bully Teddy - and vivid history.  \"\\nimdb,is pretty funny.  \\nimdb,\"There is, however, some pretty good acting (at least, for this type of film).  \"\\nimdb,\"The sets (especially designed to work with the camera) are amazing....stylized, beautiful and effective.  \"\\nimdb,Her role was played well.  \\nimdb,That was nice.  \\nimdb,\"For people who are first timers in film making, I think they did an excellent job!!  \"\\nimdb,\"This film highlights the fundamental flaws of the legal process, that it\\'s not about discovering guilt or innocence, but rather, is about who presents better in court.  \"\\nimdb,\"At a time when it seems that film animation has been dominated by Disney/Pixar\\'s CGI masterpieces, it is both refreshing and comforting to know that Miyazaki is still relying on traditional hand-drawn animation to tell his charming and enchanting stories.  \"\\nimdb,\"I have seen many movies starring Jaclyn Smith, but my god this was one of her best, though it came out 12 years ago.  \"\\nimdb,\"Still, it makes up for all of this with a super ending that depicts a great sea vessel being taken out by the mighty frost.  \"\\nimdb,All in all a beautiful directed film from Nicola\\'s roeg wih a sublime cast.  \\nimdb,I was particularly pleased with the acting ability of Dwight Schultz.  \\nimdb,\"The ending is so, SO perfect... you\\'ll shed a tear.  \"\\nimdb,The scenery that the two daughters paint and photograph are beautiful.  \\nimdb,\"In addition to having one of the most lovely songs ever written, French Cancan also boasts one of the cutest leading ladies ever to grace the screen.  \"\\nimdb,Also notable is John Bailey\\'s fine crisp beautifully colored cinematography and the great production design & costumes by Eiko Ishioka who went on to do the memorable costumes for Coppola\\'s Dracula for which she received a well deserved Oscar.  \\nimdb,Ursula Burton\\'s portrayal of the nun is both touching and funny at the same time with out making fun of nuns or the church.  \\nimdb,\"However, after seeing the short again after about 25 years, I was amazed at how timeless the film actually is.  \"\\nimdb,Great movie!  \\nimdb,It looked like a wonderful story.  \\nimdb,\"Kathy Bates is wonderful in her characters subtle desperation and escapism; a variation on her character in \"\"At Play In The Fields Of The Lord\"\".  \"\\nimdb,You share General Loewenhielm\\'s exquisite joy in his partaking of the Cailles en Sarcophage even though you are just watching a movie - but you do wish for just a small sample to savor.  \\nimdb,Kieslowski never ceases to amaze me.  \\nimdb,The cast is good.  \\nimdb,The stories were powerful explorations of the nature of man and of art.  \\nimdb,\"Stanwyck and Morgan are perfectly cast in what is, in many ways, a modern equivalent of Dickens\\' Christmas Carol in its sensibility.  \"\\nimdb,The last 15 minutes of movie are also not bad as well.  \\nimdb,This movie is possibly one of the most creative works of horror ever.  \\nimdb,\"Excellent cast, story line, performances.  \"\\nimdb,\"Feelings, thoughts...Gabriel\\'s discomfort during the dance...all these intangibles leap to life and come within the viewer\\'s grasp in Huston\\'s portrayal.  \"\\nimdb,It was clear that she had the range and ability to pull off this part.  \\nimdb,She\\'s poised and amazing.  \\nimdb,There still are good actors around!  \\nimdb,And his subtle connections between the three films are awesome.  \\nimdb,I thought Errol Flynn was brilliant as Custer and has since become my favourite actor!  \\nimdb,Julian Fellowes has triumphed again.  \\nimdb,You won\\'t forget this movie!  \\nimdb,Three of the most visually appealing movies i\\'ve ever seen.  \\nimdb,\"I like Armand Assante & my cable company\\'s summary sounded interesting, so I watched it, twice already, and probably will again.  \"\\nimdb,It was so funny.  \\nimdb,\"If good intentions made a film great, then this film might be one of the greatest films ever made.  \"\\nimdb,This if the first movie I\\'ve given a 10 to in years.  \\nimdb,I advise you to look out for it.  \\nimdb,\"I am so pleased to know such a modern day genius is out there , letting is passion for Art drive him and taking us as an audience with him.  \"\\nimdb,\"Special mention should be made of the superb music score and sound effects, which are an integral element in helping to make this such a memorable and enjoyable cartoon.  \"\\nimdb,\"The film deserves strong kudos for taking this stand, for having exceptional acting from its mostly lesser-known cast and for the super-intelligent script that doesn\\'t insult the audience or take the easy way out when it comes to white racism.  \"\\nimdb,\"I especially liked the non-cliche choices with the parents; in other movies, I could predict the dialog verbatim, but the writing in this movie made better selections.  \"\\nimdb,\"Each track commands sentiment, actually contributing to the scenes and characters.  \"\\nimdb,\"I really loved the story line and the poler bear was kinda cute.But if anyone has a question about Fort Steele, just ask away:)  \"\\nimdb,Definitely worth seeing\\xc2\\x85 it\\'s the sort of thought provoking film that forces you to question your own threshold of loneliness.  \\nimdb,\"The film\\'s dialogue is natural, real to life.  \"\\nimdb,;) Recommend with confidence!  \\nimdb,I love the Scream movies and all horror movies and this one ranks way up there.  \\nimdb,PS the only scene in the movie that was cool is when the central character finds her room blown up.  \\nimdb,Thanks good a movie like this was done and released.  \\nimdb,\"As a European, the movie is a nice throwback to my time as a student in the 1980\\'s and the experiences I had living abroad and interacting with other nationalities, although the circumstances were slightly different.  \"\\nimdb,\"It\\'s just adorable seeing Mickey playing \"\"Turkey in the Straw\"\" in a highly imaginative (if occasionally cruel) way.  \"\\nimdb,\"It felt like a very gripping, intelligent stage play (but without the overly theatrical feeling one actually gets from watching people on a stage) which plays on everyone\\'s terror of a white lie escalating to monstrous consequences.  \"\\nimdb,Great character actors Telly Savalas and Peter Boyle.  \\nimdb,\"But if you liked movies like The Matrix (and better yet, their sequels) I think you\\'ll appreciate the thought provoking, mindblowing experience this film will give you.  \"\\nimdb,A great film by a great director.  \\nimdb,Don\\'t miss it.  \\nimdb,\"I do not know if this was Emilio Estevez\\'s directorial debut, but the pacing, the interplay and development of the characters as well as some clever camera work surrounding the character Estevez plays all suggest a natural eye.  \"\\nimdb,Brilliant!  \\nimdb,\"While you don\\'t yet hear Mickey speak, there are tons of sound effects and music throughout the film--something we take for granted now but which was a huge crowd pleaser in 1928.  \"\\nimdb,The cinematography is simply stunning (to say the least) and the fx are nothing if not state-of-the-art.  \\nimdb,\"Jimmy Stewart is as ever a great hero for Hitchcock, the story rips along to its cool climax at an embassy function, but it lacks the brooding menace of Hitchcock\\'s black and white, low-budget original.  \"\\nimdb,This movie does an excellent job of revealing the complexity of the task and the incredible challenges facing South Africa.  \\nimdb,It was a riot to see Hugo Weaving play a sex-obsessed gay real estate salesman who uses his clients\\' houses for his trysts with the flaming Darren (Tom Hollander).  \\nimdb,Conclusion - I loved it.  \\nimdb,This mostly routine fact-based TV drama gets a boost from the fine performance by Cole.  \\nimdb,Cinematography noteworthy including fine views of Barcelona and its famed Gaudi towers.  \\nimdb,\"The movie in movie situations in the beginning and through the game that is played with her by the \"\"acting coach\"\" are fascinating.  \"\\nimdb,John Wayne did an incredible job for being so young in the movie industry.  \\nimdb,It\\'s PURE BRILLIANCE.  \\nimdb,The movie I received was a great quality film for it\\'s age.  \\nimdb,\"It showed exactly how the government and the scientist argued for humanity and the reasons of the \"\"gadget\"\".  \"\\nimdb,I will never forget it now.  \\nimdb,A very charming film with wonderful sentiment and heart.  \\nimdb,Also great directing and photography.  \\nimdb,The movie is full of wonderful dancing (hence the title!  \\nimdb,\"It has a very good plot, it holds your complete attention, the acting is superb, Tom Wilkinson was fantastic and Emily Watson was also very good.  \"\\nimdb,Definitely worth checking out.  \\nimdb,\"This movie creates its own universe, and is fascinating in every way.  \"\\nimdb,For readers who have already seen one of Miyazaki\\'s films: he is still in top form and made another worthwhile experience.  \\nimdb,\"Plus, with the movie\\'s rather modest budget and fast running time, it does an amazing job!  \"\\nimdb,I have recommended it to friends.  \\nimdb,Up there with the best of Melville.  \\nimdb,Waste your money on this game.  \\nimdb,\"Helen Baxendale is a very credible lady Macbeth who can be very cheerfull at times and sometimes she just looks like a naughty girl, but deadly in her taste for blood and evil.  \"\\nimdb,\"It\\'s a gloriously fun, fast paced and fairly accurate portrayal of the night of a raver.  \"\\nimdb,This is an extraordinary film.  \\nimdb,Babie Bop is very cute.  \\nimdb,An AMAZING finale to possibly the BEST trilogy of all time!  \\nimdb,They could be used as exemplars for any set designer.  \\nimdb,Go rent it.  \\nimdb,I enjoyed reading this book to my children when they were little.  \\nimdb,\"I have to mention this and it is a huge SPOILER, i loved the ending, how all the characters of the three films were the remaining survivors of the ferry disaster, with Valentine and the young judge together, and the old man watching it on her TV, solidifying his happiness over the suffering which he dealt with for those many years.  \"\\nimdb,Every single character was hilarious and deserved to be called a lead.  \\nimdb,\"Elias Koteas,Jack Palance play good roles Angelina is hot and gets naked.Billy Drago appears in this and is cool as usual + a cameo by Sven ole Thorsen helps make this a very enjoyable movie with good acting and a decent budget.  \"\\nimdb,10 out of 10 stars.  \\nimdb,Nevertheless yet another wonderful film from the great master\\'s stable.  \\nimdb,This is one of the best movies out there that shows such strong sibling bond for each other.  \\nimdb,But this understated film leaves a lasting impression.  \\nimdb,\"Much more interesting, more action, more suspense, and less of the unneeded controversy.  \"\\nimdb,This movie has a cutting edge to it.  \\nimdb,\"I found this move beautiful, enjoyable, and uplifting.  \"\\nimdb,\"***SPOILERS*** Whatever else can (or can\\'t) be said about it, SURFACE is superbly crafted.  \"\\nimdb,\"I was totally fascinated by the music, the dancing... everything.  \"\\nimdb,This is one of Peter Watkins most accessible films.  \\nimdb,This was such an awesome movie that i bought it off of Ebay.  \\nimdb,Also the music by Mark Snow is possibly the best score I\\'ve ever heard.  \\nimdb,Cinematography: The film was shot in an interesting way.  \\nimdb,\"There are massive levels, massive unlockable characters... it\\'s just a massive game.  \"\\nimdb,But I thought his acting was skilled.  \\nimdb,This is an excellent film.  \\nimdb,\"When I first watched this movie, in the 80s, I loved it.  \"\\nimdb,This movie is also revealing.  \\nimdb,Damian is so talented and versatile in so many ways of writing and portraying different Characters on screen.  \\nimdb,This is truly an art movie--it actually has a lot of art in it.  \\nimdb,\"This movie contained an all-star cast, and what I loved the most was that it opened my eyes to see other actors who I haven\\'t seen before.  \"\\nimdb,This is the number one best TH game in the series.  \\nimdb,I didn\\'t realize how wonderful the short really is until the last two scenes.  \\nimdb,This movie is great--especially if you enjoy visual arts.  \\nimdb,Enough can not be said of the remarkable animation in this film.  \\nimdb,I gave it a 10  \\nimdb,I am so thrilled after seeing a movie like this.  \\nimdb,\"It is wonderful and inspiring to watch, and I hope that it gets released again on to video or DVD.  \"\\nimdb,The kids are very cool too.  \\nimdb,I saw this short film on HBO the other day and absolutely loved it.  \\nimdb,I enjoyed it.  \\nimdb,\"It was that year, however, that reminded us that Huston was still at the top of his game as evinced by his faithful adaptation of James Joyce\\'s acclaimed novella \"\"The Dead.  \"\\nimdb,It was also the right balance of war and love.  \\nimdb,Both do good jobs and are quite amusing.  \\nimdb,This early film from future goremeister Lucio Fulci is a very good addition to the giallo sub-genre.  \\nimdb,\"Emily Watson\\'s character is very strong, and she has only to give a quick glance and you understand everything.  \"\\nimdb,I thoroughly enjoyed it when Christopher Eccleston took control of the TARDIS and the continuation of the series.  \\nimdb,\"And I forgot: The Casting here i superb, with Trond Fausa Aurv\\xc3\\xa5g being perfect in the role as the Bothersome Man, who doesn\\'t understand where he is, what he is doing and why.  \"\\nimdb,The characters are interesting and you really care for them.  \\nimdb,See both films if you can.  \\nimdb,Duris has a wholesome appearance and gives a fine performance.  \\nimdb,\"Angus Scrimm also turns in a good performance in a somewhat brief but memorable role as the gently menacing, violin-playing anatomist Doctor Quinn.  \"\\nimdb,\"I left the theater with a lilt in my step, joy in my heart and hope for the human race.  \"\\nimdb,\"They are so easy to love, but even more easy to identify with.  \"\\nimdb,\"An interesting premise, and Billy Drago is always good as a dangerous nut-bag (side note: I\\'d love to see Drago, Stephen McHattie and Lance Hendrikson in a flick together; talk about raging cheekbones!).  \"\\nimdb,The memories are murky but I can only say that I enjoyed every single episode and product related to the show.  \\nimdb,I liked this movie way too much.  \\nimdb,The telephone repair man was really funny and his reactions to the nuts and bitchy boss were truly genuine.  \\nimdb,\"It was very popular when I was in the cinema, a good house and very good reactions and plenty of laughs.  \"\\nimdb,\"The film has great actors, a master director, a significant theme--at least a would-be significant theme, undertone of fifties existential world-weariness, aerial scenes that ought to have thrilled both senses and imagination, and characters about which one might deeply care.  \"\\nimdb,Having to humour him just to get by and get through the day was so apt.  \\nimdb,All the characters in this film are tremendously well played.  \\nimdb,\"Buy it, play it, enjoy it, love it.  \"\\nimdb,Excellent short film.  \\nimdb,\"But, Kevin Spacey is an excellent, verbal tsunami as Buddy Ackerman \\xc2\\x96 and totally believable because he is a great actor.  \"\\nimdb,\"\"\" The structure of this film is easily the most tightly constructed in the history of cinema.  \"\\nimdb,His on screen presence shined thought even though there were other senior actors on the screen with him.  \\nimdb,Loved the casting of Jimmy Buffet as the science teacher.  \\nimdb,The transfers are very good.  \\nimdb,\"And there wasn\\'t a single sour note struck acting-wise, either; some surprisingly solid casting, here.  \"\\nimdb,This movie is so awesome!  \\nimdb,I\\'ll give this film 10 out of 10!  \\nimdb,I believe the screenwriter did a good job of tying up the loose ends.  \\nimdb,It is a very well acted and done TV Movie.  \\nimdb,\"It ranks highly as a great noir-crime-drama, incredible performances by Belmondo and Lino Ventura.  \"\\nimdb,It actually turned out to be pretty decent as far as B-list horror/suspense films go.  \\nimdb,\"The characters are fleshed out surprisingly well, particularly Grimes and Blake, and all the actors deliver their sharply scripted lines with just the right amount of deadpan tongue in cheek to make the dialogue both hilarious and realistic.  \"\\nimdb,\"\"\" In fact, it\\'s hard to remember that the part of Ray Charles is being acted, and not played by the man himself.  \"\\nimdb,\"Being a 90\\'s child, I truly enjoyed this show and I can proudly say that I enjoyed it big time and even more than the classical WB cartoons.  \"\\nimdb,\"In fact, I liked it better than Interview With a Vampire and I liked this Lestat (Stuart Townsend) better than Cruise\\'s attempt.  \"\\nimdb,\"The acting is fantastic, the stories are seamlessly woven together, and the dogs are splendid............. A must rent, view, or see.  \"\\nimdb,\"It\\'s as continuously beautiful to look at as a Bertolucci, but the relationships here are more convincing and the narrative more engaging than some of that master\\'s work.  \"\\nimdb,Non-linear narration thus many flashbacks and every part are articulated quite well.  \\nimdb,\"Saw the movie today and thought it was a good effort, good messages for kids.  \"\\nimdb,This is one of the best Italian thrillers of the early 70\\'s.  \\nimdb,The aerial scenes were well-done.  \\nimdb,Juano Hernandez (an exceptional actor who played supporting roles in many films of the era) is a proud black man who is accused of murdering a white man in the South.  \\nimdb,\"The film gives meaning to the phrase, \"\"Never in the history of human conflict has so much been owed by so many to so few.  \"\\nimdb,There is a brilliant twist ending.  \\nimdb,\"Lifetime does not air it enough, so if anyone knows what store sells it let me know because this is a must-have.  \"\\nimdb,\"I really hope the team behind this movie makes more movies, and that they will continue to do so in their own, some kinda weird style.  \"\\nimdb,It was a long time that i didn\\'t see a so charismatic actor on screen.  \\nimdb,Constantine gives everything the right intensity and seems to have a good understanding of the underlying psychological motivations.  \\nimdb,\"Secondly, Hitchcock pretty much perfected the thriller and chase movie.  \"\\nimdb,Paolo Sorrentino has written a wonderful story about loneliness and Tony has built one of the most unforgettable characters seen in movies in recent years.  \\nimdb,I think that it is a must see older John Wayne film.  \\nimdb,Meredith M was better than all right.  \\nimdb,I sat riveted to the TV screen.  \\nimdb,\"It\\'s a sad movie, but very good.  \"\\nimdb,\"If there was ever an indication of a writer and a director\\'s ability to meld two highly volatile temperaments into a seamless union of creativity, then this is it!  \"\\nimdb,And those baby owls were adorable.  \\nimdb,\"This is a witty and delightful adaptation of the Dr Seuss book, brilliantly animated by UPA\\'s finest and thoroughly deserving of its Academy Award.  \"\\nimdb,\"The soundtrack wasn\\'t terrible, either.  \"\\nimdb,He\\'s a national treasure.  \\nimdb,Tom Wilkinson broke my heart at the end... and everyone else\\'s judging by the amount of fumbling for hankies and hands going up to faces among males and females alike.  \\nimdb,This film offers many delights and surprises.  \\nimdb,The good cinematography also makes her and Monica Bellucci look very beautiful.  \\nimdb,\"Not much dialogue, not much music, the whole film was shot as elaborately and aesthetically like a sculpture.  \"\\nimdb,A good commentary of today\\'s love and undoubtedly a film worth seeing.  \\nimdb,\"As they say in Canada, This is the fun game, aye.  \"\\nimdb,There\\'s barely a boring moment in the film and there are plenty of humorous parts.  \\nimdb,\"As a courtroom drama, it\\'s compelling, as an indictment on the American justice system, it\\'s frightening.  \"\\nimdb,\"The acting, as you\\'d expect from this cast, is top notch.  \"\\nimdb,The two main characters may be two of the most believable children I ever saw put on screen.  \\nimdb,\"It never condescends, all the characters have good genuine hearts and believable problems.  \"\\nimdb,Raw and sublimely moving.  \\nimdb,It has northern humour and positive about the community it represents.  \\nimdb,\"the story which was told so eloquently by Francis ford Coppola 25 years earlier, really unfolds gradually and leaves room for the characters to develop.  \"\\nimdb,\"He is one of my favourite directors, and one of the most talented directors in the history of cinema.  \"\\nimdb,\"Their on-screen chemistry, critical to the entire film, is genuine.  \"\\nimdb,It even has its sweet moments.  \\nimdb,\"Actually, the graphics were good at the time.  \"\\nimdb,This game rocks.  \\nimdb,10/10  \\nimdb,\"I recommend this for EVERYONE who loves film, movies, anything...A Work of Art!  \"\\nimdb,The story unfolds in 18th century Jutland and the use of period music played on period instruments is just one more fine touch.  \\nimdb,\"Yes, this film does require a rather significant amount of puzzle-solving, but the pieces fit together to create a beautiful picture.  \"\\nimdb,\"The acting helps the writing along very well (maybe the idiot-savant sister could have been played better), and it is a real joy to watch.  \"\\nimdb,\"I won\\'t spoil it, but the ending in pretty amazing.  \"\\nimdb,\"This review is long overdue, since I consider A Tale of Two Sisters to be the single greatest film ever made.  \"\\nimdb,\"I couldn\\'t think of a better way to end the film, but a smile on my face, great way to wrap up an amazing film and trilogy!  \"\\nimdb,Everything about this film is simply incredible.  \\nimdb,I must say I have taped most of the episodes and i find myself watching them over and over again.  \\nimdb,Excellently produced by one of Sci-fi\\'s best producers Scot Vandiver !  \\nimdb,Very nice and relaxing late night viewing.  \\nimdb,\"\"\" I love it.  \"\\nimdb,\"The attention given to every character, and complex psychological portrayals, detailing loyalty, treachery, love, and hope, are tremendous.  \"\\nimdb,Definitely worth checking out.  \\nimdb,STEAMBOAT WILLIE is an amazingly important film to our cinema history.  \\nimdb,The story is also both funny and poignant at times.  \\nimdb,Totally believable.  \\nimdb,\"This is a very \"\"right on case\"\" movie that delivers everything almost right in your face.  \"\\nimdb,Still it\\'s quite interesting and entertaining to follow.  \\nimdb,\"Shot in the Southern California desert using his patent faux documentary style, Watkins creates a film like no other.  \"\\nimdb,\"Some applause should be given to the \"\"prelude\"\" however.  \"\\nimdb,\"The fact is, this film is a wonderful, heartwarming tale about two people chasing their dreams.  \"\\nimdb,The attractive set used throughout most of the film is an eye-pleasing gem.  \\nimdb,\"When Achille and Philippa beautifully sing a duet from \"\"Don Giovanni\"\" that perfectly describes their situation in the movie, you appreciate the subtle layers of this excellent film.  \"\\nimdb,It\\'s also great to see that renowned silent screenwriter Frances Marion hasn\\'t missed a step going from silent to sound.  \\nimdb,\":) Anyway, the plot flowed smoothly and the male-bonding scenes were a hoot.  \"\\nimdb,An excellent performance from Ms.  \\nimdb,\"People who like European films and \"\"art movies\"\" will like this movie.  \"\\nimdb,\"The only thing really worth watching was the scenery and the house, because it is beautiful.  \"\\nimdb,\"After watching this film, I wanted to learn more about the works of this artist.  \"\\nimdb,Overall I rate this movie a 10 out of a 1-10 scale.  \\nimdb,\"If you have not seen this movie, I definitely recommend it!  \"\\nimdb,\") a happy, wonderful, feel good ending!  \"\\nimdb,\"But \"\"Tiny Toons\"\" kept the 90\\'s vibe and delivered one of the most popular, funny, and underrated cartoons ever created.  \"\\nimdb,It presents a idyllic yet serious portrayal of the ups and downs of the characters lives.  \\nimdb,\"A mature, subtle script that suggests and occasionally brings into dramatic focus the underlying tensions is well served by perfect performances (apart from the odd inappropriate smiling that Keira Knightley is prone to, though perhaps under direction this time as the other characters themselves often mention it).  \"\\nimdb,Hitchcock is a great director.  \\nimdb,And I really did find them funny.  \\nimdb,A world better than 95% of the garbage in the theatres today.  \\nimdb,Clever and a real crowd-pleaser--this film still ranks among Mickey\\'s best films even after 80 wonderful years.  \\nimdb,I would give this television series a 10 plus if i could.  \\nimdb,It is a true classic.  \\nimdb,Brilliance indeed.  \\nimdb,\"I highly recommend this movie for anyone interested in art, poetry, theater, politics, or Japanese history.  \"\\nimdb,\"All things considered, a job very well done.  \"\\nimdb,It really created a unique feeling though.  \\nimdb,\"The point is the journey, a journey that touches every member of the family.  \"\\nimdb,This second appearance of Mickey Mouse (following the silent PLANE CRAZY earlier that year) is probably his most famous film--mostly because it was so ground-breaking.  \\nimdb,All in all I give this one a resounding 9 out of 10.  \\nimdb,Linda Cardellini is the only thing good in this film.  \\nimdb,The warmth it generates is in contrast to its austere backdrop.  \\nimdb,Simply beautiful.  \\nimdb,It\\'s a feel-good film and that\\'s how I felt when I came out of the cinema!  \\nimdb,Excellent performance.  \\nimdb,\"I don\\'t know exactly what it is about this movie, but we latched on to this endearing movie and it has become a special part of our family\\'s memories.  \"\\nimdb,You truly take this journey through the eyes and soul of a child.  \\nimdb,The characters were all funny and had the peculiarity of not having a true lead character.  \\nimdb,\"Here, in The Wind and the Lion, we see a wonderful rendering of America\\'s own Imperial age.  \"\\nimdb,\"Overall, the film is interesting and thought-provoking.  \"\\nimdb,See it with your kids if you have a chance--it will open up some amazing dialog about how far race relations have come in the last 50 years.  \\nimdb,Think of the film being like a dream.  \\nimdb,10/10  \\nimdb,Nine out of ten for a truly lovely film.  \\nimdb,\"\"\" With great sound effects, and impressive special effects, I can\\'t recommend this movie enough.  \"\\nimdb,\"It is an excellent drama, an excellent thriller, and an excellent film.  \"\\nimdb,\"Still, I do like this movie for it\\'s empowerment of women; there\\'s not enough movies out there like this one.  \"\\nimdb,You wont regret it!  \\nimdb,\"If you love death and decay, and Shakespears lyrics... this is the one.  \"\\nimdb,\"Conceptually, the show offers a little bit of everything- and for just about everybody (parents, kids, fantasy and/or fx fans).  \"\\nimdb,\"I\\'m glad the film didn\\'t go for the most obvious choice, as a lesser film certainly would have.  \"\\nimdb,The music in the film is really nice too.  \\nimdb,I can think of no other film where something vitally important occurs every other minute.  \\nimdb,The cast is always entertaining as usual.  \\nimdb,\"A very good film indeed, about great and unconditional love.  \"\\nimdb,Trumbull on I LOVE LUCY).  \\nimdb,\"Also, it\\'s a real treat to see Anthony Quinn playing Crazy Horse.  \"\\nimdb,Give this one a look.  \\nimdb,Alexander Nevsky is a great film.  \\nimdb,The interplay between Martin and Emilio contains the same wonderful chemistry we saw in Wall Street with Martin and Charlie.  \\nimdb,Fans of the genre will be in heaven.  \\nimdb,\"Call me a nut, but I think this is one of the best movies ever.  \"\\nimdb,Vivian Schilling did an excellent job with the script.  \\nimdb,But the duet between the astronaut and his doctor at the beginning of the movie is a perfect exchange if one considers that this movie was made well into the Cold War and the astronaut\\'s biggest fear is that he has crashed in the USSR.  \\nimdb,His performance is simply genius.  \\nimdb,His acting alongside Olivia De Havilland was brilliant and the ending was fantastic!  \\nimdb,This is such a fun and funny movie.  \\nimdb,It\\'s still wild stuff though and is highly recommended to fans of giallo cinema.  \\nimdb,This is actually a very smart movie.  \\nimdb,There is a lot of beautiful places.  \\nimdb,\"But above all the exquisite visual composition of each moment, with inventive and elegant use of close-up, camera angle and lighting, including pointillistic faux home movie footage, is a wonder and joy to behold.  \"\\nimdb,I don\\'t think you will be disappointed.  \\nimdb,A good film by a great director!  \\nimdb,\"Highly recommended for all ages, although the younger set will probably not appreciate some of the more subtle references, they will certainly appreciate one galley scene in particular!  \"\\nimdb,It is very educational for children 1 to 8 years old.  \\nimdb,This is definitely one of the better documentaries I have seen looking at family relationships and marriage.  \\nimdb,It is not just a cult... it is a cult CLASSIC.  \\nimdb,\"Garbo, who showed right off the bat that her talents could carry over from the silent era (I wanted to see some of her silent work, but Netflix doesn\\'t seem to be stocking them.  \"\\nimdb,There are some generally great things in it.  \\nimdb,\"He owns the film, just as Spacek owned \"\"Coal Miner\\'s Daughter\"\" and Quaid owned \"\"Great Balls of Fire.  \"\\nimdb,\"For that, it\\'s worth checking out.  \"\\nimdb,\"It\\'s practically perfect in all of them \\xc2\\x96 a true masterpiece in a sea of faux \"\"masterpieces.  \"\\nimdb,\"Though The Wind and the Lion is told largely through the eyes of the son, every member of the family can identify with one of the characters, whether it be Sean Connery\\'s noble brigand, Candace Bergen\\'s feisty heroine, John Huston\\'s wily John Hay or Steve Kanaly\\'s spiffy, radiant, ruthless can-do lieutenant, Roosevelt\\'s \"\"Big Stick\"\".  \"\\nimdb,\"I think the most wonderful parts (literally, full of \"\"wonder\"\") are the excerpts from his works.  \"\\nimdb,The art style has the appearance of crayon/pencil drawings and is wonderfully colorful and fanciful.  \\nimdb,Barney is definitely super DE duper.  \\nimdb,I just saw this film and I recommend it.  \\nimdb,It is a really good show to watch.  \\nimdb,\"Macbeth (Jason Connery) moved me to tears with his final monolog (out brief candle, out)He gave the sphere of moral decay and dark forces a human face, which makes it the more interesting.  \"\\nimdb,\"All the actors give a wonderful performance, especially Jennifer Rubin as Jamie Harris, who changes from the nervous starlet in the beginning through the strange events she is part of to the cool star.  \"\\nimdb,In a most wonderful location lies a story of contrast.  \\nimdb,Not too screamy not to masculine but just right.  \\nimdb,A film not easily forgotten.  \\nimdb,\"I loved this movie it was a great portrayal of a family who had it\\'s share of ups and down, but in the end they knew that special love they had for each other.  \"\\nimdb,Anne Heche was utterly convincing.  \\nimdb,The entire audience applauded at the conclusion of the film.  \\nimdb,\"I think it was Robert Ryans best film, because he portrayed someone like my father, and he was a schizophrenic in real life,(my father) although he never murdered anyone but was affected more so during the second world war which made him worse.  \"\\nimdb,\"I had always known that Errol Flynn was a brilliant actor as he was my dads favourite actor, and I grew up watching his films as a child.  \"\\nimdb,I\\'d advise anyone to go and see it.  \\nimdb,\"He is an amazing film artist, one of the most important whoever lived.  \"\\nimdb,The rest of the cast also play well.  \\nimdb,\"The writers were \"\"smack on\"\" and I think the best actors and actresses were a bonus to the show.These characters were so real.  \"\\nimdb,The Songs Were The Best And The Muppets Were So Hilarious.  \\nimdb,Lange had become a great actress.  \\nimdb,I would have casted her in that role after ready the script.  \\nimdb,I rather enjoyed it.  \\nimdb,I really liked that.  \\nimdb,It is rare when a film-maker takes the time to tell a worthy moral tale with care and love that doesn\\'t fall into the trap of being overly syrupy or over indulgent.  \\nyelp,Highly unprofessional and rude to a loyal patron!\\nyelp,\"The building itself seems pretty neat; the bathroom is pretty trippy, but I wouldn\\'t eat here again.\"\\nyelp,Overall I wasn\\'t very impressed with Noca.\\nyelp,\"Took an hour to get our food only 4 tables in restaurant my food was Luke warm, Our sever was running around like he was totally overwhelmed.\"\\nyelp,Avoid at all cost!\\nyelp,The chicken wings contained the driest chicken meat I have ever eaten.\\nyelp,\"The ambiance here did not feel like a buffet setting, but more of a douchey indoor garden for tea and biscuits.\"\\nyelp,I think food should have flavor and texture and both were lacking.\\nyelp,We sat another ten minutes and finally gave up and left.\\nyelp,Any grandmother can make a roasted chicken better than this one.\\nyelp,dont go here.\\nyelp,\"The service was a little slow , considering that were served by 3 people servers so the food was coming in a slow pace.\"\\nyelp,Please stay away from the shrimp stir fried noodles.\\nyelp,Crostini that came with the salad was stale.\\nyelp,Will not be back.\\nyelp,\"If it were possible to give them zero stars, they\\'d have it.\"\\nyelp,\"I live in the neighborhood so I am disappointed I won\\'t be back here, because it is a convenient location.\"\\nyelp,\"How can you call yourself a steakhouse if you can\\'t properly cook a steak, I don\\'t understand!\"\\nyelp,it was a drive to get there.\\nyelp,Never going back.\\nyelp,We got the food and apparently they have never heard of salt and the batter on the fish was chewy.\\nyelp,The food was terrible.\\nyelp,Won\\'t go back.\\nyelp,\"I\\'d rather eat airline food, seriously.\"\\nyelp,I think not again\\nyelp,The selection was probably the worst I\\'ve seen in Vegas.....there was none.\\nyelp,Would not go back.\\nyelp,\"Insults, profound deuchebaggery, and had to go outside for a smoke break while serving just to solidify it.\"\\nyelp,\"Host staff were, for lack of a better word, BITCHES!\"\\nyelp,\"As much as I\\'d like to go back, I can\\'t get passed the atrocious service and will never return.\"\\nyelp,Total brunch fail.\\nyelp,\"Unfortunately, it only set us up for disapppointment with our entrees.\"\\nyelp,\"The food is about on par with Denny\\'s, which is to say, not good at all.\"\\nyelp,I will never go back to this place and will never ever recommended this place to anyone!\\nyelp,\"Your servers suck, wait, correction, our server Heimer sucked.\"\\nyelp,Horrible - don\\'t waste your time and money.\\nyelp,Not good for the money.\\nyelp,I don\\'t recommend unless your car breaks down in front of it and you are starving.\\nyelp,I won\\'t try going back there even if it\\'s empty.\\nyelp,It was a pale color instead of nice and char and has NO flavor.\\nyelp,\"When my order arrived, one of the gyros was missing.\"\\nyelp,The scallop dish is quite appalling for value as well.\\nyelp,We\\'ll never go again.\\nyelp,Over rated.\\nyelp,My husband said she was very rude... did not even apologize for the bad food or anything.\\nyelp,\"Then, as if I hadn\\'t wasted enough of my life there, they poured salt in the wound by drawing out the time it took to bring the check.\"\\nyelp,\"For a self proclaimed coffee cafe, I was wildly disappointed.\"\\nyelp,But then they came back cold.\\nyelp,The live music on Fridays totally blows.\\nyelp,-Drinks took close to 30 minutes to come out at one point.\\nyelp,Very Very Disappointed ordered the $35 Big Bay Plater.\\nyelp,\"The descriptions said \"\"yum yum sauce\"\" and another said \"\"eel sauce\"\", yet another said \"\"spicy mayo\"\"...well NONE of the rolls had sauces on them.\"\\nyelp,Before I go in to why I gave a 1 star rating please know that this was my third time eating at Bachi burger before writing a review.\\nyelp,We\\'ve have gotten a much better service from the pizza place next door than the services we received from this restaurant.\\nyelp,I immediately said I wanted to talk to the manager but I did not want to talk to the guy who was doing shots of fireball behind the bar.\\nyelp,The Buffet at Bellagio was far from what I anticipated.\\nyelp,I just wanted to leave.\\nyelp,She ordered a toasted English muffin that came out untoasted.\\nyelp,We won\\'t be going back anytime soon!\\nyelp,I\\'ve never been treated so bad.\\nyelp,\"Anyways, The food was definitely not filling at all, and for the price you pay you should expect more.\"\\nyelp,I\\'m not eating here!\\nyelp,I ordered Albondigas soup - which was just warm - and tasted like tomato soup with frozen meatballs.\\nyelp,\"The burger had absolutely no flavor - the meat itself was totally bland, the burger was overcooked and there was no charcoal flavor.\"\\nyelp,\"By this point, my friends and I had basically figured out this place was a joke and didn\\'t mind making it publicly and loudly known.\"\\nyelp,\"There is really nothing for me at postinos, hope your experience is better\"\\nyelp,I give it 2 thumbs down\\nyelp,Hell no will I go back\\nyelp,\"I had high hopes for this place since the burgers are cooked over a charcoal grill, but unfortunately the taste fell flat, way flat.\"\\nyelp,\"For service, I give them no stars.\"\\nyelp,\"The staff are now not as friendly, the wait times for being served are horrible, no one even says hi for the first 10 minutes.\"\\nyelp,\"We had so much to say about the place before we walked in that he expected it to be amazing, but was quickly disappointed.\"\\nyelp,Gave up trying to eat any of the crust (teeth still sore).\\nyelp,Ordered burger rare came in we\\'ll done.\\nyelp,\"This is was due to the fact that it took 20 minutes to be acknowledged, then another 35 minutes to get our food...and they kept forgetting things.\"\\nyelp,I was VERY disappointed!!\\nyelp,We also ordered the spinach and avocado salad; the ingredients were sad and the dressing literally had zero taste.\\nyelp,I can take a little bad service but the food sucks.\\nyelp,\"As for the \"\"mains,\"\" also uninspired.\"\\nyelp,My sashimi was poor quality being soggy and tasteless.\\nyelp,Thoroughly disappointed!\\nyelp,I had the mac salad and it was pretty bland so I will not be getting that again.\\nyelp,As a sushi lover avoid this place by all means.\\nyelp,The cashew cream sauce was bland and the vegetables were undercooked.\\nyelp,I will not be eating there again.\\nyelp,There is not a deal good enough that would drag me into that establishment again.\\nyelp,\"Now the burgers aren\\'t as good, the pizza which used to be amazing is doughy and flavorless.\"\\nyelp,Just don\\'t know why they were so slow.\\nyelp,Your staff spends more time talking to themselves than me.\\nyelp,did not like at all.\\nyelp,The selection of food was not the best.\\nyelp,This one is simply a disappointment.\\nyelp,say bye bye to your tip lady!\\nyelp,The place was not clean and the food oh so stale!\\nyelp,2 times - Very Bad Customer Service !\\nyelp,It was way over fried.\\nyelp,A FLY was in my apple juice.. A FLY!!!!!!!!\\nyelp,Spend your money elsewhere.\\nyelp,- They never brought a salad we asked for.\\nyelp,I as well would\\'ve given godfathers zero stars if possible.\\nyelp,very tough and very short on flavor!\\nyelp,The warm beer didn\\'t help.\\nyelp,\"Friend\\'s pasta -- also bad, he barely touched it.\"\\nyelp,I\\'ve had better bagels from the grocery store.\\nyelp,This is a disgrace.\\nyelp,The only reason to eat here would be to fill up before a night of binge drinking just to get some carbs in your stomach.\\nyelp,Soggy and not good.\\nyelp,By this time our side of the restaurant was almost empty so there was no excuse.\\nyelp,I asked multiple times for the wine list and after some time of being ignored I went to the hostess and got one myself.\\nyelp,I am far from a sushi connoisseur but I can definitely tell the difference between good food and bad food and this was certainly bad food.\\nyelp,We\\'ve tried to like this place but after 10+ times I think we\\'re done with them.\\nyelp,I can\\'t tell you how disappointed I was.\\nyelp,Weird vibe from owners.\\nyelp,Will not be back!\\nyelp,Disappointing experience.\\nyelp,Now I am getting angry and I want my damn pho.\\nyelp,\"The service was not up to par, either.\"\\nyelp,\"The sangria was about half of a glass wine full and was $12, ridiculous.\"\\nyelp,There is nothing authentic about this place.\\nyelp,Eew... This location needs a complete overhaul.\\nyelp,\"I started this review with two stars, but I\\'m editing it to give it only one.\"\\nyelp,\"On three different occasions I asked for well done or medium well, and all three times I got the bloodiest piece of meat on my plate.\"\\nyelp,\"Hot dishes are not hot, cold dishes are close to room temp.I watched staff prepare food with BARE HANDS, no gloves.Everything is deep fried in oil.\"\\nyelp,Do yourself a favor and stay away from this dish.\\nyelp,\"If you look for authentic Thai food, go else where.\"\\nyelp,I hate those things as much as cheap quality black olives.\\nyelp,But now I was completely grossed out.\\nyelp,\"I hate to disagree with my fellow Yelpers, but my husband and I were so disappointed with this place.\"\\nyelp,We waited for thirty minutes to be seated (although there were 8 vacant tables and we were the only folks waiting).\\nyelp,\"too bad cause I know it\\'s family owned, I really wanted to like this place.\"\\nyelp,The Heart Attack Grill in downtown Vegas is an absolutely flat-lined excuse for a restaurant.\\nyelp,The Burrittos Blah!\\nyelp,The potatoes were like rubber and you could tell they had been made up ahead of time being kept under a warmer.\\nyelp,The service here leaves a lot to be desired.\\nyelp,This place is horrible and way overpriced.\\nyelp,\"Perhaps I caught them on an off night judging by the other reviews, but I\\'m not inspired to go back.\"\\nyelp,\"It was a bit too sweet, not really spicy enough, and lacked flavor.\"\\nyelp,The pan cakes everyone are raving about taste like a sugary disaster tailored to the palate of a six year old.\\nyelp,Why are these sad little vegetables so overcooked?\\nyelp,It was not good.\\nyelp,No one at the table thought the food was above average or worth the wait that we had for it.\\nyelp,\"This place is not quality sushi, it is not a quality restaurant.\"\\nyelp,It was a huge awkward 1.5lb piece of cow that was 3/4ths gristle and fat.\\nyelp,I was disgusted because I was pretty sure that was human hair.\\nyelp,The service was terrible though.\\nyelp,Service was slow and not attentive.\\nyelp,\"My brother in law who works at the mall ate here same day, and guess what he was sick all night too.\"\\nyelp,The potato chip order was sad... I could probably count how many chips were in that box and it was probably around 12.\\nyelp,The kids play area is NASTY!\\nyelp,\"Probably never coming back, and wouldn\\'t recommend it.\"\\nyelp,Not tasty and the texture was just nasty.\\nyelp,I vomited in the bathroom mid lunch.\\nyelp,If there were zero stars I would give it zero stars.\\nyelp,Do not waste your money here!\\nyelp,\"like the other reviewer said \"\"you couldn\\'t pay me to eat at this place again.\"\"\"\\nyelp,Seafood was limited to boiled shrimp and crab legs but the crab legs definitely did not taste fresh.\\nyelp,Boy was that sucker dry!!.\\nyelp,walked in and the place smelled like an old grease trap and only 2 others there eating.\\nyelp,I checked out this place a couple years ago and was not impressed.\\nyelp,This place deserves no stars.\\nyelp,\"On the ground, right next to our table was a large, smeared, been-stepped-in-and-tracked-everywhere pile of green bird poop.\"\\nyelp,Worst food/service I\\'ve had in a while.\\nyelp,We asked for the bill to leave without eating and they didn\\'t bring that either.\\nyelp,It was equally awful.\\nyelp,After all the rave reviews I couldn\\'t wait to eat here......what a disappointment!\\nyelp,\"Ordered a double cheeseburger & got a single patty that was falling apart (picture uploaded) Yeah, still sucks.\"\\nyelp,A lady at the table next to us found a live green caterpillar In her salad.\\nyelp,Waited 2 hours & never got either of our pizzas as many other around us who came in later did!\\nyelp,\"It was attached to a gas station, and that is rarely a good sign.\"\\nyelp,this is the worst sushi i have ever eat besides Costco\\'s.\\nyelp,I probably won\\'t be coming back here.\\nyelp,Terrible management.\\nyelp,\"seems like a good quick place to grab a bite of some familiar pub food, but do yourself a favor and look elsewhere.\"\\nyelp,My gyro was basically lettuce only.\\nyelp,\"I have watched their prices inflate, portions get smaller and management attitudes grow rapidly!\"\\nyelp,Ordered an appetizer and took 40 minutes and then the pizza another 10 minutes.\\nyelp,I took back my money and got outta there.\\nyelp,Waiter was a jerk.\\nyelp,I wasn\\'t really impressed with Strip Steak.\\nyelp,\"It was extremely \"\"crumby\"\" and pretty tasteless.\"\\nyelp,\"Then our food came out, disappointment ensued.\"\\nyelp,\"Frozen pucks of disgust, with some of the worst people behind the register.\"\\nyelp,\"Poor service, the waiter made me feel like I was stupid every time he came to the table.\"\\nyelp,\"Also, the fries are without a doubt the worst fries I\\'ve ever had.\"\\nyelp,\"Worst service to boot, but that is the least of their worries.\"\\nyelp,I\\'ve lived here since 1979 and this was the first (and last) time I\\'ve stepped foot into this place.\\nyelp,Pricing is a bit of a concern at Mellow Mushroom.\\nyelp,\"I find wasting food to be despicable, but this just wasn\\'t food.\"\\nyelp,I got home to see the driest damn wings ever!\\nyelp,I would not recommend this place.\\nyelp,\"The fries were not hot, and neither was my burger.\"\\nyelp,If you are reading this please don\\'t go there.\\nyelp,\"The chicken dishes are OK, the beef is like shoe leather.\"\\nyelp,\"not even a \"\"hello, we will be right with you.\"\"\"\\nyelp,first time there and might just be the last.\\nyelp,Appetite instantly gone.\\nyelp,The service here is fair at best.\\nyelp,\"This place is overpriced, not consistent with their boba, and it really is OVERPRICED!\"\\nyelp,\"It was so bad, I had lost the heart to finish it.\"\\nyelp,I had about two bites and refused to eat anymore.\\nyelp,Won\\'t ever go here again.\\nyelp,The last 3 times I had lunch here has been bad.\\nyelp,The service was poor and thats being nice.\\nyelp,This place should honestly be blown up.\\nyelp,The service was meh.\\nyelp,The cashier had no care what so ever on what I had to say it still ended up being wayyy overpriced.\\nyelp,I waited and waited.\\nyelp,The fried rice was dry as well.\\nyelp,This place deserves one star and 90% has to do with the food.\\nyelp,We ordered some old classics and some new dishes after going there a few times and were sorely disappointed with everything.\\nyelp,My husband and I ate lunch here and were very disappointed with the food and service.\\nyelp,\"At least 40min passed in between us ordering and the food arriving, and it wasn\\'t that busy.\"\\nyelp,This place is disgusting!\\nyelp,We started with the tuna sashimi which was brownish in color and obviously wasn\\'t fresh.\\nyelp,\"Sadly, Gordon Ramsey\\'s Steak is a place we shall sharply avoid during our next trip to Vegas.\"\\nyelp,\"Will never, ever go back.\"\\nyelp,\"I mean really, how do you get so famous for your fish and chips when it\\'s so terrible!?!\"\\nyelp,Must have been an off night at this place.\\nyelp,\"The chipolte ranch dipping sause was tasteless, seemed thin and watered down with no heat.\"\\nyelp,\"Strike 2, who wants to be rushed.\"\\nyelp,\"I have been to very few places to eat that under no circumstances would I ever return to, and this tops the list.\"\\nyelp,They dropped more than the ball.\\nyelp,I came back today since they relocated and still not impressed.\\nyelp,the spaghetti is nothing special whatsoever.\\nyelp,The waiter wasn\\'t helpful or friendly and rarely checked on us.\\nyelp,Worst martini ever!\\nyelp,\"Never been to Hard Rock Casino before, WILL NEVER EVER STEP FORWARD IN IT AGAIN!\"\\nyelp,\"Overall, I don\\'t think that I would take my parents to this place again because they made most of the similar complaints that I silently felt too.\"\\nyelp,There is nothing privileged about working/eating there.\\nyelp,Which are small and not worth the price.\\nyelp,AVOID THIS ESTABLISHMENT!\\nyelp,Bland... Not a liking this place for a number of reasons and I don\\'t want to waste time on bad reviewing.. I\\'ll leave it at that...\\nyelp,And the beans and rice were mediocre at best.\\nyelp,\"After waiting an hour and being seated, I was not in the greatest of moods.\"\\nyelp,We aren\\'t ones to make a scene at restaurants but I just don\\'t get it...definitely lost the love after this one!\\nyelp,Definitely not worth the $3 I paid.\\nyelp,I guess maybe we went on an off night but it was disgraceful.\\nyelp,\"For about 10 minutes, we we\\'re waiting for her salad when we realized that it wasn\\'t coming any time soon.\"\\nyelp,\"Not much flavor to them, and very poorly constructed.\"\\nyelp,Probably not in a hurry to go back.\\nyelp,It was probably dirt.\\nyelp,Waited and waited and waited.\\nyelp,The server was very negligent of our needs and made us feel very unwelcome... I would not suggest this place!\\nyelp,Terrible service!\\nyelp,I wouldn\\'t return.\\nyelp,Best of luck to the rude and non-customer service focused new management.\\nyelp,I don\\'t think I\\'ll be running back to Carly\\'s anytime soon for food.\\nyelp,It\\'s too bad the food is so damn generic.\\nyelp,This place is way too overpriced for mediocre food.\\nyelp,Not good by any stretch of the imagination.\\nyelp,\"The shower area is outside so you can only rinse, not take a full shower, unless you don\\'t mind being nude for everyone to see!\"\\nyelp,\"In summary, this was a largely disappointing dining experience.\"\\nyelp,very slow at seating even with reservation.\\nyelp,Not much seafood and like 5 strings of pasta at the bottom.\\nyelp,\"The burger... I got the \"\"Gold Standard\"\" a $17 burger and was kind of disappointed.\"\\nyelp,The WORST EXPERIENCE EVER.\\nyelp,We could not believe how dirty the oysters were!\\nyelp,She was quite disappointed although some blame needs to be placed at her door.\\nyelp,It was packed!!\\nyelp,\"I do love sushi, but I found Kabuki to be over-priced, over-hip and under-services.\"\\nyelp,If she had not rolled the eyes we may have stayed... Not sure if we will go back and try it again.\\nyelp,The poor batter to meat ratio made the chicken tenders very unsatisfying.\\nyelp,\"REAL sushi lovers, let\\'s be honest - Yama is not that good.\"\\nyelp,I swung in to give them a try but was deeply disappointed.\\nyelp,Definitely a turn off for me & i doubt I\\'ll be back unless someone else is buying.\\nyelp,We will not be coming back.\\nyelp,\"We got sitting fairly fast, but, ended up waiting 40 minutes just to place our order, another 30 minutes before the food arrived.\"\\nyelp,My girlfriend\\'s veal was very bad.\\nyelp,I\\'m probably one of the few people to ever go to Ians and not like it.\\nyelp,Mediocre food.\\nyelp,We recently witnessed her poor quality of management towards other guests as well.\\nyelp,WAAAAAAyyyyyyyyyy over rated is all I am saying.\\nyelp,Hard to judge whether these sides were good because we were grossed out by the melted styrofoam and didn\\'t want to eat it for fear of getting sick.\\nyelp,The tables outside are also dirty a lot of the time and the workers are not always friendly and helpful with the menu.\\nyelp,My friend did not like his Bloody Mary.\\nyelp,The service was a bit lacking.\\nyelp,\"a drive thru means you do not want to wait around for half an hour for your food, but somehow when we end up going here they make us wait and wait.\"\\nyelp,\"Similarly, the delivery man did not say a word of apology when our food was 45 minutes late.\"\\nyelp,We watched our waiter pay a lot more attention to other tables and ignore us.\\nyelp,I just don\\'t know how this place managed to served the blandest food I have ever eaten when they are preparing Indian cuisine.\\nyelp,We won\\'t be going back.\\nyelp,\"He was extremely rude and really, there are so many other restaurants I would love to dine at during a weekend in Vegas.\"\\nyelp,We waited an hour for what was a breakfast I could have done 100 times better at home.\\nyelp,\"The service was terrible, food was mediocre.\"\\nyelp,Don\\'t bother coming here.\\nyelp,\"Unfortunately, we must have hit the bakery on leftover day because everything we ordered was STALE.\"\\nyelp,\"Third, the cheese on my friend\\'s burger was cold.\"\\nyelp,\"The food was barely lukewarm, so it must have been sitting waiting for the server to bring it out to us.\"\\nyelp,\"The servers went back and forth several times, not even so much as an \"\"Are you being helped?\"\"\"\\nyelp,The servers are not pleasant to deal with and they don\\'t always honor Pizza Hut coupons.\\nyelp,Based on the sub-par service I received and no effort to show their gratitude for my business I won\\'t be going back.\\nyelp,The worst was the salmon sashimi.\\nyelp,Would not recommend to others.\\nyelp,Don\\'t do it!!!!\\nyelp,It sure does beat the nachos at the movies but I would expect a little bit more coming from a restaurant.\\nyelp,I\\'m not sure how long we stood there but it was long enough for me to begin to feel awkwardly out of place.\\nyelp,\"What did bother me, was the slow service.\"\\nyelp,\"i felt insulted and disrespected, how could you talk and judge another human being like that?\"\\nyelp,I was shocked because no signs indicate cash only.\\nyelp,Not my thing.\\nyelp,This place lacked style!!\\nyelp,I left with a stomach ache and felt sick the rest of the day.\\nyelp,Service sucks.\\nyelp,I had the chicken Pho and it tasted very bland.\\nyelp,Nothing special.\\nyelp,The refried beans that came with my meal were dried out and crusty and the food was bland.\\nyelp,\"The chains, which I\\'m no fan of, beat this place easily.\"\\nyelp,\"for 40 bucks a head, i really expect better food.\"\\nyelp,Overpriced for what you are getting.\\nyelp,Spend your money and time some place else.\\nyelp,\"I probably won\\'t be back, to be honest.\"\\nyelp,I\\'ll take my business dinner dollars elsewhere.\\nyelp,the presentation of the food was awful.\\nyelp,First - the bathrooms at this location were dirty- Seat covers were not replenished & just plain yucky!!!\\nyelp,\"Overall, I was very disappointed with the quality of food at Bouchon.\"\\nyelp,I would avoid this place if you are staying in the Mirage.\\nyelp,Tasted like dirt.\\nyelp,Hopefully this bodes for them going out of business and someone who can cook can come in.\\nyelp,\"I go to far too many places and I\\'ve never seen any restaurant that serves a 1 egg breakfast, especially for $4.00.\"\\nyelp,It kept getting worse and worse so now I\\'m officially done.\\nyelp,I don\\'t think we\\'ll be going back anytime soon.\\nyelp,I would not recommend this place.\\nyelp,My fella got the huevos rancheros and they didn\\'t look too appealing.\\nyelp,Shrimp- When I unwrapped it (I live only 1/2 a mile from Brushfire) it was literally ice cold.\\nyelp,TOTAL WASTE OF TIME.\\nyelp,\"I guess I should have known that this place would suck, because it is inside of the Excalibur, but I didn\\'t use my common sense.\"\\nyelp,I will not return.\\nyelp,\"However, there was so much garlic in the fondue, it was barely edible.\"\\nyelp,\"Worse of all, he humiliated his worker right in front of me..Bunch of horrible name callings.\"\\nyelp,It was pretty gross!\\nyelp,\"Sorry, I will not be getting food from here anytime soon :(\"\\nyelp,\"Although I very much liked the look and sound of this place, the actual experience was a bit disappointing.\"\\nyelp,The place was fairly clean but the food simply wasn\\'t worth it.\\nyelp,Very poor service.\\nyelp,The management is rude.\\nyelp,Paying $7.85 for a hot dog and fries that looks like it came out of a kid\\'s meal at the Wienerschnitzel is not my idea of a good meal.\\nyelp,Bland and flavorless is a good way of describing the barely tepid meat.\\nyelp,\"I have been in more than a few bars in Vegas, and do not ever recall being charged for tap water.\"\\nyelp,\"Main thing I didn\\'t enjoy is that the crowd is of older crowd, around mid 30s and up.\"\\nyelp,\"The chips that came out were dripping with grease, and mostly not edible.\"\\nyelp,I won\\'t be back.\\nyelp,The real disappointment was our waiter.\\nyelp,I was so insulted.\\nyelp,What happened next was pretty....off putting.\\nyelp,Service stinks here!\\nyelp,Tonight I had the Elk Filet special...and it sucked.\\nyelp,The bus boy on the other hand was so rude.\\nyelp,I probably would not go here again.\\nyelp,The RI style calamari was a joke.\\nyelp,If someone orders two tacos don\\'t\\' you think it may be part of customer service to ask if it is combo or ala cart?\\nyelp,-My order was not correct.\\nyelp,\"The pizza tasted old, super chewy in not a good way.\"\\nyelp,Food is way overpriced and portions are fucking small.\\nyelp,\"The ripped banana was not only ripped, but petrified and tasteless.\"\\nyelp,It wasn\\'t busy at all and now we know why.\\nyelp,And the red curry had so much bamboo shoots and wasn\\'t very tasty to me.\\nyelp,\"I could barely stomach the meal, but didn\\'t complain because it was a business lunch.\"\\nyelp,\"Furthermore, you can\\'t even find hours of operation on the website!\"\\nyelp,I dressed up to be treated so rudely!\\nyelp,I consider this theft.\\nyelp,I\\'m not impressed with the concept or the food.\\nyelp,Ryan\\'s Bar is definitely one Edinburgh establishment I won\\'t be revisiting.\\nyelp,Don\\'t waste your time here.\\nyelp,\"Despite how hard I rate businesses, its actually rare for me to give a 1 star.\"\\nyelp,I also decided not to send it back because our waitress looked like she was on the verge of having a heart attack.\\nyelp,RUDE & INCONSIDERATE MANAGEMENT.\\nyelp,\"The meat was pretty dry, I had the sliced brisket and pulled pork.\"\\nyelp,After two I felt disgusting.\\nyelp,Food was below average.\\nyelp,\"Very, very sad.\"\\nyelp,Con: spotty service.\\nyelp,\"Needless to say, I won\\'t be going back anytime soon.\"\\nyelp,WILL NEVER EVER GO BACK AND HAVE TOLD MANY PEOPLE WHAT HAD HAPPENED.\\nyelp,\"(It wasn\\'t busy either) Also, the building was FREEZING cold.\"\\nyelp,Tried to go here for lunch and it was a madhouse.\\nyelp,\"The menu is always changing, food quality is going down & service is extremely slow.\"\\nyelp,Overall I was not impressed and would not go back.\\nyelp,For that price I can think of a few place I would have much rather gone.\\nyelp,So don\\'t go there if you are looking for good food...\\nyelp,The ambiance isn\\'t much better.\\nyelp,\"The Wife hated her meal (coconut shrimp), and our friends really did not enjoy their meals, either.\"\\nyelp,\"Bad day or not, I have a very low tolerance for rude customer service people, it is your job to be nice and polite, wash dishes otherwise!!\"\\nyelp,I have never had such bland food which surprised me considering the article we read focused so much on their spices and flavor.\\nyelp,I was mortified.\\nyelp,\"The food sucked, which we expected but it sucked more than we could have imagined.\"\\nyelp,After the disappointing dinner we went elsewhere for dessert.\\nyelp,Not a single employee came out to see if we were OK or even needed a water refill once they finally served us our food.\\nyelp,Del Taco is pretty nasty and should be avoided if possible.\\nyelp,We waited for forty five minutes in vain.\\nyelp,I\\'m super pissd.\\nyelp,\"And the drinks are WEAK, people!\"\\nyelp,I think this restaurant suffers from not trying hard enough.\\nyelp,Very disappointing!!!\\nyelp,The problem I have is that they charge $11.99 for a sandwich that is no bigger than a Subway sub (which offers better and more amount of vegetables).\\nyelp,The plantains were the worst I\\'ve ever tasted.\\nyelp,\"They have horrible attitudes towards customers, and talk down to each one when customers don\\'t enjoy their food.\"\\nyelp,\"I don\\'t know what the big deal is about this place, but I won\\'t be back \"\"ya\\'all\"\".\"\\nyelp,But I definitely would not eat here again.\\nyelp,It really is impressive that the place hasn\\'t closed down.\\nyelp,The turkey and roast beef were bland.\\nyelp,This is a really fantastic Thai restaurant which is definitely worth a visit.\\nyelp,If you want a sandwich just go to any Firehouse!!!!!\\nyelp,Special thanks to Dylan T. for the recommendation on what to order :) All yummy for my tummy.\\nyelp,Server did a great job handling our large rowdy table.\\nyelp,The only thing I did like was the prime rib and dessert section.\\nyelp,\"Our server was very nice, and even though he looked a little overwhelmed with all of our needs, he stayed professional and friendly until the end.\"\\nyelp,\"I ate there twice on my last visit, and especially enjoyed the salmon salad.\"\\nyelp,\"The guys all had steaks, and our steak loving son who has had steak at the best and worst places said it was the best steak he\\'s ever eaten.\"\\nyelp,5 stars for the brick oven bread app!\\nyelp,Each day of the week they have a different deal and it\\'s all so delicious!\\nyelp,I had a pretty satifying experience.\\nyelp,\"Our waiter was very attentive, friendly, and informative.\"\\nyelp,This is one of the better buffets that I have been to.\\nyelp,\"Love the margaritas, too!\"\\nyelp,\"The first time I ever came here I had an amazing experience, I still tell people how awesome the duck was.\"\\nyelp,It was delicious!!!\\nyelp,So good I am going to have to review this place twice - once hereas a tribute to the place and once as a tribute to an event held here last night.\\nyelp,Have been going since 2007 and every meal has been awesome!!\\nyelp,\"Very convenient, since we were staying at the MGM!\"\\nyelp,And service was super friendly.\\nyelp,Bacon is hella salty.\\nyelp,Damn good steak.\\nyelp,\"For sushi on the Strip, this is the place to go.\"\\nyelp,\"Oh this is such a thing of beauty, this restaurant.\"\\nyelp,This place has it!\\nyelp,I love the fact that everything on their menu is worth it.\\nyelp,Wow very spicy but delicious.\\nyelp,Everything was good and tasty!\\nyelp,\"If you love authentic Mexican food and want a whole bunch of interesting, yet delicious meats to choose from, you need to try this place.\"\\nyelp,\"Great atmosphere, friendly and fast service.\"\\nyelp,I don\\'t know what kind it is but they have the best iced tea.\\nyelp,Service is also cute.\\nyelp,\"We had fantastic service, and were pleased by the atmosphere.\"\\nyelp,Service is friendly and inviting.\\nyelp,Now this dish was quite flavourful.\\nyelp,\"On the good side, the staff was genuinely pleasant and enthusiastic - a real treat.\"\\nyelp,\"Went in for happy hour, great list of wines.\"\\nyelp,Very good lunch spot.\\nyelp,It is worth the drive.\\nyelp,Food was great and so was the serivce!\\nyelp,\"That said, our mouths and bellies were still quite pleased.\"\\nyelp,Check it out.\\nyelp,(The bathroom is just next door and very nice.)\\nyelp,By far the BEST cheesecurds we have ever had!\\nyelp,My ribeye steak was cooked perfectly and had great mesquite flavor.\\nyelp,\"They will customize your order any way you\\'d like, my usual is Eggplant with Green Bean stir fry, love it!\"\\nyelp,The bathrooms are clean and the place itself is well decorated.\\nyelp,\"I got to enjoy the seafood salad, with a fabulous vinegrette.\"\\nyelp,The chips and sals a here is amazing!!!!!!!!!!!!!!!!!!!\\nyelp,\"I loved the grilled pizza, reminded me of legit Italian pizza.\"\\nyelp,\"The dining space is tiny, but elegantly decorated and comfortable.\"\\nyelp,One of the few places in Phoenix that I would definately go back to again .\\nyelp,It\\'ll be a regular stop on my trips to Phoenix!\\nyelp,I love their fries and their beans.\\nyelp,Def coming back to bowl next time\\nyelp,They also now serve Indian naan bread with hummus and some spicy pine nut sauce that was out of this world.\\nyelp,They were excellent.\\nyelp,I ordered the Lemon raspberry ice cocktail which was also incredible.\\nyelp,Will be back again!\\nyelp,this was a different cut than the piece the other day but still wonderful and tender s well as well flavored.\\nyelp,The staff was very attentive.\\nyelp,And the chef was generous with his time (even came around twice so we can take pictures with him).\\nyelp,Highly recommended.\\nyelp,So absolutley fantastic.\\nyelp,The shrimp tender and moist.\\nyelp,Stopped by during the late May bank holiday off Rick Steve recommendation and loved it.\\nyelp,I found this place by accident and I could not be happier.\\nyelp,Dessert: Panna Cotta was amazing.\\nyelp,This is a GREAT place to eat!\\nyelp,\"Thus far, have only visited twice and the food was absolutely delicious each time.\"\\nyelp,That\\'s right....the red velvet cake.....ohhh this stuff is so good.\\nyelp,We had 7 at our table and the service was pretty fast.\\nyelp,Good prices.\\nyelp,\"The salad had just the right amount of sauce to not over power the scallop, which was perfectly cooked.\"\\nyelp,The restaurant atmosphere was exquisite.\\nyelp,\"Give it a try, you will be happy you did.\"\\nyelp,Some highlights : Great quality nigiri here!\\nyelp,\"After one bite, I was hooked.\"\\nyelp,Our server was very nice and attentive as were the other serving staff.\\nyelp,My drink was never empty and he made some really great menu suggestions.\\nyelp,Update.....went back for a second time and it was still just as amazing\\nyelp,The steak was amazing...rge fillet relleno was the best seafood plate i have ever had!\\nyelp,The jalapeno bacon is soooo good.\\nyelp,We\\'d definitely go back here again.\\nyelp,\"Not a weekly haunt, but definitely a place to come back to every once in a while.\"\\nyelp,The seafood was fresh and generous in portion.\\nyelp,Sooooo good!!\\nyelp,All I have to say is the food was amazing!!!\\nyelp,\"This place is a jewel in Las Vegas, and exactly what I\\'ve been hoping to find in nearly ten years living here.\"\\nyelp,This is my new fav Vegas buffet spot.\\nyelp,My friend loved the salmon tartar.\\nyelp,The yellowtail carpaccio was melt in your mouth fresh.\\nyelp,This is one of the best bars with food in Vegas.\\nyelp,\"I had a salad with the wings, and some ice cream for dessert and left feeling quite satisfied.\"\\nyelp,I love this place.\\nyelp,I can assure you that you won\\'t be disappointed.\\nyelp,\"Perfect for someone (me) who only likes beer ice cold, or in this case, even colder.\"\\nyelp,\"Not to mention the combination of pears, almonds and bacon is a big winner!\"\\nyelp,Only Pros : Large seating area/ Nice bar area/ Great simple drink menu/ The BEST brick oven pizza with homemade dough!\\nyelp,\"Stopped by this place while in Madison for the Ironman, very friendly, kind staff.\"\\nyelp,The waitress and manager are so friendly.\\nyelp,Good beer & drink selection and good food selection.\\nyelp,I can\\'t wait to go back.\\nyelp,Service was excellent and prices are pretty reasonable considering this is Vegas and located inside the Crystals shopping mall by Aria.\\nyelp,No complaints!\\nyelp,Eclectic selection.\\nyelp,The folks at Otto always make us feel so welcome and special.\\nyelp,Great time - family dinner on a Sunday night.\\nyelp,You cant go wrong with any of the food here.\\nyelp,All the bread is made in-house!\\nyelp,When I received my Pita it was huge it did have a lot of meat in it so thumbs up there.\\nyelp,\"Service is quick and even \"\"to go\"\" orders are just like we like it!\"\\nyelp,\"As for the service: I\\'m a fan, because it\\'s quick and you\\'re being served by some nice folks.\"\\nyelp,The vanilla ice cream was creamy and smooth while the profiterole (choux) pastry was fresh enough.\\nyelp,Great food and great service in a clean and friendly setting.\\nyelp,\"He also came back to check on us regularly, excellent service.\"\\nyelp,The cashier was friendly and even brought the food out to me.\\nyelp,Service was very prompt.\\nyelp,the staff is friendly and the joint is always clean.\\nyelp,So we went to Tigerlilly and had a fantastic afternoon!\\nyelp,\"If you\\'re not familiar, check it out.\"\\nyelp,\"The deal included 5 tastings and 2 drinks, and Jeff went above and beyond what we expected.\"\\nyelp,Waitress was sweet and funny.\\nyelp,\"Classy/warm atmosphere, fun and fresh appetizers, succulent steaks (Baseball steak!!!!!\"\\nyelp,Much better than the other AYCE sushi place I went to in Vegas.\\nyelp,\"Good food , good service .\"\\nyelp,I did not expect this to be so good!\\nyelp,I love the Pho and the spring rolls oh so yummy you have to try.\\nyelp,Delicious and I will absolutely be back!\\nyelp,DELICIOUS!!\\nyelp,I love this place.\\nyelp,Best breakfast buffet!!!\\nyelp,\"Overall, a great experience.\"\\nyelp,Wow... Loved this place.\\nyelp,\"Very good, though!\"\\nyelp,Never had anything to complain about here.\\nyelp,It\\'s a great place and I highly recommend it.\\nyelp,\"I gave it 5 stars then, and I\\'m giving it 5 stars now.\"\\nyelp,\"The only good thing was our waiter, he was very helpful and kept the bloddy mary\\'s coming.\"\\nyelp,This place is two thumbs up....way up.\\nyelp,\"This hole in the wall has great Mexican street tacos, and friendly staff.\"\\nyelp,We enjoy their pizza and brunch.\\nyelp,Hands down my favorite Italian restaurant!\\nyelp,The Greek dressing was very creamy and flavorful.\\nyelp,Service was exceptional and food was a good as all the reviews.\\nyelp,\"They could serve it with just the vinaigrette and it may make for a better overall dish, but it was still very good.\"\\nyelp,An extensive menu provides lots of options for breakfast.\\nyelp,Their monster chicken fried steak and eggs is my all time favorite.\\nyelp,Everything was perfect the night we were in.\\nyelp,\"It\\'s close to my house, it\\'s low-key, non-fancy, affordable prices, good food.\"\\nyelp,\"The food was delicious, our bartender was attentive and personable AND we got a great deal!\"\\nyelp,\"Level 5 spicy was perfect, where spice didn\\'t over-whelm the soup.\"\\nyelp,\"The best place in Vegas for breakfast (just check out a Sat, or Sun.\"\\nyelp,\"Prices are very reasonable, flavors are spot on, the sauce is home made, and the slaw is not drenched in mayo.\"\\nyelp,The steaks are all well trimmed and also perfectly cooked.\\nyelp,\"Everyone is very attentive, providing excellent customer service.\"\\nyelp,Join the club and get awesome offers via email.\\nyelp,I ordered the Voodoo pasta and it was the first time I\\'d had really excellent pasta since going gluten free several years ago.\\nyelp,\"My breakfast was perpared great, with a beautiful presentation of 3 giant slices of Toast, lightly dusted with powdered sugar.\"\\nyelp,I hope this place sticks around.\\nyelp,The price is reasonable and the service is great.\\nyelp,I can say that the desserts were yummy.\\nyelp,Cooked to perfection and the service was impeccable.\\nyelp,The only redeeming quality of the restaurant was that it was very inexpensive.\\nyelp,The sweet potato tots were good but the onion rings were perfection or as close as I have had.\\nyelp,\"Seriously flavorful delights, folks.\"\\nyelp,If you stay in Vegas you must get breakfast here at least once.\\nyelp,The restaurant is very clean and has a family restaurant feel to it.\\nyelp,This place was such a nice surprise!\\nyelp,He came running after us when he realized my husband had left his sunglasses on the table.\\nyelp,The food is very good for your typical bar food.\\nyelp,This is an unbelievable BARGAIN!\\nyelp,\"Be sure to order dessert, even if you need to pack it to-go - the tiramisu and cannoli are both to die for.\"\\nyelp,The Veggitarian platter is out of this world!\\nyelp,Wonderful lil tapas and the ambience made me feel all warm and fuzzy inside.\\nyelp,Great place to relax and have an awesome burger and beer.\\nyelp,Talk about great customer service of course we will be back.\\nyelp,This is some seriously good pizza and I\\'m an expert/connisseur on the topic.\\nyelp,\"The staff is super nice and very quick even with the crazy crowds of the downtown juries, lawyers, and court staff.\"\\nyelp,From what my dinner companions told me...everything was very fresh with nice texture and taste.\\nyelp,\"If you want healthy authentic or ethic food, try this place.\"\\nyelp,Food was really good and I got full petty fast.\\nyelp,I\\'d love to go back.\\nyelp,\"This place is like Chipotle, but BETTER.\"\\nyelp,They have a really nice atmosphere.\\nyelp,I love that they put their food in nice plastic containers as opposed to cramming it in little paper takeout boxes.\\nyelp,I really enjoyed eating here.\\nyelp,The best place to go for a tasty bowl of Pho!\\nyelp,Great Pizza and Salads!\\nyelp,\"Great Subway, in fact it\\'s so good when you come here every other Subway will not meet your expectations.\"\\nyelp,\"Good service, very clean, and inexpensive, to boot!\"\\nyelp,The owners are super friendly and the staff is courteous.\\nyelp,\"Very good food, great atmosphere.1\"\\nyelp,This was my first and only Vegas buffet and it did not disappoint.\\nyelp,Interesting decor.\\nyelp,\"Plus, it\\'s only 8 bucks.\"\\nyelp,\"Great steak, great sides, great wine, amazing desserts.\"\\nyelp,Four stars for the food & the guy in the blue shirt for his great vibe & still letting us in to eat !\\nyelp,\"The staff is great, the food is delish, and they have an incredible beer selection.\"\\nyelp,Nargile - I think you are great.\\nyelp,Today is the second time I\\'ve been to their lunch buffet and it was pretty good.\\nyelp,I would recommend saving room for this!\\nyelp,This place receives stars for their APPETIZERS!!!\\nyelp,It is PERFECT for a sit-down family meal or get together with a few friends.\\nyelp,\"I had heard good things about this place, but it exceeding every hope I could have dreamed of.\"\\nyelp,They were golden-crispy and delicious.\\nyelp,\"The wontons were thin, not thick and chewy, almost melt in your mouth.\"\\nyelp,\"All in all an excellent restaurant highlighted by great service, a unique menu, and a beautiful setting.\"\\nyelp,Ample portions and good prices.\\nyelp,Their regular toasted bread was equally satisfying with the occasional pats of butter... Mmmm...!\\nyelp,The food was outstanding and the prices were very reasonable.\\nyelp,\"In an interesting part of town, this place is amazing.\"\\nyelp,I want to first say our server was great and we had perfect service.\\nyelp,Im in AZ all the time and now have my new spot.\\nyelp,The ambience is wonderful and there is music playing.\\nyelp,This is the place where I first had pho and it was amazing!!\\nyelp,Both of the egg rolls were fantastic.\\nyelp,It was just not a fun experience.\\nyelp,Cant say enough good things about this place.\\nyelp,The bartender was also nice.\\nyelp,Their steaks are 100% recommended!\\nyelp,Awesome service and food.\\nyelp,\"Our server was fantastic and when he found out the wife loves roasted garlic and bone marrow, he added extra to our meal and another marrow to go!\"\\nyelp,A good time!\\nyelp,I will come back here every time I\\'m in Vegas.\\nyelp,The lighting is just dark enough to set the mood.\\nyelp,Service was fantastic.\\nyelp,\"A couple of months later, I returned and had an amazing meal.\"\\nyelp,The food came out at a good pace.\\nyelp,Great food and awesome service!\\nyelp,I love the decor with the Chinese calligraphy wall paper.\\nyelp,Service is perfect and the family atmosphere is nice to see.\\nyelp,Once you get inside you\\'ll be impressed with the place.\\nyelp,Would come back again if I had a sushi craving while in Vegas.\\nyelp,High-quality chicken on the chicken Caesar salad.\\nyelp,We were promptly greeted and seated.\\nyelp,\"I tried the Cape Cod ravoli, chicken,with cranberry...mmmm!\"\\nyelp,Fantastic service here.\\nyelp,Just had lunch here and had a great experience.\\nyelp,The pancake was also really good and pretty large at that.\\nyelp,The service was outshining & I definitely recommend the Halibut.\\nyelp,\"I also had to taste my Mom\\'s multi-grain pumpkin pancakes with pecan butter and they were amazing, fluffy, and delicious!\"\\nyelp,A great way to finish a great.\\nyelp,\"I personally love the hummus, pita, baklava, falafels and Baba Ganoush (it\\'s amazing what they do with eggplant!).\"\\nyelp,\"This place is pretty good, nice little vibe in the restaurant.\"\\nyelp,The chicken was deliciously seasoned and had the perfect fry on the outside and moist chicken on the inside.\\nyelp,So flavorful and has just the perfect amount of heat.\\nyelp,This wonderful experience made this place a must-stop whenever we are in town again.\\nyelp,We were sat right on time and our server from the get go was FANTASTIC!\\nyelp,OMG I felt like I had never eaten Thai food until this dish.\\nyelp,The sergeant pepper beef sandwich with auju sauce is an excellent sandwich as well.\\nyelp,Very very fun chef.\\nyelp,\"The food, amazing.\"\\nyelp,An excellent new restaurant by an experienced Frenchman.\\nyelp,I will be back many times soon.\\nyelp,There was a warm feeling with the service and I felt like their guest for a special treat.\\nyelp,The atmosphere here is fun.\\nyelp,\"I\\'m so happy to be here!!!\"\"\"\\nyelp,Their chow mein is so good!\\nyelp,\"The service was great, even the manager came and helped with our table.\"\\nyelp,Just as good as when I had it more than a year ago!\\nyelp,What I really like there is the crepe station.\\nyelp,It was absolutely amazing.\\nyelp,Some may say this buffet is pricey but I think you get what you pay for and this place you are getting quite a lot!\\nyelp,\"On the up side, their cafe serves really good food.\"\\nyelp,\"We thought you\\'d have to venture further away to get good sushi, but this place really hit the spot that night.\"\\nyelp,Everyone is treated equally special.\\nyelp,\"This isn\\'t a small family restaurant, this is a fine dining establishment.\"\\nyelp,I\\'ll definitely be in soon again.\\nyelp,I miss it and wish they had one in Philadelphia!\\nyelp,This is an Outstanding little restaurant with some of the Best Food I have ever tasted.\\nyelp,Great place to have a couple drinks and watch any and all sporting events as the walls are covered with TV\\'s.\\nyelp,Pretty cool I would say.\\nyelp,The flair bartenders are absolutely amazing!\\nyelp,The croutons also taste homemade which is an extra plus.\\nyelp,the potatoes were great and so was the biscuit.\\nyelp,So they performed.\\nyelp,It\\'s worth driving up from Tucson!\\nyelp,Best tacos in town by far!!\\nyelp,\"The chips and salsa were really good, the salsa was very fresh.\"\\nyelp,Our server was super nice and checked on us many times.\\nyelp,The cocktails are all handmade and delicious.\\nyelp,They know how to make them here.\\nyelp,We made the drive all the way from North Scottsdale... and I was not one bit disappointed!\\nyelp,Great service and food.\\nyelp,We loved the biscuits!!!\\nyelp,\"Definitely worth venturing off the strip for the pork belly, will return next time I\\'m in Vegas.\"\\nyelp,They really want to make your experience a good one.\\nyelp,Favorite place in town for shawarrrrrrma!!!!!!\\nyelp,\"The burger is good beef, cooked just right.\"\\nyelp,The seasonal fruit was fresh white peach puree.\\nyelp,\"Great place to eat, reminds me of the little mom and pop shops in the San Francisco Bay Area.\"\\nyelp,\"Hawaiian Breeze, Mango Magic, and Pineapple Delight are the smoothies that I\\'ve tried so far and they\\'re all good.\"\\nyelp,The food is good.\\nyelp,\"The atmosphere is modern and hip, while maintaining a touch of coziness.\"\\nyelp,Best tater tots in the southwest.\\nyelp,\"Back to good BBQ, lighter fare, reasonable pricing and tell the public they are back to the old ways.\"\\nyelp,Penne vodka excellent!\\nyelp,I believe that this place is a great stop for those with a huge belly and hankering for sushi.\\nyelp,\"Cute, quaint, simple, honest.\"\\nyelp,A fantastic neighborhood gem !!!\\nyelp,Now the pizza itself was good the peanut sauce was very tasty.\\nyelp,It was awesome.\\nyelp,The nachos are a MUST HAVE!\\nyelp,I like Steiners because it\\'s dark and it feels like a bar.\\nyelp,I had the opportunity today to sample your amazing pizzas!\\nyelp,\"At first glance it is a lovely bakery cafe - nice ambiance, clean, friendly staff.\"\\nyelp,Waitress was good though!\\nyelp,\"You get incredibly fresh fish, prepared with care.\"\\nyelp,These were so good we ordered them twice.\\nyelp,Service is quick and friendly.\\nyelp,I liked the patio and the service was outstanding.\\nyelp,All of the tapas dishes were delicious!\\nyelp,\"In the summer, you can dine in a charming outdoor patio - so very delightful.\"\\nyelp,\"They have a good selection of food including a massive meatloaf sandwich, a crispy chicken wrap, a delish tuna melt and some tasty burgers.\"\\nyelp,The food was excellent and service was very good.\\nyelp,\"I have been here several times in the past, and the experience has always been great.\"\\nyelp,Great place fo take out or eat in.\\nyelp,An absolute must visit!\\nyelp,Very friendly staff.\\nyelp,I loved the bacon wrapped dates.\\nyelp,Last night was my second time dining here and I was so happy I decided to go back!\\nyelp,\"They have a plethora of salads and sandwiches, and everything I\\'ve tried gets my seal of approval.\"\\nyelp,The selection on the menu was great and so were the prices.\\nyelp,\"All in all, I can assure you I\\'ll be back.\"\\nyelp,Great food.\\nyelp,\"Food was good, service was good, Prices were good.\"\\nyelp,The black eyed peas and sweet potatoes... UNREAL!\\nyelp,As always the evening was wonderful and the food delicious!\\nyelp,\"I have eaten here multiple times, and each time the food was delicious.\"\\nyelp,My fianc\\xc3\\xa9 and I came in the middle of the day and we were greeted and seated right away.\\nyelp,\"And considering the two of us left there very full and happy for about $20, you just can\\'t go wrong.\"\\nyelp,\"Great food and service, huge portions and they give a military discount.\"\\nyelp,I *heart* this place.\\nyelp,this place is good.\\nyelp,\"I love the owner/chef, his one authentic Japanese cool dude!\"\\nyelp,I didn\\'t know pulled pork could be soooo delicious.\\nyelp,I recently tried Caballero\\'s and I have been back every week since!\\nyelp,\"The food was very good and I enjoyed every mouthful, an enjoyable relaxed venue for couples small family groups etc.\"\\nyelp,CONCLUSION: Very filling meals.\\nyelp,You won\\'t be disappointed.\\nyelp,\"I was proven dead wrong by this sushi bar, not only because the quality is great, but the service is fast and the food, impeccable.\"\\nyelp,The steak and the shrimp are in my opinion the best entrees at GC.\\nyelp,Restaurant is always full but never a wait.\\nyelp,\"Love this place, hits the spot when I want something healthy but not lacking in quantity or flavor.\"\\nyelp,The fries were great too.\\nyelp,\"I don\\'t each much pasta, but I love the homemade /hand made pastas and thin pizzas here.\"\\nyelp,\"This was my first crawfish experience, and it was delicious!\"\\nyelp,\"On a positive note, our server was very attentive and provided great service.\"\\nyelp,\"I had strawberry tea, which was good.\"\\nyelp,The waitress was friendly and happy to accomodate for vegan/veggie options.\\nyelp,We loved the place.\\nyelp,\"Nice, spicy and tender.\"\\nyelp,We walked away stuffed and happy about our first Vegas buffet experience.\\nyelp,\"Point your finger at any item on the menu, order it and you won\\'t be disappointed.\"\\nyelp,\"The sides are delish - mixed mushrooms, yukon gold puree, white corn - beateous.\"\\nyelp,Service was fine and the waitress was friendly.\\nyelp,Generous portions and great taste.\\nyelp,The roast beef sandwich tasted really good!\\nyelp,\"Loved it...friendly servers, great food, wonderful and imaginative menu.\"\\nyelp,I had a seriously solid breakfast here.\\nyelp,We had a group of 70+ when we claimed we would only have 40 and they handled us beautifully.\\nyelp,Omelets are to die for!\\nyelp,They had a toro tartare with a cavier that was extraordinary and I liked the thinly sliced wagyu with white truffle.\\nyelp,The grilled chicken was so tender and yellow from the saffron seasoning.\\nyelp,\"To summarize... the food was incredible, nay, transcendant... but nothing brings me joy quite like the memory of the pneumatic condiment dispenser.\"\\nyelp,\"Great food for the price, which is very high quality and house made.\"\\nyelp,\"Best Buffet in town, for the price you cannot beat it.\"\\nyelp,\"Anyway, this FS restaurant has a wonderful breakfast/lunch.\"\\nyelp,The ambiance was incredible.\\nyelp,The atmosphere was great with a lovely duo of violinists playing songs we requested.\\nyelp,This place is amazing!\\nyelp,The food was very good.\\nyelp,The portion was huge!\\nyelp,The goat taco didn\\'t skimp on the meat and wow what FLAVOR!\\nyelp,\"The food was great as always, compliments to the chef.\"\\nyelp,* Both the Hot & Sour & the Egg Flower Soups were absolutely 5 Stars!\\nyelp,He deserves 5 stars.\\nyelp,\"Lordy, the Khao Soi is a dish that is not to be missed for curry lovers!\"\\nyelp,This place is awesome if you want something light and healthy during the summer.\\nyelp,I was seated immediately.\\nyelp,I will continue to come here on ladies night andddd date night ... highly recommend this place to anyone who is in the area (;\\nyelp,They also have the best cheese crisp in town.\\nyelp,Food was delicious!\\nyelp,\"Both of them were truly unbelievably good, and I am so glad we went back.\"\\nyelp,you can watch them preparing the delicious food!)\\nyelp,The cow tongue and cheek tacos are amazing.\\nyelp,This was my first time and I can\\'t wait until the next.\\nyelp,The staff are also very friendly and efficient.\\nyelp,\"Of all the dishes, the salmon was the best, but all were great.\"\\nyelp,Food was so gooodd.\\nyelp,They have great dinners.\\nyelp,Best fish I\\'ve ever had in my life!\\nyelp,Great brunch spot.\\nyelp,\"I don\\'t have very many words to say about this place, but it does everything pretty well.\"\\nyelp,The sweet potato fries were very good and seasoned well.\\nyelp,I could eat their bruschetta all day it is devine.\\nyelp,Ambience is perfect.\\nyelp,We ordered the duck rare and it was pink and tender on the inside with a nice char on the outside.\\nyelp,Service was good and the company was better!\\n',\n",
              " 'y_train.csv': b'is_positive_sentiment\\n0\\n0\\n0\\n0\\n0\\n0\\n0\\n0\\n0\\n0\\n0\\n0\\n0\\n0\\n0\\n0\\n0\\n0\\n0\\n0\\n0\\n0\\n0\\n0\\n0\\n0\\n0\\n0\\n0\\n0\\n0\\n0\\n0\\n0\\n0\\n0\\n0\\n0\\n0\\n0\\n0\\n0\\n0\\n0\\n0\\n0\\n0\\n0\\n0\\n0\\n0\\n0\\n0\\n0\\n0\\n0\\n0\\n0\\n0\\n0\\n0\\n0\\n0\\n0\\n0\\n0\\n0\\n0\\n0\\n0\\n0\\n0\\n0\\n0\\n0\\n0\\n0\\n0\\n0\\n0\\n0\\n0\\n0\\n0\\n0\\n0\\n0\\n0\\n0\\n0\\n0\\n0\\n0\\n0\\n0\\n0\\n0\\n0\\n0\\n0\\n0\\n0\\n0\\n0\\n0\\n0\\n0\\n0\\n0\\n0\\n0\\n0\\n0\\n0\\n0\\n0\\n0\\n0\\n0\\n0\\n0\\n0\\n0\\n0\\n0\\n0\\n0\\n0\\n0\\n0\\n0\\n0\\n0\\n0\\n0\\n0\\n0\\n0\\n0\\n0\\n0\\n0\\n0\\n0\\n0\\n0\\n0\\n0\\n0\\n0\\n0\\n0\\n0\\n0\\n0\\n0\\n0\\n0\\n0\\n0\\n0\\n0\\n0\\n0\\n0\\n0\\n0\\n0\\n0\\n0\\n0\\n0\\n0\\n0\\n0\\n0\\n0\\n0\\n0\\n0\\n0\\n0\\n0\\n0\\n0\\n0\\n0\\n0\\n0\\n0\\n0\\n0\\n0\\n0\\n0\\n0\\n0\\n0\\n0\\n0\\n0\\n0\\n0\\n0\\n0\\n0\\n0\\n0\\n0\\n0\\n0\\n0\\n0\\n0\\n0\\n0\\n0\\n0\\n0\\n0\\n0\\n0\\n0\\n0\\n0\\n0\\n0\\n0\\n0\\n0\\n0\\n0\\n0\\n0\\n0\\n0\\n0\\n0\\n0\\n0\\n0\\n0\\n0\\n0\\n0\\n0\\n0\\n0\\n0\\n0\\n0\\n0\\n0\\n0\\n0\\n0\\n0\\n0\\n0\\n0\\n0\\n0\\n0\\n0\\n0\\n0\\n0\\n0\\n0\\n0\\n0\\n0\\n0\\n0\\n0\\n0\\n0\\n0\\n0\\n0\\n0\\n0\\n0\\n0\\n0\\n0\\n0\\n0\\n0\\n0\\n0\\n0\\n0\\n0\\n0\\n0\\n0\\n0\\n0\\n0\\n0\\n0\\n0\\n0\\n0\\n0\\n0\\n0\\n0\\n0\\n0\\n0\\n0\\n0\\n0\\n0\\n0\\n0\\n0\\n0\\n0\\n0\\n0\\n0\\n0\\n0\\n0\\n0\\n0\\n0\\n0\\n0\\n0\\n0\\n0\\n0\\n0\\n0\\n0\\n0\\n0\\n0\\n0\\n0\\n0\\n0\\n0\\n0\\n0\\n0\\n0\\n0\\n0\\n0\\n0\\n0\\n0\\n0\\n0\\n0\\n0\\n0\\n0\\n0\\n0\\n0\\n0\\n0\\n0\\n0\\n0\\n0\\n0\\n0\\n0\\n0\\n0\\n0\\n0\\n0\\n0\\n0\\n0\\n0\\n0\\n0\\n0\\n0\\n0\\n0\\n0\\n0\\n0\\n0\\n0\\n0\\n0\\n0\\n0\\n0\\n1\\n1\\n1\\n1\\n1\\n1\\n1\\n1\\n1\\n1\\n1\\n1\\n1\\n1\\n1\\n1\\n1\\n1\\n1\\n1\\n1\\n1\\n1\\n1\\n1\\n1\\n1\\n1\\n1\\n1\\n1\\n1\\n1\\n1\\n1\\n1\\n1\\n1\\n1\\n1\\n1\\n1\\n1\\n1\\n1\\n1\\n1\\n1\\n1\\n1\\n1\\n1\\n1\\n1\\n1\\n1\\n1\\n1\\n1\\n1\\n1\\n1\\n1\\n1\\n1\\n1\\n1\\n1\\n1\\n1\\n1\\n1\\n1\\n1\\n1\\n1\\n1\\n1\\n1\\n1\\n1\\n1\\n1\\n1\\n1\\n1\\n1\\n1\\n1\\n1\\n1\\n1\\n1\\n1\\n1\\n1\\n1\\n1\\n1\\n1\\n1\\n1\\n1\\n1\\n1\\n1\\n1\\n1\\n1\\n1\\n1\\n1\\n1\\n1\\n1\\n1\\n1\\n1\\n1\\n1\\n1\\n1\\n1\\n1\\n1\\n1\\n1\\n1\\n1\\n1\\n1\\n1\\n1\\n1\\n1\\n1\\n1\\n1\\n1\\n1\\n1\\n1\\n1\\n1\\n1\\n1\\n1\\n1\\n1\\n1\\n1\\n1\\n1\\n1\\n1\\n1\\n1\\n1\\n1\\n1\\n1\\n1\\n1\\n1\\n1\\n1\\n1\\n1\\n1\\n1\\n1\\n1\\n1\\n1\\n1\\n1\\n1\\n1\\n1\\n1\\n1\\n1\\n1\\n1\\n1\\n1\\n1\\n1\\n1\\n1\\n1\\n1\\n1\\n1\\n1\\n1\\n1\\n1\\n1\\n1\\n1\\n1\\n1\\n1\\n1\\n1\\n1\\n1\\n1\\n1\\n1\\n1\\n1\\n1\\n1\\n1\\n1\\n1\\n1\\n1\\n1\\n1\\n1\\n1\\n1\\n1\\n1\\n1\\n1\\n1\\n1\\n1\\n1\\n1\\n1\\n1\\n1\\n1\\n1\\n1\\n1\\n1\\n1\\n1\\n1\\n1\\n1\\n1\\n1\\n1\\n1\\n1\\n1\\n1\\n1\\n1\\n1\\n1\\n1\\n1\\n1\\n1\\n1\\n1\\n1\\n1\\n1\\n1\\n1\\n1\\n1\\n1\\n1\\n1\\n1\\n1\\n1\\n1\\n1\\n1\\n1\\n1\\n1\\n1\\n1\\n1\\n1\\n1\\n1\\n1\\n1\\n1\\n1\\n1\\n1\\n1\\n1\\n1\\n1\\n1\\n1\\n1\\n1\\n1\\n1\\n1\\n1\\n1\\n1\\n1\\n1\\n1\\n1\\n1\\n1\\n1\\n1\\n1\\n1\\n1\\n1\\n1\\n1\\n1\\n1\\n1\\n1\\n1\\n1\\n1\\n1\\n1\\n1\\n1\\n1\\n1\\n1\\n1\\n1\\n1\\n1\\n1\\n1\\n1\\n1\\n1\\n1\\n1\\n1\\n1\\n1\\n1\\n1\\n1\\n1\\n1\\n1\\n1\\n1\\n1\\n1\\n1\\n1\\n1\\n1\\n1\\n1\\n1\\n1\\n1\\n1\\n1\\n1\\n1\\n1\\n1\\n1\\n1\\n1\\n1\\n1\\n1\\n1\\n1\\n1\\n1\\n1\\n1\\n1\\n1\\n1\\n1\\n1\\n1\\n1\\n1\\n1\\n1\\n1\\n1\\n0\\n0\\n0\\n0\\n0\\n0\\n0\\n0\\n0\\n0\\n0\\n0\\n0\\n0\\n0\\n0\\n0\\n0\\n0\\n0\\n0\\n0\\n0\\n0\\n0\\n0\\n0\\n0\\n0\\n0\\n0\\n0\\n0\\n0\\n0\\n0\\n0\\n0\\n0\\n0\\n0\\n0\\n0\\n0\\n0\\n0\\n0\\n0\\n0\\n0\\n0\\n0\\n0\\n0\\n0\\n0\\n0\\n0\\n0\\n0\\n0\\n0\\n0\\n0\\n0\\n0\\n0\\n0\\n0\\n0\\n0\\n0\\n0\\n0\\n0\\n0\\n0\\n0\\n0\\n0\\n0\\n0\\n0\\n0\\n0\\n0\\n0\\n0\\n0\\n0\\n0\\n0\\n0\\n0\\n0\\n0\\n0\\n0\\n0\\n0\\n0\\n0\\n0\\n0\\n0\\n0\\n0\\n0\\n0\\n0\\n0\\n0\\n0\\n0\\n0\\n0\\n0\\n0\\n0\\n0\\n0\\n0\\n0\\n0\\n0\\n0\\n0\\n0\\n0\\n0\\n0\\n0\\n0\\n0\\n0\\n0\\n0\\n0\\n0\\n0\\n0\\n0\\n0\\n0\\n0\\n0\\n0\\n0\\n0\\n0\\n0\\n0\\n0\\n0\\n0\\n0\\n0\\n0\\n0\\n0\\n0\\n0\\n0\\n0\\n0\\n0\\n0\\n0\\n0\\n0\\n0\\n0\\n0\\n0\\n0\\n0\\n0\\n0\\n0\\n0\\n0\\n0\\n0\\n0\\n0\\n0\\n0\\n0\\n0\\n0\\n0\\n0\\n0\\n0\\n0\\n0\\n0\\n0\\n0\\n0\\n0\\n0\\n0\\n0\\n0\\n0\\n0\\n0\\n0\\n0\\n0\\n0\\n0\\n0\\n0\\n0\\n0\\n0\\n0\\n0\\n0\\n0\\n0\\n0\\n0\\n0\\n0\\n0\\n0\\n0\\n0\\n0\\n0\\n0\\n0\\n0\\n0\\n0\\n0\\n0\\n0\\n0\\n0\\n0\\n0\\n0\\n0\\n0\\n0\\n0\\n0\\n0\\n0\\n0\\n0\\n0\\n0\\n0\\n0\\n0\\n0\\n0\\n0\\n0\\n0\\n0\\n0\\n0\\n0\\n0\\n0\\n0\\n0\\n0\\n0\\n0\\n0\\n0\\n0\\n0\\n0\\n0\\n0\\n0\\n0\\n0\\n0\\n0\\n0\\n0\\n0\\n0\\n0\\n0\\n0\\n0\\n0\\n0\\n0\\n0\\n0\\n0\\n0\\n0\\n0\\n0\\n0\\n0\\n0\\n0\\n0\\n0\\n0\\n0\\n0\\n0\\n0\\n0\\n0\\n0\\n0\\n0\\n0\\n0\\n0\\n0\\n0\\n0\\n0\\n0\\n0\\n0\\n0\\n0\\n0\\n0\\n0\\n0\\n0\\n0\\n0\\n0\\n0\\n0\\n0\\n0\\n0\\n0\\n0\\n0\\n0\\n0\\n0\\n0\\n0\\n0\\n0\\n0\\n0\\n0\\n0\\n0\\n0\\n0\\n0\\n0\\n0\\n0\\n0\\n0\\n0\\n0\\n0\\n0\\n0\\n0\\n0\\n0\\n0\\n0\\n0\\n0\\n0\\n0\\n0\\n0\\n0\\n0\\n0\\n0\\n0\\n0\\n0\\n0\\n0\\n0\\n0\\n0\\n0\\n0\\n1\\n1\\n1\\n1\\n1\\n1\\n1\\n1\\n1\\n1\\n1\\n1\\n1\\n1\\n1\\n1\\n1\\n1\\n1\\n1\\n1\\n1\\n1\\n1\\n1\\n1\\n1\\n1\\n1\\n1\\n1\\n1\\n1\\n1\\n1\\n1\\n1\\n1\\n1\\n1\\n1\\n1\\n1\\n1\\n1\\n1\\n1\\n1\\n1\\n1\\n1\\n1\\n1\\n1\\n1\\n1\\n1\\n1\\n1\\n1\\n1\\n1\\n1\\n1\\n1\\n1\\n1\\n1\\n1\\n1\\n1\\n1\\n1\\n1\\n1\\n1\\n1\\n1\\n1\\n1\\n1\\n1\\n1\\n1\\n1\\n1\\n1\\n1\\n1\\n1\\n1\\n1\\n1\\n1\\n1\\n1\\n1\\n1\\n1\\n1\\n1\\n1\\n1\\n1\\n1\\n1\\n1\\n1\\n1\\n1\\n1\\n1\\n1\\n1\\n1\\n1\\n1\\n1\\n1\\n1\\n1\\n1\\n1\\n1\\n1\\n1\\n1\\n1\\n1\\n1\\n1\\n1\\n1\\n1\\n1\\n1\\n1\\n1\\n1\\n1\\n1\\n1\\n1\\n1\\n1\\n1\\n1\\n1\\n1\\n1\\n1\\n1\\n1\\n1\\n1\\n1\\n1\\n1\\n1\\n1\\n1\\n1\\n1\\n1\\n1\\n1\\n1\\n1\\n1\\n1\\n1\\n1\\n1\\n1\\n1\\n1\\n1\\n1\\n1\\n1\\n1\\n1\\n1\\n1\\n1\\n1\\n1\\n1\\n1\\n1\\n1\\n1\\n1\\n1\\n1\\n1\\n1\\n1\\n1\\n1\\n1\\n1\\n1\\n1\\n1\\n1\\n1\\n1\\n1\\n1\\n1\\n1\\n1\\n1\\n1\\n1\\n1\\n1\\n1\\n1\\n1\\n1\\n1\\n1\\n1\\n1\\n1\\n1\\n1\\n1\\n1\\n1\\n1\\n1\\n1\\n1\\n1\\n1\\n1\\n1\\n1\\n1\\n1\\n1\\n1\\n1\\n1\\n1\\n1\\n1\\n1\\n1\\n1\\n1\\n1\\n1\\n1\\n1\\n1\\n1\\n1\\n1\\n1\\n1\\n1\\n1\\n1\\n1\\n1\\n1\\n1\\n1\\n1\\n1\\n1\\n1\\n1\\n1\\n1\\n1\\n1\\n1\\n1\\n1\\n1\\n1\\n1\\n1\\n1\\n1\\n1\\n1\\n1\\n1\\n1\\n1\\n1\\n1\\n1\\n1\\n1\\n1\\n1\\n1\\n1\\n1\\n1\\n1\\n1\\n1\\n1\\n1\\n1\\n1\\n1\\n1\\n1\\n1\\n1\\n1\\n1\\n1\\n1\\n1\\n1\\n1\\n1\\n1\\n1\\n1\\n1\\n1\\n1\\n1\\n1\\n1\\n1\\n1\\n1\\n1\\n1\\n1\\n1\\n1\\n1\\n1\\n1\\n1\\n1\\n1\\n1\\n1\\n1\\n1\\n1\\n1\\n1\\n1\\n1\\n1\\n1\\n1\\n1\\n1\\n1\\n1\\n1\\n1\\n1\\n1\\n1\\n1\\n1\\n1\\n1\\n1\\n1\\n1\\n1\\n1\\n1\\n1\\n1\\n1\\n1\\n1\\n1\\n1\\n1\\n1\\n1\\n1\\n1\\n1\\n1\\n1\\n1\\n1\\n1\\n1\\n0\\n0\\n0\\n0\\n0\\n0\\n0\\n0\\n0\\n0\\n0\\n0\\n0\\n0\\n0\\n0\\n0\\n0\\n0\\n0\\n0\\n0\\n0\\n0\\n0\\n0\\n0\\n0\\n0\\n0\\n0\\n0\\n0\\n0\\n0\\n0\\n0\\n0\\n0\\n0\\n0\\n0\\n0\\n0\\n0\\n0\\n0\\n0\\n0\\n0\\n0\\n0\\n0\\n0\\n0\\n0\\n0\\n0\\n0\\n0\\n0\\n0\\n0\\n0\\n0\\n0\\n0\\n0\\n0\\n0\\n0\\n0\\n0\\n0\\n0\\n0\\n0\\n0\\n0\\n0\\n0\\n0\\n0\\n0\\n0\\n0\\n0\\n0\\n0\\n0\\n0\\n0\\n0\\n0\\n0\\n0\\n0\\n0\\n0\\n0\\n0\\n0\\n0\\n0\\n0\\n0\\n0\\n0\\n0\\n0\\n0\\n0\\n0\\n0\\n0\\n0\\n0\\n0\\n0\\n0\\n0\\n0\\n0\\n0\\n0\\n0\\n0\\n0\\n0\\n0\\n0\\n0\\n0\\n0\\n0\\n0\\n0\\n0\\n0\\n0\\n0\\n0\\n0\\n0\\n0\\n0\\n0\\n0\\n0\\n0\\n0\\n0\\n0\\n0\\n0\\n0\\n0\\n0\\n0\\n0\\n0\\n0\\n0\\n0\\n0\\n0\\n0\\n0\\n0\\n0\\n0\\n0\\n0\\n0\\n0\\n0\\n0\\n0\\n0\\n0\\n0\\n0\\n0\\n0\\n0\\n0\\n0\\n0\\n0\\n0\\n0\\n0\\n0\\n0\\n0\\n0\\n0\\n0\\n0\\n0\\n0\\n0\\n0\\n0\\n0\\n0\\n0\\n0\\n0\\n0\\n0\\n0\\n0\\n0\\n0\\n0\\n0\\n0\\n0\\n0\\n0\\n0\\n0\\n0\\n0\\n0\\n0\\n0\\n0\\n0\\n0\\n0\\n0\\n0\\n0\\n0\\n0\\n0\\n0\\n0\\n0\\n0\\n0\\n0\\n0\\n0\\n0\\n0\\n0\\n0\\n0\\n0\\n0\\n0\\n0\\n0\\n0\\n0\\n0\\n0\\n0\\n0\\n0\\n0\\n0\\n0\\n0\\n0\\n0\\n0\\n0\\n0\\n0\\n0\\n0\\n0\\n0\\n0\\n0\\n0\\n0\\n0\\n0\\n0\\n0\\n0\\n0\\n0\\n0\\n0\\n0\\n0\\n0\\n0\\n0\\n0\\n0\\n0\\n0\\n0\\n0\\n0\\n0\\n0\\n0\\n0\\n0\\n0\\n0\\n0\\n0\\n0\\n0\\n0\\n0\\n0\\n0\\n0\\n0\\n0\\n0\\n0\\n0\\n0\\n0\\n0\\n0\\n0\\n0\\n0\\n0\\n0\\n0\\n0\\n0\\n0\\n0\\n0\\n0\\n0\\n0\\n0\\n0\\n0\\n0\\n0\\n0\\n0\\n0\\n0\\n0\\n0\\n0\\n0\\n0\\n0\\n0\\n0\\n0\\n0\\n0\\n0\\n0\\n0\\n0\\n0\\n0\\n0\\n0\\n0\\n0\\n0\\n0\\n0\\n0\\n0\\n0\\n0\\n0\\n0\\n0\\n0\\n0\\n0\\n0\\n0\\n0\\n0\\n0\\n0\\n0\\n0\\n0\\n0\\n0\\n0\\n0\\n0\\n0\\n0\\n1\\n1\\n1\\n1\\n1\\n1\\n1\\n1\\n1\\n1\\n1\\n1\\n1\\n1\\n1\\n1\\n1\\n1\\n1\\n1\\n1\\n1\\n1\\n1\\n1\\n1\\n1\\n1\\n1\\n1\\n1\\n1\\n1\\n1\\n1\\n1\\n1\\n1\\n1\\n1\\n1\\n1\\n1\\n1\\n1\\n1\\n1\\n1\\n1\\n1\\n1\\n1\\n1\\n1\\n1\\n1\\n1\\n1\\n1\\n1\\n1\\n1\\n1\\n1\\n1\\n1\\n1\\n1\\n1\\n1\\n1\\n1\\n1\\n1\\n1\\n1\\n1\\n1\\n1\\n1\\n1\\n1\\n1\\n1\\n1\\n1\\n1\\n1\\n1\\n1\\n1\\n1\\n1\\n1\\n1\\n1\\n1\\n1\\n1\\n1\\n1\\n1\\n1\\n1\\n1\\n1\\n1\\n1\\n1\\n1\\n1\\n1\\n1\\n1\\n1\\n1\\n1\\n1\\n1\\n1\\n1\\n1\\n1\\n1\\n1\\n1\\n1\\n1\\n1\\n1\\n1\\n1\\n1\\n1\\n1\\n1\\n1\\n1\\n1\\n1\\n1\\n1\\n1\\n1\\n1\\n1\\n1\\n1\\n1\\n1\\n1\\n1\\n1\\n1\\n1\\n1\\n1\\n1\\n1\\n1\\n1\\n1\\n1\\n1\\n1\\n1\\n1\\n1\\n1\\n1\\n1\\n1\\n1\\n1\\n1\\n1\\n1\\n1\\n1\\n1\\n1\\n1\\n1\\n1\\n1\\n1\\n1\\n1\\n1\\n1\\n1\\n1\\n1\\n1\\n1\\n1\\n1\\n1\\n1\\n1\\n1\\n1\\n1\\n1\\n1\\n1\\n1\\n1\\n1\\n1\\n1\\n1\\n1\\n1\\n1\\n1\\n1\\n1\\n1\\n1\\n1\\n1\\n1\\n1\\n1\\n1\\n1\\n1\\n1\\n1\\n1\\n1\\n1\\n1\\n1\\n1\\n1\\n1\\n1\\n1\\n1\\n1\\n1\\n1\\n1\\n1\\n1\\n1\\n1\\n1\\n1\\n1\\n1\\n1\\n1\\n1\\n1\\n1\\n1\\n1\\n1\\n1\\n1\\n1\\n1\\n1\\n1\\n1\\n1\\n1\\n1\\n1\\n1\\n1\\n1\\n1\\n1\\n1\\n1\\n1\\n1\\n1\\n1\\n1\\n1\\n1\\n1\\n1\\n1\\n1\\n1\\n1\\n1\\n1\\n1\\n1\\n1\\n1\\n1\\n1\\n1\\n1\\n1\\n1\\n1\\n1\\n1\\n1\\n1\\n1\\n1\\n1\\n1\\n1\\n1\\n1\\n1\\n1\\n1\\n1\\n1\\n1\\n1\\n1\\n1\\n1\\n1\\n1\\n1\\n1\\n1\\n1\\n1\\n1\\n1\\n1\\n1\\n1\\n1\\n1\\n1\\n1\\n1\\n1\\n1\\n1\\n1\\n1\\n1\\n1\\n1\\n1\\n1\\n1\\n1\\n1\\n1\\n1\\n1\\n1\\n1\\n1\\n1\\n1\\n1\\n1\\n1\\n1\\n1\\n1\\n1\\n1\\n1\\n1\\n1\\n1\\n1\\n1\\n1\\n1\\n1\\n1\\n1\\n1\\n1\\n1\\n1\\n1\\n1\\n1\\n1\\n1\\n1\\n1\\n1\\n1\\n1\\n1\\n1\\n1\\n'}"
            ]
          },
          "metadata": {
            "tags": []
          },
          "execution_count": 2
        }
      ]
    },
    {
      "cell_type": "markdown",
      "metadata": {
        "id": "CgLJN-PMwytZ",
        "colab_type": "text"
      },
      "source": [
        "### Creating pandas dataframe of the dataset. \n",
        "#### We're importing x_train which stores the reviews, y_train holds the sentiment values, x_test are the reviews on which we will test our work"
      ]
    },
    {
      "cell_type": "code",
      "metadata": {
        "id": "hqkImR-oJm85",
        "colab_type": "code",
        "colab": {
          "base_uri": "https://localhost:8080/",
          "height": 34
        },
        "outputId": "98624de8-8581-4451-aa62-f87ee5df6241"
      },
      "source": [
        "x_test = pd.read_csv('x_test.csv')\n",
        "x_train = pd.read_csv('x_train.csv')\n",
        "y_train = pd.read_csv('y_train.csv')\n",
        "y = y_train['is_positive_sentiment']\n",
        "y.shape[0]"
      ],
      "execution_count": 10,
      "outputs": [
        {
          "output_type": "execute_result",
          "data": {
            "text/plain": [
              "2400"
            ]
          },
          "metadata": {
            "tags": []
          },
          "execution_count": 10
        }
      ]
    },
    {
      "cell_type": "markdown",
      "metadata": {
        "id": "ZiY4wcpCydNy",
        "colab_type": "text"
      },
      "source": [
        "On displaying the shape we now know that we have 2400 samples. Out of which 1200 are positive and 1200 are negative."
      ]
    },
    {
      "cell_type": "code",
      "metadata": {
        "id": "2YIHoEIRJm_J",
        "colab_type": "code",
        "colab": {},
        "outputId": "31ca3725-91fe-4c7a-d63e-c9cd0c2f6106"
      },
      "source": [
        "y.value_counts()"
      ],
      "execution_count": 0,
      "outputs": [
        {
          "output_type": "execute_result",
          "data": {
            "text/plain": [
              "1    1200\n",
              "0    1200\n",
              "Name: is_positive_sentiment, dtype: int64"
            ]
          },
          "metadata": {
            "tags": []
          },
          "execution_count": 14
        }
      ]
    },
    {
      "cell_type": "markdown",
      "metadata": {
        "id": "5lPkZYhyyyD5",
        "colab_type": "text"
      },
      "source": [
        "### Few pre-processing techniques that could be employed are...\n",
        "*   Remove all punctuation from words.\n",
        "*   Remove all words that are not purely comprised of alphabetical characters.\n",
        "*   Remove all words that are not purely comprised of alphabetical characters.\n",
        "*   Remove all words that are known stop words.\n",
        "*   Remove all words that have a length <= 1 character."
      ]
    },
    {
      "cell_type": "markdown",
      "metadata": {
        "id": "wYNlyxDK6Nc5",
        "colab_type": "text"
      },
      "source": [
        "### Code for converting all the reviews to lower case\n"
      ]
    },
    {
      "cell_type": "code",
      "metadata": {
        "id": "Q5jY8TkwJm_M",
        "colab_type": "code",
        "colab": {}
      },
      "source": [
        "###LOWER CASE############\n",
        "x_train[\"text\"] = (x_train[\"text\"].apply(lambda x: \" \".join(x.lower() for x in x.split())))\n"
      ],
      "execution_count": 0,
      "outputs": []
    },
    {
      "cell_type": "code",
      "metadata": {
        "id": "TLzSqwhH6arW",
        "colab_type": "code",
        "colab": {
          "base_uri": "https://localhost:8080/",
          "height": 204
        },
        "outputId": "233fe4ba-013f-41bf-af9f-433cddb06fce"
      },
      "source": [
        "x_train.head()"
      ],
      "execution_count": 29,
      "outputs": [
        {
          "output_type": "execute_result",
          "data": {
            "text/html": [
              "<div>\n",
              "<style scoped>\n",
              "    .dataframe tbody tr th:only-of-type {\n",
              "        vertical-align: middle;\n",
              "    }\n",
              "\n",
              "    .dataframe tbody tr th {\n",
              "        vertical-align: top;\n",
              "    }\n",
              "\n",
              "    .dataframe thead th {\n",
              "        text-align: right;\n",
              "    }\n",
              "</style>\n",
              "<table border=\"1\" class=\"dataframe\">\n",
              "  <thead>\n",
              "    <tr style=\"text-align: right;\">\n",
              "      <th></th>\n",
              "      <th>website_name</th>\n",
              "      <th>text</th>\n",
              "    </tr>\n",
              "  </thead>\n",
              "  <tbody>\n",
              "    <tr>\n",
              "      <th>0</th>\n",
              "      <td>amazon</td>\n",
              "      <td>Oh and I forgot to also mention the weird colo...</td>\n",
              "    </tr>\n",
              "    <tr>\n",
              "      <th>1</th>\n",
              "      <td>amazon</td>\n",
              "      <td>THAT one didn't work either.</td>\n",
              "    </tr>\n",
              "    <tr>\n",
              "      <th>2</th>\n",
              "      <td>amazon</td>\n",
              "      <td>Waste of 13 bucks.</td>\n",
              "    </tr>\n",
              "    <tr>\n",
              "      <th>3</th>\n",
              "      <td>amazon</td>\n",
              "      <td>Product is useless, since it does not have eno...</td>\n",
              "    </tr>\n",
              "    <tr>\n",
              "      <th>4</th>\n",
              "      <td>amazon</td>\n",
              "      <td>None of the three sizes they sent with the hea...</td>\n",
              "    </tr>\n",
              "  </tbody>\n",
              "</table>\n",
              "</div>"
            ],
            "text/plain": [
              "  website_name                                               text\n",
              "0       amazon  Oh and I forgot to also mention the weird colo...\n",
              "1       amazon                       THAT one didn't work either.\n",
              "2       amazon                                 Waste of 13 bucks.\n",
              "3       amazon  Product is useless, since it does not have eno...\n",
              "4       amazon  None of the three sizes they sent with the hea..."
            ]
          },
          "metadata": {
            "tags": []
          },
          "execution_count": 29
        }
      ]
    },
    {
      "cell_type": "markdown",
      "metadata": {
        "id": "kTYeZ0dg6Z1q",
        "colab_type": "text"
      },
      "source": [
        "### Removing all punctuation marks"
      ]
    },
    {
      "cell_type": "code",
      "metadata": {
        "id": "by63mO_jJm_P",
        "colab_type": "code",
        "colab": {}
      },
      "source": [
        "# Removing punctuation\n",
        "x_train[\"text\"] = x_train[\"text\"].str.replace('[^\\w\\s]','')"
      ],
      "execution_count": 0,
      "outputs": []
    },
    {
      "cell_type": "code",
      "metadata": {
        "id": "cOah_K-w6rjI",
        "colab_type": "code",
        "colab": {
          "base_uri": "https://localhost:8080/",
          "height": 204
        },
        "outputId": "b05ac766-6377-4e9e-b841-3630d4493962"
      },
      "source": [
        "x_train.head()"
      ],
      "execution_count": 30,
      "outputs": [
        {
          "output_type": "execute_result",
          "data": {
            "text/html": [
              "<div>\n",
              "<style scoped>\n",
              "    .dataframe tbody tr th:only-of-type {\n",
              "        vertical-align: middle;\n",
              "    }\n",
              "\n",
              "    .dataframe tbody tr th {\n",
              "        vertical-align: top;\n",
              "    }\n",
              "\n",
              "    .dataframe thead th {\n",
              "        text-align: right;\n",
              "    }\n",
              "</style>\n",
              "<table border=\"1\" class=\"dataframe\">\n",
              "  <thead>\n",
              "    <tr style=\"text-align: right;\">\n",
              "      <th></th>\n",
              "      <th>website_name</th>\n",
              "      <th>text</th>\n",
              "    </tr>\n",
              "  </thead>\n",
              "  <tbody>\n",
              "    <tr>\n",
              "      <th>0</th>\n",
              "      <td>amazon</td>\n",
              "      <td>Oh and I forgot to also mention the weird colo...</td>\n",
              "    </tr>\n",
              "    <tr>\n",
              "      <th>1</th>\n",
              "      <td>amazon</td>\n",
              "      <td>THAT one didn't work either.</td>\n",
              "    </tr>\n",
              "    <tr>\n",
              "      <th>2</th>\n",
              "      <td>amazon</td>\n",
              "      <td>Waste of 13 bucks.</td>\n",
              "    </tr>\n",
              "    <tr>\n",
              "      <th>3</th>\n",
              "      <td>amazon</td>\n",
              "      <td>Product is useless, since it does not have eno...</td>\n",
              "    </tr>\n",
              "    <tr>\n",
              "      <th>4</th>\n",
              "      <td>amazon</td>\n",
              "      <td>None of the three sizes they sent with the hea...</td>\n",
              "    </tr>\n",
              "  </tbody>\n",
              "</table>\n",
              "</div>"
            ],
            "text/plain": [
              "  website_name                                               text\n",
              "0       amazon  Oh and I forgot to also mention the weird colo...\n",
              "1       amazon                       THAT one didn't work either.\n",
              "2       amazon                                 Waste of 13 bucks.\n",
              "3       amazon  Product is useless, since it does not have eno...\n",
              "4       amazon  None of the three sizes they sent with the hea..."
            ]
          },
          "metadata": {
            "tags": []
          },
          "execution_count": 30
        }
      ]
    },
    {
      "cell_type": "markdown",
      "metadata": {
        "id": "c2jYJoGl6vPo",
        "colab_type": "text"
      },
      "source": [
        "### Lemmatizing all reviews in order to group similar words"
      ]
    },
    {
      "cell_type": "code",
      "metadata": {
        "id": "yKhobiH_Jm_T",
        "colab_type": "code",
        "colab": {}
      },
      "source": [
        "####lEMENTIZATIOO#############\n",
        "x_train[\"text\"]  = (x_train[\"text\"].apply(lambda x: \" \".join([Word(word).lemmatize() for word in x.split()])))"
      ],
      "execution_count": 0,
      "outputs": []
    },
    {
      "cell_type": "code",
      "metadata": {
        "id": "52gbO2kt7ZM8",
        "colab_type": "code",
        "colab": {
          "base_uri": "https://localhost:8080/",
          "height": 204
        },
        "outputId": "0ed5ea79-9330-47ac-e1e9-ffea366635bd"
      },
      "source": [
        "x_train.head()"
      ],
      "execution_count": 31,
      "outputs": [
        {
          "output_type": "execute_result",
          "data": {
            "text/html": [
              "<div>\n",
              "<style scoped>\n",
              "    .dataframe tbody tr th:only-of-type {\n",
              "        vertical-align: middle;\n",
              "    }\n",
              "\n",
              "    .dataframe tbody tr th {\n",
              "        vertical-align: top;\n",
              "    }\n",
              "\n",
              "    .dataframe thead th {\n",
              "        text-align: right;\n",
              "    }\n",
              "</style>\n",
              "<table border=\"1\" class=\"dataframe\">\n",
              "  <thead>\n",
              "    <tr style=\"text-align: right;\">\n",
              "      <th></th>\n",
              "      <th>website_name</th>\n",
              "      <th>text</th>\n",
              "    </tr>\n",
              "  </thead>\n",
              "  <tbody>\n",
              "    <tr>\n",
              "      <th>0</th>\n",
              "      <td>amazon</td>\n",
              "      <td>Oh and I forgot to also mention the weird colo...</td>\n",
              "    </tr>\n",
              "    <tr>\n",
              "      <th>1</th>\n",
              "      <td>amazon</td>\n",
              "      <td>THAT one didn't work either.</td>\n",
              "    </tr>\n",
              "    <tr>\n",
              "      <th>2</th>\n",
              "      <td>amazon</td>\n",
              "      <td>Waste of 13 bucks.</td>\n",
              "    </tr>\n",
              "    <tr>\n",
              "      <th>3</th>\n",
              "      <td>amazon</td>\n",
              "      <td>Product is useless, since it does not have eno...</td>\n",
              "    </tr>\n",
              "    <tr>\n",
              "      <th>4</th>\n",
              "      <td>amazon</td>\n",
              "      <td>None of the three sizes they sent with the hea...</td>\n",
              "    </tr>\n",
              "  </tbody>\n",
              "</table>\n",
              "</div>"
            ],
            "text/plain": [
              "  website_name                                               text\n",
              "0       amazon  Oh and I forgot to also mention the weird colo...\n",
              "1       amazon                       THAT one didn't work either.\n",
              "2       amazon                                 Waste of 13 bucks.\n",
              "3       amazon  Product is useless, since it does not have eno...\n",
              "4       amazon  None of the three sizes they sent with the hea..."
            ]
          },
          "metadata": {
            "tags": []
          },
          "execution_count": 31
        }
      ]
    },
    {
      "cell_type": "markdown",
      "metadata": {
        "id": "plMh0n85vOH4",
        "colab_type": "text"
      },
      "source": [
        "## Stopword elimination\n",
        "*  Stopwords are words that occur wayy too many times in the given corpus.\n",
        "*  Stopwords are not helpful or healthy for any alg because we will be wasting time and resource on training them when no o/p can be expected\n",
        "*  Stopwords lists readily available online from sources such as sklearn etc cannot be used all the time.\n",
        "*  They cannot be used all the time because, the range of stopwords and their frequency differs from corpus to corpus.\n",
        "*  Hence it is a healthy to check for the word frequency in the corpus before eliminating all stopwords"
      ]
    },
    {
      "cell_type": "markdown",
      "metadata": {
        "id": "VpAkh55ezL9A",
        "colab_type": "text"
      },
      "source": [
        "### Multiclass logloss\n",
        "Multi class version of Logarithmic Loss metric.\n",
        "    :param actual: Array containing the actual target classes\n",
        "    :param predicted: Matrix with class predictions, one probability per class\n",
        "    Log loss, aka logistic loss or cross-entropy loss.\n",
        "    This is the loss function used in (multinomial) logistic regression and \n",
        "    extensions of it such as neural networks, defined as the negative log-likelihood of the true labels \n",
        "    given a probabilistic classifier’s predictions. The log loss is only defined for two or more labels.\n",
        "    Accuracy is the count of predictions where your predicted value equals the actual value. \n",
        "    Accuracy is not always a good indicator because of its yes or no nature.\n",
        "    Log Loss takes into account the uncertainty of your prediction based on how much it varies from the actual label. \n",
        "    This gives us a more nuanced view into the performance of our model."
      ]
    },
    {
      "cell_type": "code",
      "metadata": {
        "id": "PKcKlsU2Jm_Z",
        "colab_type": "code",
        "colab": {}
      },
      "source": [
        "def multiclass_logloss(actual, predicted, eps=1e-15):\n",
        "    # Convert 'actual' to a binary array if it's not already:\n",
        "    if len(actual.shape) == 1:\n",
        "        actual2 = np.zeros((actual.shape[0], predicted.shape[1]))\n",
        "        for i, val in enumerate(actual):\n",
        "            actual2[i, val] = 1\n",
        "        actual = actual2\n",
        "\n",
        "    clip = np.clip(predicted, eps, 1 - eps)\n",
        "    rows = actual.shape[0]\n",
        "    vsota = np.sum(actual * np.log(clip))\n",
        "    return -1.0 / rows * vsota"
      ],
      "execution_count": 0,
      "outputs": []
    },
    {
      "cell_type": "markdown",
      "metadata": {
        "id": "vY4-GTL0qO4z",
        "colab_type": "text"
      },
      "source": [
        "## Important Information regarding the Pre-Processing\n",
        "*  We've only been tokenizing ngrams in the range (1, 3), that means we have separated each and every word without bias"
      ]
    },
    {
      "cell_type": "markdown",
      "metadata": {
        "id": "rJM4EU_tzVQ5",
        "colab_type": "text"
      },
      "source": [
        "### Splitting out data to train and test sets\n",
        "*  Here we're dividing the dataset into 4 parts being training set and the validation set.\n",
        "*  Notice how validation set is different from testing set.\n",
        "*  We're shuffling the data as we would want the reviews from amazon, yelp and imdb to well mixed"
      ]
    },
    {
      "cell_type": "code",
      "metadata": {
        "id": "jfxv0Vz5Jm_c",
        "colab_type": "code",
        "colab": {}
      },
      "source": [
        "xtrain, xvalid, ytrain, yvalid = train_test_split(x_train['text'], y \n",
        "                                                  , stratify=y\n",
        "                                                  ,random_state=42, \n",
        "                                                  test_size=0.1, shuffle=True)"
      ],
      "execution_count": 0,
      "outputs": []
    },
    {
      "cell_type": "code",
      "metadata": {
        "id": "Zkw_q3wZJm_h",
        "colab_type": "code",
        "colab": {
          "base_uri": "https://localhost:8080/",
          "height": 51
        },
        "outputId": "842706db-9940-4e0f-ecab-bca8d7b5fa82"
      },
      "source": [
        "print (xtrain.shape)\n",
        "print (xvalid.shape)"
      ],
      "execution_count": 13,
      "outputs": [
        {
          "output_type": "stream",
          "text": [
            "(2160,)\n",
            "(240,)\n"
          ],
          "name": "stdout"
        }
      ]
    },
    {
      "cell_type": "markdown",
      "metadata": {
        "id": "AUW5HFArwzrz",
        "colab_type": "text"
      },
      "source": [
        "## Intuition on vectorization\n",
        "*  The simplest scoring method is to mark the presence of words as a boolean value, 0 for absent, 1 for present.\n",
        "\n",
        "*  Using the arbitrary ordering of words listed above in our vocabulary, we can step through the first document (“It was the best of times“) and convert it into a binary vector.\n",
        "\n",
        "*  The scoring of the document would look as follows:\n",
        "consider the example, \n",
        "\"\"\n",
        "*  “it” = 1\n",
        "*  “was” = 1\n",
        "*  “the” = 1\n",
        "*  “best” = 1\n",
        "*  “of” = 1\n",
        "*  “times” = 1\n",
        "*  “worst” = 0\n",
        "*  “age” = 0\n",
        "*  “wisdom” = 0\n",
        "*  “foolishness” = 0\n",
        "*  As a binary vector, this would look as follows:\n",
        "\n",
        "*  \"it was the worst of times\" = [1, 1, 1, 0, 1, 1, 1, 0, 0, 0]\n",
        "*  \"it was the age of wisdom\" = [1, 1, 1, 0, 1, 0, 0, 1, 1, 0]\n",
        "*  \"it was the age of foolishness\" = [1, 1, 1, 0, 1, 0, 0, 1, 0, 1]"
      ]
    },
    {
      "cell_type": "markdown",
      "metadata": {
        "id": "ju0FZ3LwJ84G",
        "colab_type": "text"
      },
      "source": [
        "## Why vectorize?\n",
        "Before we can use words in a classifier, we need to convert them into numbers. One way to do that is to simply map words to integers. Another way is to one-hot encode words. Each tweet could then be represented as a vector with a dimension equal to (a limited set of) the words in the corpus. The words occurring in the tweet have a value of 1 in the vector. All other vector values equal zero."
      ]
    },
    {
      "cell_type": "markdown",
      "metadata": {
        "id": "BFn65xC0zoKp",
        "colab_type": "text"
      },
      "source": [
        "### TF-IDF vector creation and fitting."
      ]
    },
    {
      "cell_type": "code",
      "metadata": {
        "id": "5QWHE30NJm__",
        "colab_type": "code",
        "colab": {}
      },
      "source": [
        "######tfidf vector Creation##############\n",
        "tfv = TfidfVectorizer(min_df=3,  max_features=None, \n",
        "            strip_accents='unicode', analyzer='word',token_pattern=r'\\w{1,}',\n",
        "            ngram_range=(1, 3), use_idf=1,smooth_idf=1,sublinear_tf=1,\n",
        "            stop_words = 'english')\n",
        "\n",
        "# Fitting TF-IDF to both training and test sets (semi-supervised learning)\n",
        "tfv.fit(list(xtrain) + list(xvalid))\n",
        "xtrain_tfv =  tfv.transform(xtrain) \n",
        "xvalid_tfv = tfv.transform(xvalid)"
      ],
      "execution_count": 0,
      "outputs": []
    },
    {
      "cell_type": "markdown",
      "metadata": {
        "id": "N3Nui1yUsPZu",
        "colab_type": "text"
      },
      "source": [
        "*  If careful observation, we have set the ngram_range parameter to be (1, 3). That means the vectorizer is open to \"unigram\", \"bigram\" and \"trigram\" words. \n",
        "*  The same range has been specified at the countvectorizer too..."
      ]
    },
    {
      "cell_type": "markdown",
      "metadata": {
        "id": "xJK9AVAszzPU",
        "colab_type": "text"
      },
      "source": [
        "### Count Vector creation and fitting"
      ]
    },
    {
      "cell_type": "code",
      "metadata": {
        "id": "-0cL1VriJnAU",
        "colab_type": "code",
        "colab": {}
      },
      "source": [
        "######Count vector Creation##############\n",
        "ctv = CountVectorizer(analyzer='word',token_pattern=r'\\w{1,}',\n",
        "            ngram_range=(1, 3), stop_words = 'english')\n",
        "\n",
        "# Fitting Count Vectorizer to both training and test sets (semi-supervised learning)\n",
        "ctv.fit(list(xtrain) + list(xvalid))\n",
        "xtrain_ctv =  ctv.transform(xtrain) \n",
        "xvalid_ctv = ctv.transform(xvalid)"
      ],
      "execution_count": 0,
      "outputs": []
    },
    {
      "cell_type": "markdown",
      "metadata": {
        "id": "jWCkGTGruGA4",
        "colab_type": "text"
      },
      "source": [
        "# Training Process\n",
        "## The details of the training are as follows\n",
        "*  Logistic regression over tfidf\n",
        "*  Logistic regression over ctv\n",
        "*  Naive Baye's over tfidv\n",
        "*  Naive Baye's over ctv\n",
        "*  Random forest over tfidfv\n",
        "*  Random forest over ctv\n",
        "*  Grid search for optimal hyper parameters for Logistic regression, Naive Baye's and Random forest algorithms \n",
        "*  Comparative study was made."
      ]
    },
    {
      "cell_type": "markdown",
      "metadata": {
        "id": "2aJSveZg5FjY",
        "colab_type": "text"
      },
      "source": [
        "## Logistic Regression\n",
        "*  By default sklearn employs a penalty of \"l2\" when we call for logistic regression.\n",
        "*  Logistic regression is the right algorithm to start with classification algorithms. Eventhough, the name ‘Regression’ comes up, it is not a regression model, but a classification model. It uses a logistic function to frame binary output model. The output of the logistic regression will be a probability (0≤x≤1), and can be used to predict the binary 0 or 1 as the output ( if x<0.5, output= 0, else output=1).\n",
        "*  Cross entropy is used as the loss function in Logistic regression\n",
        "*  θ parameters explains the direction and intensity of significance\n",
        "independent variables over the dependent variable.\n",
        "*  Can be used for multiclass classifications also.\n",
        "*  Loss function is always convex."
      ]
    },
    {
      "cell_type": "markdown",
      "metadata": {
        "id": "GzvhKrJIz6DR",
        "colab_type": "text"
      },
      "source": [
        "### Fitting a Logistic Regression Model over tfidf vectors"
      ]
    },
    {
      "cell_type": "code",
      "metadata": {
        "id": "kVP6GKl7JnAp",
        "colab_type": "code",
        "colab": {
          "base_uri": "https://localhost:8080/",
          "height": 68
        },
        "outputId": "49f8eb4f-c6b4-4776-8bb6-9fc1d0eee97b"
      },
      "source": [
        "# Fitting a simple Logistic Regression on TFIDF#########\n",
        "LR_IDF = LogisticRegression(C=1.0,solver='lbfgs')\n",
        "LR_IDF.fit(xtrain_tfv, ytrain)\n",
        "predictions = LR_IDF.predict_proba(xvalid_tfv)\n",
        "\n",
        "print (\"logloss: %0.3f \" % multiclass_logloss(yvalid, predictions))\n",
        "y_pred_Linear = LR_IDF.predict(xvalid_tfv)\n",
        "##print(y_pred_Linear)\n",
        "print(\"Accuracy for Logistic regression on Test TFIDF vector: \",accuracy_score(yvalid, y_pred_Linear))\n",
        "pred_train=LR_IDF.predict(xtrain_tfv)\n",
        "print(\"Accuracy for Logistic regression on Training TFIDF vector: \",accuracy_score(ytrain,pred_train))\n"
      ],
      "execution_count": 16,
      "outputs": [
        {
          "output_type": "stream",
          "text": [
            "logloss: 0.491 \n",
            "Accuracy for Logistic regression on Test TFIDF vector:  0.7916666666666666\n",
            "Accuracy for Logistic regression on Training TFIDF vector:  0.9023148148148148\n"
          ],
          "name": "stdout"
        }
      ]
    },
    {
      "cell_type": "markdown",
      "metadata": {
        "id": "F2QV1qFp0OZS",
        "colab_type": "text"
      },
      "source": [
        "### Fitting a Logistic Regression Model over count vectors\n"
      ]
    },
    {
      "cell_type": "code",
      "metadata": {
        "id": "1UkvXyn1JnA9",
        "colab_type": "code",
        "colab": {
          "base_uri": "https://localhost:8080/",
          "height": 68
        },
        "outputId": "c3731247-d211-4ad2-e86c-1f8fda9799d5"
      },
      "source": [
        "# Fitting a simple Logistic Regression on Counts\n",
        "LR_Count = LogisticRegression(C=1.0,solver='lbfgs')\n",
        "LR_Count.fit(xtrain_ctv, ytrain)\n",
        "predictions = LR_Count.predict_proba(xvalid_ctv)\n",
        "\n",
        "print (\"logloss: %0.2f \" % multiclass_logloss(yvalid, predictions))\n",
        "y_pred_Linear = LR_Count.predict(xvalid_ctv)\n",
        "###print(y_pred_Linear)\n",
        "print(\"Accuracy for logistic regression on Test  Count Vector :\",accuracy_score(yvalid, y_pred_Linear))\n",
        "\n",
        "pred_train=LR_Count.predict(xtrain_ctv)\n",
        "print(\"Accuracy for logistic regression on Training  Count Vector : \",accuracy_score(ytrain,pred_train))\n",
        "\n"
      ],
      "execution_count": 17,
      "outputs": [
        {
          "output_type": "stream",
          "text": [
            "logloss: 0.44 \n",
            "Accuracy for logistic regression on Test  Count Vector : 0.8125\n",
            "Accuracy for logistic regression on Training  Count Vector :  0.9898148148148148\n"
          ],
          "name": "stdout"
        }
      ]
    },
    {
      "cell_type": "markdown",
      "metadata": {
        "id": "fv_E1RM45UNp",
        "colab_type": "text"
      },
      "source": [
        "## Naive Baye's \n",
        "*  Naive bayes is a generative model whereas LR is a discriminative model.\n",
        "*  Naive bayes works well with small datasets, whereas LR+regularization can achieve similar performance.\n",
        "*  LR performs better than naive bayes upon colinearity, as naive bayes expects *  all features to be independent.\n"
      ]
    },
    {
      "cell_type": "markdown",
      "metadata": {
        "id": "1cwGnCI90QtI",
        "colab_type": "text"
      },
      "source": [
        "### Fitting a Naive Bayes Model over tfidf vectors\n"
      ]
    },
    {
      "cell_type": "code",
      "metadata": {
        "id": "FmTuw8IDJnBX",
        "colab_type": "code",
        "colab": {
          "base_uri": "https://localhost:8080/",
          "height": 68
        },
        "outputId": "b8cfc76c-ffba-432b-b1d4-591b5efcf6ae"
      },
      "source": [
        "# Fitting a simple Naive Bayes on TFIDF\n",
        "NB_IDF = MultinomialNB()\n",
        "NB_IDF.fit(xtrain_tfv, ytrain)\n",
        "predictions = NB_IDF.predict_proba(xvalid_tfv)\n",
        "\n",
        "print (\"logloss: %0.3f \" % multiclass_logloss(yvalid, predictions))\n",
        "\n",
        "y_pred_Linear = NB_IDF.predict(xvalid_tfv)\n",
        "##print(y_pred_Linear)\n",
        "print(\"Accuracy for Naive Bayes on Test TFIDF vector: \",accuracy_score(yvalid, y_pred_Linear))\n",
        "pred_train=NB_IDF.predict(xtrain_tfv)\n",
        "print(\"Accuracy for Naive Bayes on Training TFIDF vector: \",accuracy_score(ytrain,pred_train))\n"
      ],
      "execution_count": 18,
      "outputs": [
        {
          "output_type": "stream",
          "text": [
            "logloss: 0.460 \n",
            "Accuracy for Naive Bayes on Test TFIDF vector:  0.7958333333333333\n",
            "Accuracy for Naive Bayes on Training TFIDF vector:  0.8953703703703704\n"
          ],
          "name": "stdout"
        }
      ]
    },
    {
      "cell_type": "markdown",
      "metadata": {
        "id": "u_q_lSNk0U9P",
        "colab_type": "text"
      },
      "source": [
        "### Fitting Naive Baye's Model over count\n",
        "\n"
      ]
    },
    {
      "cell_type": "code",
      "metadata": {
        "id": "oO_HJlFJJnBg",
        "colab_type": "code",
        "colab": {
          "base_uri": "https://localhost:8080/",
          "height": 68
        },
        "outputId": "aa9ca02c-a147-4d75-94ee-28cdf9540277"
      },
      "source": [
        "# Fitting a simple Naive Bayes on Counts\n",
        "NB_Count = MultinomialNB()\n",
        "NB_Count.fit(xtrain_ctv, ytrain)\n",
        "predictions = NB_Count.predict_proba(xvalid_ctv)\n",
        "\n",
        "print (\"logloss: %0.3f \" % multiclass_logloss(yvalid, predictions))\n",
        "y_pred_Linear = NB_Count.predict(xvalid_ctv)\n",
        "##print(y_pred_Linear)\n",
        "print(\"Accuracy for Naive Bayes on Test  Count Vector :\",accuracy_score(yvalid, y_pred_Linear))\n",
        "pred_train=NB_Count.predict(xtrain_ctv)\n",
        "print(\"Accuracy for naive Bayes on Training Count vector: \",accuracy_score(ytrain,pred_train))\n"
      ],
      "execution_count": 19,
      "outputs": [
        {
          "output_type": "stream",
          "text": [
            "logloss: 0.408 \n",
            "Accuracy for Naive Bayes on Test  Count Vector : 0.8166666666666667\n",
            "Accuracy for naive Bayes on Training Count vector:  0.9800925925925926\n"
          ],
          "name": "stdout"
        }
      ]
    },
    {
      "cell_type": "markdown",
      "metadata": {
        "id": "J9EqU5tl5izm",
        "colab_type": "text"
      },
      "source": [
        "## Random forests \n",
        "*  Random forests is a decision tree based algorithm used to solve regression and classification problems. An inverted tree is framed which is branched off from a homogeneous probability distributed root node, to highly heterogeneous leaf nodes, for deriving the output. \n",
        "*  Decision tree handles colinearity better than LR.\n",
        "*  Decision trees cannot derive the significance of features, but LR can.\n",
        "*  Decision trees are better for categorical values than LR.\n"
      ]
    },
    {
      "cell_type": "markdown",
      "metadata": {
        "id": "9LMQLObo0aTY",
        "colab_type": "text"
      },
      "source": [
        "### Fitting a Random Forest over tfidf vectors\n"
      ]
    },
    {
      "cell_type": "code",
      "metadata": {
        "id": "ZeI3naXoJnBr",
        "colab_type": "code",
        "colab": {
          "base_uri": "https://localhost:8080/",
          "height": 68
        },
        "outputId": "bfc57317-6c5c-463e-f9fc-5ca817cb7d8c"
      },
      "source": [
        "# # Fitting random forest  on TFIDF\n",
        "##from sklearn.ensemble import RandomForestClassifier\n",
        "rf_IDF = RandomForestClassifier(n_estimators = 10, random_state = 42)\n",
        "rf_IDF.fit(xtrain_tfv, ytrain)\n",
        "predictions = rf_IDF.predict_proba(xvalid_tfv)\n",
        "\n",
        "print (\"logloss: %0.3f \" % multiclass_logloss(yvalid, predictions))\n",
        "\n",
        "y_pred =rf_IDF.predict(xvalid_tfv)\n",
        "##print (y_pred)\n",
        "print(\"Accuracy for Random Forest on Test TFIDF vector: \",accuracy_score(yvalid, y_pred_Linear))\n",
        "pred_train=rf_IDF.predict(xtrain_tfv)\n",
        "print(\"Accuracy for Random Forest on Training TFIDF vector: \",accuracy_score(ytrain,pred_train))\n"
      ],
      "execution_count": 20,
      "outputs": [
        {
          "output_type": "stream",
          "text": [
            "logloss: 1.105 \n",
            "Accuracy for Random Forest on Test TFIDF vector:  0.8166666666666667\n",
            "Accuracy for Random Forest on Training TFIDF vector:  0.975\n"
          ],
          "name": "stdout"
        }
      ]
    },
    {
      "cell_type": "markdown",
      "metadata": {
        "id": "XkAYr-oU0gsq",
        "colab_type": "text"
      },
      "source": [
        "### Fitting a Random Forest over count vectors\n"
      ]
    },
    {
      "cell_type": "code",
      "metadata": {
        "id": "HBq82TTuJnB-",
        "colab_type": "code",
        "colab": {
          "base_uri": "https://localhost:8080/",
          "height": 68
        },
        "outputId": "1279ddd5-75d7-4550-db7f-d42799747382"
      },
      "source": [
        "# # Fitting random forest  on count\n",
        "rf_Count = RandomForestClassifier(n_estimators = 10, random_state = 42)\n",
        "rf_Count.fit(xtrain_ctv, ytrain)\n",
        "predictions = rf_Count.predict_proba(xvalid_ctv)\n",
        "print (\"logloss: %0.3f \" % multiclass_logloss(yvalid, predictions))\n",
        "y_pred_Linear = rf_Count.predict(xvalid_ctv)\n",
        "\n",
        "##print(y_pred_Linear)\n",
        "print(\"Accuracy for Random Forest on Test  Count Vector :\",accuracy_score(yvalid, y_pred_Linear))\n",
        "\n",
        "pred_train=rf_Count.predict(xtrain_ctv)\n",
        "print(\"Accuracy for Random Forest on Training Count Vector: \",accuracy_score(ytrain,pred_train))\n"
      ],
      "execution_count": 21,
      "outputs": [
        {
          "output_type": "stream",
          "text": [
            "logloss: 1.041 \n",
            "Accuracy for Random Forest on Test  Count Vector : 0.7166666666666667\n",
            "Accuracy for Random Forest on Training Count Vector:  0.9828703703703704\n"
          ],
          "name": "stdout"
        }
      ]
    },
    {
      "cell_type": "markdown",
      "metadata": {
        "id": "KlUH8kFl0m5Q",
        "colab_type": "text"
      },
      "source": [
        "### Fitting a XGBoost over tfidf vectors\n"
      ]
    },
    {
      "cell_type": "code",
      "metadata": {
        "id": "RPe0P6I0JnCB",
        "colab_type": "code",
        "colab": {
          "base_uri": "https://localhost:8080/",
          "height": 68
        },
        "outputId": "f7c476c2-f545-4208-bf90-dbe94bdff4f7"
      },
      "source": [
        "# Fitting a simple xgboost on tf-idf\n",
        "XGB_IDF = xgb.XGBClassifier(max_depth=7, n_estimators=200, colsample_bytree=0.8, \n",
        "                        subsample=0.8, nthread=10, learning_rate=0.1)\n",
        "XGB_IDF.fit(xtrain_tfv, ytrain)\n",
        "predictions = XGB_IDF.predict_proba(xvalid_tfv.tocsc())\n",
        "\n",
        "print (\"logloss: %0.3f \" % multiclass_logloss(yvalid, predictions))\n",
        "\n",
        "\n",
        "y_pred =XGB_IDF.predict(xvalid_tfv)\n",
        "##print (y_pred)\n",
        "print(\"Accuracy for XgBOOST on Test TFIDF vector: \",accuracy_score(yvalid, y_pred_Linear))\n",
        "pred_train=XGB_IDF.predict(xtrain_tfv)\n",
        "print(\"Accuracy for Logistic regression on Training TFIDF vector: \",accuracy_score(ytrain,pred_train))"
      ],
      "execution_count": 22,
      "outputs": [
        {
          "output_type": "stream",
          "text": [
            "logloss: 0.481 \n",
            "Accuracy for XgBOOST on Test TFIDF vector:  0.7166666666666667\n",
            "Accuracy for Logistic regression on Training TFIDF vector:  0.8574074074074074\n"
          ],
          "name": "stdout"
        }
      ]
    },
    {
      "cell_type": "markdown",
      "metadata": {
        "id": "iI276lY70qrQ",
        "colab_type": "text"
      },
      "source": [
        "### Fitting a XGBoost over count vectors\n"
      ]
    },
    {
      "cell_type": "code",
      "metadata": {
        "id": "rcqalkq_JnCF",
        "colab_type": "code",
        "colab": {
          "base_uri": "https://localhost:8080/",
          "height": 68
        },
        "outputId": "da1147a1-8a05-431a-84e1-39bfc27cfe62"
      },
      "source": [
        "# Fitting a simple xgboost on count\n",
        "XGB_Count = xgb.XGBClassifier(max_depth=7, n_estimators=200, colsample_bytree=0.8, \n",
        "                        subsample=0.8, nthread=10, learning_rate=0.1)\n",
        "XGB_Count.fit(xtrain_ctv, ytrain)\n",
        "predictions = XGB_Count.predict_proba(xvalid_ctv)\n",
        "\n",
        "print (\"logloss: %0.3f \" % multiclass_logloss(yvalid, predictions))\n",
        "\n",
        "y_pred_Linear = XGB_Count.predict(xvalid_ctv)\n",
        "###print(y_pred_Linear)\n",
        "print(\"Accuracy for xgboost on Test  Count Vector :\",accuracy_score(yvalid, y_pred_Linear))\n",
        "\n",
        "pred_train=XGB_Count.predict(xtrain_ctv)\n",
        "print(\"Accuracy for xgboost on Training count vector: \",accuracy_score(ytrain,pred_train))\n"
      ],
      "execution_count": 23,
      "outputs": [
        {
          "output_type": "stream",
          "text": [
            "logloss: 0.462 \n",
            "Accuracy for xgboost on Test  Count Vector : 0.775\n",
            "Accuracy for xgboost on Training count vector:  0.8421296296296297\n"
          ],
          "name": "stdout"
        }
      ]
    },
    {
      "cell_type": "code",
      "metadata": {
        "id": "znS1QO_gJnCH",
        "colab_type": "code",
        "colab": {}
      },
      "source": [
        "mll_scorer = metrics.make_scorer(multiclass_logloss, greater_is_better=False, needs_proba=True)\n"
      ],
      "execution_count": 0,
      "outputs": []
    },
    {
      "cell_type": "markdown",
      "metadata": {
        "id": "cLG4PtCTtkur",
        "colab_type": "text"
      },
      "source": [
        "## How out of vocab words are handled in Bag of Words\n",
        "*  As the name suggests, Its a bag of words ie only the words that are there in the bag are considered for prediction. \n",
        "*  Unknown words are ignored as they are not in the bag of words\n",
        "*  Unknown words are handled better in the section below where embeddings are used"
      ]
    },
    {
      "cell_type": "markdown",
      "metadata": {
        "id": "jC4b_PVk1KCy",
        "colab_type": "text"
      },
      "source": [
        "## Grid Search\n",
        "Grid search is the process of performing hyper parameter tuning in order to determine the optimal values for a given model. This is significant as the performance of the entire model is based on the hyper parameter values specified."
      ]
    },
    {
      "cell_type": "code",
      "metadata": {
        "id": "AswyhvygJnCP",
        "colab_type": "code",
        "colab": {},
        "outputId": "4ed0b4a1-3b1e-43ac-d5e3-f81bf45ca229"
      },
      "source": [
        "\n",
        "#####Grid Search  Naive Bayes for Count Vector\n",
        "\n",
        "nb_model = MultinomialNB()\n",
        "\n",
        "# Create the pipeline \n",
        "clf = pipeline.Pipeline([('nb', nb_model)])\n",
        "\n",
        "# parameter grid\n",
        "param_grid = {'nb__alpha': [0.001, 0.01, 0.1, 1,10,100]}\n",
        "\n",
        "# Initialize Grid Search Model\n",
        "model = GridSearchCV(estimator=clf, param_grid=param_grid,\n",
        "                                 verbose=20, n_jobs=-1, cv=5)\n",
        "\n",
        "# Fit Grid Search Model\n",
        "model.fit(xtrain_ctv, ytrain)  # we can use the full data here but im only using xtrain. \n",
        "print(\"Best score: %0.3f\" % model.best_score_)\n",
        "print(\"Best parameters set:\")\n",
        "best_parameters = model.best_estimator_.get_params()\n",
        "for param_name in sorted(param_grid.keys()):\n",
        "    print(\"\\t%s: %r\" % (param_name, best_parameters[param_name]))"
      ],
      "execution_count": 0,
      "outputs": [
        {
          "output_type": "stream",
          "text": [
            "Fitting 5 folds for each of 6 candidates, totalling 30 fits\n"
          ],
          "name": "stdout"
        },
        {
          "output_type": "stream",
          "text": [
            "[Parallel(n_jobs=-1)]: Using backend LokyBackend with 8 concurrent workers.\n",
            "[Parallel(n_jobs=-1)]: Done   1 tasks      | elapsed:    2.0s\n",
            "[Parallel(n_jobs=-1)]: Done   2 tasks      | elapsed:    2.0s\n",
            "[Parallel(n_jobs=-1)]: Done   3 tasks      | elapsed:    2.1s\n",
            "[Parallel(n_jobs=-1)]: Done   4 tasks      | elapsed:    2.1s\n",
            "[Parallel(n_jobs=-1)]: Done   5 tasks      | elapsed:    2.2s\n",
            "[Parallel(n_jobs=-1)]: Done   6 tasks      | elapsed:    2.2s\n",
            "[Parallel(n_jobs=-1)]: Done   7 tasks      | elapsed:    2.2s\n",
            "[Parallel(n_jobs=-1)]: Done   8 tasks      | elapsed:    2.2s\n",
            "[Parallel(n_jobs=-1)]: Done   9 tasks      | elapsed:    2.2s\n",
            "[Parallel(n_jobs=-1)]: Done  10 tasks      | elapsed:    2.2s\n",
            "[Parallel(n_jobs=-1)]: Done  11 tasks      | elapsed:    2.3s\n",
            "[Parallel(n_jobs=-1)]: Done  12 tasks      | elapsed:    2.3s\n",
            "[Parallel(n_jobs=-1)]: Done  13 tasks      | elapsed:    2.3s\n",
            "[Parallel(n_jobs=-1)]: Done  14 tasks      | elapsed:    2.3s\n",
            "[Parallel(n_jobs=-1)]: Done  15 tasks      | elapsed:    2.3s\n",
            "[Parallel(n_jobs=-1)]: Done  17 out of  30 | elapsed:    2.3s remaining:    1.7s\n",
            "[Parallel(n_jobs=-1)]: Done  19 out of  30 | elapsed:    2.3s remaining:    1.3s\n",
            "[Parallel(n_jobs=-1)]: Done  21 out of  30 | elapsed:    2.4s remaining:    1.0s\n",
            "[Parallel(n_jobs=-1)]: Done  23 out of  30 | elapsed:    2.4s remaining:    0.7s\n",
            "[Parallel(n_jobs=-1)]: Done  25 out of  30 | elapsed:    2.4s remaining:    0.4s\n",
            "[Parallel(n_jobs=-1)]: Done  27 out of  30 | elapsed:    2.4s remaining:    0.2s\n",
            "[Parallel(n_jobs=-1)]: Done  30 out of  30 | elapsed:    2.6s finished\n"
          ],
          "name": "stderr"
        },
        {
          "output_type": "stream",
          "text": [
            "Best score: 0.810\n",
            "Best parameters set:\n",
            "\tnb__alpha: 1\n"
          ],
          "name": "stdout"
        }
      ]
    },
    {
      "cell_type": "markdown",
      "metadata": {
        "id": "MnPBjsuSzS-6",
        "colab_type": "text"
      },
      "source": [
        "## General intuition on k-fold cross validation\n",
        "\n",
        "*  The procedure has a single parameter called k that refers to the number of groups that a given data sample is to be split into. As such, the procedure is often called k-fold cross-validation. When a specific value for k is chosen, it may be used in place of k in the reference to the model, such as k=10 becoming 10-fold cross-validation.\n",
        "\n",
        "*  Cross-validation is primarily used in applied machine learning to estimate the skill of a machine learning model on unseen data. That is, to use a limited sample in order to estimate how the model is expected to perform in general when used to make predictions on data not used during the training of the model.\n",
        "\n",
        "*  It is a popular method because it is simple to understand and because it generally results in a less biased or less optimistic estimate of the model skill than other methods, such as a simple train/test split.\n",
        "\n",
        "*  The general procedure is as follows:\n",
        "\n",
        "*  Shuffle the dataset randomly.\n",
        "*  Split the dataset into k groups\n",
        "*  For each unique group:\n",
        "*  Take the group as a hold out or test data set\n",
        "*  Take the remaining groups as a training data set\n",
        "*  Fit a model on the training set and evaluate it on the test set\n",
        "*  Retain the evaluation score and discard the model\n",
        "*  Summarize the skill of the model using the sample of model evaluation scores\n"
      ]
    },
    {
      "cell_type": "code",
      "metadata": {
        "id": "3Dl9cD92JnCS",
        "colab_type": "code",
        "colab": {}
      },
      "source": [
        "# Fittinng our best params ie nb_alpha=1 in the Naive Baye's algorithm\n",
        "NB_model_Count_final= MultinomialNB(alpha=1)"
      ],
      "execution_count": 0,
      "outputs": []
    },
    {
      "cell_type": "markdown",
      "metadata": {
        "id": "NzFdnQm72l5Z",
        "colab_type": "text"
      },
      "source": [
        "### training the Naive Baye's algorithm with the best hyperparameters obtained by GridSearch CV\n"
      ]
    },
    {
      "cell_type": "code",
      "metadata": {
        "id": "7M5cJD3kJnCV",
        "colab_type": "code",
        "colab": {
          "base_uri": "https://localhost:8080/",
          "height": 68
        },
        "outputId": "2b4573bd-c7c8-476f-8bad-dec68180e311"
      },
      "source": [
        "NB_model_Count_final.fit(xtrain_ctv, ytrain)\n",
        "predictions = NB_model_Count_final.predict_proba(xvalid_ctv)\n",
        "\n",
        "print (\"logloss: %0.3f \" % multiclass_logloss(yvalid, predictions))\n",
        "y_pred_Linear = NB_model_Count_final.predict(xvalid_ctv)\n",
        "# print(y_pred_Linear)\n",
        "print(\"Accuracy for Naive Bayes on Test  Count Vector :\",accuracy_score(yvalid, y_pred_Linear))\n",
        "pred_train=NB_model_Count_final.predict(xtrain_ctv)\n",
        "print(\"Accuracy for naive Bayes on Training Count vector: \",accuracy_score(ytrain,pred_train))\n"
      ],
      "execution_count": 26,
      "outputs": [
        {
          "output_type": "stream",
          "text": [
            "logloss: 0.408 \n",
            "Accuracy for Naive Bayes on Test  Count Vector : 0.8166666666666667\n",
            "Accuracy for naive Bayes on Training Count vector:  0.9800925925925926\n"
          ],
          "name": "stdout"
        }
      ]
    },
    {
      "cell_type": "code",
      "metadata": {
        "id": "0rh675uOJnCX",
        "colab_type": "code",
        "colab": {},
        "outputId": "7e235ea6-2a03-4ea0-a574-3287f65ee4a4"
      },
      "source": [
        "classifier = NB_model_Count_final\n",
        "\n",
        "from sklearn.model_selection import cross_val_score  \n",
        "all_accuracies = cross_val_score(estimator=classifier, X=xtrain_ctv, y=ytrain, cv=5)  \n",
        "\n",
        "print(all_accuracies)  \n",
        "print(all_accuracies.mean())\n",
        "print(all_accuracies.std())"
      ],
      "execution_count": 0,
      "outputs": [
        {
          "output_type": "stream",
          "text": [
            "[ 0.80787037  0.81481481  0.80555556  0.83564815  0.78703704]\n",
            "0.810185185185\n",
            "0.0156998379239\n"
          ],
          "name": "stdout"
        }
      ]
    },
    {
      "cell_type": "markdown",
      "metadata": {
        "id": "G-U3d2z63KiK",
        "colab_type": "text"
      },
      "source": [
        "## Confusion Matrix\n",
        "### A confusion matrix is a table that is often used to describe the performance of a classification model on a set of test data for which the true values are known. It allows the visualization of the performance of an algorithm."
      ]
    },
    {
      "cell_type": "markdown",
      "metadata": {
        "id": "jl2xGyku3mGs",
        "colab_type": "text"
      },
      "source": [
        "## ROC-AUC Curve\n",
        "### AUC - ROC curve is a performance measurement for classification problem at various thresholds settings. ROC is a probability curve and AUC represents degree or measure of separability. It tells how much model is capable of distinguishing between classes."
      ]
    },
    {
      "cell_type": "code",
      "metadata": {
        "id": "KTShvTuUJnCn",
        "colab_type": "code",
        "colab": {
          "base_uri": "https://localhost:8080/",
          "height": 68
        },
        "outputId": "11047386-9ae1-4fc0-c364-ed3fe82055be"
      },
      "source": [
        "confusion_matrix=metrics.confusion_matrix(yvalid, y_pred_Linear)\n",
        "print(confusion_matrix)\n",
        "auc_roc=metrics.roc_auc_score(yvalid, y_pred_Linear)\n",
        "auc_roc\n",
        "from sklearn.metrics import roc_curve, auc\n",
        "false_positive_rate, true_positive_rate, thresholds = roc_curve(yvalid, y_pred_Linear)\n",
        "roc_auc = auc(false_positive_rate, true_positive_rate)\n",
        "roc_auc\n"
      ],
      "execution_count": 27,
      "outputs": [
        {
          "output_type": "stream",
          "text": [
            "[[98 22]\n",
            " [22 98]]\n"
          ],
          "name": "stdout"
        },
        {
          "output_type": "execute_result",
          "data": {
            "text/plain": [
              "0.8166666666666667"
            ]
          },
          "metadata": {
            "tags": []
          },
          "execution_count": 27
        }
      ]
    },
    {
      "cell_type": "code",
      "metadata": {
        "id": "p3EWUKeoJnC1",
        "colab_type": "code",
        "colab": {
          "base_uri": "https://localhost:8080/",
          "height": 638
        },
        "outputId": "75749f3e-1b97-49fd-afd0-16319b93a81f"
      },
      "source": [
        "import matplotlib.pyplot as plt\n",
        "plt.figure(figsize=(10,10))\n",
        "plt.title('Receiver Operating Characteristic')\n",
        "plt.plot(false_positive_rate,true_positive_rate, color='red',label = 'AUC = %0.2f' % roc_auc)\n",
        "plt.legend(loc = 'lower right')\n",
        "plt.plot([0, 1], [0, 1],linestyle='--')\n",
        "plt.axis('tight')\n",
        "plt.ylabel('True Positive Rate')\n",
        "plt.xlabel('False Positive Rate')"
      ],
      "execution_count": 28,
      "outputs": [
        {
          "output_type": "execute_result",
          "data": {
            "text/plain": [
              "Text(0.5, 0, 'False Positive Rate')"
            ]
          },
          "metadata": {
            "tags": []
          },
          "execution_count": 28
        },
        {
          "output_type": "display_data",
          "data": {
            "image/png": "[encoded data removed]",
            "text/plain": [
              "<Figure size 720x720 with 1 Axes>"
            ]
          },
          "metadata": {
            "tags": []
          }
        }
      ]
    },
    {
      "cell_type": "code",
      "metadata": {
        "id": "h9sexSOlJnC3",
        "colab_type": "code",
        "colab": {},
        "outputId": "9c2548df-032e-4d5d-c49b-e98741aeb451"
      },
      "source": [
        "###Grid Search for idf Vector######\n",
        "\n",
        "nb_model = MultinomialNB()\n",
        "\n",
        "# Create the pipeline \n",
        "clf = pipeline.Pipeline([('nb', nb_model)])\n",
        "\n",
        "# parameter grid\n",
        "param_grid = {'nb__alpha': [0.001, 0.01, 0.1, 1,10,100]}\n",
        "\n",
        "# Initialize Grid Search Model\n",
        "model = GridSearchCV(estimator=clf, param_grid=param_grid,\n",
        "                                 verbose=20, n_jobs=-1, cv=5)\n",
        "\n",
        "# Fit Grid Search Model\n",
        "model.fit(xtrain_tfv, ytrain)  # we can use the full data here but im only using xtrain. \n",
        "print(\"Best score: %0.3f\" % model.best_score_)\n",
        "print(\"Best parameters set:\")\n",
        "best_parameters = model.best_estimator_.get_params()\n",
        "for param_name in sorted(param_grid.keys()):\n",
        "    print(\"\\t%s: %r\" % (param_name, best_parameters[param_name]))"
      ],
      "execution_count": 0,
      "outputs": [
        {
          "output_type": "stream",
          "text": [
            "Fitting 5 folds for each of 6 candidates, totalling 30 fits\n"
          ],
          "name": "stdout"
        },
        {
          "output_type": "stream",
          "text": [
            "[Parallel(n_jobs=-1)]: Using backend LokyBackend with 8 concurrent workers.\n",
            "[Parallel(n_jobs=-1)]: Done   1 tasks      | elapsed:    0.0s\n",
            "[Parallel(n_jobs=-1)]: Batch computation too fast (0.0179s.) Setting batch_size=22.\n",
            "[Parallel(n_jobs=-1)]: Done   2 tasks      | elapsed:    0.0s\n",
            "[Parallel(n_jobs=-1)]: Done   3 out of  30 | elapsed:    0.0s remaining:    0.4s\n",
            "[Parallel(n_jobs=-1)]: Done   5 out of  30 | elapsed:    0.0s remaining:    0.2s\n",
            "[Parallel(n_jobs=-1)]: Done   7 out of  30 | elapsed:    0.0s remaining:    0.1s\n",
            "[Parallel(n_jobs=-1)]: Done   9 out of  30 | elapsed:    0.0s remaining:    0.2s\n",
            "[Parallel(n_jobs=-1)]: Done  11 out of  30 | elapsed:    0.1s remaining:    0.2s\n",
            "[Parallel(n_jobs=-1)]: Done  13 out of  30 | elapsed:    0.1s remaining:    0.1s\n",
            "[Parallel(n_jobs=-1)]: Done  15 out of  30 | elapsed:    0.1s remaining:    0.1s\n",
            "[Parallel(n_jobs=-1)]: Done  30 out of  30 | elapsed:    0.1s finished\n"
          ],
          "name": "stderr"
        },
        {
          "output_type": "stream",
          "text": [
            "Best score: 0.794\n",
            "Best parameters set:\n",
            "\tnb__alpha: 1\n"
          ],
          "name": "stdout"
        }
      ]
    },
    {
      "cell_type": "code",
      "metadata": {
        "id": "gV4EnRSSJnC-",
        "colab_type": "code",
        "colab": {},
        "outputId": "18c34a36-0a71-43af-c2af-3f7f540b4360"
      },
      "source": [
        "classifier = MultinomialNB(alpha=1)\n",
        "\n",
        "from sklearn.model_selection import cross_val_score  \n",
        "all_accuracies = cross_val_score(estimator=classifier, X=xtrain_tfv, y=ytrain, cv=5)  \n",
        "\n",
        "print(all_accuracies)  \n",
        "print(all_accuracies.mean())\n",
        "print(all_accuracies.std())"
      ],
      "execution_count": 0,
      "outputs": [
        {
          "output_type": "stream",
          "text": [
            "[ 0.78935185  0.8125      0.77314815  0.80787037  0.78935185]\n",
            "0.794444444444\n",
            "0.0142243439775\n"
          ],
          "name": "stdout"
        }
      ]
    },
    {
      "cell_type": "code",
      "metadata": {
        "id": "-5CalHDHJnDJ",
        "colab_type": "code",
        "colab": {},
        "outputId": "cb2ba74e-1823-4a4d-d593-e1106a7dc8fb"
      },
      "source": [
        "from sklearn.ensemble import RandomForestClassifier  \n",
        "classifier = RandomForestClassifier(n_estimators=300, random_state=0)\n",
        "\n",
        "from sklearn.model_selection import cross_val_score  \n",
        "all_accuracies = cross_val_score(estimator=classifier, X=xtrain_tfv, y=ytrain, cv=5)  \n",
        "\n",
        "print(all_accuracies)  \n",
        "print(all_accuracies.mean())\n",
        "print(all_accuracies.std())  "
      ],
      "execution_count": 0,
      "outputs": [
        {
          "output_type": "stream",
          "text": [
            "[ 0.7337963   0.78240741  0.78240741  0.78240741  0.7662037 ]\n",
            "0.769444444444\n",
            "0.0188966033629\n"
          ],
          "name": "stdout"
        }
      ]
    },
    {
      "cell_type": "markdown",
      "metadata": {
        "id": "zMPtIe8j4yO0",
        "colab_type": "text"
      },
      "source": [
        "## Performing Grid Search for random forest classifier"
      ]
    },
    {
      "cell_type": "code",
      "metadata": {
        "id": "Lv5ajN9zJnDj",
        "colab_type": "code",
        "colab": {}
      },
      "source": [
        "# #Grid Search random forest  on TFIDF\n",
        "##from sklearn.ensemble import RandomForestClassifier\n",
        "rf = RandomForestClassifier(n_estimators = 10, random_state = 42)\n",
        "fit = rf.fit(xtrain_tfv, ytrain)\n",
        "###predictions = clf.predict_proba(xvalid_tfv)\n",
        "\n",
        "###print (\"logloss: %0.3f \" % multiclass_logloss(yvalid, predictions))"
      ],
      "execution_count": 0,
      "outputs": []
    },
    {
      "cell_type": "code",
      "metadata": {
        "id": "5cUanA-VJnDo",
        "colab_type": "code",
        "colab": {}
      },
      "source": [
        "grid_param = {  \n",
        "    'n_estimators': [100, 300, 500, 800, 1000],\n",
        "    'criterion': ['gini', 'entropy'],\n",
        "    'bootstrap': [True, False]\n",
        "}"
      ],
      "execution_count": 0,
      "outputs": []
    },
    {
      "cell_type": "code",
      "metadata": {
        "id": "TNJlsTTEJnDq",
        "colab_type": "code",
        "colab": {}
      },
      "source": [
        "d_sr = GridSearchCV(estimator=classifier,  \n",
        "                     param_grid=grid_param,\n",
        "                     scoring='accuracy',\n",
        "                     cv=5,\n",
        "                     n_jobs=-1)"
      ],
      "execution_count": 0,
      "outputs": []
    },
    {
      "cell_type": "code",
      "metadata": {
        "id": "fsXeL8H7JnEI",
        "colab_type": "code",
        "colab": {},
        "outputId": "e142020f-e7e6-4b6b-ea42-25f06cd96d56"
      },
      "source": [
        "d_sr.fit(xtrain_tfv, ytrain) "
      ],
      "execution_count": 0,
      "outputs": [
        {
          "output_type": "execute_result",
          "data": {
            "text/plain": [
              "GridSearchCV(cv=5, error_score='raise-deprecating',\n",
              "       estimator=RandomForestClassifier(bootstrap=True, class_weight=None, criterion='gini',\n",
              "            max_depth=None, max_features='auto', max_leaf_nodes=None,\n",
              "            min_impurity_decrease=0.0, min_impurity_split=None,\n",
              "            min_samples_leaf=1, min_samples_split=2,\n",
              "            min_weight_fraction_leaf=0.0, n_estimators=300, n_jobs=None,\n",
              "            oob_score=False, random_state=0, verbose=0, warm_start=False),\n",
              "       fit_params=None, iid='warn', n_jobs=-1,\n",
              "       param_grid={'n_estimators': [100, 300, 500, 800, 1000], 'criterion': ['gini', 'entropy'], 'bootstrap': [True, False]},\n",
              "       pre_dispatch='2*n_jobs', refit=True, return_train_score='warn',\n",
              "       scoring='accuracy', verbose=0)"
            ]
          },
          "metadata": {
            "tags": []
          },
          "execution_count": 47
        }
      ]
    },
    {
      "cell_type": "markdown",
      "metadata": {
        "id": "Rxy5gjleZoZC",
        "colab_type": "text"
      },
      "source": [
        "Fitting the best result obtained from grid search in the random forest algorithm"
      ]
    },
    {
      "cell_type": "code",
      "metadata": {
        "id": "OjbP-6TPJnEe",
        "colab_type": "code",
        "colab": {},
        "outputId": "d92281d3-3d0d-4555-9a0d-6babfc084232"
      },
      "source": [
        "best_result = d_sr.best_score_  \n",
        "print(best_result)  "
      ],
      "execution_count": 0,
      "outputs": [
        {
          "output_type": "stream",
          "text": [
            "0.771759259259\n"
          ],
          "name": "stdout"
        }
      ]
    },
    {
      "cell_type": "code",
      "metadata": {
        "id": "MKy1bqmCJnEt",
        "colab_type": "code",
        "colab": {}
      },
      "source": [
        "rfc1=RandomForestClassifier(random_state=0,bootstrap=True, n_estimators= 500, criterion='gini')"
      ],
      "execution_count": 0,
      "outputs": []
    },
    {
      "cell_type": "code",
      "metadata": {
        "id": "PQQQBGxtJnE5",
        "colab_type": "code",
        "colab": {},
        "outputId": "311c191c-a065-4c6b-f59e-31b7bfee5ef0"
      },
      "source": [
        "rfc1.fit(xtrain_tfv, ytrain)"
      ],
      "execution_count": 0,
      "outputs": [
        {
          "output_type": "execute_result",
          "data": {
            "text/plain": [
              "RandomForestClassifier(bootstrap=True, class_weight=None, criterion='gini',\n",
              "            max_depth=None, max_features='auto', max_leaf_nodes=None,\n",
              "            min_impurity_decrease=0.0, min_impurity_split=None,\n",
              "            min_samples_leaf=1, min_samples_split=2,\n",
              "            min_weight_fraction_leaf=0.0, n_estimators=500, n_jobs=None,\n",
              "            oob_score=False, random_state=0, verbose=0, warm_start=False)"
            ]
          },
          "metadata": {
            "tags": []
          },
          "execution_count": 50
        }
      ]
    },
    {
      "cell_type": "code",
      "metadata": {
        "id": "U2m6c9AUJnFO",
        "colab_type": "code",
        "colab": {}
      },
      "source": [
        "pred=rfc1.predict(xvalid_tfv)"
      ],
      "execution_count": 0,
      "outputs": []
    },
    {
      "cell_type": "code",
      "metadata": {
        "id": "-TMbWACdJnFj",
        "colab_type": "code",
        "colab": {},
        "outputId": "7892135f-1079-4a6a-e5eb-cdb6011c23be"
      },
      "source": [
        "print(\"Accuracy for Random Forest on Test data: \",accuracy_score(yvalid,pred))"
      ],
      "execution_count": 0,
      "outputs": [
        {
          "output_type": "stream",
          "text": [
            "Accuracy for Random Forest on Test data:  0.791666666667\n"
          ],
          "name": "stdout"
        }
      ]
    },
    {
      "cell_type": "code",
      "metadata": {
        "id": "NStU_4IjJnFv",
        "colab_type": "code",
        "colab": {},
        "outputId": "4f65687c-2843-4150-d69c-d1973b02b0a8"
      },
      "source": [
        "pred_train=rfc1.predict(xtrain_tfv)\n",
        "print(\"Accuracy for Random Forest on Training data: \",accuracy_score(ytrain,pred_train))"
      ],
      "execution_count": 0,
      "outputs": [
        {
          "output_type": "stream",
          "text": [
            "Accuracy for Random Forest on Training data:  0.988888888889\n"
          ],
          "name": "stdout"
        }
      ]
    },
    {
      "cell_type": "code",
      "metadata": {
        "id": "ra3mfd4aJnF6",
        "colab_type": "code",
        "colab": {},
        "outputId": "ac3507ff-eb3b-4dc8-f9f4-a412c16c6523"
      },
      "source": [
        "from sklearn.ensemble import RandomForestClassifier  \n",
        "classifier =rfc1\n",
        "from sklearn.model_selection import cross_val_score  \n",
        "all_accuracies = cross_val_score(estimator=classifier, X=xtrain_tfv, y=ytrain, cv=5)  \n",
        "\n",
        "print(all_accuracies)  \n",
        "print(all_accuracies.mean())\n",
        "print(all_accuracies.std())  "
      ],
      "execution_count": 0,
      "outputs": [
        {
          "output_type": "stream",
          "text": [
            "[ 0.73842593  0.78240741  0.78009259  0.78703704  0.77083333]\n",
            "0.771759259259\n",
            "0.017482599619\n"
          ],
          "name": "stdout"
        }
      ]
    },
    {
      "cell_type": "markdown",
      "metadata": {
        "id": "WQ2b5cQsZbD4",
        "colab_type": "text"
      },
      "source": [
        "## Evaluating all models on the count Vector"
      ]
    },
    {
      "cell_type": "code",
      "metadata": {
        "id": "FBOMYRt3JnGP",
        "colab_type": "code",
        "colab": {},
        "outputId": "e326ce46-d09e-4c4b-ae9b-c57ffe54e3b7"
      },
      "source": [
        "\n",
        "#######Models On the Count Vector##########\n",
        "\n",
        "models = [\n",
        "    RandomForestClassifier(n_estimators=300, random_state=0),\n",
        "    MultinomialNB(alpha=1),\n",
        "    LogisticRegression(),\n",
        "    xgb.XGBClassifier(max_depth=7, n_estimators=200, colsample_bytree=0.8, \n",
        "                        subsample=0.8, nthread=10, learning_rate=0.1),\n",
        "]\n",
        "CV = 5\n",
        "cv_df = pd.DataFrame(index=range(CV * len(models)))\n",
        "entries = []\n",
        "for model in models:\n",
        "  model_name = model.__class__.__name__\n",
        "  accuracies = cross_val_score(model, xtrain_ctv, ytrain ,scoring='accuracy', cv=CV)\n",
        "  for fold_idx, accuracy in enumerate(accuracies):\n",
        "    entries.append((model_name, fold_idx, accuracy))\n",
        "cv_df = pd.DataFrame(entries, columns=['model_name', 'fold_idx', 'accuracy'])"
      ],
      "execution_count": 0,
      "outputs": [
        {
          "output_type": "stream",
          "text": [
            "C:\\Users\\Bharti\\Anaconda3\\envs\\myenv\\lib\\site-packages\\sklearn\\linear_model\\logistic.py:433: FutureWarning: Default solver will be changed to 'lbfgs' in 0.22. Specify a solver to silence this warning.\n",
            "  FutureWarning)\n"
          ],
          "name": "stderr"
        }
      ]
    },
    {
      "cell_type": "markdown",
      "metadata": {
        "id": "a5AMBrt-5BNv",
        "colab_type": "text"
      },
      "source": [
        "## Box plot\n",
        "A box plot shows the distribution of quantitative data in a way that facilitates comparisons between variables or across levels of a categorical variable"
      ]
    },
    {
      "cell_type": "code",
      "metadata": {
        "id": "0BlHC13eJnGR",
        "colab_type": "code",
        "colab": {},
        "outputId": "704a565a-38a2-44c6-a6b1-279f7e891f67"
      },
      "source": [
        "import seaborn as sns\n",
        "plt.figure(figsize=(14, 6))\n",
        "sns.boxplot(x='model_name', y='accuracy', data=cv_df)\n",
        "sns.stripplot(x='model_name', y='accuracy', data=cv_df, \n",
        "              size=8, jitter=True, edgecolor=\"gray\", linewidth=4)\n",
        "plt.show()"
      ],
      "execution_count": 0,
      "outputs": [
        {
          "output_type": "display_data",
          "data": {
            "image/png": "[encoded data removed]",
            "text/plain": [
              "<matplotlib.figure.Figure at 0x23818e0c2b0>"
            ]
          },
          "metadata": {
            "tags": []
          }
        }
      ]
    },
    {
      "cell_type": "markdown",
      "metadata": {
        "id": "EAnHoru95wHm",
        "colab_type": "text"
      },
      "source": [
        "# Model Evaluation"
      ]
    },
    {
      "cell_type": "code",
      "metadata": {
        "id": "ngJRWuPrJnGk",
        "colab_type": "code",
        "colab": {},
        "outputId": "a4bad131-78b1-41cb-9a01-29fece084e1c"
      },
      "source": [
        "cv_df.groupby('model_name').accuracy.mean()"
      ],
      "execution_count": 0,
      "outputs": [
        {
          "output_type": "execute_result",
          "data": {
            "text/plain": [
              "model_name\n",
              "LogisticRegression        0.794444\n",
              "MultinomialNB             0.810185\n",
              "RandomForestClassifier    0.761574\n",
              "XGBClassifier             0.766204\n",
              "Name: accuracy, dtype: float64"
            ]
          },
          "metadata": {
            "tags": []
          },
          "execution_count": 57
        }
      ]
    },
    {
      "cell_type": "markdown",
      "metadata": {
        "id": "OS8mPVohZMcP",
        "colab_type": "text"
      },
      "source": [
        "# Concatinating the predicted value and the review in one csv"
      ]
    },
    {
      "cell_type": "code",
      "metadata": {
        "id": "C8G98y4hJnGu",
        "colab_type": "code",
        "colab": {}
      },
      "source": [
        "x_train = pd.read_csv('x_train.csv')\n",
        "y_train = pd.read_csv('y_train.csv')\n",
        "df=pd.concat([x_train,y_train], axis=1)\n",
        "df['Sentiment'] = np.where(df['is_positive_sentiment']== 1, 'Positive', 'Negative')"
      ],
      "execution_count": 0,
      "outputs": []
    },
    {
      "cell_type": "code",
      "metadata": {
        "id": "tljJLypZJnGy",
        "colab_type": "code",
        "colab": {},
        "outputId": "6703bd8c-4d67-45cb-9f6c-c431e590a669"
      },
      "source": [
        "df.head()"
      ],
      "execution_count": 0,
      "outputs": [
        {
          "output_type": "execute_result",
          "data": {
            "text/html": [
              "<div>\n",
              "<style>\n",
              "    .dataframe thead tr:only-child th {\n",
              "        text-align: right;\n",
              "    }\n",
              "\n",
              "    .dataframe thead th {\n",
              "        text-align: left;\n",
              "    }\n",
              "\n",
              "    .dataframe tbody tr th {\n",
              "        vertical-align: top;\n",
              "    }\n",
              "</style>\n",
              "<table border=\"1\" class=\"dataframe\">\n",
              "  <thead>\n",
              "    <tr style=\"text-align: right;\">\n",
              "      <th></th>\n",
              "      <th>website_name</th>\n",
              "      <th>text</th>\n",
              "      <th>is_positive_sentiment</th>\n",
              "      <th>Sentiment</th>\n",
              "    </tr>\n",
              "  </thead>\n",
              "  <tbody>\n",
              "    <tr>\n",
              "      <th>0</th>\n",
              "      <td>amazon</td>\n",
              "      <td>Oh and I forgot to also mention the weird colo...</td>\n",
              "      <td>0</td>\n",
              "      <td>Negative</td>\n",
              "    </tr>\n",
              "    <tr>\n",
              "      <th>1</th>\n",
              "      <td>amazon</td>\n",
              "      <td>THAT one didn't work either.</td>\n",
              "      <td>0</td>\n",
              "      <td>Negative</td>\n",
              "    </tr>\n",
              "    <tr>\n",
              "      <th>2</th>\n",
              "      <td>amazon</td>\n",
              "      <td>Waste of 13 bucks.</td>\n",
              "      <td>0</td>\n",
              "      <td>Negative</td>\n",
              "    </tr>\n",
              "    <tr>\n",
              "      <th>3</th>\n",
              "      <td>amazon</td>\n",
              "      <td>Product is useless, since it does not have eno...</td>\n",
              "      <td>0</td>\n",
              "      <td>Negative</td>\n",
              "    </tr>\n",
              "    <tr>\n",
              "      <th>4</th>\n",
              "      <td>amazon</td>\n",
              "      <td>None of the three sizes they sent with the hea...</td>\n",
              "      <td>0</td>\n",
              "      <td>Negative</td>\n",
              "    </tr>\n",
              "  </tbody>\n",
              "</table>\n",
              "</div>"
            ],
            "text/plain": [
              "  website_name                                               text  \\\n",
              "0       amazon  Oh and I forgot to also mention the weird colo...   \n",
              "1       amazon                       THAT one didn't work either.   \n",
              "2       amazon                                 Waste of 13 bucks.   \n",
              "3       amazon  Product is useless, since it does not have eno...   \n",
              "4       amazon  None of the three sizes they sent with the hea...   \n",
              "\n",
              "   is_positive_sentiment Sentiment  \n",
              "0                      0  Negative  \n",
              "1                      0  Negative  \n",
              "2                      0  Negative  \n",
              "3                      0  Negative  \n",
              "4                      0  Negative  "
            ]
          },
          "metadata": {
            "tags": []
          },
          "execution_count": 59
        }
      ]
    },
    {
      "cell_type": "code",
      "metadata": {
        "id": "6_zhaNk2JnG_",
        "colab_type": "code",
        "colab": {},
        "outputId": "a97e5685-b6c5-4261-8945-8dacf5ba9131"
      },
      "source": [
        "from io import StringIO\n",
        "col = ['Sentiment', 'text']\n",
        "df = df[col]\n",
        "df = df[pd.notnull(df['text'])]\n",
        "df.columns = ['Sentiment', 'text']\n",
        "df['Sentiment_id'] = df['Sentiment'].factorize()[0]\n",
        "Sentiment_id_df = df[['Sentiment', 'Sentiment_id']].drop_duplicates().sort_values('Sentiment_id')\n",
        "Sentiment_to_id = dict(Sentiment_id_df.values)\n",
        "id_to_Sentiment = dict(Sentiment_id_df[['Sentiment_id', 'Sentiment']].values)\n",
        "df.head()"
      ],
      "execution_count": 0,
      "outputs": [
        {
          "output_type": "execute_result",
          "data": {
            "text/html": [
              "<div>\n",
              "<style>\n",
              "    .dataframe thead tr:only-child th {\n",
              "        text-align: right;\n",
              "    }\n",
              "\n",
              "    .dataframe thead th {\n",
              "        text-align: left;\n",
              "    }\n",
              "\n",
              "    .dataframe tbody tr th {\n",
              "        vertical-align: top;\n",
              "    }\n",
              "</style>\n",
              "<table border=\"1\" class=\"dataframe\">\n",
              "  <thead>\n",
              "    <tr style=\"text-align: right;\">\n",
              "      <th></th>\n",
              "      <th>Sentiment</th>\n",
              "      <th>text</th>\n",
              "      <th>Sentiment_id</th>\n",
              "    </tr>\n",
              "  </thead>\n",
              "  <tbody>\n",
              "    <tr>\n",
              "      <th>0</th>\n",
              "      <td>Negative</td>\n",
              "      <td>Oh and I forgot to also mention the weird colo...</td>\n",
              "      <td>0</td>\n",
              "    </tr>\n",
              "    <tr>\n",
              "      <th>1</th>\n",
              "      <td>Negative</td>\n",
              "      <td>THAT one didn't work either.</td>\n",
              "      <td>0</td>\n",
              "    </tr>\n",
              "    <tr>\n",
              "      <th>2</th>\n",
              "      <td>Negative</td>\n",
              "      <td>Waste of 13 bucks.</td>\n",
              "      <td>0</td>\n",
              "    </tr>\n",
              "    <tr>\n",
              "      <th>3</th>\n",
              "      <td>Negative</td>\n",
              "      <td>Product is useless, since it does not have eno...</td>\n",
              "      <td>0</td>\n",
              "    </tr>\n",
              "    <tr>\n",
              "      <th>4</th>\n",
              "      <td>Negative</td>\n",
              "      <td>None of the three sizes they sent with the hea...</td>\n",
              "      <td>0</td>\n",
              "    </tr>\n",
              "  </tbody>\n",
              "</table>\n",
              "</div>"
            ],
            "text/plain": [
              "  Sentiment                                               text  Sentiment_id\n",
              "0  Negative  Oh and I forgot to also mention the weird colo...             0\n",
              "1  Negative                       THAT one didn't work either.             0\n",
              "2  Negative                                 Waste of 13 bucks.             0\n",
              "3  Negative  Product is useless, since it does not have eno...             0\n",
              "4  Negative  None of the three sizes they sent with the hea...             0"
            ]
          },
          "metadata": {
            "tags": []
          },
          "execution_count": 60
        }
      ]
    },
    {
      "cell_type": "code",
      "metadata": {
        "id": "K_ojtN-3JnHN",
        "colab_type": "code",
        "colab": {}
      },
      "source": [
        "xtrain_ctv =  ctv.transform(x_train['text'])"
      ],
      "execution_count": 0,
      "outputs": []
    },
    {
      "cell_type": "markdown",
      "metadata": {
        "id": "cNo3sM5TZIUF",
        "colab_type": "text"
      },
      "source": [
        "# Heatmaps\n",
        "### A heatmap is a two-dimensional graphical representation of data where the individual values that are contained in a matrix are represented as colors. "
      ]
    },
    {
      "cell_type": "code",
      "metadata": {
        "id": "pDPXWcvhJnHS",
        "colab_type": "code",
        "colab": {},
        "outputId": "c3d7b0fb-41c9-427d-b845-3d17850b94c8"
      },
      "source": [
        "######Model Evaluation\n",
        "model =MultinomialNB(alpha=1)\n",
        "X_train, X_test, y_train, y_test, indices_train, indices_test = train_test_split( xtrain_ctv, y_train['is_positive_sentiment'], x_train.index, test_size=0.33, random_state=0)\n",
        "model.fit(X_train, y_train)\n",
        "y_pred = model.predict(X_test)\n",
        "from sklearn.metrics import confusion_matrix\n",
        "conf_mat = confusion_matrix(y_test, y_pred)\n",
        "fig, ax = plt.subplots(figsize=(10,10))\n",
        "sns.heatmap(conf_mat, annot=True, fmt='d',xticklabels=Sentiment_id_df.Sentiment.values, yticklabels=Sentiment_id_df.Sentiment.values)\n",
        "plt.ylabel('Actual')\n",
        "plt.xlabel('Predicted')\n",
        "plt.show()"
      ],
      "execution_count": 0,
      "outputs": [
        {
          "output_type": "display_data",
          "data": {
            "image/png": "[encoded data removed]",
            "text/plain": [
              "<matplotlib.figure.Figure at 0x23821c12668>"
            ]
          },
          "metadata": {
            "tags": []
          }
        }
      ]
    },
    {
      "cell_type": "markdown",
      "metadata": {
        "id": "UMz4aMAkYH8-",
        "colab_type": "text"
      },
      "source": [
        "# Error Analysis\n",
        "### printing out all the predictions that were proved to be incorrect by the test set and have a conf_mat deviation of more than 10"
      ]
    },
    {
      "cell_type": "markdown",
      "metadata": {
        "id": "a-9VkldrYhbw",
        "colab_type": "text"
      },
      "source": [
        "printing out all the negatives makred positve and all positives marked negative "
      ]
    },
    {
      "cell_type": "code",
      "metadata": {
        "id": "BWhLqa35JnHi",
        "colab_type": "code",
        "colab": {},
        "outputId": "6e32bcb5-fd6f-490a-d093-2a5fce80dff8"
      },
      "source": [
        "from IPython.display import display\n",
        "for predicted in Sentiment_id_df.Sentiment_id:\n",
        "  for actual in Sentiment_id_df.Sentiment_id:\n",
        "    if predicted != actual and conf_mat[actual, predicted] >= 10:\n",
        "      print(\"'{}' predicted as '{}' : {} examples.\".format(id_to_Sentiment[actual], id_to_Sentiment[predicted], conf_mat[actual, predicted]))\n",
        "      display(df.loc[indices_test[(y_test == actual) & (y_pred == predicted)]][['Sentiment', 'text']])\n",
        "      print('')"
      ],
      "execution_count": 0,
      "outputs": [
        {
          "output_type": "stream",
          "text": [
            "'Positive' predicted as 'Negative' : 69 examples.\n"
          ],
          "name": "stdout"
        },
        {
          "output_type": "display_data",
          "data": {
            "text/html": [
              "<div>\n",
              "<style>\n",
              "    .dataframe thead tr:only-child th {\n",
              "        text-align: right;\n",
              "    }\n",
              "\n",
              "    .dataframe thead th {\n",
              "        text-align: left;\n",
              "    }\n",
              "\n",
              "    .dataframe tbody tr th {\n",
              "        vertical-align: top;\n",
              "    }\n",
              "</style>\n",
              "<table border=\"1\" class=\"dataframe\">\n",
              "  <thead>\n",
              "    <tr style=\"text-align: right;\">\n",
              "      <th></th>\n",
              "      <th>Sentiment</th>\n",
              "      <th>text</th>\n",
              "    </tr>\n",
              "  </thead>\n",
              "  <tbody>\n",
              "    <tr>\n",
              "      <th>2097</th>\n",
              "      <td>Positive</td>\n",
              "      <td>Not to mention the combination of pears, almon...</td>\n",
              "    </tr>\n",
              "    <tr>\n",
              "      <th>657</th>\n",
              "      <td>Positive</td>\n",
              "      <td>In the span of an hour, I had two people excla...</td>\n",
              "    </tr>\n",
              "    <tr>\n",
              "      <th>452</th>\n",
              "      <td>Positive</td>\n",
              "      <td>Phone now holds charge like it did when it was...</td>\n",
              "    </tr>\n",
              "    <tr>\n",
              "      <th>597</th>\n",
              "      <td>Positive</td>\n",
              "      <td>Magical Help.</td>\n",
              "    </tr>\n",
              "    <tr>\n",
              "      <th>1252</th>\n",
              "      <td>Positive</td>\n",
              "      <td>Lovely little thriller from Hitchcock, with lo...</td>\n",
              "    </tr>\n",
              "    <tr>\n",
              "      <th>518</th>\n",
              "      <td>Positive</td>\n",
              "      <td>Someone shouldve invented this sooner.</td>\n",
              "    </tr>\n",
              "    <tr>\n",
              "      <th>2083</th>\n",
              "      <td>Positive</td>\n",
              "      <td>We'd definitely go back here again.</td>\n",
              "    </tr>\n",
              "    <tr>\n",
              "      <th>666</th>\n",
              "      <td>Positive</td>\n",
              "      <td>I did not have any problem with this item and ...</td>\n",
              "    </tr>\n",
              "    <tr>\n",
              "      <th>1442</th>\n",
              "      <td>Positive</td>\n",
              "      <td>Secondly, Hitchcock pretty much perfected the ...</td>\n",
              "    </tr>\n",
              "    <tr>\n",
              "      <th>1430</th>\n",
              "      <td>Positive</td>\n",
              "      <td>It's as continuously beautiful to look at as a...</td>\n",
              "    </tr>\n",
              "    <tr>\n",
              "      <th>1354</th>\n",
              "      <td>Positive</td>\n",
              "      <td>Go rent it.</td>\n",
              "    </tr>\n",
              "    <tr>\n",
              "      <th>486</th>\n",
              "      <td>Positive</td>\n",
              "      <td>It has been a winner for us.</td>\n",
              "    </tr>\n",
              "    <tr>\n",
              "      <th>674</th>\n",
              "      <td>Positive</td>\n",
              "      <td>I was able to do voice dialing in the car with...</td>\n",
              "    </tr>\n",
              "    <tr>\n",
              "      <th>1379</th>\n",
              "      <td>Positive</td>\n",
              "      <td>This movie contained an all-star cast, and wha...</td>\n",
              "    </tr>\n",
              "    <tr>\n",
              "      <th>1498</th>\n",
              "      <td>Positive</td>\n",
              "      <td>:) Anyway, the plot flowed smoothly and the ma...</td>\n",
              "    </tr>\n",
              "    <tr>\n",
              "      <th>1511</th>\n",
              "      <td>Positive</td>\n",
              "      <td>A world better than 95% of the garbage in the ...</td>\n",
              "    </tr>\n",
              "    <tr>\n",
              "      <th>2137</th>\n",
              "      <td>Positive</td>\n",
              "      <td>I gave it 5 stars then, and I'm giving it 5 st...</td>\n",
              "    </tr>\n",
              "    <tr>\n",
              "      <th>1295</th>\n",
              "      <td>Positive</td>\n",
              "      <td>You won't forget this movie!</td>\n",
              "    </tr>\n",
              "    <tr>\n",
              "      <th>2034</th>\n",
              "      <td>Positive</td>\n",
              "      <td>Now this dish was quite flavourful.</td>\n",
              "    </tr>\n",
              "    <tr>\n",
              "      <th>1439</th>\n",
              "      <td>Positive</td>\n",
              "      <td>I really hope the team behind this movie makes...</td>\n",
              "    </tr>\n",
              "    <tr>\n",
              "      <th>440</th>\n",
              "      <td>Positive</td>\n",
              "      <td>The battery is working well as a replacement f...</td>\n",
              "    </tr>\n",
              "    <tr>\n",
              "      <th>655</th>\n",
              "      <td>Positive</td>\n",
              "      <td>Will order from them again!</td>\n",
              "    </tr>\n",
              "    <tr>\n",
              "      <th>477</th>\n",
              "      <td>Positive</td>\n",
              "      <td>Virgin Wireless rocks and so does this cheap l...</td>\n",
              "    </tr>\n",
              "    <tr>\n",
              "      <th>2166</th>\n",
              "      <td>Positive</td>\n",
              "      <td>If you stay in Vegas you must get breakfast he...</td>\n",
              "    </tr>\n",
              "    <tr>\n",
              "      <th>562</th>\n",
              "      <td>Positive</td>\n",
              "      <td>Much less than the jawbone I was going to repl...</td>\n",
              "    </tr>\n",
              "    <tr>\n",
              "      <th>568</th>\n",
              "      <td>Positive</td>\n",
              "      <td>Also its slim enough to fit into my alarm cloc...</td>\n",
              "    </tr>\n",
              "    <tr>\n",
              "      <th>2376</th>\n",
              "      <td>Positive</td>\n",
              "      <td>* Both the Hot &amp; Sour &amp; the Egg Flower Soups w...</td>\n",
              "    </tr>\n",
              "    <tr>\n",
              "      <th>602</th>\n",
              "      <td>Positive</td>\n",
              "      <td>much better than the hard plastic cases.</td>\n",
              "    </tr>\n",
              "    <tr>\n",
              "      <th>704</th>\n",
              "      <td>Positive</td>\n",
              "      <td>It is so small and you don't even realize that...</td>\n",
              "    </tr>\n",
              "    <tr>\n",
              "      <th>731</th>\n",
              "      <td>Positive</td>\n",
              "      <td>It was that loud.Glad to say that the Plantron...</td>\n",
              "    </tr>\n",
              "    <tr>\n",
              "      <th>...</th>\n",
              "      <td>...</td>\n",
              "      <td>...</td>\n",
              "    </tr>\n",
              "    <tr>\n",
              "      <th>2249</th>\n",
              "      <td>Positive</td>\n",
              "      <td>OMG I felt like I had never eaten Thai food un...</td>\n",
              "    </tr>\n",
              "    <tr>\n",
              "      <th>565</th>\n",
              "      <td>Positive</td>\n",
              "      <td>It has kept up very well.</td>\n",
              "    </tr>\n",
              "    <tr>\n",
              "      <th>703</th>\n",
              "      <td>Positive</td>\n",
              "      <td>My phone doesn't slide around my car now and t...</td>\n",
              "    </tr>\n",
              "    <tr>\n",
              "      <th>459</th>\n",
              "      <td>Positive</td>\n",
              "      <td>#1 It Works - #2 It is Comfortable.</td>\n",
              "    </tr>\n",
              "    <tr>\n",
              "      <th>2108</th>\n",
              "      <td>Positive</td>\n",
              "      <td>You cant go wrong with any of the food here.</td>\n",
              "    </tr>\n",
              "    <tr>\n",
              "      <th>1506</th>\n",
              "      <td>Positive</td>\n",
              "      <td>But \"Tiny Toons\" kept the 90's vibe and delive...</td>\n",
              "    </tr>\n",
              "    <tr>\n",
              "      <th>1300</th>\n",
              "      <td>Positive</td>\n",
              "      <td>This if the first movie I've given a 10 to in ...</td>\n",
              "    </tr>\n",
              "    <tr>\n",
              "      <th>1451</th>\n",
              "      <td>Positive</td>\n",
              "      <td>The soundtrack wasn't terrible, either.</td>\n",
              "    </tr>\n",
              "    <tr>\n",
              "      <th>2390</th>\n",
              "      <td>Positive</td>\n",
              "      <td>Food was so gooodd.</td>\n",
              "    </tr>\n",
              "    <tr>\n",
              "      <th>2201</th>\n",
              "      <td>Positive</td>\n",
              "      <td>I would recommend saving room for this!</td>\n",
              "    </tr>\n",
              "    <tr>\n",
              "      <th>1460</th>\n",
              "      <td>Positive</td>\n",
              "      <td>As a courtroom drama, it's compelling, as an i...</td>\n",
              "    </tr>\n",
              "    <tr>\n",
              "      <th>758</th>\n",
              "      <td>Positive</td>\n",
              "      <td>* Comes with a strong light that you can use t...</td>\n",
              "    </tr>\n",
              "    <tr>\n",
              "      <th>1285</th>\n",
              "      <td>Positive</td>\n",
              "      <td>The last 15 minutes of movie are also not bad ...</td>\n",
              "    </tr>\n",
              "    <tr>\n",
              "      <th>663</th>\n",
              "      <td>Positive</td>\n",
              "      <td>Very satisifed with that.</td>\n",
              "    </tr>\n",
              "    <tr>\n",
              "      <th>1459</th>\n",
              "      <td>Positive</td>\n",
              "      <td>There's barely a boring moment in the film and...</td>\n",
              "    </tr>\n",
              "    <tr>\n",
              "      <th>2340</th>\n",
              "      <td>Positive</td>\n",
              "      <td>You won't be disappointed.</td>\n",
              "    </tr>\n",
              "    <tr>\n",
              "      <th>1235</th>\n",
              "      <td>Positive</td>\n",
              "      <td>The movie is not completely perfect but 'Titta...</td>\n",
              "    </tr>\n",
              "    <tr>\n",
              "      <th>2324</th>\n",
              "      <td>Positive</td>\n",
              "      <td>All in all, I can assure you I'll be back.</td>\n",
              "    </tr>\n",
              "    <tr>\n",
              "      <th>2126</th>\n",
              "      <td>Positive</td>\n",
              "      <td>I did not expect this to be so good!</td>\n",
              "    </tr>\n",
              "    <tr>\n",
              "      <th>1336</th>\n",
              "      <td>Positive</td>\n",
              "      <td>I will never forget it now.</td>\n",
              "    </tr>\n",
              "    <tr>\n",
              "      <th>1257</th>\n",
              "      <td>Positive</td>\n",
              "      <td>But this movie really got to me.</td>\n",
              "    </tr>\n",
              "    <tr>\n",
              "      <th>2095</th>\n",
              "      <td>Positive</td>\n",
              "      <td>I can assure you that you won't be disappointed.</td>\n",
              "    </tr>\n",
              "    <tr>\n",
              "      <th>2374</th>\n",
              "      <td>Positive</td>\n",
              "      <td>The goat taco didn't skimp on the meat and wow...</td>\n",
              "    </tr>\n",
              "    <tr>\n",
              "      <th>1248</th>\n",
              "      <td>Positive</td>\n",
              "      <td>Totally different, with loads of understatemen...</td>\n",
              "    </tr>\n",
              "    <tr>\n",
              "      <th>506</th>\n",
              "      <td>Positive</td>\n",
              "      <td>Nice quality build, unlike some cheap s*** out...</td>\n",
              "    </tr>\n",
              "    <tr>\n",
              "      <th>2268</th>\n",
              "      <td>Positive</td>\n",
              "      <td>I'll definitely be in soon again.</td>\n",
              "    </tr>\n",
              "    <tr>\n",
              "      <th>2282</th>\n",
              "      <td>Positive</td>\n",
              "      <td>They know how to make them here.</td>\n",
              "    </tr>\n",
              "    <tr>\n",
              "      <th>587</th>\n",
              "      <td>Positive</td>\n",
              "      <td>Its a total package.</td>\n",
              "    </tr>\n",
              "    <tr>\n",
              "      <th>615</th>\n",
              "      <td>Positive</td>\n",
              "      <td>Portable and it works.</td>\n",
              "    </tr>\n",
              "    <tr>\n",
              "      <th>653</th>\n",
              "      <td>Positive</td>\n",
              "      <td>Because both ears are occupied, background is ...</td>\n",
              "    </tr>\n",
              "  </tbody>\n",
              "</table>\n",
              "<p>69 rows × 2 columns</p>\n",
              "</div>"
            ],
            "text/plain": [
              "     Sentiment                                               text\n",
              "2097  Positive  Not to mention the combination of pears, almon...\n",
              "657   Positive  In the span of an hour, I had two people excla...\n",
              "452   Positive  Phone now holds charge like it did when it was...\n",
              "597   Positive                                      Magical Help.\n",
              "1252  Positive  Lovely little thriller from Hitchcock, with lo...\n",
              "518   Positive             Someone shouldve invented this sooner.\n",
              "2083  Positive                We'd definitely go back here again.\n",
              "666   Positive  I did not have any problem with this item and ...\n",
              "1442  Positive  Secondly, Hitchcock pretty much perfected the ...\n",
              "1430  Positive  It's as continuously beautiful to look at as a...\n",
              "1354  Positive                                      Go rent it.  \n",
              "486   Positive                       It has been a winner for us.\n",
              "674   Positive  I was able to do voice dialing in the car with...\n",
              "1379  Positive  This movie contained an all-star cast, and wha...\n",
              "1498  Positive  :) Anyway, the plot flowed smoothly and the ma...\n",
              "1511  Positive  A world better than 95% of the garbage in the ...\n",
              "2137  Positive  I gave it 5 stars then, and I'm giving it 5 st...\n",
              "1295  Positive                     You won't forget this movie!  \n",
              "2034  Positive                Now this dish was quite flavourful.\n",
              "1439  Positive  I really hope the team behind this movie makes...\n",
              "440   Positive  The battery is working well as a replacement f...\n",
              "655   Positive                        Will order from them again!\n",
              "477   Positive  Virgin Wireless rocks and so does this cheap l...\n",
              "2166  Positive  If you stay in Vegas you must get breakfast he...\n",
              "562   Positive  Much less than the jawbone I was going to repl...\n",
              "568   Positive  Also its slim enough to fit into my alarm cloc...\n",
              "2376  Positive  * Both the Hot & Sour & the Egg Flower Soups w...\n",
              "602   Positive           much better than the hard plastic cases.\n",
              "704   Positive  It is so small and you don't even realize that...\n",
              "731   Positive  It was that loud.Glad to say that the Plantron...\n",
              "...        ...                                                ...\n",
              "2249  Positive  OMG I felt like I had never eaten Thai food un...\n",
              "565   Positive                          It has kept up very well.\n",
              "703   Positive  My phone doesn't slide around my car now and t...\n",
              "459   Positive                #1 It Works - #2 It is Comfortable.\n",
              "2108  Positive       You cant go wrong with any of the food here.\n",
              "1506  Positive  But \"Tiny Toons\" kept the 90's vibe and delive...\n",
              "1300  Positive  This if the first movie I've given a 10 to in ...\n",
              "1451  Positive          The soundtrack wasn't terrible, either.  \n",
              "2390  Positive                                Food was so gooodd.\n",
              "2201  Positive            I would recommend saving room for this!\n",
              "1460  Positive  As a courtroom drama, it's compelling, as an i...\n",
              "758   Positive  * Comes with a strong light that you can use t...\n",
              "1285  Positive  The last 15 minutes of movie are also not bad ...\n",
              "663   Positive                          Very satisifed with that.\n",
              "1459  Positive  There's barely a boring moment in the film and...\n",
              "2340  Positive                         You won't be disappointed.\n",
              "1235  Positive  The movie is not completely perfect but 'Titta...\n",
              "2324  Positive         All in all, I can assure you I'll be back.\n",
              "2126  Positive               I did not expect this to be so good!\n",
              "1336  Positive                      I will never forget it now.  \n",
              "1257  Positive                 But this movie really got to me.  \n",
              "2095  Positive   I can assure you that you won't be disappointed.\n",
              "2374  Positive  The goat taco didn't skimp on the meat and wow...\n",
              "1248  Positive  Totally different, with loads of understatemen...\n",
              "506   Positive  Nice quality build, unlike some cheap s*** out...\n",
              "2268  Positive                  I'll definitely be in soon again.\n",
              "2282  Positive                   They know how to make them here.\n",
              "587   Positive                               Its a total package.\n",
              "615   Positive                             Portable and it works.\n",
              "653   Positive  Because both ears are occupied, background is ...\n",
              "\n",
              "[69 rows x 2 columns]"
            ]
          },
          "metadata": {
            "tags": []
          }
        },
        {
          "output_type": "stream",
          "text": [
            "\n",
            "'Negative' predicted as 'Positive' : 87 examples.\n"
          ],
          "name": "stdout"
        },
        {
          "output_type": "display_data",
          "data": {
            "text/html": [
              "<div>\n",
              "<style>\n",
              "    .dataframe thead tr:only-child th {\n",
              "        text-align: right;\n",
              "    }\n",
              "\n",
              "    .dataframe thead th {\n",
              "        text-align: left;\n",
              "    }\n",
              "\n",
              "    .dataframe tbody tr th {\n",
              "        vertical-align: top;\n",
              "    }\n",
              "</style>\n",
              "<table border=\"1\" class=\"dataframe\">\n",
              "  <thead>\n",
              "    <tr style=\"text-align: right;\">\n",
              "      <th></th>\n",
              "      <th>Sentiment</th>\n",
              "      <th>text</th>\n",
              "    </tr>\n",
              "  </thead>\n",
              "  <tbody>\n",
              "    <tr>\n",
              "      <th>302</th>\n",
              "      <td>Negative</td>\n",
              "      <td>I ordered this for sony Ericsson W810i but I t...</td>\n",
              "    </tr>\n",
              "    <tr>\n",
              "      <th>156</th>\n",
              "      <td>Negative</td>\n",
              "      <td>Steer clear of this product and go with the ge...</td>\n",
              "    </tr>\n",
              "    <tr>\n",
              "      <th>1651</th>\n",
              "      <td>Negative</td>\n",
              "      <td>The descriptions said \"yum yum sauce\" and anot...</td>\n",
              "    </tr>\n",
              "    <tr>\n",
              "      <th>53</th>\n",
              "      <td>Negative</td>\n",
              "      <td>I really wanted the Plantronics 510 to be the ...</td>\n",
              "    </tr>\n",
              "    <tr>\n",
              "      <th>893</th>\n",
              "      <td>Negative</td>\n",
              "      <td>If it was to turn my good day feeling into a n...</td>\n",
              "    </tr>\n",
              "    <tr>\n",
              "      <th>991</th>\n",
              "      <td>Negative</td>\n",
              "      <td>The only place good for this film is in the ga...</td>\n",
              "    </tr>\n",
              "    <tr>\n",
              "      <th>878</th>\n",
              "      <td>Negative</td>\n",
              "      <td>The Foreigner is not worth one second of your ...</td>\n",
              "    </tr>\n",
              "    <tr>\n",
              "      <th>1185</th>\n",
              "      <td>Negative</td>\n",
              "      <td>And, quite honestly, often its not very good.</td>\n",
              "    </tr>\n",
              "    <tr>\n",
              "      <th>1639</th>\n",
              "      <td>Negative</td>\n",
              "      <td>It was a pale color instead of nice and char a...</td>\n",
              "    </tr>\n",
              "    <tr>\n",
              "      <th>69</th>\n",
              "      <td>Negative</td>\n",
              "      <td>I tried talking real loud but shouting on the ...</td>\n",
              "    </tr>\n",
              "    <tr>\n",
              "      <th>1736</th>\n",
              "      <td>Negative</td>\n",
              "      <td>It was a bit too sweet, not really spicy enoug...</td>\n",
              "    </tr>\n",
              "    <tr>\n",
              "      <th>320</th>\n",
              "      <td>Negative</td>\n",
              "      <td>I was not happy with this item.</td>\n",
              "    </tr>\n",
              "    <tr>\n",
              "      <th>1796</th>\n",
              "      <td>Negative</td>\n",
              "      <td>The service here is fair at best.</td>\n",
              "    </tr>\n",
              "    <tr>\n",
              "      <th>232</th>\n",
              "      <td>Negative</td>\n",
              "      <td>It lasts less than 3o minutes, if I actually t...</td>\n",
              "    </tr>\n",
              "    <tr>\n",
              "      <th>23</th>\n",
              "      <td>Negative</td>\n",
              "      <td>We have tried 2 units and they both failed wit...</td>\n",
              "    </tr>\n",
              "    <tr>\n",
              "      <th>22</th>\n",
              "      <td>Negative</td>\n",
              "      <td>I bought these hoping I could make my Bluetoot...</td>\n",
              "    </tr>\n",
              "    <tr>\n",
              "      <th>1802</th>\n",
              "      <td>Negative</td>\n",
              "      <td>The service was poor and thats being nice.</td>\n",
              "    </tr>\n",
              "    <tr>\n",
              "      <th>98</th>\n",
              "      <td>Negative</td>\n",
              "      <td>I'll be looking for a new earpiece.</td>\n",
              "    </tr>\n",
              "    <tr>\n",
              "      <th>936</th>\n",
              "      <td>Negative</td>\n",
              "      <td>The fish is badly made and some of its underwa...</td>\n",
              "    </tr>\n",
              "    <tr>\n",
              "      <th>1199</th>\n",
              "      <td>Negative</td>\n",
              "      <td>Everything stinks.</td>\n",
              "    </tr>\n",
              "    <tr>\n",
              "      <th>1633</th>\n",
              "      <td>Negative</td>\n",
              "      <td>I will never go back to this place and will ne...</td>\n",
              "    </tr>\n",
              "    <tr>\n",
              "      <th>1119</th>\n",
              "      <td>Negative</td>\n",
              "      <td>It was a very superficial movie and it gave me...</td>\n",
              "    </tr>\n",
              "    <tr>\n",
              "      <th>1976</th>\n",
              "      <td>Negative</td>\n",
              "      <td>Overall I was not impressed and would not go b...</td>\n",
              "    </tr>\n",
              "    <tr>\n",
              "      <th>1008</th>\n",
              "      <td>Negative</td>\n",
              "      <td>There were too many close ups.</td>\n",
              "    </tr>\n",
              "    <tr>\n",
              "      <th>1985</th>\n",
              "      <td>Negative</td>\n",
              "      <td>After the disappointing dinner we went elsewhe...</td>\n",
              "    </tr>\n",
              "    <tr>\n",
              "      <th>39</th>\n",
              "      <td>Negative</td>\n",
              "      <td>This is a simple little phone to use, but the ...</td>\n",
              "    </tr>\n",
              "    <tr>\n",
              "      <th>1706</th>\n",
              "      <td>Negative</td>\n",
              "      <td>Soggy and not good.</td>\n",
              "    </tr>\n",
              "    <tr>\n",
              "      <th>1716</th>\n",
              "      <td>Negative</td>\n",
              "      <td>The service was not up to par, either.</td>\n",
              "    </tr>\n",
              "    <tr>\n",
              "      <th>1074</th>\n",
              "      <td>Negative</td>\n",
              "      <td>If you check the director's filmography on thi...</td>\n",
              "    </tr>\n",
              "    <tr>\n",
              "      <th>1842</th>\n",
              "      <td>Negative</td>\n",
              "      <td>The server was very negligent of our needs and...</td>\n",
              "    </tr>\n",
              "    <tr>\n",
              "      <th>...</th>\n",
              "      <td>...</td>\n",
              "      <td>...</td>\n",
              "    </tr>\n",
              "    <tr>\n",
              "      <th>1794</th>\n",
              "      <td>Negative</td>\n",
              "      <td>first time there and might just be the last.</td>\n",
              "    </tr>\n",
              "    <tr>\n",
              "      <th>299</th>\n",
              "      <td>Negative</td>\n",
              "      <td>If you have several dozen or several hundred c...</td>\n",
              "    </tr>\n",
              "    <tr>\n",
              "      <th>279</th>\n",
              "      <td>Negative</td>\n",
              "      <td>The plastic breaks really easy on this clip.</td>\n",
              "    </tr>\n",
              "    <tr>\n",
              "      <th>1921</th>\n",
              "      <td>Negative</td>\n",
              "      <td>I would not recommend this place.</td>\n",
              "    </tr>\n",
              "    <tr>\n",
              "      <th>1632</th>\n",
              "      <td>Negative</td>\n",
              "      <td>The food is about on par with Denny's, which i...</td>\n",
              "    </tr>\n",
              "    <tr>\n",
              "      <th>927</th>\n",
              "      <td>Negative</td>\n",
              "      <td>And, FINALLY, after all that, we get to an end...</td>\n",
              "    </tr>\n",
              "    <tr>\n",
              "      <th>393</th>\n",
              "      <td>Negative</td>\n",
              "      <td>Not nearly as good looking as the AMAZON pictu...</td>\n",
              "    </tr>\n",
              "    <tr>\n",
              "      <th>106</th>\n",
              "      <td>Negative</td>\n",
              "      <td>I was not impressed by this product.</td>\n",
              "    </tr>\n",
              "    <tr>\n",
              "      <th>202</th>\n",
              "      <td>Negative</td>\n",
              "      <td>Not worth it.</td>\n",
              "    </tr>\n",
              "    <tr>\n",
              "      <th>118</th>\n",
              "      <td>Negative</td>\n",
              "      <td>All in all, I'd expected a better consumer exp...</td>\n",
              "    </tr>\n",
              "    <tr>\n",
              "      <th>1929</th>\n",
              "      <td>Negative</td>\n",
              "      <td>It was pretty gross!</td>\n",
              "    </tr>\n",
              "    <tr>\n",
              "      <th>1017</th>\n",
              "      <td>Negative</td>\n",
              "      <td>The puppets look really cheesy , not in a good...</td>\n",
              "    </tr>\n",
              "    <tr>\n",
              "      <th>1665</th>\n",
              "      <td>Negative</td>\n",
              "      <td>There is really nothing for me at postinos, ho...</td>\n",
              "    </tr>\n",
              "    <tr>\n",
              "      <th>1000</th>\n",
              "      <td>Negative</td>\n",
              "      <td>Nothing new there.</td>\n",
              "    </tr>\n",
              "    <tr>\n",
              "      <th>963</th>\n",
              "      <td>Negative</td>\n",
              "      <td>This one just fails to create any real suspens...</td>\n",
              "    </tr>\n",
              "    <tr>\n",
              "      <th>1642</th>\n",
              "      <td>Negative</td>\n",
              "      <td>We'll never go again.</td>\n",
              "    </tr>\n",
              "    <tr>\n",
              "      <th>1002</th>\n",
              "      <td>Negative</td>\n",
              "      <td>In fact, this stinker smells like a direct-to-...</td>\n",
              "    </tr>\n",
              "    <tr>\n",
              "      <th>1183</th>\n",
              "      <td>Negative</td>\n",
              "      <td>About ten minutes into this film I started hav...</td>\n",
              "    </tr>\n",
              "    <tr>\n",
              "      <th>139</th>\n",
              "      <td>Negative</td>\n",
              "      <td>Case was more or less an extra that I original...</td>\n",
              "    </tr>\n",
              "    <tr>\n",
              "      <th>34</th>\n",
              "      <td>Negative</td>\n",
              "      <td>Plus, I seriously do not believe it is worth i...</td>\n",
              "    </tr>\n",
              "    <tr>\n",
              "      <th>1804</th>\n",
              "      <td>Negative</td>\n",
              "      <td>The service was meh.</td>\n",
              "    </tr>\n",
              "    <tr>\n",
              "      <th>899</th>\n",
              "      <td>Negative</td>\n",
              "      <td>Full of unconvincing cardboard characters it i...</td>\n",
              "    </tr>\n",
              "    <tr>\n",
              "      <th>1918</th>\n",
              "      <td>Negative</td>\n",
              "      <td>I go to far too many places and I've never see...</td>\n",
              "    </tr>\n",
              "    <tr>\n",
              "      <th>818</th>\n",
              "      <td>Negative</td>\n",
              "      <td>I cannot believe that the actors agreed to do ...</td>\n",
              "    </tr>\n",
              "    <tr>\n",
              "      <th>1055</th>\n",
              "      <td>Negative</td>\n",
              "      <td>i wouldnt see this movie again for free.</td>\n",
              "    </tr>\n",
              "    <tr>\n",
              "      <th>61</th>\n",
              "      <td>Negative</td>\n",
              "      <td>I've had this bluetoooth headset for some time...</td>\n",
              "    </tr>\n",
              "    <tr>\n",
              "      <th>1013</th>\n",
              "      <td>Negative</td>\n",
              "      <td>The acting by the whole cast could be put on a...</td>\n",
              "    </tr>\n",
              "    <tr>\n",
              "      <th>1829</th>\n",
              "      <td>Negative</td>\n",
              "      <td>Which are small and not worth the price.</td>\n",
              "    </tr>\n",
              "    <tr>\n",
              "      <th>1649</th>\n",
              "      <td>Negative</td>\n",
              "      <td>-Drinks took close to 30 minutes to come out a...</td>\n",
              "    </tr>\n",
              "    <tr>\n",
              "      <th>357</th>\n",
              "      <td>Negative</td>\n",
              "      <td>REALLY UGLY.</td>\n",
              "    </tr>\n",
              "  </tbody>\n",
              "</table>\n",
              "<p>87 rows × 2 columns</p>\n",
              "</div>"
            ],
            "text/plain": [
              "     Sentiment                                               text\n",
              "302   Negative  I ordered this for sony Ericsson W810i but I t...\n",
              "156   Negative  Steer clear of this product and go with the ge...\n",
              "1651  Negative  The descriptions said \"yum yum sauce\" and anot...\n",
              "53    Negative  I really wanted the Plantronics 510 to be the ...\n",
              "893   Negative  If it was to turn my good day feeling into a n...\n",
              "991   Negative  The only place good for this film is in the ga...\n",
              "878   Negative  The Foreigner is not worth one second of your ...\n",
              "1185  Negative    And, quite honestly, often its not very good.  \n",
              "1639  Negative  It was a pale color instead of nice and char a...\n",
              "69    Negative  I tried talking real loud but shouting on the ...\n",
              "1736  Negative  It was a bit too sweet, not really spicy enoug...\n",
              "320   Negative                    I was not happy with this item.\n",
              "1796  Negative                  The service here is fair at best.\n",
              "232   Negative  It lasts less than 3o minutes, if I actually t...\n",
              "23    Negative  We have tried 2 units and they both failed wit...\n",
              "22    Negative  I bought these hoping I could make my Bluetoot...\n",
              "1802  Negative         The service was poor and thats being nice.\n",
              "98    Negative                I'll be looking for a new earpiece.\n",
              "936   Negative  The fish is badly made and some of its underwa...\n",
              "1199  Negative                               Everything stinks.  \n",
              "1633  Negative  I will never go back to this place and will ne...\n",
              "1119  Negative  It was a very superficial movie and it gave me...\n",
              "1976  Negative  Overall I was not impressed and would not go b...\n",
              "1008  Negative                   There were too many close ups.  \n",
              "1985  Negative  After the disappointing dinner we went elsewhe...\n",
              "39    Negative  This is a simple little phone to use, but the ...\n",
              "1706  Negative                                Soggy and not good.\n",
              "1716  Negative             The service was not up to par, either.\n",
              "1074  Negative  If you check the director's filmography on thi...\n",
              "1842  Negative  The server was very negligent of our needs and...\n",
              "...        ...                                                ...\n",
              "1794  Negative       first time there and might just be the last.\n",
              "299   Negative  If you have several dozen or several hundred c...\n",
              "279   Negative       The plastic breaks really easy on this clip.\n",
              "1921  Negative                  I would not recommend this place.\n",
              "1632  Negative  The food is about on par with Denny's, which i...\n",
              "927   Negative  And, FINALLY, after all that, we get to an end...\n",
              "393   Negative  Not nearly as good looking as the AMAZON pictu...\n",
              "106   Negative               I was not impressed by this product.\n",
              "202   Negative                                      Not worth it.\n",
              "118   Negative  All in all, I'd expected a better consumer exp...\n",
              "1929  Negative                               It was pretty gross!\n",
              "1017  Negative  The puppets look really cheesy , not in a good...\n",
              "1665  Negative  There is really nothing for me at postinos, ho...\n",
              "1000  Negative                               Nothing new there.  \n",
              "963   Negative  This one just fails to create any real suspens...\n",
              "1642  Negative                              We'll never go again.\n",
              "1002  Negative  In fact, this stinker smells like a direct-to-...\n",
              "1183  Negative  About ten minutes into this film I started hav...\n",
              "139   Negative  Case was more or less an extra that I original...\n",
              "34    Negative  Plus, I seriously do not believe it is worth i...\n",
              "1804  Negative                               The service was meh.\n",
              "899   Negative  Full of unconvincing cardboard characters it i...\n",
              "1918  Negative  I go to far too many places and I've never see...\n",
              "818   Negative  I cannot believe that the actors agreed to do ...\n",
              "1055  Negative         i wouldnt see this movie again for free.  \n",
              "61    Negative  I've had this bluetoooth headset for some time...\n",
              "1013  Negative  The acting by the whole cast could be put on a...\n",
              "1829  Negative           Which are small and not worth the price.\n",
              "1649  Negative  -Drinks took close to 30 minutes to come out a...\n",
              "357   Negative                                       REALLY UGLY.\n",
              "\n",
              "[87 rows x 2 columns]"
            ]
          },
          "metadata": {
            "tags": []
          }
        },
        {
          "output_type": "stream",
          "text": [
            "\n"
          ],
          "name": "stdout"
        }
      ]
    },
    {
      "cell_type": "code",
      "metadata": {
        "id": "3BpSxv5hJnIA",
        "colab_type": "code",
        "colab": {},
        "outputId": "a00d68ec-7fa7-44a4-d320-a231a0ee0603"
      },
      "source": [
        "####error_rate = (1 - accuracy)\n",
        "((86+67)/792)*100"
      ],
      "execution_count": 0,
      "outputs": [
        {
          "output_type": "execute_result",
          "data": {
            "text/plain": [
              "19.318181818181817"
            ]
          },
          "metadata": {
            "tags": []
          },
          "execution_count": 64
        }
      ]
    },
    {
      "cell_type": "markdown",
      "metadata": {
        "id": "b4CAF4-sYqOF",
        "colab_type": "text"
      },
      "source": [
        ""
      ]
    },
    {
      "cell_type": "code",
      "metadata": {
        "id": "S1GVwoo4JnIS",
        "colab_type": "code",
        "colab": {}
      },
      "source": [
        "###LOWER CASE############\n",
        "x_test[\"text\"] = (x_test[\"text\"].apply(lambda x: \" \".join(x.lower() for x in x.split())))\n",
        "# Removing punctuation\n",
        "x_test[\"text\"] = x_test[\"text\"].str.replace('[^\\w\\s]','')\n",
        "####lEMENTIZATIOO#############\n",
        "x_test[\"text\"]  = (x_test[\"text\"].apply(lambda x: \" \".join([Word(word).lemmatize() for word in x.split()])))"
      ],
      "execution_count": 0,
      "outputs": []
    },
    {
      "cell_type": "markdown",
      "metadata": {
        "id": "4ECkZvpiYsbF",
        "colab_type": "text"
      },
      "source": [
        "# Testing out on the test set....\n",
        "## Apllying all the pre-processing techniques on the test data.."
      ]
    },
    {
      "cell_type": "code",
      "metadata": {
        "id": "E3RaJEaWJnIX",
        "colab_type": "code",
        "colab": {}
      },
      "source": [
        "xtest_ctv =  ctv.transform(x_test[\"text\"])"
      ],
      "execution_count": 0,
      "outputs": []
    },
    {
      "cell_type": "code",
      "metadata": {
        "id": "gRfPet9IJnIp",
        "colab_type": "code",
        "colab": {}
      },
      "source": [
        "submission_predictions = NB_model_Count_final.predict_proba(xtest_ctv)[:,1]"
      ],
      "execution_count": 0,
      "outputs": []
    },
    {
      "cell_type": "code",
      "metadata": {
        "id": "E36yiJG-JnI4",
        "colab_type": "code",
        "colab": {},
        "outputId": "35b1ee48-c1d1-4066-8376-023091f31d74"
      },
      "source": [
        "print(type(submission_predictions))"
      ],
      "execution_count": 0,
      "outputs": [
        {
          "output_type": "stream",
          "text": [
            "<class 'numpy.ndarray'>\n"
          ],
          "name": "stdout"
        }
      ]
    },
    {
      "cell_type": "markdown",
      "metadata": {
        "id": "tdIW2x8cY9jY",
        "colab_type": "text"
      },
      "source": [
        "## The predictions are as follows"
      ]
    },
    {
      "cell_type": "code",
      "metadata": {
        "id": "GS4y_lDcJnJI",
        "colab_type": "code",
        "colab": {},
        "outputId": "53c2d689-7b9b-48ba-a5e7-12c433803fc3"
      },
      "source": [
        "submission_predictions"
      ],
      "execution_count": 0,
      "outputs": [
        {
          "output_type": "execute_result",
          "data": {
            "text/plain": [
              "array([  9.01939110e-01,   2.52761133e-01,   1.31264253e-02,\n",
              "         4.66082250e-01,   5.28331243e-01,   4.81625590e-02,\n",
              "         2.94756393e-02,   4.91858368e-02,   4.87083977e-01,\n",
              "         5.53875263e-01,   6.15716392e-01,   3.54326009e-01,\n",
              "         2.97638248e-02,   6.83330595e-02,   1.51928573e-01,\n",
              "         1.06961742e-01,   6.56824745e-03,   1.37984679e-01,\n",
              "         1.51502725e-02,   4.24294440e-01,   8.91061160e-01,\n",
              "         7.90546630e-01,   5.00840265e-02,   6.62769491e-01,\n",
              "         1.47322491e-01,   1.49020222e-01,   6.79380115e-02,\n",
              "         5.00000000e-01,   3.29697584e-02,   2.72026695e-01,\n",
              "         4.18219636e-02,   4.48377542e-01,   5.34822748e-01,\n",
              "         1.00442881e-01,   4.06301304e-01,   2.17093078e-02,\n",
              "         1.56748217e-01,   3.39178104e-01,   7.85782308e-01,\n",
              "         6.63682745e-01,   3.94556817e-02,   6.67727802e-03,\n",
              "         2.16935878e-01,   2.55361316e-02,   9.07179137e-01,\n",
              "         7.93836981e-02,   6.71277850e-01,   3.09242456e-01,\n",
              "         2.28141103e-03,   3.29697584e-02,   9.87231680e-02,\n",
              "         7.59160441e-02,   7.20175061e-01,   9.19981960e-01,\n",
              "         1.39398367e-01,   3.35987451e-01,   1.51474712e-01,\n",
              "         1.24667349e-05,   8.86550452e-01,   6.38431995e-03,\n",
              "         1.77611569e-01,   5.68484212e-02,   9.87231680e-02,\n",
              "         7.41050178e-02,   1.43312684e-01,   3.51816619e-03,\n",
              "         1.67059427e-01,   9.37041373e-01,   5.64979908e-02,\n",
              "         3.79569163e-02,   5.00000000e-01,   5.00000000e-01,\n",
              "         2.77059342e-01,   1.09746725e-01,   3.89459131e-01,\n",
              "         2.77059342e-01,   4.59571488e-01,   1.45997699e-02,\n",
              "         6.38385328e-01,   5.53875263e-01,   1.24096883e-01,\n",
              "         5.31007521e-02,   3.34614965e-02,   3.20404642e-01,\n",
              "         1.80560069e-04,   5.81195188e-02,   3.66973914e-01,\n",
              "         1.18735110e-01,   1.62740878e-01,   6.71152194e-01,\n",
              "         1.39398367e-01,   2.00857596e-04,   1.92160762e-01,\n",
              "         4.35376363e-03,   5.33136185e-01,   2.72455864e-03,\n",
              "         7.45749089e-02,   9.90904500e-02,   2.01197171e-01,\n",
              "         9.05801008e-01,   9.98170569e-01,   8.78476745e-01,\n",
              "         6.75621967e-01,   9.14460718e-01,   3.33902482e-02,\n",
              "         9.94394435e-01,   9.13907796e-01,   9.71241537e-01,\n",
              "         8.25718720e-01,   8.93311770e-01,   8.03492088e-01,\n",
              "         1.53927410e-01,   9.77149199e-01,   4.66463287e-01,\n",
              "         5.80946082e-01,   9.96222964e-01,   8.53612859e-01,\n",
              "         9.67762617e-01,   3.96580561e-01,   5.96570790e-01,\n",
              "         9.29475377e-02,   9.80385118e-01,   2.47334261e-01,\n",
              "         9.90087406e-01,   9.86664265e-01,   9.97146594e-01,\n",
              "         7.66688223e-01,   8.53612859e-01,   9.99982335e-01,\n",
              "         6.15491373e-01,   9.98577240e-01,   9.76269376e-01,\n",
              "         5.91667985e-01,   9.93497932e-01,   9.91777342e-01,\n",
              "         3.30170191e-01,   8.07398282e-01,   9.68822417e-01,\n",
              "         9.32440024e-01,   9.28640758e-01,   9.83617240e-01,\n",
              "         9.14893859e-02,   4.56556896e-01,   9.99134697e-01,\n",
              "         9.53906276e-01,   6.73286131e-01,   1.21432686e-01,\n",
              "         3.42616824e-01,   9.99857777e-01,   9.96595106e-01,\n",
              "         9.99975667e-01,   9.99618362e-01,   6.91824467e-01,\n",
              "         7.21857619e-01,   7.84691603e-01,   3.22373794e-01,\n",
              "         9.17780636e-01,   9.90258737e-01,   9.97935859e-01,\n",
              "         8.83915159e-01,   5.16347939e-01,   9.67974180e-01,\n",
              "         9.54912344e-01,   9.83086464e-01,   9.99115266e-01,\n",
              "         8.59241874e-01,   7.51120595e-01,   1.63810746e-01,\n",
              "         7.50771588e-01,   6.18546436e-01,   3.15094499e-01,\n",
              "         8.53612859e-01,   7.95395056e-01,   5.64831139e-01,\n",
              "         1.46503631e-01,   9.99533072e-01,   9.94695366e-01,\n",
              "         5.41914732e-01,   9.48378559e-01,   5.79387560e-01,\n",
              "         8.42402236e-01,   4.70384654e-01,   6.30311093e-01,\n",
              "         9.61032126e-01,   9.88009085e-01,   9.61656710e-01,\n",
              "         9.90879937e-01,   9.97381358e-01,   9.99642185e-01,\n",
              "         9.27619260e-01,   8.72166926e-01,   7.08426515e-01,\n",
              "         4.40264014e-01,   9.98417638e-01,   8.74782981e-01,\n",
              "         7.66346640e-01,   3.41158907e-01,   9.14279590e-01,\n",
              "         5.70150464e-01,   9.83675001e-01,   3.78561019e-02,\n",
              "         1.51054904e-02,   5.75213779e-03,   4.76818878e-01,\n",
              "         1.86779095e-03,   2.69558724e-02,   1.89313495e-05,\n",
              "         7.01523079e-05,   4.15678822e-02,   1.37695448e-01,\n",
              "         8.24187395e-02,   7.40413352e-05,   6.57087637e-01,\n",
              "         7.31071776e-02,   6.95802138e-01,   2.19560851e-01,\n",
              "         8.23042584e-01,   5.86213403e-01,   3.49417602e-01,\n",
              "         6.94857198e-03,   3.21087991e-02,   6.32694687e-02,\n",
              "         8.43690456e-01,   1.19574217e-01,   1.42610547e-01,\n",
              "         6.60408428e-02,   1.20956842e-03,   1.61685978e-01,\n",
              "         1.37695448e-01,   8.17562167e-02,   5.23684147e-01,\n",
              "         5.75120208e-03,   9.72522587e-01,   2.85391645e-01,\n",
              "         1.30518175e-01,   6.57843359e-02,   3.48492134e-04,\n",
              "         8.69315477e-02,   2.47334261e-01,   2.14353824e-02,\n",
              "         4.91148036e-02,   2.39177227e-02,   2.07633459e-01,\n",
              "         9.41531082e-09,   6.24574490e-01,   3.13567759e-04,\n",
              "         5.32291044e-02,   2.40291050e-05,   6.60948579e-03,\n",
              "         3.60065430e-01,   3.93171199e-01,   2.72630780e-01,\n",
              "         3.31540432e-01,   3.93120334e-02,   7.96788010e-01,\n",
              "         6.10896584e-02,   3.08598645e-01,   7.85545841e-02,\n",
              "         3.31760128e-03,   6.58611904e-01,   1.39398367e-01,\n",
              "         4.86617932e-02,   5.08042717e-01,   3.27885438e-02,\n",
              "         4.68322358e-02,   1.51997911e-01,   4.56824601e-02,\n",
              "         4.05083198e-02,   3.17396454e-05,   4.30107485e-01,\n",
              "         2.77899621e-02,   2.91509285e-01,   7.27916810e-01,\n",
              "         1.88100157e-02,   6.61531407e-02,   1.52642075e-01,\n",
              "         2.97332038e-01,   3.48612293e-01,   3.15015607e-01,\n",
              "         3.12774800e-02,   7.57634581e-01,   2.97037410e-01,\n",
              "         3.71661893e-01,   3.07303078e-01,   3.31283952e-01,\n",
              "         9.28074114e-02,   7.65559391e-01,   8.50978260e-02,\n",
              "         8.43091214e-02,   5.62214457e-01,   1.08740679e-02,\n",
              "         1.33447876e-01,   8.16395748e-03,   1.30320663e-02,\n",
              "         3.15282363e-01,   4.22539691e-03,   1.19353163e-03,\n",
              "         2.97037410e-01,   4.92567394e-01,   6.72339857e-01,\n",
              "         9.12583507e-01,   9.59673925e-01,   9.38986441e-01,\n",
              "         9.85593701e-01,   6.55449982e-01,   9.10826401e-01,\n",
              "         2.43828748e-01,   1.88563121e-01,   2.46469077e-01,\n",
              "         5.92405529e-02,   9.06310482e-01,   8.84590366e-01,\n",
              "         7.10083934e-01,   7.23503661e-01,   3.86716355e-01,\n",
              "         8.45603969e-01,   2.58579152e-01,   9.68914492e-01,\n",
              "         9.20249303e-01,   9.59417660e-01,   9.90600694e-01,\n",
              "         9.74348431e-01,   8.50311727e-01,   8.66934036e-01,\n",
              "         8.15063214e-01,   9.94397335e-01,   9.89069927e-01,\n",
              "         9.59035910e-01,   9.99615288e-01,   6.63221326e-01,\n",
              "         1.50888782e-01,   7.07982243e-01,   8.79358206e-01,\n",
              "         8.84905917e-01,   8.38273796e-01,   9.99983072e-01,\n",
              "         9.59576254e-01,   9.09058527e-01,   6.89259995e-01,\n",
              "         8.51820920e-01,   9.65911906e-01,   9.09729987e-01,\n",
              "         9.65131883e-01,   3.48199806e-01,   9.62551963e-01,\n",
              "         9.57988037e-01,   1.72045295e-01,   8.16049628e-01,\n",
              "         9.61728533e-02,   7.28238571e-01,   9.18925288e-01,\n",
              "         4.40924274e-01,   9.82590669e-01,   7.30533829e-01,\n",
              "         9.75808945e-01,   7.76414627e-02,   9.76145815e-01,\n",
              "         9.97850065e-01,   9.97275337e-01,   9.37272227e-01,\n",
              "         1.84795486e-01,   9.60860691e-01,   1.36949114e-01,\n",
              "         1.97301212e-01,   8.74130912e-01,   9.86892923e-01,\n",
              "         9.93688264e-01,   9.87960809e-01,   7.40750533e-01,\n",
              "         8.86039040e-01,   3.16600439e-02,   9.56580007e-01,\n",
              "         8.50519564e-01,   7.23725368e-01,   5.00000000e-01,\n",
              "         9.75525279e-01,   8.43264041e-01,   7.29090565e-01,\n",
              "         1.75408529e-01,   5.44622689e-01,   4.50275142e-01,\n",
              "         9.70350866e-01,   7.06523589e-01,   9.98401006e-01,\n",
              "         8.54573745e-01,   5.79289088e-01,   3.47376461e-01,\n",
              "         3.71661893e-01,   7.49251072e-01,   9.83472464e-01,\n",
              "         2.44687672e-01,   3.80348616e-01,   9.97118975e-01,\n",
              "         1.43690025e-01,   9.80724314e-01,   9.26527962e-01,\n",
              "         5.15854027e-01,   7.47089233e-01,   5.27131351e-01,\n",
              "         9.94353246e-01,   1.00831403e-01,   8.01665141e-01,\n",
              "         5.81241986e-02,   3.58669453e-01,   9.04797117e-02,\n",
              "         5.00000000e-01,   9.41975336e-02,   1.32691384e-01,\n",
              "         2.72790730e-01,   2.01034797e-01,   1.39398367e-01,\n",
              "         2.92689332e-03,   6.34173380e-02,   1.65774549e-01,\n",
              "         5.78228275e-02,   2.86561789e-02,   2.47334261e-01,\n",
              "         5.92976204e-02,   4.77715762e-01,   3.01105548e-01,\n",
              "         4.96433002e-01,   5.88853800e-01,   2.13183704e-01,\n",
              "         4.27722930e-01,   4.51592603e-01,   2.25317449e-01,\n",
              "         5.57330000e-01,   4.25080784e-01,   1.45042983e-01,\n",
              "         9.81690316e-01,   4.91307745e-01,   2.69906405e-01,\n",
              "         5.78536609e-01,   5.19135392e-01,   6.63488444e-01,\n",
              "         5.38149458e-01,   4.48377542e-01,   8.37727450e-02,\n",
              "         4.53455456e-03,   6.19443654e-01,   1.09781133e-02,\n",
              "         4.28045012e-01,   4.26825927e-03,   1.88907120e-02,\n",
              "         4.35884482e-02,   4.82922782e-01,   6.30879282e-01,\n",
              "         6.85867194e-01,   5.91191661e-01,   3.47834516e-01,\n",
              "         5.61871847e-01,   3.94037552e-01,   6.00383869e-02,\n",
              "         2.23938895e-03,   2.69915743e-02,   2.68971977e-01,\n",
              "         1.42679153e-01,   8.69633091e-02,   1.32875537e-02,\n",
              "         3.81574675e-01,   1.04948624e-02,   6.49128706e-02,\n",
              "         4.63435852e-01,   7.45540776e-01,   9.60624344e-03,\n",
              "         9.54969108e-01,   7.85352123e-01,   3.42383434e-01,\n",
              "         4.13202871e-01,   3.38900649e-01,   6.69549149e-02,\n",
              "         1.55247338e-01,   4.60185531e-01,   1.61308090e-01,\n",
              "         5.35849307e-01,   8.13102092e-01,   1.88829232e-01,\n",
              "         4.63026312e-01,   7.62781107e-02,   4.96433002e-01,\n",
              "         6.86490526e-04,   3.03790075e-01,   4.91366546e-01,\n",
              "         2.36495045e-02,   1.08323816e-01,   1.14515762e-01,\n",
              "         1.58749053e-02,   7.22507997e-02,   4.57577030e-02,\n",
              "         8.17413219e-02,   7.05392863e-01,   3.20822291e-02,\n",
              "         8.53501552e-01,   6.50402315e-01,   7.92379471e-02,\n",
              "         3.58434169e-01,   1.71234396e-03,   1.96395304e-02,\n",
              "         1.62965426e-01,   5.12809644e-01,   9.99544814e-01,\n",
              "         9.06704830e-01,   7.90546630e-01,   4.25286696e-01,\n",
              "         7.69245944e-01,   4.62844619e-01,   9.68282883e-01,\n",
              "         1.32790272e-01,   9.68018102e-01,   4.58916932e-01,\n",
              "         9.78718300e-01,   9.97314124e-01,   6.60264632e-01,\n",
              "         8.61613035e-01,   3.91568802e-01,   6.29877946e-01,\n",
              "         9.88212220e-01,   9.52013217e-01,   6.92622895e-01,\n",
              "         8.96081076e-01,   6.89576920e-01,   9.86800843e-01,\n",
              "         9.83835588e-01,   5.06399876e-01,   9.42105573e-01,\n",
              "         9.89527928e-01,   3.52629661e-02,   9.12833986e-01,\n",
              "         8.83125707e-01,   9.99983695e-01,   2.16188057e-01,\n",
              "         9.52410997e-01,   5.15806699e-01,   9.88779610e-01,\n",
              "         4.46548088e-02,   6.35848691e-01,   3.80463096e-01,\n",
              "         3.93171199e-01,   8.53612859e-01,   9.84476501e-01,\n",
              "         1.25040321e-01,   7.57796700e-01,   9.98062690e-01,\n",
              "         8.81540776e-01,   9.92701349e-01,   8.77207130e-01,\n",
              "         9.68417243e-01,   8.32892191e-01,   9.38369165e-01,\n",
              "         9.99944800e-01,   7.09175706e-01,   5.81710984e-03,\n",
              "         9.89405730e-01,   9.49578796e-01,   5.22555423e-01,\n",
              "         9.87291230e-01,   9.36658734e-01,   9.74660000e-01,\n",
              "         4.18122190e-01,   2.67103999e-01,   6.57526375e-01,\n",
              "         9.46652428e-01,   9.99700958e-01,   8.67248046e-01,\n",
              "         9.99844527e-01,   9.13564621e-01,   9.05801008e-01,\n",
              "         9.19818444e-01,   9.98353409e-01,   5.96570790e-01,\n",
              "         5.48662915e-01,   5.33445599e-01,   3.13822615e-01,\n",
              "         1.93239100e-01,   5.00000000e-01,   3.01647119e-01,\n",
              "         8.73002146e-01,   9.43715002e-01,   8.42236969e-01,\n",
              "         9.55319385e-01,   9.53373816e-01,   7.14968842e-01,\n",
              "         9.65438973e-01,   5.67930805e-01,   9.54077679e-01,\n",
              "         9.98345416e-01,   9.61996369e-01,   7.90546630e-01,\n",
              "         9.65342447e-01,   4.87621099e-01,   5.23141270e-01,\n",
              "         8.65878621e-01,   9.68720014e-01,   7.73846748e-01,\n",
              "         9.43691038e-01,   9.97249684e-01,   8.71767913e-01,\n",
              "         9.53027704e-01,   9.99357222e-01,   8.40419848e-01])"
            ]
          },
          "metadata": {
            "tags": []
          },
          "execution_count": 69
        }
      ]
    },
    {
      "cell_type": "code",
      "metadata": {
        "id": "z1UrT2SgJnJu",
        "colab_type": "code",
        "colab": {}
      },
      "source": [
        "np.savetxt(\"yproba1_test1.txt\", submission_predictions,newline='\\r\\n',)\n"
      ],
      "execution_count": 0,
      "outputs": []
    },
    {
      "cell_type": "code",
      "metadata": {
        "id": "VwVgc96WJnJ1",
        "colab_type": "code",
        "colab": {},
        "outputId": "82fa3faa-e22f-4e67-901d-cf95487b3447"
      },
      "source": [
        "np.loadtxt('yproba1_test1.txt')"
      ],
      "execution_count": 0,
      "outputs": [
        {
          "output_type": "execute_result",
          "data": {
            "text/plain": [
              "array([  9.01939110e-01,   2.52761133e-01,   1.31264253e-02,\n",
              "         4.66082250e-01,   5.28331243e-01,   4.81625590e-02,\n",
              "         2.94756393e-02,   4.91858368e-02,   4.87083977e-01,\n",
              "         5.53875263e-01,   6.15716392e-01,   3.54326009e-01,\n",
              "         2.97638248e-02,   6.83330595e-02,   1.51928573e-01,\n",
              "         1.06961742e-01,   6.56824745e-03,   1.37984679e-01,\n",
              "         1.51502725e-02,   4.24294440e-01,   8.91061160e-01,\n",
              "         7.90546630e-01,   5.00840265e-02,   6.62769491e-01,\n",
              "         1.47322491e-01,   1.49020222e-01,   6.79380115e-02,\n",
              "         5.00000000e-01,   3.29697584e-02,   2.72026695e-01,\n",
              "         4.18219636e-02,   4.48377542e-01,   5.34822748e-01,\n",
              "         1.00442881e-01,   4.06301304e-01,   2.17093078e-02,\n",
              "         1.56748217e-01,   3.39178104e-01,   7.85782308e-01,\n",
              "         6.63682745e-01,   3.94556817e-02,   6.67727802e-03,\n",
              "         2.16935878e-01,   2.55361316e-02,   9.07179137e-01,\n",
              "         7.93836981e-02,   6.71277850e-01,   3.09242456e-01,\n",
              "         2.28141103e-03,   3.29697584e-02,   9.87231680e-02,\n",
              "         7.59160441e-02,   7.20175061e-01,   9.19981960e-01,\n",
              "         1.39398367e-01,   3.35987451e-01,   1.51474712e-01,\n",
              "         1.24667349e-05,   8.86550452e-01,   6.38431995e-03,\n",
              "         1.77611569e-01,   5.68484212e-02,   9.87231680e-02,\n",
              "         7.41050178e-02,   1.43312684e-01,   3.51816619e-03,\n",
              "         1.67059427e-01,   9.37041373e-01,   5.64979908e-02,\n",
              "         3.79569163e-02,   5.00000000e-01,   5.00000000e-01,\n",
              "         2.77059342e-01,   1.09746725e-01,   3.89459131e-01,\n",
              "         2.77059342e-01,   4.59571488e-01,   1.45997699e-02,\n",
              "         6.38385328e-01,   5.53875263e-01,   1.24096883e-01,\n",
              "         5.31007521e-02,   3.34614965e-02,   3.20404642e-01,\n",
              "         1.80560069e-04,   5.81195188e-02,   3.66973914e-01,\n",
              "         1.18735110e-01,   1.62740878e-01,   6.71152194e-01,\n",
              "         1.39398367e-01,   2.00857596e-04,   1.92160762e-01,\n",
              "         4.35376363e-03,   5.33136185e-01,   2.72455864e-03,\n",
              "         7.45749089e-02,   9.90904500e-02,   2.01197171e-01,\n",
              "         9.05801008e-01,   9.98170569e-01,   8.78476745e-01,\n",
              "         6.75621967e-01,   9.14460718e-01,   3.33902482e-02,\n",
              "         9.94394435e-01,   9.13907796e-01,   9.71241537e-01,\n",
              "         8.25718720e-01,   8.93311770e-01,   8.03492088e-01,\n",
              "         1.53927410e-01,   9.77149199e-01,   4.66463287e-01,\n",
              "         5.80946082e-01,   9.96222964e-01,   8.53612859e-01,\n",
              "         9.67762617e-01,   3.96580561e-01,   5.96570790e-01,\n",
              "         9.29475377e-02,   9.80385118e-01,   2.47334261e-01,\n",
              "         9.90087406e-01,   9.86664265e-01,   9.97146594e-01,\n",
              "         7.66688223e-01,   8.53612859e-01,   9.99982335e-01,\n",
              "         6.15491373e-01,   9.98577240e-01,   9.76269376e-01,\n",
              "         5.91667985e-01,   9.93497932e-01,   9.91777342e-01,\n",
              "         3.30170191e-01,   8.07398282e-01,   9.68822417e-01,\n",
              "         9.32440024e-01,   9.28640758e-01,   9.83617240e-01,\n",
              "         9.14893859e-02,   4.56556896e-01,   9.99134697e-01,\n",
              "         9.53906276e-01,   6.73286131e-01,   1.21432686e-01,\n",
              "         3.42616824e-01,   9.99857777e-01,   9.96595106e-01,\n",
              "         9.99975667e-01,   9.99618362e-01,   6.91824467e-01,\n",
              "         7.21857619e-01,   7.84691603e-01,   3.22373794e-01,\n",
              "         9.17780636e-01,   9.90258737e-01,   9.97935859e-01,\n",
              "         8.83915159e-01,   5.16347939e-01,   9.67974180e-01,\n",
              "         9.54912344e-01,   9.83086464e-01,   9.99115266e-01,\n",
              "         8.59241874e-01,   7.51120595e-01,   1.63810746e-01,\n",
              "         7.50771588e-01,   6.18546436e-01,   3.15094499e-01,\n",
              "         8.53612859e-01,   7.95395056e-01,   5.64831139e-01,\n",
              "         1.46503631e-01,   9.99533072e-01,   9.94695366e-01,\n",
              "         5.41914732e-01,   9.48378559e-01,   5.79387560e-01,\n",
              "         8.42402236e-01,   4.70384654e-01,   6.30311093e-01,\n",
              "         9.61032126e-01,   9.88009085e-01,   9.61656710e-01,\n",
              "         9.90879937e-01,   9.97381358e-01,   9.99642185e-01,\n",
              "         9.27619260e-01,   8.72166926e-01,   7.08426515e-01,\n",
              "         4.40264014e-01,   9.98417638e-01,   8.74782981e-01,\n",
              "         7.66346640e-01,   3.41158907e-01,   9.14279590e-01,\n",
              "         5.70150464e-01,   9.83675001e-01,   3.78561019e-02,\n",
              "         1.51054904e-02,   5.75213779e-03,   4.76818878e-01,\n",
              "         1.86779095e-03,   2.69558724e-02,   1.89313495e-05,\n",
              "         7.01523079e-05,   4.15678822e-02,   1.37695448e-01,\n",
              "         8.24187395e-02,   7.40413352e-05,   6.57087637e-01,\n",
              "         7.31071776e-02,   6.95802138e-01,   2.19560851e-01,\n",
              "         8.23042584e-01,   5.86213403e-01,   3.49417602e-01,\n",
              "         6.94857198e-03,   3.21087991e-02,   6.32694687e-02,\n",
              "         8.43690456e-01,   1.19574217e-01,   1.42610547e-01,\n",
              "         6.60408428e-02,   1.20956842e-03,   1.61685978e-01,\n",
              "         1.37695448e-01,   8.17562167e-02,   5.23684147e-01,\n",
              "         5.75120208e-03,   9.72522587e-01,   2.85391645e-01,\n",
              "         1.30518175e-01,   6.57843359e-02,   3.48492134e-04,\n",
              "         8.69315477e-02,   2.47334261e-01,   2.14353824e-02,\n",
              "         4.91148036e-02,   2.39177227e-02,   2.07633459e-01,\n",
              "         9.41531082e-09,   6.24574490e-01,   3.13567759e-04,\n",
              "         5.32291044e-02,   2.40291050e-05,   6.60948579e-03,\n",
              "         3.60065430e-01,   3.93171199e-01,   2.72630780e-01,\n",
              "         3.31540432e-01,   3.93120334e-02,   7.96788010e-01,\n",
              "         6.10896584e-02,   3.08598645e-01,   7.85545841e-02,\n",
              "         3.31760128e-03,   6.58611904e-01,   1.39398367e-01,\n",
              "         4.86617932e-02,   5.08042717e-01,   3.27885438e-02,\n",
              "         4.68322358e-02,   1.51997911e-01,   4.56824601e-02,\n",
              "         4.05083198e-02,   3.17396454e-05,   4.30107485e-01,\n",
              "         2.77899621e-02,   2.91509285e-01,   7.27916810e-01,\n",
              "         1.88100157e-02,   6.61531407e-02,   1.52642075e-01,\n",
              "         2.97332038e-01,   3.48612293e-01,   3.15015607e-01,\n",
              "         3.12774800e-02,   7.57634581e-01,   2.97037410e-01,\n",
              "         3.71661893e-01,   3.07303078e-01,   3.31283952e-01,\n",
              "         9.28074114e-02,   7.65559391e-01,   8.50978260e-02,\n",
              "         8.43091214e-02,   5.62214457e-01,   1.08740679e-02,\n",
              "         1.33447876e-01,   8.16395748e-03,   1.30320663e-02,\n",
              "         3.15282363e-01,   4.22539691e-03,   1.19353163e-03,\n",
              "         2.97037410e-01,   4.92567394e-01,   6.72339857e-01,\n",
              "         9.12583507e-01,   9.59673925e-01,   9.38986441e-01,\n",
              "         9.85593701e-01,   6.55449982e-01,   9.10826401e-01,\n",
              "         2.43828748e-01,   1.88563121e-01,   2.46469077e-01,\n",
              "         5.92405529e-02,   9.06310482e-01,   8.84590366e-01,\n",
              "         7.10083934e-01,   7.23503661e-01,   3.86716355e-01,\n",
              "         8.45603969e-01,   2.58579152e-01,   9.68914492e-01,\n",
              "         9.20249303e-01,   9.59417660e-01,   9.90600694e-01,\n",
              "         9.74348431e-01,   8.50311727e-01,   8.66934036e-01,\n",
              "         8.15063214e-01,   9.94397335e-01,   9.89069927e-01,\n",
              "         9.59035910e-01,   9.99615288e-01,   6.63221326e-01,\n",
              "         1.50888782e-01,   7.07982243e-01,   8.79358206e-01,\n",
              "         8.84905917e-01,   8.38273796e-01,   9.99983072e-01,\n",
              "         9.59576254e-01,   9.09058527e-01,   6.89259995e-01,\n",
              "         8.51820920e-01,   9.65911906e-01,   9.09729987e-01,\n",
              "         9.65131883e-01,   3.48199806e-01,   9.62551963e-01,\n",
              "         9.57988037e-01,   1.72045295e-01,   8.16049628e-01,\n",
              "         9.61728533e-02,   7.28238571e-01,   9.18925288e-01,\n",
              "         4.40924274e-01,   9.82590669e-01,   7.30533829e-01,\n",
              "         9.75808945e-01,   7.76414627e-02,   9.76145815e-01,\n",
              "         9.97850065e-01,   9.97275337e-01,   9.37272227e-01,\n",
              "         1.84795486e-01,   9.60860691e-01,   1.36949114e-01,\n",
              "         1.97301212e-01,   8.74130912e-01,   9.86892923e-01,\n",
              "         9.93688264e-01,   9.87960809e-01,   7.40750533e-01,\n",
              "         8.86039040e-01,   3.16600439e-02,   9.56580007e-01,\n",
              "         8.50519564e-01,   7.23725368e-01,   5.00000000e-01,\n",
              "         9.75525279e-01,   8.43264041e-01,   7.29090565e-01,\n",
              "         1.75408529e-01,   5.44622689e-01,   4.50275142e-01,\n",
              "         9.70350866e-01,   7.06523589e-01,   9.98401006e-01,\n",
              "         8.54573745e-01,   5.79289088e-01,   3.47376461e-01,\n",
              "         3.71661893e-01,   7.49251072e-01,   9.83472464e-01,\n",
              "         2.44687672e-01,   3.80348616e-01,   9.97118975e-01,\n",
              "         1.43690025e-01,   9.80724314e-01,   9.26527962e-01,\n",
              "         5.15854027e-01,   7.47089233e-01,   5.27131351e-01,\n",
              "         9.94353246e-01,   1.00831403e-01,   8.01665141e-01,\n",
              "         5.81241986e-02,   3.58669453e-01,   9.04797117e-02,\n",
              "         5.00000000e-01,   9.41975336e-02,   1.32691384e-01,\n",
              "         2.72790730e-01,   2.01034797e-01,   1.39398367e-01,\n",
              "         2.92689332e-03,   6.34173380e-02,   1.65774549e-01,\n",
              "         5.78228275e-02,   2.86561789e-02,   2.47334261e-01,\n",
              "         5.92976204e-02,   4.77715762e-01,   3.01105548e-01,\n",
              "         4.96433002e-01,   5.88853800e-01,   2.13183704e-01,\n",
              "         4.27722930e-01,   4.51592603e-01,   2.25317449e-01,\n",
              "         5.57330000e-01,   4.25080784e-01,   1.45042983e-01,\n",
              "         9.81690316e-01,   4.91307745e-01,   2.69906405e-01,\n",
              "         5.78536609e-01,   5.19135392e-01,   6.63488444e-01,\n",
              "         5.38149458e-01,   4.48377542e-01,   8.37727450e-02,\n",
              "         4.53455456e-03,   6.19443654e-01,   1.09781133e-02,\n",
              "         4.28045012e-01,   4.26825927e-03,   1.88907120e-02,\n",
              "         4.35884482e-02,   4.82922782e-01,   6.30879282e-01,\n",
              "         6.85867194e-01,   5.91191661e-01,   3.47834516e-01,\n",
              "         5.61871847e-01,   3.94037552e-01,   6.00383869e-02,\n",
              "         2.23938895e-03,   2.69915743e-02,   2.68971977e-01,\n",
              "         1.42679153e-01,   8.69633091e-02,   1.32875537e-02,\n",
              "         3.81574675e-01,   1.04948624e-02,   6.49128706e-02,\n",
              "         4.63435852e-01,   7.45540776e-01,   9.60624344e-03,\n",
              "         9.54969108e-01,   7.85352123e-01,   3.42383434e-01,\n",
              "         4.13202871e-01,   3.38900649e-01,   6.69549149e-02,\n",
              "         1.55247338e-01,   4.60185531e-01,   1.61308090e-01,\n",
              "         5.35849307e-01,   8.13102092e-01,   1.88829232e-01,\n",
              "         4.63026312e-01,   7.62781107e-02,   4.96433002e-01,\n",
              "         6.86490526e-04,   3.03790075e-01,   4.91366546e-01,\n",
              "         2.36495045e-02,   1.08323816e-01,   1.14515762e-01,\n",
              "         1.58749053e-02,   7.22507997e-02,   4.57577030e-02,\n",
              "         8.17413219e-02,   7.05392863e-01,   3.20822291e-02,\n",
              "         8.53501552e-01,   6.50402315e-01,   7.92379471e-02,\n",
              "         3.58434169e-01,   1.71234396e-03,   1.96395304e-02,\n",
              "         1.62965426e-01,   5.12809644e-01,   9.99544814e-01,\n",
              "         9.06704830e-01,   7.90546630e-01,   4.25286696e-01,\n",
              "         7.69245944e-01,   4.62844619e-01,   9.68282883e-01,\n",
              "         1.32790272e-01,   9.68018102e-01,   4.58916932e-01,\n",
              "         9.78718300e-01,   9.97314124e-01,   6.60264632e-01,\n",
              "         8.61613035e-01,   3.91568802e-01,   6.29877946e-01,\n",
              "         9.88212220e-01,   9.52013217e-01,   6.92622895e-01,\n",
              "         8.96081076e-01,   6.89576920e-01,   9.86800843e-01,\n",
              "         9.83835588e-01,   5.06399876e-01,   9.42105573e-01,\n",
              "         9.89527928e-01,   3.52629661e-02,   9.12833986e-01,\n",
              "         8.83125707e-01,   9.99983695e-01,   2.16188057e-01,\n",
              "         9.52410997e-01,   5.15806699e-01,   9.88779610e-01,\n",
              "         4.46548088e-02,   6.35848691e-01,   3.80463096e-01,\n",
              "         3.93171199e-01,   8.53612859e-01,   9.84476501e-01,\n",
              "         1.25040321e-01,   7.57796700e-01,   9.98062690e-01,\n",
              "         8.81540776e-01,   9.92701349e-01,   8.77207130e-01,\n",
              "         9.68417243e-01,   8.32892191e-01,   9.38369165e-01,\n",
              "         9.99944800e-01,   7.09175706e-01,   5.81710984e-03,\n",
              "         9.89405730e-01,   9.49578796e-01,   5.22555423e-01,\n",
              "         9.87291230e-01,   9.36658734e-01,   9.74660000e-01,\n",
              "         4.18122190e-01,   2.67103999e-01,   6.57526375e-01,\n",
              "         9.46652428e-01,   9.99700958e-01,   8.67248046e-01,\n",
              "         9.99844527e-01,   9.13564621e-01,   9.05801008e-01,\n",
              "         9.19818444e-01,   9.98353409e-01,   5.96570790e-01,\n",
              "         5.48662915e-01,   5.33445599e-01,   3.13822615e-01,\n",
              "         1.93239100e-01,   5.00000000e-01,   3.01647119e-01,\n",
              "         8.73002146e-01,   9.43715002e-01,   8.42236969e-01,\n",
              "         9.55319385e-01,   9.53373816e-01,   7.14968842e-01,\n",
              "         9.65438973e-01,   5.67930805e-01,   9.54077679e-01,\n",
              "         9.98345416e-01,   9.61996369e-01,   7.90546630e-01,\n",
              "         9.65342447e-01,   4.87621099e-01,   5.23141270e-01,\n",
              "         8.65878621e-01,   9.68720014e-01,   7.73846748e-01,\n",
              "         9.43691038e-01,   9.97249684e-01,   8.71767913e-01,\n",
              "         9.53027704e-01,   9.99357222e-01,   8.40419848e-01])"
            ]
          },
          "metadata": {
            "tags": []
          },
          "execution_count": 71
        }
      ]
    },
    {
      "cell_type": "markdown",
      "metadata": {
        "id": "fM6HB_zU6eDe",
        "colab_type": "text"
      },
      "source": [
        "# Summary\n",
        "*  We have tried out many different algorithms \n",
        "**  Logistic regression\n",
        "**  Naive bayes\n",
        "**  Random forests \n",
        "*  all the three algorithms have been tested on various hyperparameters and cross validation sets\n",
        "*  In all probablity it is now safe to say that Multinomiaial Naive Bayes algorithm gave us the best output prediction under every circumstance."
      ]
    },
    {
      "cell_type": "markdown",
      "metadata": {
        "id": "HRGum0xO7psR",
        "colab_type": "text"
      },
      "source": [
        "# --------------------------------------------------------------------------------------------------------------------------------------------------------------\n"
      ]
    },
    {
      "cell_type": "markdown",
      "metadata": {
        "id": "0gRzDPfM7yro",
        "colab_type": "text"
      },
      "source": [
        "# **Word** **embeddings**"
      ]
    },
    {
      "cell_type": "markdown",
      "metadata": {
        "id": "bgMhMqwXIQ9E",
        "colab_type": "text"
      },
      "source": [
        "# Sentiment analysis by creating word vectors\n",
        "Word Embedding is a representation of text where words that have the same meaning have a similar representation. In other words it represents words in a coordinate system where related words, based on a corpus of relationships, are placed closer together. In the deep learning frameworks such as TensorFlow, Keras, this part is usually handled by an embedding layer which stores a lookup table to map the words represented by numeric indexes to their dense vector representations."
      ]
    },
    {
      "cell_type": "markdown",
      "metadata": {
        "colab_type": "text",
        "id": "AFhw4GYuBkC3"
      },
      "source": [
        "## Importing necessary modules"
      ]
    },
    {
      "cell_type": "code",
      "metadata": {
        "id": "mcKObBazMASl",
        "colab_type": "code",
        "colab": {}
      },
      "source": [
        "import pandas as pd\n",
        "import numpy as np\n",
        "from bs4 import BeautifulSoup \n",
        "import nltk\n",
        "import re\n",
        "from nltk.corpus import stopwords\n",
        "from sklearn.feature_extraction.text import TfidfVectorizer\n",
        "from sklearn.feature_extraction.text import CountVectorizer\n",
        "from sklearn.model_selection  import train_test_split\n",
        "from sklearn.naive_bayes import GaussianNB\n",
        "import matplotlib.pyplot as plt\n",
        "from sklearn.model_selection import learning_curve, GridSearchCV\n",
        "from sklearn.naive_bayes import MultinomialNB\n",
        "from sklearn.linear_model import LogisticRegression\n",
        "from sklearn.ensemble import RandomForestClassifier\n",
        "from sklearn.svm import LinearSVC\n",
        "from sklearn.model_selection import cross_val_score\n",
        "from nltk.stem import PorterStemmer\n",
        "from keras.preprocessing.text import Tokenizer\n",
        "from tqdm import tqdm\n",
        "from nltk import word_tokenize\n",
        "from nltk.corpus import stopwords\n",
        "stop_words = stopwords.words('english')\n",
        "from sklearn.metrics import accuracy_score\n",
        "from nltk import word_tokenize\n",
        "from textblob import TextBlob, Word, Blobber\n",
        "tokenizer = Tokenizer(num_words=5000)\n",
        "from sklearn.model_selection import cross_val_score\n",
        "from sklearn import metrics\n",
        "%matplotlib inline\n"
      ],
      "execution_count": 0,
      "outputs": []
    },
    {
      "cell_type": "code",
      "metadata": {
        "id": "JTKHdTktMASx",
        "colab_type": "code",
        "colab": {}
      },
      "source": [
        "###Change Working Directory###\n",
        "\n",
        "import os\n",
        "os.getcwd()\n",
        "os.chdir('C:/Personal/python work/Sentiment Analysis/project ML/project ML/data_reviews') "
      ],
      "execution_count": 0,
      "outputs": []
    },
    {
      "cell_type": "markdown",
      "metadata": {
        "colab_type": "text",
        "id": "NZBNZR9bBkDP"
      },
      "source": [
        "### Creating pandas dataframe of the dataset. \n",
        "#### We're importing x_train which stores the reviews, y_train holds the sentiment values, x_test are the reviews on which we will test our work"
      ]
    },
    {
      "cell_type": "code",
      "metadata": {
        "id": "qL3UvZfIMAS0",
        "colab_type": "code",
        "colab": {}
      },
      "source": [
        "x_test = pd.read_csv('x_test.csv')\n",
        "x_train = pd.read_csv('x_train.csv')\n",
        "y_train = pd.read_csv('y_train.csv')"
      ],
      "execution_count": 0,
      "outputs": []
    },
    {
      "cell_type": "code",
      "metadata": {
        "id": "1w4UhKcuMAS6",
        "colab_type": "code",
        "outputId": "4b037c6e-8f98-4765-e2d2-e13b46b62a88",
        "colab": {}
      },
      "source": [
        "x_train.head()"
      ],
      "execution_count": 0,
      "outputs": [
        {
          "output_type": "execute_result",
          "data": {
            "text/html": [
              "<div>\n",
              "<style>\n",
              "    .dataframe thead tr:only-child th {\n",
              "        text-align: right;\n",
              "    }\n",
              "\n",
              "    .dataframe thead th {\n",
              "        text-align: left;\n",
              "    }\n",
              "\n",
              "    .dataframe tbody tr th {\n",
              "        vertical-align: top;\n",
              "    }\n",
              "</style>\n",
              "<table border=\"1\" class=\"dataframe\">\n",
              "  <thead>\n",
              "    <tr style=\"text-align: right;\">\n",
              "      <th></th>\n",
              "      <th>website_name</th>\n",
              "      <th>text</th>\n",
              "    </tr>\n",
              "  </thead>\n",
              "  <tbody>\n",
              "    <tr>\n",
              "      <th>0</th>\n",
              "      <td>amazon</td>\n",
              "      <td>Oh and I forgot to also mention the weird colo...</td>\n",
              "    </tr>\n",
              "    <tr>\n",
              "      <th>1</th>\n",
              "      <td>amazon</td>\n",
              "      <td>THAT one didn't work either.</td>\n",
              "    </tr>\n",
              "    <tr>\n",
              "      <th>2</th>\n",
              "      <td>amazon</td>\n",
              "      <td>Waste of 13 bucks.</td>\n",
              "    </tr>\n",
              "    <tr>\n",
              "      <th>3</th>\n",
              "      <td>amazon</td>\n",
              "      <td>Product is useless, since it does not have eno...</td>\n",
              "    </tr>\n",
              "    <tr>\n",
              "      <th>4</th>\n",
              "      <td>amazon</td>\n",
              "      <td>None of the three sizes they sent with the hea...</td>\n",
              "    </tr>\n",
              "  </tbody>\n",
              "</table>\n",
              "</div>"
            ],
            "text/plain": [
              "  website_name                                               text\n",
              "0       amazon  Oh and I forgot to also mention the weird colo...\n",
              "1       amazon                       THAT one didn't work either.\n",
              "2       amazon                                 Waste of 13 bucks.\n",
              "3       amazon  Product is useless, since it does not have eno...\n",
              "4       amazon  None of the three sizes they sent with the hea..."
            ]
          },
          "metadata": {
            "tags": []
          },
          "execution_count": 97
        }
      ]
    },
    {
      "cell_type": "code",
      "metadata": {
        "id": "ClAuuLMaMATB",
        "colab_type": "code",
        "outputId": "5f2eaab2-1c41-4878-9b13-57fd7fe4add6",
        "colab": {}
      },
      "source": [
        "y_train.head()"
      ],
      "execution_count": 0,
      "outputs": [
        {
          "output_type": "execute_result",
          "data": {
            "text/html": [
              "<div>\n",
              "<style>\n",
              "    .dataframe thead tr:only-child th {\n",
              "        text-align: right;\n",
              "    }\n",
              "\n",
              "    .dataframe thead th {\n",
              "        text-align: left;\n",
              "    }\n",
              "\n",
              "    .dataframe tbody tr th {\n",
              "        vertical-align: top;\n",
              "    }\n",
              "</style>\n",
              "<table border=\"1\" class=\"dataframe\">\n",
              "  <thead>\n",
              "    <tr style=\"text-align: right;\">\n",
              "      <th></th>\n",
              "      <th>is_positive_sentiment</th>\n",
              "    </tr>\n",
              "  </thead>\n",
              "  <tbody>\n",
              "    <tr>\n",
              "      <th>0</th>\n",
              "      <td>0</td>\n",
              "    </tr>\n",
              "    <tr>\n",
              "      <th>1</th>\n",
              "      <td>0</td>\n",
              "    </tr>\n",
              "    <tr>\n",
              "      <th>2</th>\n",
              "      <td>0</td>\n",
              "    </tr>\n",
              "    <tr>\n",
              "      <th>3</th>\n",
              "      <td>0</td>\n",
              "    </tr>\n",
              "    <tr>\n",
              "      <th>4</th>\n",
              "      <td>0</td>\n",
              "    </tr>\n",
              "  </tbody>\n",
              "</table>\n",
              "</div>"
            ],
            "text/plain": [
              "   is_positive_sentiment\n",
              "0                      0\n",
              "1                      0\n",
              "2                      0\n",
              "3                      0\n",
              "4                      0"
            ]
          },
          "metadata": {
            "tags": []
          },
          "execution_count": 99
        }
      ]
    },
    {
      "cell_type": "markdown",
      "metadata": {
        "colab_type": "text",
        "id": "yUVW_D-aBkDg"
      },
      "source": [
        "### Few pre-processing techniques that could be employed are...\n",
        "*   Remove all punctuation from words.\n",
        "*   Remove all words that are not purely comprised of alphabetical characters.\n",
        "*   Remove all words that are not purely comprised of alphabetical characters.\n",
        "*   Remove all words that are known stop words.\n",
        "*   Remove all words that have a length <= 1 character."
      ]
    },
    {
      "cell_type": "markdown",
      "metadata": {
        "colab_type": "text",
        "id": "ln7FdabpBkDh"
      },
      "source": [
        "### Code for converting all the reviews to lower case\n"
      ]
    },
    {
      "cell_type": "code",
      "metadata": {
        "id": "iT-leYy4MATE",
        "colab_type": "code",
        "colab": {}
      },
      "source": [
        "###LOWER CASE############\n",
        "x_train[\"text\"] = (x_train[\"text\"].apply(lambda x: \" \".join(x.lower() for x in x.split())))"
      ],
      "execution_count": 0,
      "outputs": []
    },
    {
      "cell_type": "code",
      "metadata": {
        "colab_type": "code",
        "outputId": "4b037c6e-8f98-4765-e2d2-e13b46b62a88",
        "id": "Uu7Q6liFAFDQ",
        "colab": {}
      },
      "source": [
        "x_train.head()"
      ],
      "execution_count": 0,
      "outputs": [
        {
          "output_type": "execute_result",
          "data": {
            "text/html": [
              "<div>\n",
              "<style>\n",
              "    .dataframe thead tr:only-child th {\n",
              "        text-align: right;\n",
              "    }\n",
              "\n",
              "    .dataframe thead th {\n",
              "        text-align: left;\n",
              "    }\n",
              "\n",
              "    .dataframe tbody tr th {\n",
              "        vertical-align: top;\n",
              "    }\n",
              "</style>\n",
              "<table border=\"1\" class=\"dataframe\">\n",
              "  <thead>\n",
              "    <tr style=\"text-align: right;\">\n",
              "      <th></th>\n",
              "      <th>website_name</th>\n",
              "      <th>text</th>\n",
              "    </tr>\n",
              "  </thead>\n",
              "  <tbody>\n",
              "    <tr>\n",
              "      <th>0</th>\n",
              "      <td>amazon</td>\n",
              "      <td>Oh and I forgot to also mention the weird colo...</td>\n",
              "    </tr>\n",
              "    <tr>\n",
              "      <th>1</th>\n",
              "      <td>amazon</td>\n",
              "      <td>THAT one didn't work either.</td>\n",
              "    </tr>\n",
              "    <tr>\n",
              "      <th>2</th>\n",
              "      <td>amazon</td>\n",
              "      <td>Waste of 13 bucks.</td>\n",
              "    </tr>\n",
              "    <tr>\n",
              "      <th>3</th>\n",
              "      <td>amazon</td>\n",
              "      <td>Product is useless, since it does not have eno...</td>\n",
              "    </tr>\n",
              "    <tr>\n",
              "      <th>4</th>\n",
              "      <td>amazon</td>\n",
              "      <td>None of the three sizes they sent with the hea...</td>\n",
              "    </tr>\n",
              "  </tbody>\n",
              "</table>\n",
              "</div>"
            ],
            "text/plain": [
              "  website_name                                               text\n",
              "0       amazon  Oh and I forgot to also mention the weird colo...\n",
              "1       amazon                       THAT one didn't work either.\n",
              "2       amazon                                 Waste of 13 bucks.\n",
              "3       amazon  Product is useless, since it does not have eno...\n",
              "4       amazon  None of the three sizes they sent with the hea..."
            ]
          },
          "metadata": {
            "tags": []
          },
          "execution_count": 97
        }
      ]
    },
    {
      "cell_type": "markdown",
      "metadata": {
        "colab_type": "text",
        "id": "V90ApKsCBkDn"
      },
      "source": [
        "### Removing all punctuation marks"
      ]
    },
    {
      "cell_type": "code",
      "metadata": {
        "id": "o2wd3a7UMATG",
        "colab_type": "code",
        "colab": {}
      },
      "source": [
        "# Removing punctuation\n",
        "x_train[\"text\"] = x_train[\"text\"].str.replace('[^\\w\\s]','')"
      ],
      "execution_count": 0,
      "outputs": []
    },
    {
      "cell_type": "code",
      "metadata": {
        "colab_type": "code",
        "outputId": "4b037c6e-8f98-4765-e2d2-e13b46b62a88",
        "id": "8Eoec2OrAGA1",
        "colab": {}
      },
      "source": [
        "x_train.head()"
      ],
      "execution_count": 0,
      "outputs": [
        {
          "output_type": "execute_result",
          "data": {
            "text/html": [
              "<div>\n",
              "<style>\n",
              "    .dataframe thead tr:only-child th {\n",
              "        text-align: right;\n",
              "    }\n",
              "\n",
              "    .dataframe thead th {\n",
              "        text-align: left;\n",
              "    }\n",
              "\n",
              "    .dataframe tbody tr th {\n",
              "        vertical-align: top;\n",
              "    }\n",
              "</style>\n",
              "<table border=\"1\" class=\"dataframe\">\n",
              "  <thead>\n",
              "    <tr style=\"text-align: right;\">\n",
              "      <th></th>\n",
              "      <th>website_name</th>\n",
              "      <th>text</th>\n",
              "    </tr>\n",
              "  </thead>\n",
              "  <tbody>\n",
              "    <tr>\n",
              "      <th>0</th>\n",
              "      <td>amazon</td>\n",
              "      <td>Oh and I forgot to also mention the weird colo...</td>\n",
              "    </tr>\n",
              "    <tr>\n",
              "      <th>1</th>\n",
              "      <td>amazon</td>\n",
              "      <td>THAT one didn't work either.</td>\n",
              "    </tr>\n",
              "    <tr>\n",
              "      <th>2</th>\n",
              "      <td>amazon</td>\n",
              "      <td>Waste of 13 bucks.</td>\n",
              "    </tr>\n",
              "    <tr>\n",
              "      <th>3</th>\n",
              "      <td>amazon</td>\n",
              "      <td>Product is useless, since it does not have eno...</td>\n",
              "    </tr>\n",
              "    <tr>\n",
              "      <th>4</th>\n",
              "      <td>amazon</td>\n",
              "      <td>None of the three sizes they sent with the hea...</td>\n",
              "    </tr>\n",
              "  </tbody>\n",
              "</table>\n",
              "</div>"
            ],
            "text/plain": [
              "  website_name                                               text\n",
              "0       amazon  Oh and I forgot to also mention the weird colo...\n",
              "1       amazon                       THAT one didn't work either.\n",
              "2       amazon                                 Waste of 13 bucks.\n",
              "3       amazon  Product is useless, since it does not have eno...\n",
              "4       amazon  None of the three sizes they sent with the hea..."
            ]
          },
          "metadata": {
            "tags": []
          },
          "execution_count": 97
        }
      ]
    },
    {
      "cell_type": "markdown",
      "metadata": {
        "colab_type": "text",
        "id": "RnsjBWzKBkDv"
      },
      "source": [
        "### Lemmatizing all reviews in order to group similar words"
      ]
    },
    {
      "cell_type": "code",
      "metadata": {
        "id": "VESWlmUGMATJ",
        "colab_type": "code",
        "colab": {}
      },
      "source": [
        "####lEMENTIZATIOO#############\n",
        "x_train[\"text\"]  = (x_train[\"text\"].apply(lambda x: \" \".join([Word(word).lemmatize() for word in x.split()])))"
      ],
      "execution_count": 0,
      "outputs": []
    },
    {
      "cell_type": "code",
      "metadata": {
        "colab_type": "code",
        "outputId": "4b037c6e-8f98-4765-e2d2-e13b46b62a88",
        "id": "N4wyXsO9AG7y",
        "colab": {}
      },
      "source": [
        "x_train.head()"
      ],
      "execution_count": 0,
      "outputs": [
        {
          "output_type": "execute_result",
          "data": {
            "text/html": [
              "<div>\n",
              "<style>\n",
              "    .dataframe thead tr:only-child th {\n",
              "        text-align: right;\n",
              "    }\n",
              "\n",
              "    .dataframe thead th {\n",
              "        text-align: left;\n",
              "    }\n",
              "\n",
              "    .dataframe tbody tr th {\n",
              "        vertical-align: top;\n",
              "    }\n",
              "</style>\n",
              "<table border=\"1\" class=\"dataframe\">\n",
              "  <thead>\n",
              "    <tr style=\"text-align: right;\">\n",
              "      <th></th>\n",
              "      <th>website_name</th>\n",
              "      <th>text</th>\n",
              "    </tr>\n",
              "  </thead>\n",
              "  <tbody>\n",
              "    <tr>\n",
              "      <th>0</th>\n",
              "      <td>amazon</td>\n",
              "      <td>Oh and I forgot to also mention the weird colo...</td>\n",
              "    </tr>\n",
              "    <tr>\n",
              "      <th>1</th>\n",
              "      <td>amazon</td>\n",
              "      <td>THAT one didn't work either.</td>\n",
              "    </tr>\n",
              "    <tr>\n",
              "      <th>2</th>\n",
              "      <td>amazon</td>\n",
              "      <td>Waste of 13 bucks.</td>\n",
              "    </tr>\n",
              "    <tr>\n",
              "      <th>3</th>\n",
              "      <td>amazon</td>\n",
              "      <td>Product is useless, since it does not have eno...</td>\n",
              "    </tr>\n",
              "    <tr>\n",
              "      <th>4</th>\n",
              "      <td>amazon</td>\n",
              "      <td>None of the three sizes they sent with the hea...</td>\n",
              "    </tr>\n",
              "  </tbody>\n",
              "</table>\n",
              "</div>"
            ],
            "text/plain": [
              "  website_name                                               text\n",
              "0       amazon  Oh and I forgot to also mention the weird colo...\n",
              "1       amazon                       THAT one didn't work either.\n",
              "2       amazon                                 Waste of 13 bucks.\n",
              "3       amazon  Product is useless, since it does not have eno...\n",
              "4       amazon  None of the three sizes they sent with the hea..."
            ]
          },
          "metadata": {
            "tags": []
          },
          "execution_count": 97
        }
      ]
    },
    {
      "cell_type": "markdown",
      "metadata": {
        "colab_type": "text",
        "id": "fu9C5bf9BkDz"
      },
      "source": [
        "## Stopword elimination\n",
        "*  Stopwords are words that occur wayy too many times in the given corpus.\n",
        "*  Stopwords are not helpful or healthy for any alg because we will be wasting time and resource on training them when no o/p can be expected\n",
        "*  Stopwords lists readily available online from sources such as sklearn etc cannot be used all the time.\n",
        "*  They cannot be used all the time because, the range of stopwords and their frequency differs from corpus to corpus.\n",
        "*  Hence it is a healthy to check for the word frequency in the corpus before eliminating all stopwords"
      ]
    },
    {
      "cell_type": "markdown",
      "metadata": {
        "colab_type": "text",
        "id": "uWFs4yU5BkD0"
      },
      "source": [
        "## Important Information regarding the Pre-Processing\n",
        "*  We've only been tokenizing ngrams in the range (1, 3), that means we have separated each and every word without bias"
      ]
    },
    {
      "cell_type": "markdown",
      "metadata": {
        "colab_type": "text",
        "id": "hGOCk3c-9QiY"
      },
      "source": [
        "### Splitting out data to train and test sets\n",
        "*  Here we're dividing the dataset into 4 parts being training set and the validation set.\n",
        "*  Notice how validation set is different from testing set.\n",
        "*  We're shuffling the data as we would want the reviews from amazon, yelp and imdb to well mixed"
      ]
    },
    {
      "cell_type": "markdown",
      "metadata": {
        "colab_type": "text",
        "id": "2WLiiW0OBkD1"
      },
      "source": [
        "### Splitting out data to train and test sets\n",
        "On this command we have set the test size as 0.1. That means we're splitting the dataset in to ratio, 10% test and 90% train\n"
      ]
    },
    {
      "cell_type": "code",
      "metadata": {
        "id": "jBBBjHAaMATM",
        "colab_type": "code",
        "colab": {}
      },
      "source": [
        "X_train_sentence, X_test_sentence, y_train, y_test = train_test_split( x_train['text'],y_train['is_positive_sentiment'],test_size=0.2, random_state = 0)"
      ],
      "execution_count": 0,
      "outputs": []
    },
    {
      "cell_type": "code",
      "metadata": {
        "id": "E-CtXoSEMATP",
        "colab_type": "code",
        "outputId": "674c2306-8bc3-4df2-86f4-7b7cd0841e75",
        "colab": {}
      },
      "source": [
        "print(type(X_train_sentence))"
      ],
      "execution_count": 0,
      "outputs": [
        {
          "output_type": "stream",
          "text": [
            "<class 'pandas.core.series.Series'>\n"
          ],
          "name": "stdout"
        }
      ]
    },
    {
      "cell_type": "code",
      "metadata": {
        "id": "jmUbUoevMATS",
        "colab_type": "code",
        "outputId": "88c2d8aa-0b42-493f-8c20-f447adb4a7e8",
        "colab": {}
      },
      "source": [
        "print(type(y_train))"
      ],
      "execution_count": 0,
      "outputs": [
        {
          "output_type": "stream",
          "text": [
            "<class 'pandas.core.series.Series'>\n"
          ],
          "name": "stdout"
        }
      ]
    },
    {
      "cell_type": "markdown",
      "metadata": {
        "colab_type": "text",
        "id": "ICozspPQBkD6"
      },
      "source": [
        "## Intuition on vectorization\n",
        "*  The simplest scoring method is to mark the presence of words as a boolean value, 0 for absent, 1 for present.\n",
        "\n",
        "*  Using the arbitrary ordering of words listed above in our vocabulary, we can step through the first document (“It was the best of times“) and convert it into a binary vector.\n",
        "\n",
        "*  The scoring of the document would look as follows:\n",
        "consider the example, \n",
        "\"\"\n",
        "*  “it” = 1\n",
        "*  “was” = 1\n",
        "*  “the” = 1\n",
        "*  “best” = 1\n",
        "*  “of” = 1\n",
        "*  “times” = 1\n",
        "*  “worst” = 0\n",
        "*  “age” = 0\n",
        "*  “wisdom” = 0\n",
        "*  “foolishness” = 0\n",
        "*  As a binary vector, this would look as follows:\n",
        "\n",
        "*  \"it was the worst of times\" = [1, 1, 1, 0, 1, 1, 1, 0, 0, 0]\n",
        "*  \"it was the age of wisdom\" = [1, 1, 1, 0, 1, 0, 0, 1, 1, 0]\n",
        "*  \"it was the age of foolishness\" = [1, 1, 1, 0, 1, 0, 0, 1, 0, 1]"
      ]
    },
    {
      "cell_type": "markdown",
      "metadata": {
        "colab_type": "text",
        "id": "wp4Of_xgBkD7"
      },
      "source": [
        "## Why vectorize?\n",
        "Before we can use words in a classifier, we need to convert them into numbers. One way to do that is to simply map words to integers. Another way is to one-hot encode words. Each tweet could then be represented as a vector with a dimension equal to (a limited set of) the words in the corpus. The words occurring in the tweet have a value of 1 in the vector. All other vector values equal zero."
      ]
    },
    {
      "cell_type": "markdown",
      "metadata": {
        "id": "qh6LnTnp-STT",
        "colab_type": "text"
      },
      "source": [
        "## Word embeddings \n",
        "Word vectors were built on this idea. Basically, you get a large corpus, and make a dataset of tuples, where each tuple contains (some word x, a word in the context of x). Then you would use your old friend, a neural network, to learn to predict the context word of x, given the word x."
      ]
    },
    {
      "cell_type": "markdown",
      "metadata": {
        "id": "WgfBIDCv_Ded",
        "colab_type": "text"
      },
      "source": [
        "## Glove\n",
        "Glove is an unsupervised algorithm to learn and store these contexts between a large number of words. Glove comes as a pre trained model and we will emply it in our work below"
      ]
    },
    {
      "cell_type": "code",
      "metadata": {
        "id": "L_aNS3EfMATV",
        "colab_type": "code",
        "outputId": "b49ab005-289a-4af3-88a2-214d5f577bba",
        "colab": {}
      },
      "source": [
        "########## Using Embedded Word Vector Glove#######\n",
        "embeddings_index = {}\n",
        "f = open('C:/Users/Bharti/glove.6B/glove.6B.300d.txt',encoding=\"utf8\")\n",
        "for line in tqdm(f):\n",
        "    values = line.split()\n",
        "    word = values[0]\n",
        "    coefs = np.asarray(values[1:], dtype='float32')\n",
        "    embeddings_index[word] = coefs\n",
        "f.close()\n",
        "\n",
        "print('Found %s word vectors.' % len(embeddings_index))\n"
      ],
      "execution_count": 0,
      "outputs": [
        {
          "output_type": "stream",
          "text": [
            "400000it [00:41, 9727.57it/s] \n"
          ],
          "name": "stderr"
        },
        {
          "output_type": "stream",
          "text": [
            "Found 400000 word vectors.\n"
          ],
          "name": "stdout"
        }
      ]
    },
    {
      "cell_type": "markdown",
      "metadata": {
        "id": "mAvKmAPeAbG2",
        "colab_type": "text"
      },
      "source": [
        "### Function to convert sentence to vector\n",
        "The input sentence in this function is, \n",
        "*  Converted to lower case\n",
        "*  Split into tokens\n",
        "*  Stripped off stop words\n",
        "*  All characters other than alphabets have been ommited"
      ]
    },
    {
      "cell_type": "code",
      "metadata": {
        "id": "ICLr1f1WMATZ",
        "colab_type": "code",
        "colab": {}
      },
      "source": [
        "def sent2vec(s):\n",
        "    words = str(s).lower()\n",
        "    words = word_tokenize(words)\n",
        "    words = [w for w in words if not w in stop_words]\n",
        "    words = [w for w in words if w.isalpha()]\n",
        "    M = []\n",
        "    for w in words:\n",
        "        try:\n",
        "            M.append(embeddings_index[w])\n",
        "        except:\n",
        "            continue\n",
        "    M = np.array(M)\n",
        "    v = M.sum(axis=0)\n",
        "    if type(v) != np.ndarray:\n",
        "        return np.zeros(300)\n",
        "    return v / np.sqrt((v ** 2).sum())"
      ],
      "execution_count": 0,
      "outputs": []
    },
    {
      "cell_type": "markdown",
      "metadata": {
        "id": "nlHDnKE2A1po",
        "colab_type": "text"
      },
      "source": [
        "### create sentence vectors using the above function for training and validation set"
      ]
    },
    {
      "cell_type": "markdown",
      "metadata": {
        "id": "YvX75S5jKdXD",
        "colab_type": "text"
      },
      "source": [
        "### Word embeddings are computed differently. Each word is positioned into a multi-dimensional space. The number of dimensions in this space is chosen by the data scientist. "
      ]
    },
    {
      "cell_type": "code",
      "metadata": {
        "id": "Rm06TkxNMATc",
        "colab_type": "code",
        "outputId": "deaff5ef-a76f-414a-f5f4-634bff9dd24c",
        "colab": {}
      },
      "source": [
        "###from keras.preprocessing.text import Tokenizer\n",
        "\n",
        "xtrain_glove = [sent2vec(x) for x in tqdm(X_train_sentence)]\n",
        "xvalid_glove = [sent2vec(x) for x in tqdm(X_test_sentence)]"
      ],
      "execution_count": 0,
      "outputs": [
        {
          "output_type": "stream",
          "text": [
            "100%|████████████████████████████████████████████████████████████████████████████| 1920/1920 [00:00<00:00, 5515.53it/s]\n",
            "100%|██████████████████████████████████████████████████████████████████████████████| 480/480 [00:00<00:00, 6855.94it/s]\n"
          ],
          "name": "stderr"
        }
      ]
    },
    {
      "cell_type": "code",
      "metadata": {
        "id": "LIBI8rX-MATf",
        "colab_type": "code",
        "outputId": "03b12886-697f-491d-db63-7ac68e645f52",
        "colab": {}
      },
      "source": [
        "print(type(xtrain_glove))"
      ],
      "execution_count": 0,
      "outputs": [
        {
          "output_type": "stream",
          "text": [
            "<class 'list'>\n"
          ],
          "name": "stdout"
        }
      ]
    },
    {
      "cell_type": "code",
      "metadata": {
        "id": "9oBi3tQFMATk",
        "colab_type": "code",
        "colab": {}
      },
      "source": [
        "y_train=np.array(y_train)\n",
        "xtrain_glove = np.array(xtrain_glove)\n",
        "xvalid_glove = np.array(xvalid_glove)"
      ],
      "execution_count": 0,
      "outputs": []
    },
    {
      "cell_type": "markdown",
      "metadata": {
        "id": "Hzrn8oeDBjqs",
        "colab_type": "text"
      },
      "source": [
        "## Fitting of models"
      ]
    },
    {
      "cell_type": "markdown",
      "metadata": {
        "colab_type": "text",
        "id": "QHuTlAKiBkEH"
      },
      "source": [
        "# Training Process\n",
        "## The details of the training are as follows\n",
        "*  XGBoost was fitted on glove features\n",
        "*  Logistic regression fitted on glove features\n",
        "*  Random forests fitted over glove features\n",
        "*  Grid search for optimal hyper parameters for Logistic regression, XGBoost and Random forest algorithms \n",
        "*  Comparative study was made."
      ]
    },
    {
      "cell_type": "markdown",
      "metadata": {
        "id": "OCf0QNFi98md",
        "colab_type": "text"
      },
      "source": [
        "## XGBoost\n",
        "*  XGBoost is a decision-tree-based ensemble Machine Learning algorithm that uses a gradient boosting framework. In prediction problems involving unstructured data (images, text, etc.) artificial neural networks tend to outperform all other algorithms or frameworks."
      ]
    },
    {
      "cell_type": "code",
      "metadata": {
        "id": "g061MI7SMATp",
        "colab_type": "code",
        "colab": {}
      },
      "source": [
        "import xgboost as xgb\n",
        "XG = xgb.XGBClassifier(nthread=10, silent=False)\n"
      ],
      "execution_count": 0,
      "outputs": []
    },
    {
      "cell_type": "markdown",
      "metadata": {
        "id": "mkIsfi1lBsgH",
        "colab_type": "text"
      },
      "source": [
        "### Fitting a simple xgboost on glove features\n"
      ]
    },
    {
      "cell_type": "code",
      "metadata": {
        "id": "-NW3JiROMATs",
        "colab_type": "code",
        "outputId": "94b77666-4dda-4412-dca5-4fb08488c3cf",
        "colab": {}
      },
      "source": [
        "XG.fit(xtrain_glove, y_train)"
      ],
      "execution_count": 0,
      "outputs": [
        {
          "output_type": "execute_result",
          "data": {
            "text/plain": [
              "XGBClassifier(base_score=0.5, booster='gbtree', colsample_bylevel=1,\n",
              "       colsample_bytree=1, gamma=0, learning_rate=0.1, max_delta_step=0,\n",
              "       max_depth=3, min_child_weight=1, missing=None, n_estimators=100,\n",
              "       n_jobs=1, nthread=10, objective='binary:logistic', random_state=0,\n",
              "       reg_alpha=0, reg_lambda=1, scale_pos_weight=1, seed=None,\n",
              "       silent=False, subsample=1)"
            ]
          },
          "metadata": {
            "tags": []
          },
          "execution_count": 112
        }
      ]
    },
    {
      "cell_type": "code",
      "metadata": {
        "id": "vixQBTQwMATv",
        "colab_type": "code",
        "outputId": "f25165e2-717d-4de8-c37c-9d132f315b90",
        "colab": {}
      },
      "source": [
        "predictions = XG.predict_proba(xvalid_glove)\n",
        "y_pred_xg = XG.predict(xvalid_glove)\n",
        "print(accuracy_score(y_test, y_pred_xg))\n",
        "y_train_pred_xg = XG.predict(xtrain_glove)\n",
        "print(accuracy_score(y_train, y_train_pred_xg))"
      ],
      "execution_count": 0,
      "outputs": [
        {
          "output_type": "stream",
          "text": [
            "0.785416666667\n",
            "0.959895833333\n"
          ],
          "name": "stdout"
        }
      ]
    },
    {
      "cell_type": "code",
      "metadata": {
        "id": "oeSfPE_LMATx",
        "colab_type": "code",
        "outputId": "1e34c59c-0914-4ad2-ff66-408e47b12dca",
        "colab": {}
      },
      "source": [
        "classifier = XG\n",
        "\n",
        "from sklearn.model_selection import cross_val_score  \n",
        "all_accuracies = cross_val_score(estimator=classifier, X=xtrain_glove, y=y_train, cv=5)  \n",
        "\n",
        "print(all_accuracies)  \n",
        "print(all_accuracies.mean())\n",
        "print(all_accuracies.std())"
      ],
      "execution_count": 0,
      "outputs": [
        {
          "output_type": "stream",
          "text": [
            "[ 0.75584416  0.82552083  0.78125     0.78645833  0.77023499]\n",
            "0.783861661891\n",
            "0.0233225940274\n"
          ],
          "name": "stdout"
        }
      ]
    },
    {
      "cell_type": "markdown",
      "metadata": {
        "id": "VMW5zkiXByIj",
        "colab_type": "text"
      },
      "source": [
        "### Fitting a simple Logistic Regression on the Glove features\n"
      ]
    },
    {
      "cell_type": "markdown",
      "metadata": {
        "colab_type": "text",
        "id": "m7bA-hSDBkEO"
      },
      "source": [
        "## Logistic Regression\n",
        "*  By default sklearn employs a penalty of \"l2\" when we call for logistic regression.\n",
        "*  Logistic regression is the right algorithm to start with classification algorithms. Eventhough, the name ‘Regression’ comes up, it is not a regression model, but a classification model. It uses a logistic function to frame binary output model. The output of the logistic regression will be a probability (0≤x≤1), and can be used to predict the binary 0 or 1 as the output ( if x<0.5, output= 0, else output=1).\n",
        "*  Cross entropy is used as the loss function in Logistic regression\n",
        "*  θ parameters explains the direction and intensity of significance\n",
        "independent variables over the dependent variable.\n",
        "*  Can be used for multiclass classifications also.\n",
        "*  Loss function is always convex."
      ]
    },
    {
      "cell_type": "code",
      "metadata": {
        "id": "cJfqFsjsMAT0",
        "colab_type": "code",
        "outputId": "c8ab0bae-95c1-4bc9-a53d-562ac20cb752",
        "colab": {}
      },
      "source": [
        "LR = LogisticRegression()\n",
        "LR.fit(xtrain_glove, y_train)\n"
      ],
      "execution_count": 0,
      "outputs": [
        {
          "output_type": "stream",
          "text": [
            "C:\\Users\\Bharti\\Anaconda3\\envs\\myenv\\lib\\site-packages\\sklearn\\linear_model\\logistic.py:433: FutureWarning: Default solver will be changed to 'lbfgs' in 0.22. Specify a solver to silence this warning.\n",
            "  FutureWarning)\n"
          ],
          "name": "stderr"
        },
        {
          "output_type": "execute_result",
          "data": {
            "text/plain": [
              "LogisticRegression(C=1.0, class_weight=None, dual=False, fit_intercept=True,\n",
              "          intercept_scaling=1, max_iter=100, multi_class='warn',\n",
              "          n_jobs=None, penalty='l2', random_state=None, solver='warn',\n",
              "          tol=0.0001, verbose=0, warm_start=False)"
            ]
          },
          "metadata": {
            "tags": []
          },
          "execution_count": 115
        }
      ]
    },
    {
      "cell_type": "code",
      "metadata": {
        "id": "YVZrrtMGMAT2",
        "colab_type": "code",
        "outputId": "2349fef9-4a1f-4125-8360-e0fec139981a",
        "colab": {}
      },
      "source": [
        "predictions = LR.predict_proba(xvalid_glove)\n",
        "y_pred_LR = LR.predict(xvalid_glove)\n",
        "print(accuracy_score(y_test, y_pred_LR))\n",
        "y_train_pred_LR = LR.predict(xtrain_glove)\n",
        "print(accuracy_score(y_train, y_train_pred_LR))\n"
      ],
      "execution_count": 0,
      "outputs": [
        {
          "output_type": "stream",
          "text": [
            "0.795833333333\n",
            "0.836979166667\n"
          ],
          "name": "stdout"
        }
      ]
    },
    {
      "cell_type": "markdown",
      "metadata": {
        "id": "o7oYZ4tYB79z",
        "colab_type": "text"
      },
      "source": [
        "### Fitting a simple Random Forest on the Glove features\n"
      ]
    },
    {
      "cell_type": "markdown",
      "metadata": {
        "colab_type": "text",
        "id": "OoAfCyntBkES"
      },
      "source": [
        "## Random forests \n",
        "*  Random forests is a decision tree based algorithm used to solve regression and classification problems. An inverted tree is framed which is branched off from a homogeneous probability distributed root node, to highly heterogeneous leaf nodes, for deriving the output. \n",
        "*  Decision tree handles colinearity better than LR.\n",
        "*  Decision trees cannot derive the significance of features, but LR can.\n",
        "*  Decision trees are better for categorical values than LR.\n"
      ]
    },
    {
      "cell_type": "code",
      "metadata": {
        "id": "V_njXh5aMAT4",
        "colab_type": "code",
        "outputId": "24e65464-47c1-4e5f-c511-66e0f1a523bc",
        "colab": {}
      },
      "source": [
        "\n",
        "rf = RandomForestClassifier(n_estimators = 10, random_state = 42)\n",
        "rf.fit(xtrain_glove, y_train)"
      ],
      "execution_count": 0,
      "outputs": [
        {
          "output_type": "execute_result",
          "data": {
            "text/plain": [
              "RandomForestClassifier(bootstrap=True, class_weight=None, criterion='gini',\n",
              "            max_depth=None, max_features='auto', max_leaf_nodes=None,\n",
              "            min_impurity_decrease=0.0, min_impurity_split=None,\n",
              "            min_samples_leaf=1, min_samples_split=2,\n",
              "            min_weight_fraction_leaf=0.0, n_estimators=10, n_jobs=None,\n",
              "            oob_score=False, random_state=42, verbose=0, warm_start=False)"
            ]
          },
          "metadata": {
            "tags": []
          },
          "execution_count": 117
        }
      ]
    },
    {
      "cell_type": "code",
      "metadata": {
        "id": "52UwyLB2MAT6",
        "colab_type": "code",
        "outputId": "c9beba0d-a4cd-42c5-d33b-11cb356f698f",
        "colab": {}
      },
      "source": [
        "predictions = rf.predict_proba(xvalid_glove)\n",
        "y_pred_rf = rf.predict(xvalid_glove)\n",
        "print(accuracy_score(y_test, y_pred_rf))\n",
        "y_train_pred_rf = rf.predict(xtrain_glove)\n",
        "print(accuracy_score(y_train, y_train_pred_rf))\n"
      ],
      "execution_count": 0,
      "outputs": [
        {
          "output_type": "stream",
          "text": [
            "0.73125\n",
            "0.989583333333\n"
          ],
          "name": "stdout"
        }
      ]
    },
    {
      "cell_type": "markdown",
      "metadata": {
        "colab_type": "text",
        "id": "IH1IzEv2BkEV"
      },
      "source": [
        "## How out of vocab words are handled in word embeddings model\n",
        "*  adding an unknown word token is how most people solve this problem.\n",
        "*  deleting the unknown words is a bad idea because it transforms the sentence in a way that is not consistent with how the model was trained.\n",
        "*  Another option that has recently been developed is to create a word embedding on-the-fly for each word using a convolutional neural network or a separate LSTM that processes the characters of each word one at a time. Using this technique your model will never encounter a word that it can't create an embedding for."
      ]
    },
    {
      "cell_type": "markdown",
      "metadata": {
        "colab_type": "text",
        "id": "UtRo1MxTBkEV"
      },
      "source": [
        "## Grid Search\n",
        "Grid search is the process of performing hyper parameter tuning in order to determine the optimal values for a given model. This is significant as the performance of the entire model is based on the hyper parameter values specified."
      ]
    },
    {
      "cell_type": "markdown",
      "metadata": {
        "id": "V_nmO5-oCLKn",
        "colab_type": "text"
      },
      "source": [
        "###  Grid search cross validation for Logistic regression\n"
      ]
    },
    {
      "cell_type": "markdown",
      "metadata": {
        "colab_type": "text",
        "id": "zXaOqgwOBkEW"
      },
      "source": [
        "## General intuition on k-fold cross validation\n",
        "\n",
        "*  The procedure has a single parameter called k that refers to the number of groups that a given data sample is to be split into. As such, the procedure is often called k-fold cross-validation. When a specific value for k is chosen, it may be used in place of k in the reference to the model, such as k=10 becoming 10-fold cross-validation.\n",
        "\n",
        "*  Cross-validation is primarily used in applied machine learning to estimate the skill of a machine learning model on unseen data. That is, to use a limited sample in order to estimate how the model is expected to perform in general when used to make predictions on data not used during the training of the model.\n",
        "\n",
        "*  It is a popular method because it is simple to understand and because it generally results in a less biased or less optimistic estimate of the model skill than other methods, such as a simple train/test split.\n",
        "\n",
        "*  The general procedure is as follows:\n",
        "\n",
        "*  Shuffle the dataset randomly.\n",
        "*  Split the dataset into k groups\n",
        "*  For each unique group:\n",
        "*  Take the group as a hold out or test data set\n",
        "*  Take the remaining groups as a training data set\n",
        "*  Fit a model on the training set and evaluate it on the test set\n",
        "*  Retain the evaluation score and discard the model\n",
        "*  Summarize the skill of the model using the sample of model evaluation scores\n"
      ]
    },
    {
      "cell_type": "code",
      "metadata": {
        "id": "8G83bvjAMAT_",
        "colab_type": "code",
        "outputId": "c7163fbe-63ed-49a2-d88a-4e041f357cc6",
        "colab": {}
      },
      "source": [
        "from sklearn.model_selection import GridSearchCV\n",
        "from sklearn.linear_model import LogisticRegression\n",
        "grid={\"C\":np.logspace(-3,3,7), \"penalty\":[\"l1\",\"l2\"]}# l1 lasso l2 ridge\n",
        "logreg=LogisticRegression()\n",
        "logreg_cv=GridSearchCV(logreg,grid,cv=10)\n",
        "logreg_cv.fit(xtrain_glove, y_train)\n",
        "\n",
        "print(\"tuned hpyerparameters :(best parameters) \",logreg_cv.best_params_)\n",
        "print(\"accuracy :\",logreg_cv.best_score_)"
      ],
      "execution_count": 0,
      "outputs": [
        {
          "output_type": "stream",
          "text": [
            "C:\\Users\\Bharti\\Anaconda3\\envs\\myenv\\lib\\site-packages\\sklearn\\linear_model\\logistic.py:433: FutureWarning: Default solver will be changed to 'lbfgs' in 0.22. Specify a solver to silence this warning.\n",
            "  FutureWarning)\n",
            "C:\\Users\\Bharti\\Anaconda3\\envs\\myenv\\lib\\site-packages\\sklearn\\linear_model\\logistic.py:433: FutureWarning: Default solver will be changed to 'lbfgs' in 0.22. Specify a solver to silence this warning.\n",
            "  FutureWarning)\n",
            "C:\\Users\\Bharti\\Anaconda3\\envs\\myenv\\lib\\site-packages\\sklearn\\linear_model\\logistic.py:433: FutureWarning: Default solver will be changed to 'lbfgs' in 0.22. Specify a solver to silence this warning.\n",
            "  FutureWarning)\n",
            "C:\\Users\\Bharti\\Anaconda3\\envs\\myenv\\lib\\site-packages\\sklearn\\linear_model\\logistic.py:433: FutureWarning: Default solver will be changed to 'lbfgs' in 0.22. Specify a solver to silence this warning.\n",
            "  FutureWarning)\n",
            "C:\\Users\\Bharti\\Anaconda3\\envs\\myenv\\lib\\site-packages\\sklearn\\linear_model\\logistic.py:433: FutureWarning: Default solver will be changed to 'lbfgs' in 0.22. Specify a solver to silence this warning.\n",
            "  FutureWarning)\n",
            "C:\\Users\\Bharti\\Anaconda3\\envs\\myenv\\lib\\site-packages\\sklearn\\linear_model\\logistic.py:433: FutureWarning: Default solver will be changed to 'lbfgs' in 0.22. Specify a solver to silence this warning.\n",
            "  FutureWarning)\n",
            "C:\\Users\\Bharti\\Anaconda3\\envs\\myenv\\lib\\site-packages\\sklearn\\linear_model\\logistic.py:433: FutureWarning: Default solver will be changed to 'lbfgs' in 0.22. Specify a solver to silence this warning.\n",
            "  FutureWarning)\n",
            "C:\\Users\\Bharti\\Anaconda3\\envs\\myenv\\lib\\site-packages\\sklearn\\linear_model\\logistic.py:433: FutureWarning: Default solver will be changed to 'lbfgs' in 0.22. Specify a solver to silence this warning.\n",
            "  FutureWarning)\n",
            "C:\\Users\\Bharti\\Anaconda3\\envs\\myenv\\lib\\site-packages\\sklearn\\linear_model\\logistic.py:433: FutureWarning: Default solver will be changed to 'lbfgs' in 0.22. Specify a solver to silence this warning.\n",
            "  FutureWarning)\n",
            "C:\\Users\\Bharti\\Anaconda3\\envs\\myenv\\lib\\site-packages\\sklearn\\linear_model\\logistic.py:433: FutureWarning: Default solver will be changed to 'lbfgs' in 0.22. Specify a solver to silence this warning.\n",
            "  FutureWarning)\n",
            "C:\\Users\\Bharti\\Anaconda3\\envs\\myenv\\lib\\site-packages\\sklearn\\linear_model\\logistic.py:433: FutureWarning: Default solver will be changed to 'lbfgs' in 0.22. Specify a solver to silence this warning.\n",
            "  FutureWarning)\n",
            "C:\\Users\\Bharti\\Anaconda3\\envs\\myenv\\lib\\site-packages\\sklearn\\linear_model\\logistic.py:433: FutureWarning: Default solver will be changed to 'lbfgs' in 0.22. Specify a solver to silence this warning.\n",
            "  FutureWarning)\n",
            "C:\\Users\\Bharti\\Anaconda3\\envs\\myenv\\lib\\site-packages\\sklearn\\linear_model\\logistic.py:433: FutureWarning: Default solver will be changed to 'lbfgs' in 0.22. Specify a solver to silence this warning.\n",
            "  FutureWarning)\n",
            "C:\\Users\\Bharti\\Anaconda3\\envs\\myenv\\lib\\site-packages\\sklearn\\linear_model\\logistic.py:433: FutureWarning: Default solver will be changed to 'lbfgs' in 0.22. Specify a solver to silence this warning.\n",
            "  FutureWarning)\n",
            "C:\\Users\\Bharti\\Anaconda3\\envs\\myenv\\lib\\site-packages\\sklearn\\linear_model\\logistic.py:433: FutureWarning: Default solver will be changed to 'lbfgs' in 0.22. Specify a solver to silence this warning.\n",
            "  FutureWarning)\n",
            "C:\\Users\\Bharti\\Anaconda3\\envs\\myenv\\lib\\site-packages\\sklearn\\linear_model\\logistic.py:433: FutureWarning: Default solver will be changed to 'lbfgs' in 0.22. Specify a solver to silence this warning.\n",
            "  FutureWarning)\n",
            "C:\\Users\\Bharti\\Anaconda3\\envs\\myenv\\lib\\site-packages\\sklearn\\linear_model\\logistic.py:433: FutureWarning: Default solver will be changed to 'lbfgs' in 0.22. Specify a solver to silence this warning.\n",
            "  FutureWarning)\n",
            "C:\\Users\\Bharti\\Anaconda3\\envs\\myenv\\lib\\site-packages\\sklearn\\linear_model\\logistic.py:433: FutureWarning: Default solver will be changed to 'lbfgs' in 0.22. Specify a solver to silence this warning.\n",
            "  FutureWarning)\n",
            "C:\\Users\\Bharti\\Anaconda3\\envs\\myenv\\lib\\site-packages\\sklearn\\linear_model\\logistic.py:433: FutureWarning: Default solver will be changed to 'lbfgs' in 0.22. Specify a solver to silence this warning.\n",
            "  FutureWarning)\n",
            "C:\\Users\\Bharti\\Anaconda3\\envs\\myenv\\lib\\site-packages\\sklearn\\linear_model\\logistic.py:433: FutureWarning: Default solver will be changed to 'lbfgs' in 0.22. Specify a solver to silence this warning.\n",
            "  FutureWarning)\n",
            "C:\\Users\\Bharti\\Anaconda3\\envs\\myenv\\lib\\site-packages\\sklearn\\linear_model\\logistic.py:433: FutureWarning: Default solver will be changed to 'lbfgs' in 0.22. Specify a solver to silence this warning.\n",
            "  FutureWarning)\n",
            "C:\\Users\\Bharti\\Anaconda3\\envs\\myenv\\lib\\site-packages\\sklearn\\linear_model\\logistic.py:433: FutureWarning: Default solver will be changed to 'lbfgs' in 0.22. Specify a solver to silence this warning.\n",
            "  FutureWarning)\n",
            "C:\\Users\\Bharti\\Anaconda3\\envs\\myenv\\lib\\site-packages\\sklearn\\linear_model\\logistic.py:433: FutureWarning: Default solver will be changed to 'lbfgs' in 0.22. Specify a solver to silence this warning.\n",
            "  FutureWarning)\n",
            "C:\\Users\\Bharti\\Anaconda3\\envs\\myenv\\lib\\site-packages\\sklearn\\linear_model\\logistic.py:433: FutureWarning: Default solver will be changed to 'lbfgs' in 0.22. Specify a solver to silence this warning.\n",
            "  FutureWarning)\n",
            "C:\\Users\\Bharti\\Anaconda3\\envs\\myenv\\lib\\site-packages\\sklearn\\linear_model\\logistic.py:433: FutureWarning: Default solver will be changed to 'lbfgs' in 0.22. Specify a solver to silence this warning.\n",
            "  FutureWarning)\n",
            "C:\\Users\\Bharti\\Anaconda3\\envs\\myenv\\lib\\site-packages\\sklearn\\linear_model\\logistic.py:433: FutureWarning: Default solver will be changed to 'lbfgs' in 0.22. Specify a solver to silence this warning.\n",
            "  FutureWarning)\n",
            "C:\\Users\\Bharti\\Anaconda3\\envs\\myenv\\lib\\site-packages\\sklearn\\linear_model\\logistic.py:433: FutureWarning: Default solver will be changed to 'lbfgs' in 0.22. Specify a solver to silence this warning.\n",
            "  FutureWarning)\n",
            "C:\\Users\\Bharti\\Anaconda3\\envs\\myenv\\lib\\site-packages\\sklearn\\linear_model\\logistic.py:433: FutureWarning: Default solver will be changed to 'lbfgs' in 0.22. Specify a solver to silence this warning.\n",
            "  FutureWarning)\n",
            "C:\\Users\\Bharti\\Anaconda3\\envs\\myenv\\lib\\site-packages\\sklearn\\linear_model\\logistic.py:433: FutureWarning: Default solver will be changed to 'lbfgs' in 0.22. Specify a solver to silence this warning.\n",
            "  FutureWarning)\n",
            "C:\\Users\\Bharti\\Anaconda3\\envs\\myenv\\lib\\site-packages\\sklearn\\linear_model\\logistic.py:433: FutureWarning: Default solver will be changed to 'lbfgs' in 0.22. Specify a solver to silence this warning.\n",
            "  FutureWarning)\n",
            "C:\\Users\\Bharti\\Anaconda3\\envs\\myenv\\lib\\site-packages\\sklearn\\linear_model\\logistic.py:433: FutureWarning: Default solver will be changed to 'lbfgs' in 0.22. Specify a solver to silence this warning.\n",
            "  FutureWarning)\n",
            "C:\\Users\\Bharti\\Anaconda3\\envs\\myenv\\lib\\site-packages\\sklearn\\linear_model\\logistic.py:433: FutureWarning: Default solver will be changed to 'lbfgs' in 0.22. Specify a solver to silence this warning.\n",
            "  FutureWarning)\n",
            "C:\\Users\\Bharti\\Anaconda3\\envs\\myenv\\lib\\site-packages\\sklearn\\linear_model\\logistic.py:433: FutureWarning: Default solver will be changed to 'lbfgs' in 0.22. Specify a solver to silence this warning.\n",
            "  FutureWarning)\n",
            "C:\\Users\\Bharti\\Anaconda3\\envs\\myenv\\lib\\site-packages\\sklearn\\linear_model\\logistic.py:433: FutureWarning: Default solver will be changed to 'lbfgs' in 0.22. Specify a solver to silence this warning.\n",
            "  FutureWarning)\n",
            "C:\\Users\\Bharti\\Anaconda3\\envs\\myenv\\lib\\site-packages\\sklearn\\linear_model\\logistic.py:433: FutureWarning: Default solver will be changed to 'lbfgs' in 0.22. Specify a solver to silence this warning.\n",
            "  FutureWarning)\n",
            "C:\\Users\\Bharti\\Anaconda3\\envs\\myenv\\lib\\site-packages\\sklearn\\linear_model\\logistic.py:433: FutureWarning: Default solver will be changed to 'lbfgs' in 0.22. Specify a solver to silence this warning.\n",
            "  FutureWarning)\n",
            "C:\\Users\\Bharti\\Anaconda3\\envs\\myenv\\lib\\site-packages\\sklearn\\linear_model\\logistic.py:433: FutureWarning: Default solver will be changed to 'lbfgs' in 0.22. Specify a solver to silence this warning.\n",
            "  FutureWarning)\n",
            "C:\\Users\\Bharti\\Anaconda3\\envs\\myenv\\lib\\site-packages\\sklearn\\linear_model\\logistic.py:433: FutureWarning: Default solver will be changed to 'lbfgs' in 0.22. Specify a solver to silence this warning.\n",
            "  FutureWarning)\n"
          ],
          "name": "stderr"
        },
        {
          "output_type": "stream",
          "text": [
            "C:\\Users\\Bharti\\Anaconda3\\envs\\myenv\\lib\\site-packages\\sklearn\\linear_model\\logistic.py:433: FutureWarning: Default solver will be changed to 'lbfgs' in 0.22. Specify a solver to silence this warning.\n",
            "  FutureWarning)\n",
            "C:\\Users\\Bharti\\Anaconda3\\envs\\myenv\\lib\\site-packages\\sklearn\\linear_model\\logistic.py:433: FutureWarning: Default solver will be changed to 'lbfgs' in 0.22. Specify a solver to silence this warning.\n",
            "  FutureWarning)\n",
            "C:\\Users\\Bharti\\Anaconda3\\envs\\myenv\\lib\\site-packages\\sklearn\\linear_model\\logistic.py:433: FutureWarning: Default solver will be changed to 'lbfgs' in 0.22. Specify a solver to silence this warning.\n",
            "  FutureWarning)\n",
            "C:\\Users\\Bharti\\Anaconda3\\envs\\myenv\\lib\\site-packages\\sklearn\\linear_model\\logistic.py:433: FutureWarning: Default solver will be changed to 'lbfgs' in 0.22. Specify a solver to silence this warning.\n",
            "  FutureWarning)\n",
            "C:\\Users\\Bharti\\Anaconda3\\envs\\myenv\\lib\\site-packages\\sklearn\\linear_model\\logistic.py:433: FutureWarning: Default solver will be changed to 'lbfgs' in 0.22. Specify a solver to silence this warning.\n",
            "  FutureWarning)\n",
            "C:\\Users\\Bharti\\Anaconda3\\envs\\myenv\\lib\\site-packages\\sklearn\\linear_model\\logistic.py:433: FutureWarning: Default solver will be changed to 'lbfgs' in 0.22. Specify a solver to silence this warning.\n",
            "  FutureWarning)\n",
            "C:\\Users\\Bharti\\Anaconda3\\envs\\myenv\\lib\\site-packages\\sklearn\\linear_model\\logistic.py:433: FutureWarning: Default solver will be changed to 'lbfgs' in 0.22. Specify a solver to silence this warning.\n",
            "  FutureWarning)\n",
            "C:\\Users\\Bharti\\Anaconda3\\envs\\myenv\\lib\\site-packages\\sklearn\\linear_model\\logistic.py:433: FutureWarning: Default solver will be changed to 'lbfgs' in 0.22. Specify a solver to silence this warning.\n",
            "  FutureWarning)\n",
            "C:\\Users\\Bharti\\Anaconda3\\envs\\myenv\\lib\\site-packages\\sklearn\\linear_model\\logistic.py:433: FutureWarning: Default solver will be changed to 'lbfgs' in 0.22. Specify a solver to silence this warning.\n",
            "  FutureWarning)\n",
            "C:\\Users\\Bharti\\Anaconda3\\envs\\myenv\\lib\\site-packages\\sklearn\\linear_model\\logistic.py:433: FutureWarning: Default solver will be changed to 'lbfgs' in 0.22. Specify a solver to silence this warning.\n",
            "  FutureWarning)\n",
            "C:\\Users\\Bharti\\Anaconda3\\envs\\myenv\\lib\\site-packages\\sklearn\\linear_model\\logistic.py:433: FutureWarning: Default solver will be changed to 'lbfgs' in 0.22. Specify a solver to silence this warning.\n",
            "  FutureWarning)\n",
            "C:\\Users\\Bharti\\Anaconda3\\envs\\myenv\\lib\\site-packages\\sklearn\\linear_model\\logistic.py:433: FutureWarning: Default solver will be changed to 'lbfgs' in 0.22. Specify a solver to silence this warning.\n",
            "  FutureWarning)\n",
            "C:\\Users\\Bharti\\Anaconda3\\envs\\myenv\\lib\\site-packages\\sklearn\\linear_model\\logistic.py:433: FutureWarning: Default solver will be changed to 'lbfgs' in 0.22. Specify a solver to silence this warning.\n",
            "  FutureWarning)\n",
            "C:\\Users\\Bharti\\Anaconda3\\envs\\myenv\\lib\\site-packages\\sklearn\\linear_model\\logistic.py:433: FutureWarning: Default solver will be changed to 'lbfgs' in 0.22. Specify a solver to silence this warning.\n",
            "  FutureWarning)\n",
            "C:\\Users\\Bharti\\Anaconda3\\envs\\myenv\\lib\\site-packages\\sklearn\\linear_model\\logistic.py:433: FutureWarning: Default solver will be changed to 'lbfgs' in 0.22. Specify a solver to silence this warning.\n",
            "  FutureWarning)\n",
            "C:\\Users\\Bharti\\Anaconda3\\envs\\myenv\\lib\\site-packages\\sklearn\\linear_model\\logistic.py:433: FutureWarning: Default solver will be changed to 'lbfgs' in 0.22. Specify a solver to silence this warning.\n",
            "  FutureWarning)\n",
            "C:\\Users\\Bharti\\Anaconda3\\envs\\myenv\\lib\\site-packages\\sklearn\\linear_model\\logistic.py:433: FutureWarning: Default solver will be changed to 'lbfgs' in 0.22. Specify a solver to silence this warning.\n",
            "  FutureWarning)\n",
            "C:\\Users\\Bharti\\Anaconda3\\envs\\myenv\\lib\\site-packages\\sklearn\\linear_model\\logistic.py:433: FutureWarning: Default solver will be changed to 'lbfgs' in 0.22. Specify a solver to silence this warning.\n",
            "  FutureWarning)\n",
            "C:\\Users\\Bharti\\Anaconda3\\envs\\myenv\\lib\\site-packages\\sklearn\\linear_model\\logistic.py:433: FutureWarning: Default solver will be changed to 'lbfgs' in 0.22. Specify a solver to silence this warning.\n",
            "  FutureWarning)\n",
            "C:\\Users\\Bharti\\Anaconda3\\envs\\myenv\\lib\\site-packages\\sklearn\\linear_model\\logistic.py:433: FutureWarning: Default solver will be changed to 'lbfgs' in 0.22. Specify a solver to silence this warning.\n",
            "  FutureWarning)\n",
            "C:\\Users\\Bharti\\Anaconda3\\envs\\myenv\\lib\\site-packages\\sklearn\\linear_model\\logistic.py:433: FutureWarning: Default solver will be changed to 'lbfgs' in 0.22. Specify a solver to silence this warning.\n",
            "  FutureWarning)\n",
            "C:\\Users\\Bharti\\Anaconda3\\envs\\myenv\\lib\\site-packages\\sklearn\\linear_model\\logistic.py:433: FutureWarning: Default solver will be changed to 'lbfgs' in 0.22. Specify a solver to silence this warning.\n",
            "  FutureWarning)\n",
            "C:\\Users\\Bharti\\Anaconda3\\envs\\myenv\\lib\\site-packages\\sklearn\\linear_model\\logistic.py:433: FutureWarning: Default solver will be changed to 'lbfgs' in 0.22. Specify a solver to silence this warning.\n",
            "  FutureWarning)\n",
            "C:\\Users\\Bharti\\Anaconda3\\envs\\myenv\\lib\\site-packages\\sklearn\\linear_model\\logistic.py:433: FutureWarning: Default solver will be changed to 'lbfgs' in 0.22. Specify a solver to silence this warning.\n",
            "  FutureWarning)\n",
            "C:\\Users\\Bharti\\Anaconda3\\envs\\myenv\\lib\\site-packages\\sklearn\\linear_model\\logistic.py:433: FutureWarning: Default solver will be changed to 'lbfgs' in 0.22. Specify a solver to silence this warning.\n",
            "  FutureWarning)\n",
            "C:\\Users\\Bharti\\Anaconda3\\envs\\myenv\\lib\\site-packages\\sklearn\\linear_model\\logistic.py:433: FutureWarning: Default solver will be changed to 'lbfgs' in 0.22. Specify a solver to silence this warning.\n",
            "  FutureWarning)\n",
            "C:\\Users\\Bharti\\Anaconda3\\envs\\myenv\\lib\\site-packages\\sklearn\\linear_model\\logistic.py:433: FutureWarning: Default solver will be changed to 'lbfgs' in 0.22. Specify a solver to silence this warning.\n",
            "  FutureWarning)\n",
            "C:\\Users\\Bharti\\Anaconda3\\envs\\myenv\\lib\\site-packages\\sklearn\\linear_model\\logistic.py:433: FutureWarning: Default solver will be changed to 'lbfgs' in 0.22. Specify a solver to silence this warning.\n",
            "  FutureWarning)\n",
            "C:\\Users\\Bharti\\Anaconda3\\envs\\myenv\\lib\\site-packages\\sklearn\\linear_model\\logistic.py:433: FutureWarning: Default solver will be changed to 'lbfgs' in 0.22. Specify a solver to silence this warning.\n",
            "  FutureWarning)\n",
            "C:\\Users\\Bharti\\Anaconda3\\envs\\myenv\\lib\\site-packages\\sklearn\\linear_model\\logistic.py:433: FutureWarning: Default solver will be changed to 'lbfgs' in 0.22. Specify a solver to silence this warning.\n",
            "  FutureWarning)\n",
            "C:\\Users\\Bharti\\Anaconda3\\envs\\myenv\\lib\\site-packages\\sklearn\\linear_model\\logistic.py:433: FutureWarning: Default solver will be changed to 'lbfgs' in 0.22. Specify a solver to silence this warning.\n",
            "  FutureWarning)\n",
            "C:\\Users\\Bharti\\Anaconda3\\envs\\myenv\\lib\\site-packages\\sklearn\\linear_model\\logistic.py:433: FutureWarning: Default solver will be changed to 'lbfgs' in 0.22. Specify a solver to silence this warning.\n",
            "  FutureWarning)\n",
            "C:\\Users\\Bharti\\Anaconda3\\envs\\myenv\\lib\\site-packages\\sklearn\\linear_model\\logistic.py:433: FutureWarning: Default solver will be changed to 'lbfgs' in 0.22. Specify a solver to silence this warning.\n",
            "  FutureWarning)\n",
            "C:\\Users\\Bharti\\Anaconda3\\envs\\myenv\\lib\\site-packages\\sklearn\\linear_model\\logistic.py:433: FutureWarning: Default solver will be changed to 'lbfgs' in 0.22. Specify a solver to silence this warning.\n",
            "  FutureWarning)\n",
            "C:\\Users\\Bharti\\Anaconda3\\envs\\myenv\\lib\\site-packages\\sklearn\\linear_model\\logistic.py:433: FutureWarning: Default solver will be changed to 'lbfgs' in 0.22. Specify a solver to silence this warning.\n",
            "  FutureWarning)\n",
            "C:\\Users\\Bharti\\Anaconda3\\envs\\myenv\\lib\\site-packages\\sklearn\\linear_model\\logistic.py:433: FutureWarning: Default solver will be changed to 'lbfgs' in 0.22. Specify a solver to silence this warning.\n",
            "  FutureWarning)\n",
            "C:\\Users\\Bharti\\Anaconda3\\envs\\myenv\\lib\\site-packages\\sklearn\\linear_model\\logistic.py:433: FutureWarning: Default solver will be changed to 'lbfgs' in 0.22. Specify a solver to silence this warning.\n",
            "  FutureWarning)\n",
            "C:\\Users\\Bharti\\Anaconda3\\envs\\myenv\\lib\\site-packages\\sklearn\\linear_model\\logistic.py:433: FutureWarning: Default solver will be changed to 'lbfgs' in 0.22. Specify a solver to silence this warning.\n",
            "  FutureWarning)\n"
          ],
          "name": "stderr"
        },
        {
          "output_type": "stream",
          "text": [
            "C:\\Users\\Bharti\\Anaconda3\\envs\\myenv\\lib\\site-packages\\sklearn\\linear_model\\logistic.py:433: FutureWarning: Default solver will be changed to 'lbfgs' in 0.22. Specify a solver to silence this warning.\n",
            "  FutureWarning)\n",
            "C:\\Users\\Bharti\\Anaconda3\\envs\\myenv\\lib\\site-packages\\sklearn\\linear_model\\logistic.py:433: FutureWarning: Default solver will be changed to 'lbfgs' in 0.22. Specify a solver to silence this warning.\n",
            "  FutureWarning)\n",
            "C:\\Users\\Bharti\\Anaconda3\\envs\\myenv\\lib\\site-packages\\sklearn\\linear_model\\logistic.py:433: FutureWarning: Default solver will be changed to 'lbfgs' in 0.22. Specify a solver to silence this warning.\n",
            "  FutureWarning)\n",
            "C:\\Users\\Bharti\\Anaconda3\\envs\\myenv\\lib\\site-packages\\sklearn\\linear_model\\logistic.py:433: FutureWarning: Default solver will be changed to 'lbfgs' in 0.22. Specify a solver to silence this warning.\n",
            "  FutureWarning)\n",
            "C:\\Users\\Bharti\\Anaconda3\\envs\\myenv\\lib\\site-packages\\sklearn\\linear_model\\logistic.py:433: FutureWarning: Default solver will be changed to 'lbfgs' in 0.22. Specify a solver to silence this warning.\n",
            "  FutureWarning)\n",
            "C:\\Users\\Bharti\\Anaconda3\\envs\\myenv\\lib\\site-packages\\sklearn\\linear_model\\logistic.py:433: FutureWarning: Default solver will be changed to 'lbfgs' in 0.22. Specify a solver to silence this warning.\n",
            "  FutureWarning)\n",
            "C:\\Users\\Bharti\\Anaconda3\\envs\\myenv\\lib\\site-packages\\sklearn\\linear_model\\logistic.py:433: FutureWarning: Default solver will be changed to 'lbfgs' in 0.22. Specify a solver to silence this warning.\n",
            "  FutureWarning)\n",
            "C:\\Users\\Bharti\\Anaconda3\\envs\\myenv\\lib\\site-packages\\sklearn\\linear_model\\logistic.py:433: FutureWarning: Default solver will be changed to 'lbfgs' in 0.22. Specify a solver to silence this warning.\n",
            "  FutureWarning)\n",
            "C:\\Users\\Bharti\\Anaconda3\\envs\\myenv\\lib\\site-packages\\sklearn\\linear_model\\logistic.py:433: FutureWarning: Default solver will be changed to 'lbfgs' in 0.22. Specify a solver to silence this warning.\n",
            "  FutureWarning)\n",
            "C:\\Users\\Bharti\\Anaconda3\\envs\\myenv\\lib\\site-packages\\sklearn\\linear_model\\logistic.py:433: FutureWarning: Default solver will be changed to 'lbfgs' in 0.22. Specify a solver to silence this warning.\n",
            "  FutureWarning)\n",
            "C:\\Users\\Bharti\\Anaconda3\\envs\\myenv\\lib\\site-packages\\sklearn\\linear_model\\logistic.py:433: FutureWarning: Default solver will be changed to 'lbfgs' in 0.22. Specify a solver to silence this warning.\n",
            "  FutureWarning)\n",
            "C:\\Users\\Bharti\\Anaconda3\\envs\\myenv\\lib\\site-packages\\sklearn\\linear_model\\logistic.py:433: FutureWarning: Default solver will be changed to 'lbfgs' in 0.22. Specify a solver to silence this warning.\n",
            "  FutureWarning)\n",
            "C:\\Users\\Bharti\\Anaconda3\\envs\\myenv\\lib\\site-packages\\sklearn\\linear_model\\logistic.py:433: FutureWarning: Default solver will be changed to 'lbfgs' in 0.22. Specify a solver to silence this warning.\n",
            "  FutureWarning)\n",
            "C:\\Users\\Bharti\\Anaconda3\\envs\\myenv\\lib\\site-packages\\sklearn\\linear_model\\logistic.py:433: FutureWarning: Default solver will be changed to 'lbfgs' in 0.22. Specify a solver to silence this warning.\n",
            "  FutureWarning)\n",
            "C:\\Users\\Bharti\\Anaconda3\\envs\\myenv\\lib\\site-packages\\sklearn\\linear_model\\logistic.py:433: FutureWarning: Default solver will be changed to 'lbfgs' in 0.22. Specify a solver to silence this warning.\n",
            "  FutureWarning)\n",
            "C:\\Users\\Bharti\\Anaconda3\\envs\\myenv\\lib\\site-packages\\sklearn\\linear_model\\logistic.py:433: FutureWarning: Default solver will be changed to 'lbfgs' in 0.22. Specify a solver to silence this warning.\n",
            "  FutureWarning)\n",
            "C:\\Users\\Bharti\\Anaconda3\\envs\\myenv\\lib\\site-packages\\sklearn\\linear_model\\logistic.py:433: FutureWarning: Default solver will be changed to 'lbfgs' in 0.22. Specify a solver to silence this warning.\n",
            "  FutureWarning)\n",
            "C:\\Users\\Bharti\\Anaconda3\\envs\\myenv\\lib\\site-packages\\sklearn\\linear_model\\logistic.py:433: FutureWarning: Default solver will be changed to 'lbfgs' in 0.22. Specify a solver to silence this warning.\n",
            "  FutureWarning)\n",
            "C:\\Users\\Bharti\\Anaconda3\\envs\\myenv\\lib\\site-packages\\sklearn\\linear_model\\logistic.py:433: FutureWarning: Default solver will be changed to 'lbfgs' in 0.22. Specify a solver to silence this warning.\n",
            "  FutureWarning)\n",
            "C:\\Users\\Bharti\\Anaconda3\\envs\\myenv\\lib\\site-packages\\sklearn\\linear_model\\logistic.py:433: FutureWarning: Default solver will be changed to 'lbfgs' in 0.22. Specify a solver to silence this warning.\n",
            "  FutureWarning)\n",
            "C:\\Users\\Bharti\\Anaconda3\\envs\\myenv\\lib\\site-packages\\sklearn\\linear_model\\logistic.py:433: FutureWarning: Default solver will be changed to 'lbfgs' in 0.22. Specify a solver to silence this warning.\n",
            "  FutureWarning)\n",
            "C:\\Users\\Bharti\\Anaconda3\\envs\\myenv\\lib\\site-packages\\sklearn\\linear_model\\logistic.py:433: FutureWarning: Default solver will be changed to 'lbfgs' in 0.22. Specify a solver to silence this warning.\n",
            "  FutureWarning)\n",
            "C:\\Users\\Bharti\\Anaconda3\\envs\\myenv\\lib\\site-packages\\sklearn\\linear_model\\logistic.py:433: FutureWarning: Default solver will be changed to 'lbfgs' in 0.22. Specify a solver to silence this warning.\n",
            "  FutureWarning)\n",
            "C:\\Users\\Bharti\\Anaconda3\\envs\\myenv\\lib\\site-packages\\sklearn\\linear_model\\logistic.py:433: FutureWarning: Default solver will be changed to 'lbfgs' in 0.22. Specify a solver to silence this warning.\n",
            "  FutureWarning)\n",
            "C:\\Users\\Bharti\\Anaconda3\\envs\\myenv\\lib\\site-packages\\sklearn\\linear_model\\logistic.py:433: FutureWarning: Default solver will be changed to 'lbfgs' in 0.22. Specify a solver to silence this warning.\n",
            "  FutureWarning)\n",
            "C:\\Users\\Bharti\\Anaconda3\\envs\\myenv\\lib\\site-packages\\sklearn\\linear_model\\logistic.py:433: FutureWarning: Default solver will be changed to 'lbfgs' in 0.22. Specify a solver to silence this warning.\n",
            "  FutureWarning)\n",
            "C:\\Users\\Bharti\\Anaconda3\\envs\\myenv\\lib\\site-packages\\sklearn\\linear_model\\logistic.py:433: FutureWarning: Default solver will be changed to 'lbfgs' in 0.22. Specify a solver to silence this warning.\n",
            "  FutureWarning)\n",
            "C:\\Users\\Bharti\\Anaconda3\\envs\\myenv\\lib\\site-packages\\sklearn\\linear_model\\logistic.py:433: FutureWarning: Default solver will be changed to 'lbfgs' in 0.22. Specify a solver to silence this warning.\n",
            "  FutureWarning)\n",
            "C:\\Users\\Bharti\\Anaconda3\\envs\\myenv\\lib\\site-packages\\sklearn\\linear_model\\logistic.py:433: FutureWarning: Default solver will be changed to 'lbfgs' in 0.22. Specify a solver to silence this warning.\n",
            "  FutureWarning)\n",
            "C:\\Users\\Bharti\\Anaconda3\\envs\\myenv\\lib\\site-packages\\sklearn\\linear_model\\logistic.py:433: FutureWarning: Default solver will be changed to 'lbfgs' in 0.22. Specify a solver to silence this warning.\n",
            "  FutureWarning)\n",
            "C:\\Users\\Bharti\\Anaconda3\\envs\\myenv\\lib\\site-packages\\sklearn\\linear_model\\logistic.py:433: FutureWarning: Default solver will be changed to 'lbfgs' in 0.22. Specify a solver to silence this warning.\n",
            "  FutureWarning)\n",
            "C:\\Users\\Bharti\\Anaconda3\\envs\\myenv\\lib\\site-packages\\sklearn\\linear_model\\logistic.py:433: FutureWarning: Default solver will be changed to 'lbfgs' in 0.22. Specify a solver to silence this warning.\n",
            "  FutureWarning)\n",
            "C:\\Users\\Bharti\\Anaconda3\\envs\\myenv\\lib\\site-packages\\sklearn\\linear_model\\logistic.py:433: FutureWarning: Default solver will be changed to 'lbfgs' in 0.22. Specify a solver to silence this warning.\n",
            "  FutureWarning)\n",
            "C:\\Users\\Bharti\\Anaconda3\\envs\\myenv\\lib\\site-packages\\sklearn\\linear_model\\logistic.py:433: FutureWarning: Default solver will be changed to 'lbfgs' in 0.22. Specify a solver to silence this warning.\n",
            "  FutureWarning)\n",
            "C:\\Users\\Bharti\\Anaconda3\\envs\\myenv\\lib\\site-packages\\sklearn\\linear_model\\logistic.py:433: FutureWarning: Default solver will be changed to 'lbfgs' in 0.22. Specify a solver to silence this warning.\n",
            "  FutureWarning)\n",
            "C:\\Users\\Bharti\\Anaconda3\\envs\\myenv\\lib\\site-packages\\sklearn\\linear_model\\logistic.py:433: FutureWarning: Default solver will be changed to 'lbfgs' in 0.22. Specify a solver to silence this warning.\n",
            "  FutureWarning)\n",
            "C:\\Users\\Bharti\\Anaconda3\\envs\\myenv\\lib\\site-packages\\sklearn\\linear_model\\logistic.py:433: FutureWarning: Default solver will be changed to 'lbfgs' in 0.22. Specify a solver to silence this warning.\n",
            "  FutureWarning)\n",
            "C:\\Users\\Bharti\\Anaconda3\\envs\\myenv\\lib\\site-packages\\sklearn\\linear_model\\logistic.py:433: FutureWarning: Default solver will be changed to 'lbfgs' in 0.22. Specify a solver to silence this warning.\n",
            "  FutureWarning)\n"
          ],
          "name": "stderr"
        },
        {
          "output_type": "stream",
          "text": [
            "C:\\Users\\Bharti\\Anaconda3\\envs\\myenv\\lib\\site-packages\\sklearn\\linear_model\\logistic.py:433: FutureWarning: Default solver will be changed to 'lbfgs' in 0.22. Specify a solver to silence this warning.\n",
            "  FutureWarning)\n",
            "C:\\Users\\Bharti\\Anaconda3\\envs\\myenv\\lib\\site-packages\\sklearn\\linear_model\\logistic.py:433: FutureWarning: Default solver will be changed to 'lbfgs' in 0.22. Specify a solver to silence this warning.\n",
            "  FutureWarning)\n",
            "C:\\Users\\Bharti\\Anaconda3\\envs\\myenv\\lib\\site-packages\\sklearn\\linear_model\\logistic.py:433: FutureWarning: Default solver will be changed to 'lbfgs' in 0.22. Specify a solver to silence this warning.\n",
            "  FutureWarning)\n",
            "C:\\Users\\Bharti\\Anaconda3\\envs\\myenv\\lib\\site-packages\\sklearn\\linear_model\\logistic.py:433: FutureWarning: Default solver will be changed to 'lbfgs' in 0.22. Specify a solver to silence this warning.\n",
            "  FutureWarning)\n",
            "C:\\Users\\Bharti\\Anaconda3\\envs\\myenv\\lib\\site-packages\\sklearn\\linear_model\\logistic.py:433: FutureWarning: Default solver will be changed to 'lbfgs' in 0.22. Specify a solver to silence this warning.\n",
            "  FutureWarning)\n",
            "C:\\Users\\Bharti\\Anaconda3\\envs\\myenv\\lib\\site-packages\\sklearn\\linear_model\\logistic.py:433: FutureWarning: Default solver will be changed to 'lbfgs' in 0.22. Specify a solver to silence this warning.\n",
            "  FutureWarning)\n",
            "C:\\Users\\Bharti\\Anaconda3\\envs\\myenv\\lib\\site-packages\\sklearn\\linear_model\\logistic.py:433: FutureWarning: Default solver will be changed to 'lbfgs' in 0.22. Specify a solver to silence this warning.\n",
            "  FutureWarning)\n",
            "C:\\Users\\Bharti\\Anaconda3\\envs\\myenv\\lib\\site-packages\\sklearn\\linear_model\\logistic.py:433: FutureWarning: Default solver will be changed to 'lbfgs' in 0.22. Specify a solver to silence this warning.\n",
            "  FutureWarning)\n",
            "C:\\Users\\Bharti\\Anaconda3\\envs\\myenv\\lib\\site-packages\\sklearn\\linear_model\\logistic.py:433: FutureWarning: Default solver will be changed to 'lbfgs' in 0.22. Specify a solver to silence this warning.\n",
            "  FutureWarning)\n",
            "C:\\Users\\Bharti\\Anaconda3\\envs\\myenv\\lib\\site-packages\\sklearn\\linear_model\\logistic.py:433: FutureWarning: Default solver will be changed to 'lbfgs' in 0.22. Specify a solver to silence this warning.\n",
            "  FutureWarning)\n",
            "C:\\Users\\Bharti\\Anaconda3\\envs\\myenv\\lib\\site-packages\\sklearn\\linear_model\\logistic.py:433: FutureWarning: Default solver will be changed to 'lbfgs' in 0.22. Specify a solver to silence this warning.\n",
            "  FutureWarning)\n",
            "C:\\Users\\Bharti\\Anaconda3\\envs\\myenv\\lib\\site-packages\\sklearn\\linear_model\\logistic.py:433: FutureWarning: Default solver will be changed to 'lbfgs' in 0.22. Specify a solver to silence this warning.\n",
            "  FutureWarning)\n",
            "C:\\Users\\Bharti\\Anaconda3\\envs\\myenv\\lib\\site-packages\\sklearn\\linear_model\\logistic.py:433: FutureWarning: Default solver will be changed to 'lbfgs' in 0.22. Specify a solver to silence this warning.\n",
            "  FutureWarning)\n",
            "C:\\Users\\Bharti\\Anaconda3\\envs\\myenv\\lib\\site-packages\\sklearn\\linear_model\\logistic.py:433: FutureWarning: Default solver will be changed to 'lbfgs' in 0.22. Specify a solver to silence this warning.\n",
            "  FutureWarning)\n",
            "C:\\Users\\Bharti\\Anaconda3\\envs\\myenv\\lib\\site-packages\\sklearn\\linear_model\\logistic.py:433: FutureWarning: Default solver will be changed to 'lbfgs' in 0.22. Specify a solver to silence this warning.\n",
            "  FutureWarning)\n",
            "C:\\Users\\Bharti\\Anaconda3\\envs\\myenv\\lib\\site-packages\\sklearn\\linear_model\\logistic.py:433: FutureWarning: Default solver will be changed to 'lbfgs' in 0.22. Specify a solver to silence this warning.\n",
            "  FutureWarning)\n",
            "C:\\Users\\Bharti\\Anaconda3\\envs\\myenv\\lib\\site-packages\\sklearn\\linear_model\\logistic.py:433: FutureWarning: Default solver will be changed to 'lbfgs' in 0.22. Specify a solver to silence this warning.\n",
            "  FutureWarning)\n",
            "C:\\Users\\Bharti\\Anaconda3\\envs\\myenv\\lib\\site-packages\\sklearn\\linear_model\\logistic.py:433: FutureWarning: Default solver will be changed to 'lbfgs' in 0.22. Specify a solver to silence this warning.\n",
            "  FutureWarning)\n",
            "C:\\Users\\Bharti\\Anaconda3\\envs\\myenv\\lib\\site-packages\\sklearn\\linear_model\\logistic.py:433: FutureWarning: Default solver will be changed to 'lbfgs' in 0.22. Specify a solver to silence this warning.\n",
            "  FutureWarning)\n",
            "C:\\Users\\Bharti\\Anaconda3\\envs\\myenv\\lib\\site-packages\\sklearn\\linear_model\\logistic.py:433: FutureWarning: Default solver will be changed to 'lbfgs' in 0.22. Specify a solver to silence this warning.\n",
            "  FutureWarning)\n",
            "C:\\Users\\Bharti\\Anaconda3\\envs\\myenv\\lib\\site-packages\\sklearn\\linear_model\\logistic.py:433: FutureWarning: Default solver will be changed to 'lbfgs' in 0.22. Specify a solver to silence this warning.\n",
            "  FutureWarning)\n",
            "C:\\Users\\Bharti\\Anaconda3\\envs\\myenv\\lib\\site-packages\\sklearn\\linear_model\\logistic.py:433: FutureWarning: Default solver will be changed to 'lbfgs' in 0.22. Specify a solver to silence this warning.\n",
            "  FutureWarning)\n",
            "C:\\Users\\Bharti\\Anaconda3\\envs\\myenv\\lib\\site-packages\\sklearn\\linear_model\\logistic.py:433: FutureWarning: Default solver will be changed to 'lbfgs' in 0.22. Specify a solver to silence this warning.\n",
            "  FutureWarning)\n",
            "C:\\Users\\Bharti\\Anaconda3\\envs\\myenv\\lib\\site-packages\\sklearn\\linear_model\\logistic.py:433: FutureWarning: Default solver will be changed to 'lbfgs' in 0.22. Specify a solver to silence this warning.\n",
            "  FutureWarning)\n",
            "C:\\Users\\Bharti\\Anaconda3\\envs\\myenv\\lib\\site-packages\\sklearn\\linear_model\\logistic.py:433: FutureWarning: Default solver will be changed to 'lbfgs' in 0.22. Specify a solver to silence this warning.\n",
            "  FutureWarning)\n",
            "C:\\Users\\Bharti\\Anaconda3\\envs\\myenv\\lib\\site-packages\\sklearn\\linear_model\\logistic.py:433: FutureWarning: Default solver will be changed to 'lbfgs' in 0.22. Specify a solver to silence this warning.\n",
            "  FutureWarning)\n",
            "C:\\Users\\Bharti\\Anaconda3\\envs\\myenv\\lib\\site-packages\\sklearn\\linear_model\\logistic.py:433: FutureWarning: Default solver will be changed to 'lbfgs' in 0.22. Specify a solver to silence this warning.\n",
            "  FutureWarning)\n"
          ],
          "name": "stderr"
        },
        {
          "output_type": "stream",
          "text": [
            "tuned hpyerparameters :(best parameters)  {'C': 1.0, 'penalty': 'l2'}\n",
            "accuracy : 0.813020833333\n"
          ],
          "name": "stdout"
        }
      ]
    },
    {
      "cell_type": "markdown",
      "metadata": {
        "id": "sm9_gjRACa-g",
        "colab_type": "text"
      },
      "source": [
        "### Applying tbest hyperparameters derived above {'C': 1.0, 'penalty': 'l2'}"
      ]
    },
    {
      "cell_type": "markdown",
      "metadata": {
        "id": "bjhOdjLrBwSM",
        "colab_type": "text"
      },
      "source": [
        "# Intuition on L2 regularization\n",
        "*  In L2 regularization, regularization term is the sum of square of all feature weights as shown above in the equation.\n",
        "*  L2 regularization forces the weights to be small but does not make them zero and does non sparse solution.\n",
        "*  L2 is not robust to outliers as square terms blows up the error differences of the outliers and the regularization term tries to fix it by penalizing the weights"
      ]
    },
    {
      "cell_type": "code",
      "metadata": {
        "id": "tAEW01nGMAUC",
        "colab_type": "code",
        "outputId": "6f6b754d-5d76-40ab-987d-044eb3c07ba1",
        "colab": {}
      },
      "source": [
        "logreg2=LogisticRegression(C=1,penalty=\"l2\")\n",
        "logreg2.fit(xtrain_glove, y_train)\n"
      ],
      "execution_count": 0,
      "outputs": [
        {
          "output_type": "stream",
          "text": [
            "C:\\Users\\Bharti\\Anaconda3\\envs\\myenv\\lib\\site-packages\\sklearn\\linear_model\\logistic.py:433: FutureWarning: Default solver will be changed to 'lbfgs' in 0.22. Specify a solver to silence this warning.\n",
            "  FutureWarning)\n"
          ],
          "name": "stderr"
        },
        {
          "output_type": "execute_result",
          "data": {
            "text/plain": [
              "LogisticRegression(C=1, class_weight=None, dual=False, fit_intercept=True,\n",
              "          intercept_scaling=1, max_iter=100, multi_class='warn',\n",
              "          n_jobs=None, penalty='l2', random_state=None, solver='warn',\n",
              "          tol=0.0001, verbose=0, warm_start=False)"
            ]
          },
          "metadata": {
            "tags": []
          },
          "execution_count": 120
        }
      ]
    },
    {
      "cell_type": "code",
      "metadata": {
        "id": "J9J0K8eBMAUF",
        "colab_type": "code",
        "outputId": "75e47c0f-0eaf-4dd2-a539-40387123c433",
        "colab": {}
      },
      "source": [
        "predictions = logreg2.predict_proba(xvalid_glove)\n",
        "y_pred_LR = logreg2.predict(xvalid_glove)\n",
        "print(accuracy_score(y_test, y_pred_LR))\n",
        "y_train_pred_LR = logreg2.predict(xtrain_glove)\n",
        "print(accuracy_score(y_train, y_train_pred_LR))\n"
      ],
      "execution_count": 0,
      "outputs": [
        {
          "output_type": "stream",
          "text": [
            "0.795833333333\n",
            "0.836979166667\n"
          ],
          "name": "stdout"
        }
      ]
    },
    {
      "cell_type": "code",
      "metadata": {
        "id": "oayVtvbJMAUI",
        "colab_type": "code",
        "outputId": "98fc4012-a0a8-4d25-eb81-b5b80ad3e73a",
        "colab": {}
      },
      "source": [
        "classifier = logreg2\n",
        "\n",
        "from sklearn.model_selection import cross_val_score  \n",
        "all_accuracies = cross_val_score(estimator=classifier, X=xtrain_glove, y=y_train, cv=5)  \n",
        "\n",
        "print(all_accuracies)  \n",
        "print(all_accuracies.mean())\n",
        "print(all_accuracies.std())"
      ],
      "execution_count": 0,
      "outputs": [
        {
          "output_type": "stream",
          "text": [
            "C:\\Users\\Bharti\\Anaconda3\\envs\\myenv\\lib\\site-packages\\sklearn\\linear_model\\logistic.py:433: FutureWarning: Default solver will be changed to 'lbfgs' in 0.22. Specify a solver to silence this warning.\n",
            "  FutureWarning)\n",
            "C:\\Users\\Bharti\\Anaconda3\\envs\\myenv\\lib\\site-packages\\sklearn\\linear_model\\logistic.py:433: FutureWarning: Default solver will be changed to 'lbfgs' in 0.22. Specify a solver to silence this warning.\n",
            "  FutureWarning)\n",
            "C:\\Users\\Bharti\\Anaconda3\\envs\\myenv\\lib\\site-packages\\sklearn\\linear_model\\logistic.py:433: FutureWarning: Default solver will be changed to 'lbfgs' in 0.22. Specify a solver to silence this warning.\n",
            "  FutureWarning)\n",
            "C:\\Users\\Bharti\\Anaconda3\\envs\\myenv\\lib\\site-packages\\sklearn\\linear_model\\logistic.py:433: FutureWarning: Default solver will be changed to 'lbfgs' in 0.22. Specify a solver to silence this warning.\n",
            "  FutureWarning)\n",
            "C:\\Users\\Bharti\\Anaconda3\\envs\\myenv\\lib\\site-packages\\sklearn\\linear_model\\logistic.py:433: FutureWarning: Default solver will be changed to 'lbfgs' in 0.22. Specify a solver to silence this warning.\n",
            "  FutureWarning)\n"
          ],
          "name": "stderr"
        },
        {
          "output_type": "stream",
          "text": [
            "[ 0.78961039  0.83072917  0.80729167  0.80729167  0.81984334]\n",
            "0.810953246329\n",
            "0.0138018309731\n"
          ],
          "name": "stdout"
        }
      ]
    },
    {
      "cell_type": "markdown",
      "metadata": {
        "id": "PEFmC3miCpIt",
        "colab_type": "text"
      },
      "source": [
        "# Evaluating metrics"
      ]
    },
    {
      "cell_type": "markdown",
      "metadata": {
        "colab_type": "text",
        "id": "6TknvwXQBkEe"
      },
      "source": [
        "## Confusion Matrix\n",
        "### A confusion matrix is a table that is often used to describe the performance of a classification model on a set of test data for which the true values are known. It allows the visualization of the performance of an algorithm."
      ]
    },
    {
      "cell_type": "markdown",
      "metadata": {
        "colab_type": "text",
        "id": "xfrJVwY8BkEe"
      },
      "source": [
        "## ROC-AUC Curve\n",
        "### AUC - ROC curve is a performance measurement for classification problem at various thresholds settings. ROC is a probability curve and AUC represents degree or measure of separability. It tells how much model is capable of distinguishing between classes."
      ]
    },
    {
      "cell_type": "code",
      "metadata": {
        "id": "tUumU37fMAUL",
        "colab_type": "code",
        "outputId": "48892182-448d-4b8f-be2f-e1209c202b09",
        "colab": {}
      },
      "source": [
        "from sklearn.metrics import accuracy_score\n",
        "confusion_matrix=metrics.confusion_matrix( y_test, y_pred_LR)\n",
        "confusion_matrix\n",
        "auc_roc=metrics.roc_auc_score(y_test,  y_pred_LR)\n",
        "auc_roc\n",
        "\n",
        "from sklearn.metrics import roc_curve, auc\n",
        "false_positive_rate, true_positive_rate, thresholds = roc_curve(y_test,  y_pred_LR)\n",
        "roc_auc = auc(false_positive_rate, true_positive_rate)\n",
        "roc_auc"
      ],
      "execution_count": 0,
      "outputs": [
        {
          "output_type": "execute_result",
          "data": {
            "text/plain": [
              "0.79581242729908508"
            ]
          },
          "metadata": {
            "tags": []
          },
          "execution_count": 123
        }
      ]
    },
    {
      "cell_type": "code",
      "metadata": {
        "id": "J0E2Vvx9MAUO",
        "colab_type": "code",
        "outputId": "c706f75c-aff2-4a5f-dd70-215ffaf4026b",
        "colab": {}
      },
      "source": [
        "import matplotlib.pyplot as plt\n",
        "plt.figure(figsize=(11,11))\n",
        "plt.title('Receiver Operating Characteristic')\n",
        "plt.plot(false_positive_rate,true_positive_rate, color='red',label = 'AUC = %0.2f' % roc_auc)\n",
        "plt.legend(loc = 'lower right')\n",
        "plt.plot([0, 1], [0, 1],linestyle='--')\n",
        "plt.axis('tight')\n",
        "plt.ylabel('True Positive Rate')\n",
        "plt.xlabel('False Positive Rate')"
      ],
      "execution_count": 0,
      "outputs": [
        {
          "output_type": "execute_result",
          "data": {
            "text/plain": [
              "<matplotlib.text.Text at 0x1c004114e80>"
            ]
          },
          "metadata": {
            "tags": []
          },
          "execution_count": 124
        },
        {
          "output_type": "display_data",
          "data": {
            "image/png": "[encoded data removed]",
            "text/plain": [
              "<matplotlib.figure.Figure at 0x1c0644c8400>"
            ]
          },
          "metadata": {
            "tags": []
          }
        }
      ]
    },
    {
      "cell_type": "markdown",
      "metadata": {
        "colab_type": "text",
        "id": "uHwJDbs_BkEh"
      },
      "source": [
        "## Performing Grid Search for random forest classifier"
      ]
    },
    {
      "cell_type": "code",
      "metadata": {
        "id": "xg3jO1SMMAUQ",
        "colab_type": "code",
        "outputId": "23726bce-b93b-4aed-a6e5-d2fa86864425",
        "colab": {}
      },
      "source": [
        "# Grid search cross validation for Random Forest\n",
        "\n",
        "grid_param = {  \n",
        "    'n_estimators': [100, 300, 500, 800, 1000],\n",
        "    'criterion': ['gini', 'entropy'],\n",
        "    'bootstrap': [True, False]\n",
        "}\n",
        "\n",
        "grid_sr = GridSearchCV(estimator=rf,  \n",
        "                     param_grid=grid_param,\n",
        "                     scoring='accuracy',\n",
        "                     cv=5,\n",
        "                     n_jobs=-1)\n",
        "grid_sr.fit(xtrain_glove, y_train)\n"
      ],
      "execution_count": 0,
      "outputs": [
        {
          "output_type": "execute_result",
          "data": {
            "text/plain": [
              "GridSearchCV(cv=5, error_score='raise-deprecating',\n",
              "       estimator=RandomForestClassifier(bootstrap=True, class_weight=None, criterion='gini',\n",
              "            max_depth=None, max_features='auto', max_leaf_nodes=None,\n",
              "            min_impurity_decrease=0.0, min_impurity_split=None,\n",
              "            min_samples_leaf=1, min_samples_split=2,\n",
              "            min_weight_fraction_leaf=0.0, n_estimators=10, n_jobs=None,\n",
              "            oob_score=False, random_state=42, verbose=0, warm_start=False),\n",
              "       fit_params=None, iid='warn', n_jobs=-1,\n",
              "       param_grid={'n_estimators': [100, 300, 500, 800, 1000], 'criterion': ['gini', 'entropy'], 'bootstrap': [True, False]},\n",
              "       pre_dispatch='2*n_jobs', refit=True, return_train_score='warn',\n",
              "       scoring='accuracy', verbose=0)"
            ]
          },
          "metadata": {
            "tags": []
          },
          "execution_count": 125
        }
      ]
    },
    {
      "cell_type": "markdown",
      "metadata": {
        "id": "MZwK2_6zaA8K",
        "colab_type": "text"
      },
      "source": [
        "### Fitting the best hyperparams obtained from the Grid Search into the random forest algorithm"
      ]
    },
    {
      "cell_type": "code",
      "metadata": {
        "id": "ejQpZb2IMAUT",
        "colab_type": "code",
        "outputId": "3038de90-1b1a-4f5d-c49c-9bf5cb63b859",
        "colab": {}
      },
      "source": [
        "best_parameters = grid_sr.best_params_  \n",
        "print(best_parameters) \n",
        "\n",
        "best_result = grid_sr.best_score_  \n",
        "print(best_result)  "
      ],
      "execution_count": 0,
      "outputs": [
        {
          "output_type": "stream",
          "text": [
            "{'bootstrap': False, 'criterion': 'entropy', 'n_estimators': 800}\n",
            "0.800520833333\n"
          ],
          "name": "stdout"
        }
      ]
    },
    {
      "cell_type": "code",
      "metadata": {
        "id": "pHgaR8eyMAUW",
        "colab_type": "code",
        "outputId": "0ae649c2-4875-4688-f98b-98f18492e54d",
        "colab": {}
      },
      "source": [
        "rf2 = RandomForestClassifier(bootstrap=False, n_estimators= 300, criterion='gini')\n",
        "rf2.fit(xtrain_glove, y_train)"
      ],
      "execution_count": 0,
      "outputs": [
        {
          "output_type": "execute_result",
          "data": {
            "text/plain": [
              "RandomForestClassifier(bootstrap=False, class_weight=None, criterion='gini',\n",
              "            max_depth=None, max_features='auto', max_leaf_nodes=None,\n",
              "            min_impurity_decrease=0.0, min_impurity_split=None,\n",
              "            min_samples_leaf=1, min_samples_split=2,\n",
              "            min_weight_fraction_leaf=0.0, n_estimators=300, n_jobs=None,\n",
              "            oob_score=False, random_state=None, verbose=0,\n",
              "            warm_start=False)"
            ]
          },
          "metadata": {
            "tags": []
          },
          "execution_count": 127
        }
      ]
    },
    {
      "cell_type": "code",
      "metadata": {
        "id": "6KIIbUS9MAUb",
        "colab_type": "code",
        "outputId": "120fbd91-1358-497a-f9c7-0fbb0f5a78c8",
        "colab": {}
      },
      "source": [
        "predictions = rf2.predict_proba(xvalid_glove)\n",
        "y_pred_nv = rf2.predict(xvalid_glove)\n",
        "print(accuracy_score(y_test, y_pred_nv))\n",
        "y_train_pred_nv = rf2.predict(xtrain_glove)\n",
        "print(accuracy_score(y_train, y_train_pred_nv))"
      ],
      "execution_count": 0,
      "outputs": [
        {
          "output_type": "stream",
          "text": [
            "0.795833333333\n",
            "0.9984375\n"
          ],
          "name": "stdout"
        }
      ]
    },
    {
      "cell_type": "code",
      "metadata": {
        "id": "vhzrJ-1FMAUd",
        "colab_type": "code",
        "outputId": "b09ba111-8b2d-43e2-af85-57fe7d930413",
        "colab": {}
      },
      "source": [
        "classifier = rf2\n",
        "\n",
        "from sklearn.model_selection import cross_val_score  \n",
        "all_accuracies = cross_val_score(estimator=classifier, X=xtrain_glove, y=y_train, cv=5)  \n",
        "\n",
        "print(all_accuracies)  \n",
        "print(all_accuracies.mean())\n",
        "print(all_accuracies.std())"
      ],
      "execution_count": 0,
      "outputs": [
        {
          "output_type": "stream",
          "text": [
            "[ 0.78181818  0.82291667  0.78125     0.7890625   0.77545692]\n",
            "0.790100853509\n",
            "0.0169666781989\n"
          ],
          "name": "stdout"
        }
      ]
    },
    {
      "cell_type": "markdown",
      "metadata": {
        "id": "rq2VHJx7DqwK",
        "colab_type": "text"
      },
      "source": [
        "## Model evaluation"
      ]
    },
    {
      "cell_type": "code",
      "metadata": {
        "id": "6kXpKc5fMAUh",
        "colab_type": "code",
        "outputId": "567281a5-2d70-43de-edc1-658516d00a16",
        "colab": {}
      },
      "source": [
        "###### Comparisions Models ##########\n",
        "\n",
        "models = [\n",
        "    RandomForestClassifier(bootstrap=False, n_estimators= 300, criterion='gini'),\n",
        "    xgb.XGBClassifier(nthread=10, silent=False),\n",
        "    LogisticRegression(C=1,penalty=\"l2\"),\n",
        "]\n",
        "CV = 5\n",
        "cv_df = pd.DataFrame(index=range(CV * len(models)))\n",
        "entries = []\n",
        "for model in models:\n",
        "  model_name = model.__class__.__name__\n",
        "  accuracies = cross_val_score(model, xtrain_glove, y_train ,scoring='accuracy', cv=CV)\n",
        "  for fold_idx, accuracy in enumerate(accuracies):\n",
        "    entries.append((model_name, fold_idx, accuracy))\n",
        "cv_df = pd.DataFrame(entries, columns=['model_name', 'fold_idx', 'accuracy'])"
      ],
      "execution_count": 0,
      "outputs": [
        {
          "output_type": "stream",
          "text": [
            "C:\\Users\\Bharti\\Anaconda3\\envs\\myenv\\lib\\site-packages\\sklearn\\linear_model\\logistic.py:433: FutureWarning: Default solver will be changed to 'lbfgs' in 0.22. Specify a solver to silence this warning.\n",
            "  FutureWarning)\n",
            "C:\\Users\\Bharti\\Anaconda3\\envs\\myenv\\lib\\site-packages\\sklearn\\linear_model\\logistic.py:433: FutureWarning: Default solver will be changed to 'lbfgs' in 0.22. Specify a solver to silence this warning.\n",
            "  FutureWarning)\n",
            "C:\\Users\\Bharti\\Anaconda3\\envs\\myenv\\lib\\site-packages\\sklearn\\linear_model\\logistic.py:433: FutureWarning: Default solver will be changed to 'lbfgs' in 0.22. Specify a solver to silence this warning.\n",
            "  FutureWarning)\n",
            "C:\\Users\\Bharti\\Anaconda3\\envs\\myenv\\lib\\site-packages\\sklearn\\linear_model\\logistic.py:433: FutureWarning: Default solver will be changed to 'lbfgs' in 0.22. Specify a solver to silence this warning.\n",
            "  FutureWarning)\n",
            "C:\\Users\\Bharti\\Anaconda3\\envs\\myenv\\lib\\site-packages\\sklearn\\linear_model\\logistic.py:433: FutureWarning: Default solver will be changed to 'lbfgs' in 0.22. Specify a solver to silence this warning.\n",
            "  FutureWarning)\n"
          ],
          "name": "stderr"
        }
      ]
    },
    {
      "cell_type": "markdown",
      "metadata": {
        "colab_type": "text",
        "id": "CwIvEWN2BkEy"
      },
      "source": [
        "## Box plot\n",
        "A box plot shows the distribution of quantitative data in a way that facilitates comparisons between variables or across levels of a categorical variable"
      ]
    },
    {
      "cell_type": "code",
      "metadata": {
        "id": "VAoGT3tUMAUk",
        "colab_type": "code",
        "outputId": "4cf10f1b-c1c4-49a9-85a6-8ce3aa022304",
        "colab": {}
      },
      "source": [
        "import seaborn as sns\n",
        "plt.figure(figsize=(14, 6))\n",
        "sns.boxplot(x='model_name', y='accuracy', data=cv_df)\n",
        "sns.stripplot(x='model_name', y='accuracy', data=cv_df, \n",
        "              size=8, jitter=True, edgecolor=\"gray\", linewidth=2)\n",
        "plt.show()"
      ],
      "execution_count": 0,
      "outputs": [
        {
          "output_type": "display_data",
          "data": {
            "image/png": "[encoded data removed]",
            "text/plain": [
              "<matplotlib.figure.Figure at 0x1c0042c76d8>"
            ]
          },
          "metadata": {
            "tags": []
          }
        }
      ]
    },
    {
      "cell_type": "markdown",
      "metadata": {
        "id": "rx3b5Q7SD6W5",
        "colab_type": "text"
      },
      "source": [
        "Comparing the accuracies of various models we so far trained on"
      ]
    },
    {
      "cell_type": "code",
      "metadata": {
        "id": "LOlv0Aa1MAUn",
        "colab_type": "code",
        "outputId": "f4170b2f-b298-4864-e46a-71e11c1eca24",
        "colab": {}
      },
      "source": [
        "cv_df.groupby('model_name').accuracy.mean()"
      ],
      "execution_count": 0,
      "outputs": [
        {
          "output_type": "execute_result",
          "data": {
            "text/plain": [
              "model_name\n",
              "LogisticRegression        0.810953\n",
              "RandomForestClassifier    0.793233\n",
              "XGBClassifier             0.783862\n",
              "Name: accuracy, dtype: float64"
            ]
          },
          "metadata": {
            "tags": []
          },
          "execution_count": 132
        }
      ]
    },
    {
      "cell_type": "code",
      "metadata": {
        "id": "bUiV9kfPMAUr",
        "colab_type": "code",
        "colab": {}
      },
      "source": [
        "x_train = pd.read_csv('x_train.csv')\n",
        "y_train = pd.read_csv('y_train.csv')\n",
        "df=pd.concat([x_train,y_train], axis=1)\n",
        "df['Sentiment'] = np.where(df['is_positive_sentiment']== 1, 'Positive', 'Negative')"
      ],
      "execution_count": 0,
      "outputs": []
    },
    {
      "cell_type": "code",
      "metadata": {
        "id": "MkeQcC9-MAUt",
        "colab_type": "code",
        "outputId": "ccb43738-0a61-4cc1-ada3-5f80790e88f6",
        "colab": {}
      },
      "source": [
        "df.head()"
      ],
      "execution_count": 0,
      "outputs": [
        {
          "output_type": "execute_result",
          "data": {
            "text/html": [
              "<div>\n",
              "<style>\n",
              "    .dataframe thead tr:only-child th {\n",
              "        text-align: right;\n",
              "    }\n",
              "\n",
              "    .dataframe thead th {\n",
              "        text-align: left;\n",
              "    }\n",
              "\n",
              "    .dataframe tbody tr th {\n",
              "        vertical-align: top;\n",
              "    }\n",
              "</style>\n",
              "<table border=\"1\" class=\"dataframe\">\n",
              "  <thead>\n",
              "    <tr style=\"text-align: right;\">\n",
              "      <th></th>\n",
              "      <th>website_name</th>\n",
              "      <th>text</th>\n",
              "      <th>is_positive_sentiment</th>\n",
              "      <th>Sentiment</th>\n",
              "    </tr>\n",
              "  </thead>\n",
              "  <tbody>\n",
              "    <tr>\n",
              "      <th>0</th>\n",
              "      <td>amazon</td>\n",
              "      <td>Oh and I forgot to also mention the weird colo...</td>\n",
              "      <td>0</td>\n",
              "      <td>Negative</td>\n",
              "    </tr>\n",
              "    <tr>\n",
              "      <th>1</th>\n",
              "      <td>amazon</td>\n",
              "      <td>THAT one didn't work either.</td>\n",
              "      <td>0</td>\n",
              "      <td>Negative</td>\n",
              "    </tr>\n",
              "    <tr>\n",
              "      <th>2</th>\n",
              "      <td>amazon</td>\n",
              "      <td>Waste of 13 bucks.</td>\n",
              "      <td>0</td>\n",
              "      <td>Negative</td>\n",
              "    </tr>\n",
              "    <tr>\n",
              "      <th>3</th>\n",
              "      <td>amazon</td>\n",
              "      <td>Product is useless, since it does not have eno...</td>\n",
              "      <td>0</td>\n",
              "      <td>Negative</td>\n",
              "    </tr>\n",
              "    <tr>\n",
              "      <th>4</th>\n",
              "      <td>amazon</td>\n",
              "      <td>None of the three sizes they sent with the hea...</td>\n",
              "      <td>0</td>\n",
              "      <td>Negative</td>\n",
              "    </tr>\n",
              "  </tbody>\n",
              "</table>\n",
              "</div>"
            ],
            "text/plain": [
              "  website_name                                               text  \\\n",
              "0       amazon  Oh and I forgot to also mention the weird colo...   \n",
              "1       amazon                       THAT one didn't work either.   \n",
              "2       amazon                                 Waste of 13 bucks.   \n",
              "3       amazon  Product is useless, since it does not have eno...   \n",
              "4       amazon  None of the three sizes they sent with the hea...   \n",
              "\n",
              "   is_positive_sentiment Sentiment  \n",
              "0                      0  Negative  \n",
              "1                      0  Negative  \n",
              "2                      0  Negative  \n",
              "3                      0  Negative  \n",
              "4                      0  Negative  "
            ]
          },
          "metadata": {
            "tags": []
          },
          "execution_count": 134
        }
      ]
    },
    {
      "cell_type": "code",
      "metadata": {
        "id": "g5LpGPKqMAU0",
        "colab_type": "code",
        "outputId": "9be0aabe-7648-4a04-a28d-fedc6e3facfd",
        "colab": {}
      },
      "source": [
        "from io import StringIO\n",
        "col = ['Sentiment', 'text']\n",
        "df = df[col]\n",
        "df = df[pd.notnull(df['text'])]\n",
        "df.columns = ['Sentiment', 'text']\n",
        "df['Sentiment_id'] = df['Sentiment'].factorize()[0]\n",
        "Sentiment_id_df = df[['Sentiment', 'Sentiment_id']].drop_duplicates().sort_values('Sentiment_id')\n",
        "Sentiment_to_id = dict(Sentiment_id_df.values)\n",
        "id_to_Sentiment = dict(Sentiment_id_df[['Sentiment_id', 'Sentiment']].values)\n",
        "df.head()"
      ],
      "execution_count": 0,
      "outputs": [
        {
          "output_type": "execute_result",
          "data": {
            "text/html": [
              "<div>\n",
              "<style>\n",
              "    .dataframe thead tr:only-child th {\n",
              "        text-align: right;\n",
              "    }\n",
              "\n",
              "    .dataframe thead th {\n",
              "        text-align: left;\n",
              "    }\n",
              "\n",
              "    .dataframe tbody tr th {\n",
              "        vertical-align: top;\n",
              "    }\n",
              "</style>\n",
              "<table border=\"1\" class=\"dataframe\">\n",
              "  <thead>\n",
              "    <tr style=\"text-align: right;\">\n",
              "      <th></th>\n",
              "      <th>Sentiment</th>\n",
              "      <th>text</th>\n",
              "      <th>Sentiment_id</th>\n",
              "    </tr>\n",
              "  </thead>\n",
              "  <tbody>\n",
              "    <tr>\n",
              "      <th>0</th>\n",
              "      <td>Negative</td>\n",
              "      <td>Oh and I forgot to also mention the weird colo...</td>\n",
              "      <td>0</td>\n",
              "    </tr>\n",
              "    <tr>\n",
              "      <th>1</th>\n",
              "      <td>Negative</td>\n",
              "      <td>THAT one didn't work either.</td>\n",
              "      <td>0</td>\n",
              "    </tr>\n",
              "    <tr>\n",
              "      <th>2</th>\n",
              "      <td>Negative</td>\n",
              "      <td>Waste of 13 bucks.</td>\n",
              "      <td>0</td>\n",
              "    </tr>\n",
              "    <tr>\n",
              "      <th>3</th>\n",
              "      <td>Negative</td>\n",
              "      <td>Product is useless, since it does not have eno...</td>\n",
              "      <td>0</td>\n",
              "    </tr>\n",
              "    <tr>\n",
              "      <th>4</th>\n",
              "      <td>Negative</td>\n",
              "      <td>None of the three sizes they sent with the hea...</td>\n",
              "      <td>0</td>\n",
              "    </tr>\n",
              "  </tbody>\n",
              "</table>\n",
              "</div>"
            ],
            "text/plain": [
              "  Sentiment                                               text  Sentiment_id\n",
              "0  Negative  Oh and I forgot to also mention the weird colo...             0\n",
              "1  Negative                       THAT one didn't work either.             0\n",
              "2  Negative                                 Waste of 13 bucks.             0\n",
              "3  Negative  Product is useless, since it does not have eno...             0\n",
              "4  Negative  None of the three sizes they sent with the hea...             0"
            ]
          },
          "metadata": {
            "tags": []
          },
          "execution_count": 135
        }
      ]
    },
    {
      "cell_type": "code",
      "metadata": {
        "id": "nGJJdq6LMAU2",
        "colab_type": "code",
        "outputId": "2b1d8b8a-114a-4c71-926e-1239e5354c84",
        "colab": {}
      },
      "source": [
        "x_train = pd.read_csv('x_train.csv')\n",
        "xtrain_glove_whole = [sent2vec(x) for x in tqdm(x_train['text'])]\n",
        "xtrain_glove_whole = np.array(xtrain_glove_whole)\n"
      ],
      "execution_count": 0,
      "outputs": [
        {
          "output_type": "stream",
          "text": [
            "100%|████████████████████████████████████████████████████████████████████████████| 2400/2400 [00:00<00:00, 4393.18it/s]\n"
          ],
          "name": "stderr"
        }
      ]
    },
    {
      "cell_type": "code",
      "metadata": {
        "id": "8T0ZWNtDMAU7",
        "colab_type": "code",
        "colab": {}
      },
      "source": [
        "y_train = pd.read_csv('y_train.csv')\n",
        "y = y_train['is_positive_sentiment']\n",
        "\n"
      ],
      "execution_count": 0,
      "outputs": []
    },
    {
      "cell_type": "markdown",
      "metadata": {
        "id": "CYe9hrX-WVsP",
        "colab_type": "text"
      },
      "source": [
        "# Heatmaps\n",
        "### A heatmap is a two-dimensional graphical representation of data where the individual values that are contained in a matrix are represented as colors. "
      ]
    },
    {
      "cell_type": "code",
      "metadata": {
        "id": "r3qegfPzMAU_",
        "colab_type": "code",
        "outputId": "19e6d5d4-33ed-4414-a796-ed35727b8bef",
        "colab": {}
      },
      "source": [
        "######Model Evaluation\n",
        "model =LogisticRegression()\n",
        "X_train, X_test, y_train, y_test, indices_train, indices_test = train_test_split( xtrain_glove_whole, y, x_train.index, test_size=0.33, random_state=0)\n",
        "model.fit(X_train, y_train)\n",
        "y_pred = model.predict(X_test)\n",
        "from sklearn.metrics import confusion_matrix\n",
        "conf_mat = confusion_matrix(y_test, y_pred)\n",
        "fig, ax = plt.subplots(figsize=(10,10))\n",
        "sns.heatmap(conf_mat, annot=True, fmt='d',xticklabels=Sentiment_id_df.Sentiment.values, yticklabels=Sentiment_id_df.Sentiment.values)\n",
        "\n",
        "####,xticklabels=category_id_df.Product.values, yticklabels=category_id_df.Product.values)\n",
        "plt.ylabel('Actual')\n",
        "plt.xlabel('Predicted')\n",
        "plt.show()"
      ],
      "execution_count": 0,
      "outputs": [
        {
          "output_type": "stream",
          "text": [
            "C:\\Users\\Bharti\\Anaconda3\\envs\\myenv\\lib\\site-packages\\sklearn\\linear_model\\logistic.py:433: FutureWarning: Default solver will be changed to 'lbfgs' in 0.22. Specify a solver to silence this warning.\n",
            "  FutureWarning)\n"
          ],
          "name": "stderr"
        },
        {
          "output_type": "display_data",
          "data": {
            "image/png": "[encoded data removed]",
            "text/plain": [
              "<matplotlib.figure.Figure at 0x1c0727fba20>"
            ]
          },
          "metadata": {
            "tags": []
          }
        }
      ]
    },
    {
      "cell_type": "markdown",
      "metadata": {
        "id": "MfmJeFJ0WwoS",
        "colab_type": "text"
      },
      "source": [
        "## Error Analysis\n",
        "We now are going to print out the values that were predicted incorrectly and conf_mat showed more that 10 point deviation. "
      ]
    },
    {
      "cell_type": "markdown",
      "metadata": {
        "id": "29LBVCD7XFZb",
        "colab_type": "text"
      },
      "source": [
        "### we will print out all the negatives makred positve and all positives marked negative below"
      ]
    },
    {
      "cell_type": "code",
      "metadata": {
        "id": "JfWFxnutMAVB",
        "colab_type": "code",
        "outputId": "094904e2-d959-4d81-eba8-0d5dc536c323",
        "colab": {}
      },
      "source": [
        "from IPython.display import display\n",
        "for predicted in Sentiment_id_df.Sentiment_id:\n",
        "  for actual in Sentiment_id_df.Sentiment_id:\n",
        "    if predicted != actual and conf_mat[actual, predicted] >= 10:\n",
        "      print(\"'{}' predicted as '{}' : {} examples.\".format(id_to_Sentiment[actual], id_to_Sentiment[predicted], conf_mat[actual, predicted]))\n",
        "      display(df.loc[indices_test[(y_test == actual) & (y_pred == predicted)]][['Sentiment', 'text']])\n",
        "      print('')"
      ],
      "execution_count": 0,
      "outputs": [
        {
          "output_type": "stream",
          "text": [
            "'Positive' predicted as 'Negative' : 86 examples.\n"
          ],
          "name": "stdout"
        },
        {
          "output_type": "display_data",
          "data": {
            "text/html": [
              "<div>\n",
              "<style>\n",
              "    .dataframe thead tr:only-child th {\n",
              "        text-align: right;\n",
              "    }\n",
              "\n",
              "    .dataframe thead th {\n",
              "        text-align: left;\n",
              "    }\n",
              "\n",
              "    .dataframe tbody tr th {\n",
              "        vertical-align: top;\n",
              "    }\n",
              "</style>\n",
              "<table border=\"1\" class=\"dataframe\">\n",
              "  <thead>\n",
              "    <tr style=\"text-align: right;\">\n",
              "      <th></th>\n",
              "      <th>Sentiment</th>\n",
              "      <th>text</th>\n",
              "    </tr>\n",
              "  </thead>\n",
              "  <tbody>\n",
              "    <tr>\n",
              "      <th>657</th>\n",
              "      <td>Positive</td>\n",
              "      <td>In the span of an hour, I had two people excla...</td>\n",
              "    </tr>\n",
              "    <tr>\n",
              "      <th>453</th>\n",
              "      <td>Positive</td>\n",
              "      <td>Overall, I would recommend this phone over the...</td>\n",
              "    </tr>\n",
              "    <tr>\n",
              "      <th>757</th>\n",
              "      <td>Positive</td>\n",
              "      <td>Otherwise, easy to install and use, clear sound.</td>\n",
              "    </tr>\n",
              "    <tr>\n",
              "      <th>1252</th>\n",
              "      <td>Positive</td>\n",
              "      <td>Lovely little thriller from Hitchcock, with lo...</td>\n",
              "    </tr>\n",
              "    <tr>\n",
              "      <th>518</th>\n",
              "      <td>Positive</td>\n",
              "      <td>Someone shouldve invented this sooner.</td>\n",
              "    </tr>\n",
              "    <tr>\n",
              "      <th>2083</th>\n",
              "      <td>Positive</td>\n",
              "      <td>We'd definitely go back here again.</td>\n",
              "    </tr>\n",
              "    <tr>\n",
              "      <th>461</th>\n",
              "      <td>Positive</td>\n",
              "      <td>It seems completely secure, both holding on to...</td>\n",
              "    </tr>\n",
              "    <tr>\n",
              "      <th>1205</th>\n",
              "      <td>Positive</td>\n",
              "      <td>Okay, I like to consider myself a fair critic,...</td>\n",
              "    </tr>\n",
              "    <tr>\n",
              "      <th>775</th>\n",
              "      <td>Positive</td>\n",
              "      <td>I would recommend it.</td>\n",
              "    </tr>\n",
              "    <tr>\n",
              "      <th>666</th>\n",
              "      <td>Positive</td>\n",
              "      <td>I did not have any problem with this item and ...</td>\n",
              "    </tr>\n",
              "    <tr>\n",
              "      <th>1486</th>\n",
              "      <td>Positive</td>\n",
              "      <td>Definitely worth checking out.</td>\n",
              "    </tr>\n",
              "    <tr>\n",
              "      <th>2225</th>\n",
              "      <td>Positive</td>\n",
              "      <td>The lighting is just dark enough to set the mood.</td>\n",
              "    </tr>\n",
              "    <tr>\n",
              "      <th>402</th>\n",
              "      <td>Positive</td>\n",
              "      <td>The phone loads super!</td>\n",
              "    </tr>\n",
              "    <tr>\n",
              "      <th>1354</th>\n",
              "      <td>Positive</td>\n",
              "      <td>Go rent it.</td>\n",
              "    </tr>\n",
              "    <tr>\n",
              "      <th>674</th>\n",
              "      <td>Positive</td>\n",
              "      <td>I was able to do voice dialing in the car with...</td>\n",
              "    </tr>\n",
              "    <tr>\n",
              "      <th>1498</th>\n",
              "      <td>Positive</td>\n",
              "      <td>:) Anyway, the plot flowed smoothly and the ma...</td>\n",
              "    </tr>\n",
              "    <tr>\n",
              "      <th>792</th>\n",
              "      <td>Positive</td>\n",
              "      <td>I like the fact that it rests lightly against ...</td>\n",
              "    </tr>\n",
              "    <tr>\n",
              "      <th>2104</th>\n",
              "      <td>Positive</td>\n",
              "      <td>No complaints!</td>\n",
              "    </tr>\n",
              "    <tr>\n",
              "      <th>1511</th>\n",
              "      <td>Positive</td>\n",
              "      <td>A world better than 95% of the garbage in the ...</td>\n",
              "    </tr>\n",
              "    <tr>\n",
              "      <th>1295</th>\n",
              "      <td>Positive</td>\n",
              "      <td>You won't forget this movie!</td>\n",
              "    </tr>\n",
              "    <tr>\n",
              "      <th>2185</th>\n",
              "      <td>Positive</td>\n",
              "      <td>I love that they put their food in nice plasti...</td>\n",
              "    </tr>\n",
              "    <tr>\n",
              "      <th>440</th>\n",
              "      <td>Positive</td>\n",
              "      <td>The battery is working well as a replacement f...</td>\n",
              "    </tr>\n",
              "    <tr>\n",
              "      <th>567</th>\n",
              "      <td>Positive</td>\n",
              "      <td>Only had this a month but it's worked flawless...</td>\n",
              "    </tr>\n",
              "    <tr>\n",
              "      <th>655</th>\n",
              "      <td>Positive</td>\n",
              "      <td>Will order from them again!</td>\n",
              "    </tr>\n",
              "    <tr>\n",
              "      <th>477</th>\n",
              "      <td>Positive</td>\n",
              "      <td>Virgin Wireless rocks and so does this cheap l...</td>\n",
              "    </tr>\n",
              "    <tr>\n",
              "      <th>562</th>\n",
              "      <td>Positive</td>\n",
              "      <td>Much less than the jawbone I was going to repl...</td>\n",
              "    </tr>\n",
              "    <tr>\n",
              "      <th>682</th>\n",
              "      <td>Positive</td>\n",
              "      <td>Appears to actually outperform the original ba...</td>\n",
              "    </tr>\n",
              "    <tr>\n",
              "      <th>1534</th>\n",
              "      <td>Positive</td>\n",
              "      <td>10/10</td>\n",
              "    </tr>\n",
              "    <tr>\n",
              "      <th>568</th>\n",
              "      <td>Positive</td>\n",
              "      <td>Also its slim enough to fit into my alarm cloc...</td>\n",
              "    </tr>\n",
              "    <tr>\n",
              "      <th>602</th>\n",
              "      <td>Positive</td>\n",
              "      <td>much better than the hard plastic cases.</td>\n",
              "    </tr>\n",
              "    <tr>\n",
              "      <th>...</th>\n",
              "      <td>...</td>\n",
              "      <td>...</td>\n",
              "    </tr>\n",
              "    <tr>\n",
              "      <th>2195</th>\n",
              "      <td>Positive</td>\n",
              "      <td>Plus, it's only 8 bucks.</td>\n",
              "    </tr>\n",
              "    <tr>\n",
              "      <th>2272</th>\n",
              "      <td>Positive</td>\n",
              "      <td>Pretty cool I would say.</td>\n",
              "    </tr>\n",
              "    <tr>\n",
              "      <th>621</th>\n",
              "      <td>Positive</td>\n",
              "      <td>Very prompt service.</td>\n",
              "    </tr>\n",
              "    <tr>\n",
              "      <th>512</th>\n",
              "      <td>Positive</td>\n",
              "      <td>!I definitly recommend!!</td>\n",
              "    </tr>\n",
              "    <tr>\n",
              "      <th>1285</th>\n",
              "      <td>Positive</td>\n",
              "      <td>The last 15 minutes of movie are also not bad ...</td>\n",
              "    </tr>\n",
              "    <tr>\n",
              "      <th>553</th>\n",
              "      <td>Positive</td>\n",
              "      <td>It is light, easy to use, and has very clear r...</td>\n",
              "    </tr>\n",
              "    <tr>\n",
              "      <th>663</th>\n",
              "      <td>Positive</td>\n",
              "      <td>Very satisifed with that.</td>\n",
              "    </tr>\n",
              "    <tr>\n",
              "      <th>521</th>\n",
              "      <td>Positive</td>\n",
              "      <td>It quit working after I'd used it for about 18...</td>\n",
              "    </tr>\n",
              "    <tr>\n",
              "      <th>619</th>\n",
              "      <td>Positive</td>\n",
              "      <td>Bluetooth range is good - a few days ago I lef...</td>\n",
              "    </tr>\n",
              "    <tr>\n",
              "      <th>1503</th>\n",
              "      <td>Positive</td>\n",
              "      <td>Overall I rate this movie a 10 out of a 1-10 s...</td>\n",
              "    </tr>\n",
              "    <tr>\n",
              "      <th>1459</th>\n",
              "      <td>Positive</td>\n",
              "      <td>There's barely a boring moment in the film and...</td>\n",
              "    </tr>\n",
              "    <tr>\n",
              "      <th>491</th>\n",
              "      <td>Positive</td>\n",
              "      <td>Arrived quickly and much less expensive than o...</td>\n",
              "    </tr>\n",
              "    <tr>\n",
              "      <th>728</th>\n",
              "      <td>Positive</td>\n",
              "      <td>But, in any case, the best part is, you can do...</td>\n",
              "    </tr>\n",
              "    <tr>\n",
              "      <th>2340</th>\n",
              "      <td>Positive</td>\n",
              "      <td>You won't be disappointed.</td>\n",
              "    </tr>\n",
              "    <tr>\n",
              "      <th>600</th>\n",
              "      <td>Positive</td>\n",
              "      <td>We would recommend these to others.</td>\n",
              "    </tr>\n",
              "    <tr>\n",
              "      <th>1212</th>\n",
              "      <td>Positive</td>\n",
              "      <td>I believe every one should see this movie as I...</td>\n",
              "    </tr>\n",
              "    <tr>\n",
              "      <th>2324</th>\n",
              "      <td>Positive</td>\n",
              "      <td>All in all, I can assure you I'll be back.</td>\n",
              "    </tr>\n",
              "    <tr>\n",
              "      <th>564</th>\n",
              "      <td>Positive</td>\n",
              "      <td>You get extra minutes so that you can carry ou...</td>\n",
              "    </tr>\n",
              "    <tr>\n",
              "      <th>1336</th>\n",
              "      <td>Positive</td>\n",
              "      <td>I will never forget it now.</td>\n",
              "    </tr>\n",
              "    <tr>\n",
              "      <th>789</th>\n",
              "      <td>Positive</td>\n",
              "      <td>Linked to my phone without effort.</td>\n",
              "    </tr>\n",
              "    <tr>\n",
              "      <th>546</th>\n",
              "      <td>Positive</td>\n",
              "      <td>good protection and does not make phone too bu...</td>\n",
              "    </tr>\n",
              "    <tr>\n",
              "      <th>2095</th>\n",
              "      <td>Positive</td>\n",
              "      <td>I can assure you that you won't be disappointed.</td>\n",
              "    </tr>\n",
              "    <tr>\n",
              "      <th>2374</th>\n",
              "      <td>Positive</td>\n",
              "      <td>The goat taco didn't skimp on the meat and wow...</td>\n",
              "    </tr>\n",
              "    <tr>\n",
              "      <th>1248</th>\n",
              "      <td>Positive</td>\n",
              "      <td>Totally different, with loads of understatemen...</td>\n",
              "    </tr>\n",
              "    <tr>\n",
              "      <th>2001</th>\n",
              "      <td>Positive</td>\n",
              "      <td>If you want a sandwich just go to any Firehous...</td>\n",
              "    </tr>\n",
              "    <tr>\n",
              "      <th>526</th>\n",
              "      <td>Positive</td>\n",
              "      <td>I have yet to run this new battery below two b...</td>\n",
              "    </tr>\n",
              "    <tr>\n",
              "      <th>2268</th>\n",
              "      <td>Positive</td>\n",
              "      <td>I'll definitely be in soon again.</td>\n",
              "    </tr>\n",
              "    <tr>\n",
              "      <th>1513</th>\n",
              "      <td>Positive</td>\n",
              "      <td>I would give this television series a 10 plus ...</td>\n",
              "    </tr>\n",
              "    <tr>\n",
              "      <th>587</th>\n",
              "      <td>Positive</td>\n",
              "      <td>Its a total package.</td>\n",
              "    </tr>\n",
              "    <tr>\n",
              "      <th>653</th>\n",
              "      <td>Positive</td>\n",
              "      <td>Because both ears are occupied, background is ...</td>\n",
              "    </tr>\n",
              "  </tbody>\n",
              "</table>\n",
              "<p>86 rows × 2 columns</p>\n",
              "</div>"
            ],
            "text/plain": [
              "     Sentiment                                               text\n",
              "657   Positive  In the span of an hour, I had two people excla...\n",
              "453   Positive  Overall, I would recommend this phone over the...\n",
              "757   Positive   Otherwise, easy to install and use, clear sound.\n",
              "1252  Positive  Lovely little thriller from Hitchcock, with lo...\n",
              "518   Positive             Someone shouldve invented this sooner.\n",
              "2083  Positive                We'd definitely go back here again.\n",
              "461   Positive  It seems completely secure, both holding on to...\n",
              "1205  Positive  Okay, I like to consider myself a fair critic,...\n",
              "775   Positive                              I would recommend it.\n",
              "666   Positive  I did not have any problem with this item and ...\n",
              "1486  Positive                   Definitely worth checking out.  \n",
              "2225  Positive  The lighting is just dark enough to set the mood.\n",
              "402   Positive                             The phone loads super!\n",
              "1354  Positive                                      Go rent it.  \n",
              "674   Positive  I was able to do voice dialing in the car with...\n",
              "1498  Positive  :) Anyway, the plot flowed smoothly and the ma...\n",
              "792   Positive  I like the fact that it rests lightly against ...\n",
              "2104  Positive                                     No complaints!\n",
              "1511  Positive  A world better than 95% of the garbage in the ...\n",
              "1295  Positive                     You won't forget this movie!  \n",
              "2185  Positive  I love that they put their food in nice plasti...\n",
              "440   Positive  The battery is working well as a replacement f...\n",
              "567   Positive  Only had this a month but it's worked flawless...\n",
              "655   Positive                        Will order from them again!\n",
              "477   Positive  Virgin Wireless rocks and so does this cheap l...\n",
              "562   Positive  Much less than the jawbone I was going to repl...\n",
              "682   Positive  Appears to actually outperform the original ba...\n",
              "1534  Positive                                            10/10  \n",
              "568   Positive  Also its slim enough to fit into my alarm cloc...\n",
              "602   Positive           much better than the hard plastic cases.\n",
              "...        ...                                                ...\n",
              "2195  Positive                           Plus, it's only 8 bucks.\n",
              "2272  Positive                           Pretty cool I would say.\n",
              "621   Positive                               Very prompt service.\n",
              "512   Positive                           !I definitly recommend!!\n",
              "1285  Positive  The last 15 minutes of movie are also not bad ...\n",
              "553   Positive  It is light, easy to use, and has very clear r...\n",
              "663   Positive                          Very satisifed with that.\n",
              "521   Positive  It quit working after I'd used it for about 18...\n",
              "619   Positive  Bluetooth range is good - a few days ago I lef...\n",
              "1503  Positive  Overall I rate this movie a 10 out of a 1-10 s...\n",
              "1459  Positive  There's barely a boring moment in the film and...\n",
              "491   Positive  Arrived quickly and much less expensive than o...\n",
              "728   Positive  But, in any case, the best part is, you can do...\n",
              "2340  Positive                         You won't be disappointed.\n",
              "600   Positive                We would recommend these to others.\n",
              "1212  Positive  I believe every one should see this movie as I...\n",
              "2324  Positive         All in all, I can assure you I'll be back.\n",
              "564   Positive  You get extra minutes so that you can carry ou...\n",
              "1336  Positive                      I will never forget it now.  \n",
              "789   Positive                 Linked to my phone without effort.\n",
              "546   Positive  good protection and does not make phone too bu...\n",
              "2095  Positive   I can assure you that you won't be disappointed.\n",
              "2374  Positive  The goat taco didn't skimp on the meat and wow...\n",
              "1248  Positive  Totally different, with loads of understatemen...\n",
              "2001  Positive  If you want a sandwich just go to any Firehous...\n",
              "526   Positive  I have yet to run this new battery below two b...\n",
              "2268  Positive                  I'll definitely be in soon again.\n",
              "1513  Positive  I would give this television series a 10 plus ...\n",
              "587   Positive                               Its a total package.\n",
              "653   Positive  Because both ears are occupied, background is ...\n",
              "\n",
              "[86 rows x 2 columns]"
            ]
          },
          "metadata": {
            "tags": []
          }
        },
        {
          "output_type": "stream",
          "text": [
            "\n",
            "'Negative' predicted as 'Positive' : 81 examples.\n"
          ],
          "name": "stdout"
        },
        {
          "output_type": "display_data",
          "data": {
            "text/html": [
              "<div>\n",
              "<style>\n",
              "    .dataframe thead tr:only-child th {\n",
              "        text-align: right;\n",
              "    }\n",
              "\n",
              "    .dataframe thead th {\n",
              "        text-align: left;\n",
              "    }\n",
              "\n",
              "    .dataframe tbody tr th {\n",
              "        vertical-align: top;\n",
              "    }\n",
              "</style>\n",
              "<table border=\"1\" class=\"dataframe\">\n",
              "  <thead>\n",
              "    <tr style=\"text-align: right;\">\n",
              "      <th></th>\n",
              "      <th>Sentiment</th>\n",
              "      <th>text</th>\n",
              "    </tr>\n",
              "  </thead>\n",
              "  <tbody>\n",
              "    <tr>\n",
              "      <th>398</th>\n",
              "      <td>Negative</td>\n",
              "      <td>The plug did not work very well.</td>\n",
              "    </tr>\n",
              "    <tr>\n",
              "      <th>156</th>\n",
              "      <td>Negative</td>\n",
              "      <td>Steer clear of this product and go with the ge...</td>\n",
              "    </tr>\n",
              "    <tr>\n",
              "      <th>1938</th>\n",
              "      <td>Negative</td>\n",
              "      <td>Main thing I didn't enjoy is that the crowd is...</td>\n",
              "    </tr>\n",
              "    <tr>\n",
              "      <th>1651</th>\n",
              "      <td>Negative</td>\n",
              "      <td>The descriptions said \"yum yum sauce\" and anot...</td>\n",
              "    </tr>\n",
              "    <tr>\n",
              "      <th>953</th>\n",
              "      <td>Negative</td>\n",
              "      <td>I know that Jim O'Connor was very energetic an...</td>\n",
              "    </tr>\n",
              "    <tr>\n",
              "      <th>53</th>\n",
              "      <td>Negative</td>\n",
              "      <td>I really wanted the Plantronics 510 to be the ...</td>\n",
              "    </tr>\n",
              "    <tr>\n",
              "      <th>1631</th>\n",
              "      <td>Negative</td>\n",
              "      <td>Unfortunately, it only set us up for disapppoi...</td>\n",
              "    </tr>\n",
              "    <tr>\n",
              "      <th>1174</th>\n",
              "      <td>Negative</td>\n",
              "      <td>Unless you're just out to visually \"collect\" a...</td>\n",
              "    </tr>\n",
              "    <tr>\n",
              "      <th>1185</th>\n",
              "      <td>Negative</td>\n",
              "      <td>And, quite honestly, often its not very good.</td>\n",
              "    </tr>\n",
              "    <tr>\n",
              "      <th>1639</th>\n",
              "      <td>Negative</td>\n",
              "      <td>It was a pale color instead of nice and char a...</td>\n",
              "    </tr>\n",
              "    <tr>\n",
              "      <th>1736</th>\n",
              "      <td>Negative</td>\n",
              "      <td>It was a bit too sweet, not really spicy enoug...</td>\n",
              "    </tr>\n",
              "    <tr>\n",
              "      <th>1003</th>\n",
              "      <td>Negative</td>\n",
              "      <td>But other than that the movie seemed to drag a...</td>\n",
              "    </tr>\n",
              "    <tr>\n",
              "      <th>320</th>\n",
              "      <td>Negative</td>\n",
              "      <td>I was not happy with this item.</td>\n",
              "    </tr>\n",
              "    <tr>\n",
              "      <th>1796</th>\n",
              "      <td>Negative</td>\n",
              "      <td>The service here is fair at best.</td>\n",
              "    </tr>\n",
              "    <tr>\n",
              "      <th>847</th>\n",
              "      <td>Negative</td>\n",
              "      <td>Summary: The witticisms weren't witty.</td>\n",
              "    </tr>\n",
              "    <tr>\n",
              "      <th>1662</th>\n",
              "      <td>Negative</td>\n",
              "      <td>I ordered Albondigas soup - which was just war...</td>\n",
              "    </tr>\n",
              "    <tr>\n",
              "      <th>22</th>\n",
              "      <td>Negative</td>\n",
              "      <td>I bought these hoping I could make my Bluetoot...</td>\n",
              "    </tr>\n",
              "    <tr>\n",
              "      <th>1708</th>\n",
              "      <td>Negative</td>\n",
              "      <td>I asked multiple times for the wine list and a...</td>\n",
              "    </tr>\n",
              "    <tr>\n",
              "      <th>1613</th>\n",
              "      <td>Negative</td>\n",
              "      <td>Crostini that came with the salad was stale.</td>\n",
              "    </tr>\n",
              "    <tr>\n",
              "      <th>1052</th>\n",
              "      <td>Negative</td>\n",
              "      <td>The film has an ultra-cheap look to it.</td>\n",
              "    </tr>\n",
              "    <tr>\n",
              "      <th>1759</th>\n",
              "      <td>Negative</td>\n",
              "      <td>This place deserves no stars.</td>\n",
              "    </tr>\n",
              "    <tr>\n",
              "      <th>1008</th>\n",
              "      <td>Negative</td>\n",
              "      <td>There were too many close ups.</td>\n",
              "    </tr>\n",
              "    <tr>\n",
              "      <th>1188</th>\n",
              "      <td>Negative</td>\n",
              "      <td>The rest of the movie lacks art, charm, meanin...</td>\n",
              "    </tr>\n",
              "    <tr>\n",
              "      <th>1949</th>\n",
              "      <td>Negative</td>\n",
              "      <td>If someone orders two tacos don't' you think i...</td>\n",
              "    </tr>\n",
              "    <tr>\n",
              "      <th>832</th>\n",
              "      <td>Negative</td>\n",
              "      <td>In particular the relationship between the bak...</td>\n",
              "    </tr>\n",
              "    <tr>\n",
              "      <th>1979</th>\n",
              "      <td>Negative</td>\n",
              "      <td>The ambiance isn't much better.</td>\n",
              "    </tr>\n",
              "    <tr>\n",
              "      <th>1074</th>\n",
              "      <td>Negative</td>\n",
              "      <td>If you check the director's filmography on thi...</td>\n",
              "    </tr>\n",
              "    <tr>\n",
              "      <th>107</th>\n",
              "      <td>Negative</td>\n",
              "      <td>Not enough volume.</td>\n",
              "    </tr>\n",
              "    <tr>\n",
              "      <th>1945</th>\n",
              "      <td>Negative</td>\n",
              "      <td>Tonight I had the Elk Filet special...and it s...</td>\n",
              "    </tr>\n",
              "    <tr>\n",
              "      <th>1766</th>\n",
              "      <td>Negative</td>\n",
              "      <td>A lady at the table next to us found a live gr...</td>\n",
              "    </tr>\n",
              "    <tr>\n",
              "      <th>...</th>\n",
              "      <td>...</td>\n",
              "      <td>...</td>\n",
              "    </tr>\n",
              "    <tr>\n",
              "      <th>279</th>\n",
              "      <td>Negative</td>\n",
              "      <td>The plastic breaks really easy on this clip.</td>\n",
              "    </tr>\n",
              "    <tr>\n",
              "      <th>1874</th>\n",
              "      <td>Negative</td>\n",
              "      <td>My friend did not like his Bloody Mary.</td>\n",
              "    </tr>\n",
              "    <tr>\n",
              "      <th>982</th>\n",
              "      <td>Negative</td>\n",
              "      <td>But even the talented Carrell can't save this.</td>\n",
              "    </tr>\n",
              "    <tr>\n",
              "      <th>31</th>\n",
              "      <td>Negative</td>\n",
              "      <td>Not impressed.</td>\n",
              "    </tr>\n",
              "    <tr>\n",
              "      <th>1666</th>\n",
              "      <td>Negative</td>\n",
              "      <td>I give it 2 thumbs down</td>\n",
              "    </tr>\n",
              "    <tr>\n",
              "      <th>1632</th>\n",
              "      <td>Negative</td>\n",
              "      <td>The food is about on par with Denny's, which i...</td>\n",
              "    </tr>\n",
              "    <tr>\n",
              "      <th>927</th>\n",
              "      <td>Negative</td>\n",
              "      <td>And, FINALLY, after all that, we get to an end...</td>\n",
              "    </tr>\n",
              "    <tr>\n",
              "      <th>1018</th>\n",
              "      <td>Negative</td>\n",
              "      <td>Often the dialogue doesn't really follow from ...</td>\n",
              "    </tr>\n",
              "    <tr>\n",
              "      <th>1045</th>\n",
              "      <td>Negative</td>\n",
              "      <td>Star Trek V The final Frontier is the worst in...</td>\n",
              "    </tr>\n",
              "    <tr>\n",
              "      <th>393</th>\n",
              "      <td>Negative</td>\n",
              "      <td>Not nearly as good looking as the AMAZON pictu...</td>\n",
              "    </tr>\n",
              "    <tr>\n",
              "      <th>106</th>\n",
              "      <td>Negative</td>\n",
              "      <td>I was not impressed by this product.</td>\n",
              "    </tr>\n",
              "    <tr>\n",
              "      <th>85</th>\n",
              "      <td>Negative</td>\n",
              "      <td>It doesn't make you look cool.</td>\n",
              "    </tr>\n",
              "    <tr>\n",
              "      <th>202</th>\n",
              "      <td>Negative</td>\n",
              "      <td>Not worth it.</td>\n",
              "    </tr>\n",
              "    <tr>\n",
              "      <th>118</th>\n",
              "      <td>Negative</td>\n",
              "      <td>All in all, I'd expected a better consumer exp...</td>\n",
              "    </tr>\n",
              "    <tr>\n",
              "      <th>1017</th>\n",
              "      <td>Negative</td>\n",
              "      <td>The puppets look really cheesy , not in a good...</td>\n",
              "    </tr>\n",
              "    <tr>\n",
              "      <th>962</th>\n",
              "      <td>Negative</td>\n",
              "      <td>His co-stars don't fare much better, with peop...</td>\n",
              "    </tr>\n",
              "    <tr>\n",
              "      <th>1665</th>\n",
              "      <td>Negative</td>\n",
              "      <td>There is really nothing for me at postinos, ho...</td>\n",
              "    </tr>\n",
              "    <tr>\n",
              "      <th>1824</th>\n",
              "      <td>Negative</td>\n",
              "      <td>The waiter wasn't helpful or friendly and rare...</td>\n",
              "    </tr>\n",
              "    <tr>\n",
              "      <th>310</th>\n",
              "      <td>Negative</td>\n",
              "      <td>It was an inexpensive piece, but I would still...</td>\n",
              "    </tr>\n",
              "    <tr>\n",
              "      <th>294</th>\n",
              "      <td>Negative</td>\n",
              "      <td>My 5-year old Nokia 2160 from Tracfone holds t...</td>\n",
              "    </tr>\n",
              "    <tr>\n",
              "      <th>1197</th>\n",
              "      <td>Negative</td>\n",
              "      <td>This was a poor remake of \"My Best Friends Wed...</td>\n",
              "    </tr>\n",
              "    <tr>\n",
              "      <th>1900</th>\n",
              "      <td>Negative</td>\n",
              "      <td>This place lacked style!!</td>\n",
              "    </tr>\n",
              "    <tr>\n",
              "      <th>1804</th>\n",
              "      <td>Negative</td>\n",
              "      <td>The service was meh.</td>\n",
              "    </tr>\n",
              "    <tr>\n",
              "      <th>899</th>\n",
              "      <td>Negative</td>\n",
              "      <td>Full of unconvincing cardboard characters it i...</td>\n",
              "    </tr>\n",
              "    <tr>\n",
              "      <th>1918</th>\n",
              "      <td>Negative</td>\n",
              "      <td>I go to far too many places and I've never see...</td>\n",
              "    </tr>\n",
              "    <tr>\n",
              "      <th>818</th>\n",
              "      <td>Negative</td>\n",
              "      <td>I cannot believe that the actors agreed to do ...</td>\n",
              "    </tr>\n",
              "    <tr>\n",
              "      <th>61</th>\n",
              "      <td>Negative</td>\n",
              "      <td>I've had this bluetoooth headset for some time...</td>\n",
              "    </tr>\n",
              "    <tr>\n",
              "      <th>1013</th>\n",
              "      <td>Negative</td>\n",
              "      <td>The acting by the whole cast could be put on a...</td>\n",
              "    </tr>\n",
              "    <tr>\n",
              "      <th>1829</th>\n",
              "      <td>Negative</td>\n",
              "      <td>Which are small and not worth the price.</td>\n",
              "    </tr>\n",
              "    <tr>\n",
              "      <th>1649</th>\n",
              "      <td>Negative</td>\n",
              "      <td>-Drinks took close to 30 minutes to come out a...</td>\n",
              "    </tr>\n",
              "  </tbody>\n",
              "</table>\n",
              "<p>81 rows × 2 columns</p>\n",
              "</div>"
            ],
            "text/plain": [
              "     Sentiment                                               text\n",
              "398   Negative                   The plug did not work very well.\n",
              "156   Negative  Steer clear of this product and go with the ge...\n",
              "1938  Negative  Main thing I didn't enjoy is that the crowd is...\n",
              "1651  Negative  The descriptions said \"yum yum sauce\" and anot...\n",
              "953   Negative  I know that Jim O'Connor was very energetic an...\n",
              "53    Negative  I really wanted the Plantronics 510 to be the ...\n",
              "1631  Negative  Unfortunately, it only set us up for disapppoi...\n",
              "1174  Negative  Unless you're just out to visually \"collect\" a...\n",
              "1185  Negative    And, quite honestly, often its not very good.  \n",
              "1639  Negative  It was a pale color instead of nice and char a...\n",
              "1736  Negative  It was a bit too sweet, not really spicy enoug...\n",
              "1003  Negative  But other than that the movie seemed to drag a...\n",
              "320   Negative                    I was not happy with this item.\n",
              "1796  Negative                  The service here is fair at best.\n",
              "847   Negative           Summary: The witticisms weren't witty.  \n",
              "1662  Negative  I ordered Albondigas soup - which was just war...\n",
              "22    Negative  I bought these hoping I could make my Bluetoot...\n",
              "1708  Negative  I asked multiple times for the wine list and a...\n",
              "1613  Negative       Crostini that came with the salad was stale.\n",
              "1052  Negative          The film has an ultra-cheap look to it.  \n",
              "1759  Negative                      This place deserves no stars.\n",
              "1008  Negative                   There were too many close ups.  \n",
              "1188  Negative  The rest of the movie lacks art, charm, meanin...\n",
              "1949  Negative  If someone orders two tacos don't' you think i...\n",
              "832   Negative  In particular the relationship between the bak...\n",
              "1979  Negative                    The ambiance isn't much better.\n",
              "1074  Negative  If you check the director's filmography on thi...\n",
              "107   Negative                                 Not enough volume.\n",
              "1945  Negative  Tonight I had the Elk Filet special...and it s...\n",
              "1766  Negative  A lady at the table next to us found a live gr...\n",
              "...        ...                                                ...\n",
              "279   Negative       The plastic breaks really easy on this clip.\n",
              "1874  Negative            My friend did not like his Bloody Mary.\n",
              "982   Negative   But even the talented Carrell can't save this.  \n",
              "31    Negative                                     Not impressed.\n",
              "1666  Negative                            I give it 2 thumbs down\n",
              "1632  Negative  The food is about on par with Denny's, which i...\n",
              "927   Negative  And, FINALLY, after all that, we get to an end...\n",
              "1018  Negative  Often the dialogue doesn't really follow from ...\n",
              "1045  Negative  Star Trek V The final Frontier is the worst in...\n",
              "393   Negative  Not nearly as good looking as the AMAZON pictu...\n",
              "106   Negative               I was not impressed by this product.\n",
              "85    Negative                     It doesn't make you look cool.\n",
              "202   Negative                                      Not worth it.\n",
              "118   Negative  All in all, I'd expected a better consumer exp...\n",
              "1017  Negative  The puppets look really cheesy , not in a good...\n",
              "962   Negative  His co-stars don't fare much better, with peop...\n",
              "1665  Negative  There is really nothing for me at postinos, ho...\n",
              "1824  Negative  The waiter wasn't helpful or friendly and rare...\n",
              "310   Negative  It was an inexpensive piece, but I would still...\n",
              "294   Negative  My 5-year old Nokia 2160 from Tracfone holds t...\n",
              "1197  Negative  This was a poor remake of \"My Best Friends Wed...\n",
              "1900  Negative                          This place lacked style!!\n",
              "1804  Negative                               The service was meh.\n",
              "899   Negative  Full of unconvincing cardboard characters it i...\n",
              "1918  Negative  I go to far too many places and I've never see...\n",
              "818   Negative  I cannot believe that the actors agreed to do ...\n",
              "61    Negative  I've had this bluetoooth headset for some time...\n",
              "1013  Negative  The acting by the whole cast could be put on a...\n",
              "1829  Negative           Which are small and not worth the price.\n",
              "1649  Negative  -Drinks took close to 30 minutes to come out a...\n",
              "\n",
              "[81 rows x 2 columns]"
            ]
          },
          "metadata": {
            "tags": []
          }
        },
        {
          "output_type": "stream",
          "text": [
            "\n"
          ],
          "name": "stdout"
        }
      ]
    },
    {
      "cell_type": "code",
      "metadata": {
        "id": "AmOAsFhcMAVE",
        "colab_type": "code",
        "outputId": "0dcd006e-7a1e-4d3f-c472-56ef5d174388",
        "colab": {}
      },
      "source": [
        "error=((81+86)/(317+308+81+86))*100\n",
        "error"
      ],
      "execution_count": 0,
      "outputs": [
        {
          "output_type": "execute_result",
          "data": {
            "text/plain": [
              "21.085858585858585"
            ]
          },
          "metadata": {
            "tags": []
          },
          "execution_count": 140
        }
      ]
    },
    {
      "cell_type": "markdown",
      "metadata": {
        "id": "_AgPq9fpXVTI",
        "colab_type": "text"
      },
      "source": [
        "### Testing trained model on the testing set defined at the begining. "
      ]
    },
    {
      "cell_type": "markdown",
      "metadata": {
        "id": "rAh7YowbXkk9",
        "colab_type": "text"
      },
      "source": [
        "Creating word vectors of the test set"
      ]
    },
    {
      "cell_type": "code",
      "metadata": {
        "id": "jxcTx7ydMAVH",
        "colab_type": "code",
        "outputId": "49304e52-81b1-4909-a095-87b0a585df4a",
        "colab": {}
      },
      "source": [
        "x_test_glove = [sent2vec(x) for x in tqdm(x_test['text'])]"
      ],
      "execution_count": 0,
      "outputs": [
        {
          "output_type": "stream",
          "text": [
            "100%|██████████████████████████████████████████████████████████████████████████████| 600/600 [00:00<00:00, 4495.78it/s]\n"
          ],
          "name": "stderr"
        }
      ]
    },
    {
      "cell_type": "markdown",
      "metadata": {
        "id": "rt4P9XCRXi7r",
        "colab_type": "text"
      },
      "source": [
        "Using model to predict the probability of sentiment"
      ]
    },
    {
      "cell_type": "code",
      "metadata": {
        "id": "CjSd5O0zMAVJ",
        "colab_type": "code",
        "colab": {}
      },
      "source": [
        "submission_predictions = logreg2.predict_proba(x_test_glove)[:,1]"
      ],
      "execution_count": 0,
      "outputs": []
    },
    {
      "cell_type": "code",
      "metadata": {
        "id": "9_2v8fBvMAVL",
        "colab_type": "code",
        "colab": {}
      },
      "source": [
        "np.savetxt(\"yproba1_test2.txt\", submission_predictions,newline='\\r\\n')"
      ],
      "execution_count": 0,
      "outputs": []
    },
    {
      "cell_type": "code",
      "metadata": {
        "id": "BewbH6AmMAVN",
        "colab_type": "code",
        "outputId": "2a624125-7a9e-4458-ce6f-f390bbcf4b93",
        "colab": {}
      },
      "source": [
        "np.loadtxt('yproba1_test2.txt')"
      ],
      "execution_count": 0,
      "outputs": [
        {
          "output_type": "execute_result",
          "data": {
            "text/plain": [
              "array([ 0.52881107,  0.54081668,  0.4638553 ,  0.72467578,  0.04275819,\n",
              "        0.56686163,  0.11354054,  0.38609225,  0.47275304,  0.58486227,\n",
              "        0.2349594 ,  0.41815094,  0.18633195,  0.60178052,  0.22483625,\n",
              "        0.70985399,  0.04815831,  0.10314947,  0.04265733,  0.40463557,\n",
              "        0.23157581,  0.86341809,  0.24865914,  0.42905021,  0.40110432,\n",
              "        0.6122092 ,  0.16113687,  0.03836311,  0.40991639,  0.41287436,\n",
              "        0.36910941,  0.41825852,  0.08748183,  0.500365  ,  0.18435184,\n",
              "        0.59120308,  0.37864136,  0.73520586,  0.80270582,  0.5375466 ,\n",
              "        0.06913529,  0.24247678,  0.59843234,  0.09405597,  0.24082562,\n",
              "        0.25962808,  0.26434089,  0.20434426,  0.16817869,  0.40991639,\n",
              "        0.11125801,  0.01743481,  0.60750347,  0.76178598,  0.21922775,\n",
              "        0.32486693,  0.2571091 ,  0.06114849,  0.47556055,  0.31917451,\n",
              "        0.28481965,  0.39422126,  0.11125801,  0.10083284,  0.55940921,\n",
              "        0.22798478,  0.26006717,  0.85460782,  0.23212741,  0.36572556,\n",
              "        0.25566168,  0.19944149,  0.1738448 ,  0.51849836,  0.24327571,\n",
              "        0.2868968 ,  0.33083883,  0.10159319,  0.1775423 ,  0.77035557,\n",
              "        0.33286414,  0.30707909,  0.22912039,  0.39575378,  0.27544618,\n",
              "        0.28210374,  0.2165641 ,  0.70501841,  0.1426146 ,  0.4525053 ,\n",
              "        0.2285386 ,  0.30375945,  0.18222305,  0.23986656,  0.56507214,\n",
              "        0.13742497,  0.5931554 ,  0.11349519,  0.20240626,  0.93042471,\n",
              "        0.84794254,  0.72494317,  0.98583463,  0.86268639,  0.37878773,\n",
              "        0.92847569,  0.95152823,  0.96838079,  0.22473796,  0.43477131,\n",
              "        0.661792  ,  0.51055697,  0.83351963,  0.48782597,  0.8648193 ,\n",
              "        0.77306422,  0.74347738,  0.97507747,  0.50449308,  0.1593048 ,\n",
              "        0.51399371,  0.67004567,  0.60004999,  0.93794453,  0.97162727,\n",
              "        0.82673315,  0.88991673,  0.91983725,  0.85933664,  0.59064224,\n",
              "        0.90212558,  0.50839659,  0.71244398,  0.77083832,  0.67706573,\n",
              "        0.52685932,  0.4062143 ,  0.90689005,  0.96120691,  0.55538698,\n",
              "        0.83971844,  0.46893032,  0.63584158,  0.91659086,  0.83436101,\n",
              "        0.54964362,  0.33048081,  0.48661374,  0.95088264,  0.65349569,\n",
              "        0.91352467,  0.93966647,  0.62025758,  0.80357876,  0.80770137,\n",
              "        0.49592545,  0.82439233,  0.76251781,  0.61209408,  0.63155228,\n",
              "        0.21607692,  0.25535571,  0.59963473,  0.79583068,  0.72809356,\n",
              "        0.42230099,  0.87028605,  0.21306345,  0.77402507,  0.53162945,\n",
              "        0.11468765,  0.23162948,  0.49755127,  0.78181307,  0.40528988,\n",
              "        0.85657029,  0.48940517,  0.72693113,  0.62995691,  0.60726758,\n",
              "        0.85618343,  0.23172706,  0.92513691,  0.91607688,  0.88057197,\n",
              "        0.93723833,  0.9490494 ,  0.8775674 ,  0.52713052,  0.92143266,\n",
              "        0.96352181,  0.76613014,  0.4044356 ,  0.93493052,  0.95594625,\n",
              "        0.62187145,  0.83721885,  0.70109853,  0.65097017,  0.87769819,\n",
              "        0.41613302,  0.28527859,  0.13095088,  0.38490071,  0.01739574,\n",
              "        0.48130953,  0.08381433,  0.09760921,  0.0754538 ,  0.21537055,\n",
              "        0.06281879,  0.06671266,  0.19408262,  0.48276148,  0.63939615,\n",
              "        0.11298466,  0.61012739,  0.60801752,  0.13716669,  0.41055595,\n",
              "        0.5612573 ,  0.19183233,  0.48266804,  0.08965018,  0.12722596,\n",
              "        0.54970206,  0.13812448,  0.45359407,  0.3278264 ,  0.03549152,\n",
              "        0.43959698,  0.48735635,  0.91382689,  0.25918609,  0.16655799,\n",
              "        0.04233139,  0.09020271,  0.173715  ,  0.07956038,  0.42683678,\n",
              "        0.21052357,  0.24511569,  0.21658249,  0.19071326,  0.88875921,\n",
              "        0.23045417,  0.38077447,  0.12135322,  0.03539765,  0.11751038,\n",
              "        0.18180838,  0.42489126,  0.38304475,  0.06893899,  0.2059076 ,\n",
              "        0.67141432,  0.23219388,  0.39103295,  0.46863264,  0.24876909,\n",
              "        0.23581128,  0.12006587,  0.14486274,  0.41515298,  0.16710241,\n",
              "        0.01903307,  0.18826246,  0.35750324,  0.07589149,  0.12778594,\n",
              "        0.06570171,  0.32832697,  0.80115041,  0.17672998,  0.03949224,\n",
              "        0.4857983 ,  0.2283644 ,  0.28364044,  0.12533165,  0.34081813,\n",
              "        0.54221773,  0.0792552 ,  0.25377186,  0.59407099,  0.27730568,\n",
              "        0.08032401,  0.34170905,  0.64525354,  0.1221066 ,  0.18016737,\n",
              "        0.11577866,  0.41129301,  0.2538267 ,  0.05283138,  0.1259791 ,\n",
              "        0.05886103,  0.21017505,  0.18963841,  0.73476575,  0.65237745,\n",
              "        0.6964045 ,  0.40977512,  0.74298952,  0.69702685,  0.34125105,\n",
              "        0.86695019,  0.72239525,  0.33040979,  0.50746034,  0.35760744,\n",
              "        0.657225  ,  0.8828335 ,  0.63141727,  0.56246509,  0.65605078,\n",
              "        0.83970499,  0.2887543 ,  0.93437738,  0.82894056,  0.86336029,\n",
              "        0.94444698,  0.74532287,  0.54874981,  0.88369471,  0.65100553,\n",
              "        0.65568828,  0.90723583,  0.88924719,  0.85850871,  0.82805726,\n",
              "        0.68098024,  0.73283186,  0.91177573,  0.69104351,  0.85030809,\n",
              "        0.81860446,  0.78502654,  0.72398223,  0.26221843,  0.78383156,\n",
              "        0.49481999,  0.46010648,  0.47781833,  0.48807344,  0.94149668,\n",
              "        0.70204027,  0.42657913,  0.78176557,  0.47223043,  0.78021754,\n",
              "        0.9554879 ,  0.45326027,  0.82148437,  0.65100553,  0.61219813,\n",
              "        0.18896199,  0.82193039,  0.83164578,  0.96744822,  0.7321306 ,\n",
              "        0.45200267,  0.88595482,  0.39639819,  0.50779051,  0.70686566,\n",
              "        0.45617794,  0.890904  ,  0.82820038,  0.77768696,  0.75743152,\n",
              "        0.60281405,  0.70813115,  0.65605255,  0.47033707,  0.51482801,\n",
              "        0.63561791,  0.78513598,  0.57108059,  0.5343632 ,  0.78149938,\n",
              "        0.15517825,  0.95696191,  0.69639525,  0.8700715 ,  0.90461586,\n",
              "        0.89112712,  0.35888988,  0.68427444,  0.72757494,  0.61604047,\n",
              "        0.53176985,  0.21393688,  0.92784177,  0.5784731 ,  0.85560693,\n",
              "        0.79301351,  0.69467337,  0.7214773 ,  0.39496724,  0.73899118,\n",
              "        0.11183072,  0.53048951,  0.27541773,  0.59148575,  0.66893588,\n",
              "        0.13715416,  0.45739693,  0.45669353,  0.45114879,  0.2007939 ,\n",
              "        0.10421541,  0.14121191,  0.46780686,  0.04880612,  0.48874389,\n",
              "        0.16286532,  0.02871406,  0.18838749,  0.36788575,  0.4997813 ,\n",
              "        0.47444961,  0.22058531,  0.02871406,  0.56280241,  0.73114272,\n",
              "        0.09004266,  0.23617067,  0.02840471,  0.35729039,  0.58317612,\n",
              "        0.46499538,  0.17129918,  0.72335156,  0.28408179,  0.2381079 ,\n",
              "        0.53020835,  0.16146447,  0.3316558 ,  0.3536135 ,  0.18362129,\n",
              "        0.30617702,  0.33275585,  0.30210522,  0.34204026,  0.04600778,\n",
              "        0.25727246,  0.59077796,  0.72088047,  0.39131726,  0.49123414,\n",
              "        0.56775553,  0.28346046,  0.33153729,  0.47921316,  0.41925565,\n",
              "        0.2359467 ,  0.21459168,  0.19845221,  0.20549899,  0.81372398,\n",
              "        0.12171174,  0.24800979,  0.4586721 ,  0.43349125,  0.12659608,\n",
              "        0.6427479 ,  0.72518764,  0.08615238,  0.18701316,  0.65149629,\n",
              "        0.19942039,  0.55194601,  0.86893935,  0.32392858,  0.49869481,\n",
              "        0.82034326,  0.21539553,  0.60816863,  0.14905382,  0.33640372,\n",
              "        0.12035208,  0.4091756 ,  0.86812835,  0.13596354,  0.24005055,\n",
              "        0.74795424,  0.17631321,  0.41143909,  0.15841997,  0.07887145,\n",
              "        0.69297324,  0.28621033,  0.30831903,  0.83661388,  0.63534082,\n",
              "        0.66374207,  0.36257125,  0.06247128,  0.74394021,  0.67747805,\n",
              "        0.93631305,  0.84793741,  0.91442496,  0.70783711,  0.81237453,\n",
              "        0.29051077,  0.84053062,  0.45635111,  0.89356193,  0.83496121,\n",
              "        0.89199478,  0.91831223,  0.6526949 ,  0.73739972,  0.79811511,\n",
              "        0.7891774 ,  0.87471281,  0.73050015,  0.42938904,  0.66573881,\n",
              "        0.468204  ,  0.95740723,  0.65837108,  0.506887  ,  0.51787713,\n",
              "        0.86972779,  0.70455307,  0.83321116,  0.53059656,  0.94678187,\n",
              "        0.81500194,  0.97807588,  0.5328221 ,  0.43495637,  0.50109641,\n",
              "        0.15776133,  0.46023859,  0.16290468,  0.97819584,  0.72841626,\n",
              "        0.64984844,  0.61013284,  0.88608469,  0.86303889,  0.95847192,\n",
              "        0.84318663,  0.91487027,  0.90308726,  0.98631207,  0.89890753,\n",
              "        0.63803509,  0.36491656,  0.93774882,  0.87013737,  0.72766439,\n",
              "        0.87041764,  0.94563773,  0.89808313,  0.50299002,  0.21909805,\n",
              "        0.65449002,  0.87099336,  0.86713059,  0.75585067,  0.85225148,\n",
              "        0.57961825,  0.89699853,  0.80796452,  0.81129362,  0.38673532,\n",
              "        0.93308635,  0.61684812,  0.30648204,  0.30294388,  0.81167205,\n",
              "        0.9027009 ,  0.84867722,  0.91849586,  0.73093296,  0.91811008,\n",
              "        0.81146171,  0.33403943,  0.96796159,  0.32973139,  0.73201192,\n",
              "        0.98248774,  0.93539632,  0.92538198,  0.94386487,  0.59692574,\n",
              "        0.35484781,  0.73035692,  0.80335631,  0.71998022,  0.93944145,\n",
              "        0.87685687,  0.69445969,  0.85181015,  0.98117144,  0.78655031])"
            ]
          },
          "metadata": {
            "tags": []
          },
          "execution_count": 144
        }
      ]
    },
    {
      "cell_type": "markdown",
      "metadata": {
        "id": "d4OBydpaABhF",
        "colab_type": "text"
      },
      "source": [
        "# Summary\n"
      ]
    },
    {
      "cell_type": "code",
      "metadata": {
        "colab_type": "code",
        "outputId": "f4170b2f-b298-4864-e46a-71e11c1eca24",
        "id": "hJ4uv9s4ANkw",
        "colab": {}
      },
      "source": [
        "cv_df.groupby('model_name').accuracy.mean()"
      ],
      "execution_count": 0,
      "outputs": [
        {
          "output_type": "execute_result",
          "data": {
            "text/plain": [
              "model_name\n",
              "LogisticRegression        0.810953\n",
              "RandomForestClassifier    0.793233\n",
              "XGBClassifier             0.783862\n",
              "Name: accuracy, dtype: float64"
            ]
          },
          "metadata": {
            "tags": []
          },
          "execution_count": 132
        }
      ]
    },
    {
      "cell_type": "markdown",
      "metadata": {
        "id": "s9CVkrBvAO6b",
        "colab_type": "text"
      },
      "source": [
        "### Based on the mean accuracy given by the three algorithms used, \n",
        "*  It is safe to conclude that Logistic regression is the best classification algorithm\n",
        "*  With the emplyment of L2 regularization set by the hyperparameter tuning the cost function that was employed was relatively efficient\n"
      ]
    },
    {
      "cell_type": "code",
      "metadata": {
        "id": "c4W-RyYsMAVP",
        "colab_type": "code",
        "colab": {}
      },
      "source": [
        ""
      ],
      "execution_count": 0,
      "outputs": []
    }
  ]
}